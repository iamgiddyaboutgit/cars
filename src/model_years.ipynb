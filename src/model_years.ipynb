{
 "cells": [
  {
   "cell_type": "code",
   "execution_count": 1,
   "metadata": {},
   "outputs": [],
   "source": [
    "from pathlib import Path\n",
    "\n",
    "import polars as pl"
   ]
  },
  {
   "cell_type": "markdown",
   "metadata": {},
   "source": [
    "# Research Question: What is the distribution of vehicle model years in the target population?"
   ]
  },
  {
   "cell_type": "markdown",
   "metadata": {},
   "source": [
    "Note that we include vehicles that are driven in Utah County without being registered in Utah County.  Thus, we provide added information to what is publicly available from government registration records.\n",
    "\n",
    "## Strategy\n",
    "New vehicles are still being sold for 2024, 2025, and 2026 model years, but not for model year 2023.  The registration data that we have is for vehicles registered in 2024 all of the way up to February 17, 2025.  Thus, there may be additional registrations for the newer model year vehicles between February 2025 and March 2025 which are not in our dataset.  We can modify the registration counts for these new model years using the count for model year 2023.  \n",
    "\n",
    "Assume that if the registration data were to go all of the way up to February 17, 2026 that there would be the same number of registrations expiring for model year 2024 as there currently is for model year 2023.  Note that the proportion of this period traversed at the time of data collection is approximately 1/12. \n",
    "\n",
    "Assume that if the registration data were to go all of the way up to February 17, 2027 that there would be the same number of registrations expiring for model year 2025 as there currently is for model year 2023.  Note that the proportion of this period traversed at the time of data collection is approximately 1/24. \n",
    "\n",
    "Assume that if the registration data were to go all of the way up to February 17, 2028 that there would be the same number of registrations expiring for model year 2026 as there currently is for model year 2023.  Note that the proportion of this period traversed at the time of data collection is approximately 1/36. \n",
    "\n",
    "Use the registration counts as the concentration parameters for a Dirichlet distribution.  Use the technique [here](https://en.wikipedia.org/wiki/Dirichlet_distribution#Conjugate_to_categorical_or_multinomial) to use these concentration parameters as pseudocounts to be added to our observed counts.  The summed counts can then be used as the concentration parameter for the posterior Dirichlet distribution of vehicle model years in Utah County."
   ]
  },
  {
   "cell_type": "code",
   "execution_count": 2,
   "metadata": {},
   "outputs": [
    {
     "data": {
      "text/html": [
       "<div><style>\n",
       ".dataframe > thead > tr,\n",
       ".dataframe > tbody > tr {\n",
       "  text-align: right;\n",
       "  white-space: pre-wrap;\n",
       "}\n",
       "</style>\n",
       "<small>shape: (5, 2)</small><table border=\"1\" class=\"dataframe\"><thead><tr><th>model_year</th><th>num_registrations</th></tr><tr><td>i64</td><td>i64</td></tr></thead><tbody><tr><td>2022</td><td>30312</td></tr><tr><td>2023</td><td>31266</td></tr><tr><td>2024</td><td>27037</td></tr><tr><td>2025</td><td>5830</td></tr><tr><td>2026</td><td>8</td></tr></tbody></table></div>"
      ],
      "text/plain": [
       "shape: (5, 2)\n",
       "┌────────────┬───────────────────┐\n",
       "│ model_year ┆ num_registrations │\n",
       "│ ---        ┆ ---               │\n",
       "│ i64        ┆ i64               │\n",
       "╞════════════╪═══════════════════╡\n",
       "│ 2022       ┆ 30312             │\n",
       "│ 2023       ┆ 31266             │\n",
       "│ 2024       ┆ 27037             │\n",
       "│ 2025       ┆ 5830              │\n",
       "│ 2026       ┆ 8                 │\n",
       "└────────────┴───────────────────┘"
      ]
     },
     "execution_count": 2,
     "metadata": {},
     "output_type": "execute_result"
    }
   ],
   "source": [
    "source = Path(\"..\", \"raw_data\", \"registrations\", \"registrations.csv\")\n",
    "reg = pl.scan_csv(\n",
    "    source=source\n",
    ")\n",
    "\n",
    "reg = (reg\n",
    "    .with_columns(\n",
    "        pl.col(\"num_registrations\").str.replace_all(\",\", \"\").cast(pl.Int64).alias(\"num_registrations\")\n",
    "    )\n",
    "    .collect()\n",
    "    .lazy()\n",
    ")\n",
    "\n",
    "reg.collect().tail()"
   ]
  },
  {
   "cell_type": "code",
   "execution_count": 6,
   "metadata": {},
   "outputs": [
    {
     "data": {
      "text/html": [
       "<div><style>\n",
       ".dataframe > thead > tr,\n",
       ".dataframe > tbody > tr {\n",
       "  text-align: right;\n",
       "  white-space: pre-wrap;\n",
       "}\n",
       "</style>\n",
       "<small>shape: (5, 2)</small><table border=\"1\" class=\"dataframe\"><thead><tr><th>model_year</th><th>num_registrations</th></tr><tr><td>i64</td><td>i64</td></tr></thead><tbody><tr><td>2022</td><td>30312</td></tr><tr><td>2023</td><td>31266</td></tr><tr><td>2024</td><td>27389</td></tr><tr><td>2025</td><td>6889</td></tr><tr><td>2026</td><td>876</td></tr></tbody></table></div>"
      ],
      "text/plain": [
       "shape: (5, 2)\n",
       "┌────────────┬───────────────────┐\n",
       "│ model_year ┆ num_registrations │\n",
       "│ ---        ┆ ---               │\n",
       "│ i64        ┆ i64               │\n",
       "╞════════════╪═══════════════════╡\n",
       "│ 2022       ┆ 30312             │\n",
       "│ 2023       ┆ 31266             │\n",
       "│ 2024       ┆ 27389             │\n",
       "│ 2025       ┆ 6889              │\n",
       "│ 2026       ┆ 876               │\n",
       "└────────────┴───────────────────┘"
      ]
     },
     "execution_count": 6,
     "metadata": {},
     "output_type": "execute_result"
    }
   ],
   "source": [
    "reg_2023 = (reg\n",
    "    .filter(pl.col(\"model_year\") == 2023)\n",
    "    .select(\"num_registrations\")\n",
    "    .collect()\n",
    "    .item()\n",
    ")\n",
    "\n",
    "reg_2 = (reg\n",
    "    .with_columns(\n",
    "        pl.when(pl.col(\"model_year\") > 2023)\n",
    "        .then(pl.col(\"num_registrations\") + (reg_2023 - pl.col(\"num_registrations\")) / (12 * (pl.col(\"model_year\") - 2023)))\n",
    "        .otherwise(pl.col(\"num_registrations\"))\n",
    "        .cast(pl.Int64)\n",
    "        .alias(\"num_registrations\")\n",
    "    )\n",
    ")\n",
    "\n",
    "reg_2.tail().collect()"
   ]
  }
 ],
 "metadata": {
  "kernelspec": {
   "display_name": "justins_room",
   "language": "python",
   "name": "python3"
  },
  "language_info": {
   "codemirror_mode": {
    "name": "ipython",
    "version": 3
   },
   "file_extension": ".py",
   "mimetype": "text/x-python",
   "name": "python",
   "nbconvert_exporter": "python",
   "pygments_lexer": "ipython3",
   "version": "3.11.6"
  }
 },
 "nbformat": 4,
 "nbformat_minor": 2
}
