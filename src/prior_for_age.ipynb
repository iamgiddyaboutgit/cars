{
 "cells": [
  {
   "cell_type": "code",
   "execution_count": 380,
   "metadata": {},
   "outputs": [],
   "source": [
    "from pathlib import Path\n",
    "\n",
    "import numpy as np\n",
    "import polars as pl\n",
    "import plotly.express as px\n",
    "from sklearn.gaussian_process import GaussianProcessRegressor\n",
    "from sklearn.gaussian_process.kernels import (\n",
    "    ConstantKernel, RBF, WhiteKernel, ExpSineSquared, RationalQuadratic, \n",
    ")\n",
    "from sklearn.pipeline import make_pipeline\n",
    "from sklearn.preprocessing import SplineTransformer\n",
    "from sklearn.linear_model import (Ridge, LinearRegression)\n"
   ]
  },
  {
   "cell_type": "code",
   "execution_count": 233,
   "metadata": {},
   "outputs": [
    {
     "data": {
      "text/html": [
       "<div><style>\n",
       ".dataframe > thead > tr,\n",
       ".dataframe > tbody > tr {\n",
       "  text-align: right;\n",
       "  white-space: pre-wrap;\n",
       "}\n",
       "</style>\n",
       "<small>shape: (5, 6)</small><table border=\"1\" class=\"dataframe\"><thead><tr><th>model_year</th><th>calendar_year</th><th>advertised_inventory</th><th>model_year_is_previous_calendar_year</th><th>model_year_is_calendar_year</th><th>model_year_is_next_calendar_year</th></tr><tr><td>i64</td><td>f64</td><td>f64</td><td>i64</td><td>i64</td><td>i64</td></tr></thead><tbody><tr><td>2022</td><td>2020.5</td><td>0.0</td><td>0</td><td>0</td><td>0</td></tr><tr><td>2022</td><td>2020.9</td><td>0.0</td><td>0</td><td>0</td><td>0</td></tr><tr><td>2022</td><td>2022.420572</td><td>935.612174</td><td>0</td><td>1</td><td>0</td></tr><tr><td>2022</td><td>2022.441428</td><td>928.768412</td><td>0</td><td>1</td><td>0</td></tr><tr><td>2022</td><td>2022.462284</td><td>920.898087</td><td>0</td><td>1</td><td>0</td></tr></tbody></table></div>"
      ],
      "text/plain": [
       "shape: (5, 6)\n",
       "┌────────────┬───────────────┬─────────────────┬─────────────────┬────────────────┬────────────────┐\n",
       "│ model_year ┆ calendar_year ┆ advertised_inve ┆ model_year_is_p ┆ model_year_is_ ┆ model_year_is_ │\n",
       "│ ---        ┆ ---           ┆ ntory           ┆ revious_calenda ┆ calendar_year  ┆ next_calendar_ │\n",
       "│ i64        ┆ f64           ┆ ---             ┆ …               ┆ ---            ┆ ye…            │\n",
       "│            ┆               ┆ f64             ┆ ---             ┆ i64            ┆ ---            │\n",
       "│            ┆               ┆                 ┆ i64             ┆                ┆ i64            │\n",
       "╞════════════╪═══════════════╪═════════════════╪═════════════════╪════════════════╪════════════════╡\n",
       "│ 2022       ┆ 2020.5        ┆ 0.0             ┆ 0               ┆ 0              ┆ 0              │\n",
       "│ 2022       ┆ 2020.9        ┆ 0.0             ┆ 0               ┆ 0              ┆ 0              │\n",
       "│ 2022       ┆ 2022.420572   ┆ 935.612174      ┆ 0               ┆ 1              ┆ 0              │\n",
       "│ 2022       ┆ 2022.441428   ┆ 928.768412      ┆ 0               ┆ 1              ┆ 0              │\n",
       "│ 2022       ┆ 2022.462284   ┆ 920.898087      ┆ 0               ┆ 1              ┆ 0              │\n",
       "└────────────┴───────────────┴─────────────────┴─────────────────┴────────────────┴────────────────┘"
      ]
     },
     "execution_count": 233,
     "metadata": {},
     "output_type": "execute_result"
    }
   ],
   "source": [
    "mixed_years_path = Path(\"..\", \"raw_data\", \"model_year_vs_calendar_year\", \"model_year_vs_calendar_year.csv\")\n",
    "mixed_years = pl.scan_csv(\n",
    "    source=mixed_years_path,\n",
    ")\n",
    "mixed_years.collect().head()"
   ]
  },
  {
   "cell_type": "code",
   "execution_count": 137,
   "metadata": {},
   "outputs": [
    {
     "data": {
      "application/vnd.plotly.v1+json": {
       "config": {
        "plotlyServerURL": "https://plot.ly"
       },
       "data": [
        {
         "hovertemplate": "x=%{x}<br>y=%{y}<extra></extra>",
         "legendgroup": "",
         "marker": {
          "color": "#636efa",
          "symbol": "circle"
         },
         "mode": "markers",
         "name": "",
         "orientation": "v",
         "showlegend": false,
         "type": "scatter",
         "x": [
          2023.004533,
          2023.025388,
          2023.046244,
          2023.0671,
          2023.087956,
          2023.108811,
          2023.129667,
          2023.150523,
          2023.171379,
          2023.192234,
          2023.21309,
          2023.233946,
          2023.254801,
          2023.275657,
          2023.296513,
          2023.317369,
          2023.338224,
          2023.35908,
          2023.379936,
          2023.400792,
          2023.421647,
          2023.442503,
          2023.463359,
          2023.484214,
          2023.50507,
          2023.525926,
          2023.546782,
          2023.567637,
          2023.588493,
          2023.609349,
          2023.630205,
          2023.65106,
          2023.671916,
          2023.692772,
          2023.713627,
          2023.734483,
          2023.755339,
          2023.776195,
          2023.79705,
          2023.817906,
          2023.838762,
          2023.859618,
          2023.880473,
          2023.901329,
          2023.922185,
          2023.943041,
          2023.963896,
          2023.984752,
          2024.007504,
          2024.028359,
          2024.049215,
          2024.070071,
          2024.090927,
          2024.111782,
          2024.132638,
          2024.153494,
          2024.17435,
          2024.195205,
          2024.216061,
          2024.236917,
          2024.257772,
          2024.278628,
          2024.299484,
          2024.32034,
          2024.341195,
          2024.362051,
          2024.382907,
          2024.403763,
          2024.424618,
          2024.445474,
          2024.46633,
          2024.487185,
          2024.508041,
          2024.528897,
          2024.549753,
          2024.570608,
          2024.591464,
          2024.61232,
          2024.633176,
          2024.654031,
          2024.674887,
          2024.695743,
          2024.716598,
          2024.737454,
          2024.778218
         ],
         "xaxis": "x",
         "y": [
          482.2129771,
          451.4160505,
          421.6456881,
          392.5597019,
          363.4737157,
          334.0455414,
          303.932991,
          274.1626286,
          244.0500782,
          219.754725,
          197.1703122,
          174.2437113,
          152.6858627,
          136.2608352,
          122.2311242,
          108.8857893,
          97.59358289,
          92.80294986,
          82.30918229,
          69.87634896,
          60.29508292,
          56.53101411,
          50.3716288,
          45.92318385,
          41.13255082,
          36.3419178,
          35.31535358,
          29.49815634,
          27.78721597,
          25.04971138,
          20.25907836,
          16.83719763,
          16.49500956,
          13.4153169,
          12.73094075,
          12.73094075,
          9.993436167,
          8.966871947,
          6.913743509,
          5.202803143,
          5.202803143,
          5.202803143,
          5.202803143,
          5.202803143,
          5.202803143,
          5.202803143,
          5.202803143,
          5.202803143,
          747.7509218,
          708.7414815,
          669.047665,
          633.4601054,
          598.89911,
          558.5209174,
          520.8802293,
          485.6348578,
          447.9941698,
          409.6691056,
          376.1346744,
          340.8893029,
          306.3283075,
          274.1626286,
          254.6579085,
          235.1531883,
          216.6750323,
          196.485936,
          181.4296608,
          168.426514,
          148.9217939,
          138.3139636,
          129.4170737,
          120.5201838,
          111.2811058,
          102.726404,
          95.88264252,
          88.01231684,
          81.85293152,
          76.37792235,
          71.58728933,
          65.42790401,
          60.29508292,
          57.8997664,
          54.1356976,
          48.17184833,
          41.96520847
         ],
         "yaxis": "y"
        }
       ],
       "layout": {
        "legend": {
         "tracegroupgap": 0
        },
        "margin": {
         "t": 60
        },
        "template": {
         "data": {
          "bar": [
           {
            "error_x": {
             "color": "#2a3f5f"
            },
            "error_y": {
             "color": "#2a3f5f"
            },
            "marker": {
             "line": {
              "color": "#E5ECF6",
              "width": 0.5
             },
             "pattern": {
              "fillmode": "overlay",
              "size": 10,
              "solidity": 0.2
             }
            },
            "type": "bar"
           }
          ],
          "barpolar": [
           {
            "marker": {
             "line": {
              "color": "#E5ECF6",
              "width": 0.5
             },
             "pattern": {
              "fillmode": "overlay",
              "size": 10,
              "solidity": 0.2
             }
            },
            "type": "barpolar"
           }
          ],
          "carpet": [
           {
            "aaxis": {
             "endlinecolor": "#2a3f5f",
             "gridcolor": "white",
             "linecolor": "white",
             "minorgridcolor": "white",
             "startlinecolor": "#2a3f5f"
            },
            "baxis": {
             "endlinecolor": "#2a3f5f",
             "gridcolor": "white",
             "linecolor": "white",
             "minorgridcolor": "white",
             "startlinecolor": "#2a3f5f"
            },
            "type": "carpet"
           }
          ],
          "choropleth": [
           {
            "colorbar": {
             "outlinewidth": 0,
             "ticks": ""
            },
            "type": "choropleth"
           }
          ],
          "contour": [
           {
            "colorbar": {
             "outlinewidth": 0,
             "ticks": ""
            },
            "colorscale": [
             [
              0,
              "#0d0887"
             ],
             [
              0.1111111111111111,
              "#46039f"
             ],
             [
              0.2222222222222222,
              "#7201a8"
             ],
             [
              0.3333333333333333,
              "#9c179e"
             ],
             [
              0.4444444444444444,
              "#bd3786"
             ],
             [
              0.5555555555555556,
              "#d8576b"
             ],
             [
              0.6666666666666666,
              "#ed7953"
             ],
             [
              0.7777777777777778,
              "#fb9f3a"
             ],
             [
              0.8888888888888888,
              "#fdca26"
             ],
             [
              1,
              "#f0f921"
             ]
            ],
            "type": "contour"
           }
          ],
          "contourcarpet": [
           {
            "colorbar": {
             "outlinewidth": 0,
             "ticks": ""
            },
            "type": "contourcarpet"
           }
          ],
          "heatmap": [
           {
            "colorbar": {
             "outlinewidth": 0,
             "ticks": ""
            },
            "colorscale": [
             [
              0,
              "#0d0887"
             ],
             [
              0.1111111111111111,
              "#46039f"
             ],
             [
              0.2222222222222222,
              "#7201a8"
             ],
             [
              0.3333333333333333,
              "#9c179e"
             ],
             [
              0.4444444444444444,
              "#bd3786"
             ],
             [
              0.5555555555555556,
              "#d8576b"
             ],
             [
              0.6666666666666666,
              "#ed7953"
             ],
             [
              0.7777777777777778,
              "#fb9f3a"
             ],
             [
              0.8888888888888888,
              "#fdca26"
             ],
             [
              1,
              "#f0f921"
             ]
            ],
            "type": "heatmap"
           }
          ],
          "heatmapgl": [
           {
            "colorbar": {
             "outlinewidth": 0,
             "ticks": ""
            },
            "colorscale": [
             [
              0,
              "#0d0887"
             ],
             [
              0.1111111111111111,
              "#46039f"
             ],
             [
              0.2222222222222222,
              "#7201a8"
             ],
             [
              0.3333333333333333,
              "#9c179e"
             ],
             [
              0.4444444444444444,
              "#bd3786"
             ],
             [
              0.5555555555555556,
              "#d8576b"
             ],
             [
              0.6666666666666666,
              "#ed7953"
             ],
             [
              0.7777777777777778,
              "#fb9f3a"
             ],
             [
              0.8888888888888888,
              "#fdca26"
             ],
             [
              1,
              "#f0f921"
             ]
            ],
            "type": "heatmapgl"
           }
          ],
          "histogram": [
           {
            "marker": {
             "pattern": {
              "fillmode": "overlay",
              "size": 10,
              "solidity": 0.2
             }
            },
            "type": "histogram"
           }
          ],
          "histogram2d": [
           {
            "colorbar": {
             "outlinewidth": 0,
             "ticks": ""
            },
            "colorscale": [
             [
              0,
              "#0d0887"
             ],
             [
              0.1111111111111111,
              "#46039f"
             ],
             [
              0.2222222222222222,
              "#7201a8"
             ],
             [
              0.3333333333333333,
              "#9c179e"
             ],
             [
              0.4444444444444444,
              "#bd3786"
             ],
             [
              0.5555555555555556,
              "#d8576b"
             ],
             [
              0.6666666666666666,
              "#ed7953"
             ],
             [
              0.7777777777777778,
              "#fb9f3a"
             ],
             [
              0.8888888888888888,
              "#fdca26"
             ],
             [
              1,
              "#f0f921"
             ]
            ],
            "type": "histogram2d"
           }
          ],
          "histogram2dcontour": [
           {
            "colorbar": {
             "outlinewidth": 0,
             "ticks": ""
            },
            "colorscale": [
             [
              0,
              "#0d0887"
             ],
             [
              0.1111111111111111,
              "#46039f"
             ],
             [
              0.2222222222222222,
              "#7201a8"
             ],
             [
              0.3333333333333333,
              "#9c179e"
             ],
             [
              0.4444444444444444,
              "#bd3786"
             ],
             [
              0.5555555555555556,
              "#d8576b"
             ],
             [
              0.6666666666666666,
              "#ed7953"
             ],
             [
              0.7777777777777778,
              "#fb9f3a"
             ],
             [
              0.8888888888888888,
              "#fdca26"
             ],
             [
              1,
              "#f0f921"
             ]
            ],
            "type": "histogram2dcontour"
           }
          ],
          "mesh3d": [
           {
            "colorbar": {
             "outlinewidth": 0,
             "ticks": ""
            },
            "type": "mesh3d"
           }
          ],
          "parcoords": [
           {
            "line": {
             "colorbar": {
              "outlinewidth": 0,
              "ticks": ""
             }
            },
            "type": "parcoords"
           }
          ],
          "pie": [
           {
            "automargin": true,
            "type": "pie"
           }
          ],
          "scatter": [
           {
            "fillpattern": {
             "fillmode": "overlay",
             "size": 10,
             "solidity": 0.2
            },
            "type": "scatter"
           }
          ],
          "scatter3d": [
           {
            "line": {
             "colorbar": {
              "outlinewidth": 0,
              "ticks": ""
             }
            },
            "marker": {
             "colorbar": {
              "outlinewidth": 0,
              "ticks": ""
             }
            },
            "type": "scatter3d"
           }
          ],
          "scattercarpet": [
           {
            "marker": {
             "colorbar": {
              "outlinewidth": 0,
              "ticks": ""
             }
            },
            "type": "scattercarpet"
           }
          ],
          "scattergeo": [
           {
            "marker": {
             "colorbar": {
              "outlinewidth": 0,
              "ticks": ""
             }
            },
            "type": "scattergeo"
           }
          ],
          "scattergl": [
           {
            "marker": {
             "colorbar": {
              "outlinewidth": 0,
              "ticks": ""
             }
            },
            "type": "scattergl"
           }
          ],
          "scattermapbox": [
           {
            "marker": {
             "colorbar": {
              "outlinewidth": 0,
              "ticks": ""
             }
            },
            "type": "scattermapbox"
           }
          ],
          "scatterpolar": [
           {
            "marker": {
             "colorbar": {
              "outlinewidth": 0,
              "ticks": ""
             }
            },
            "type": "scatterpolar"
           }
          ],
          "scatterpolargl": [
           {
            "marker": {
             "colorbar": {
              "outlinewidth": 0,
              "ticks": ""
             }
            },
            "type": "scatterpolargl"
           }
          ],
          "scatterternary": [
           {
            "marker": {
             "colorbar": {
              "outlinewidth": 0,
              "ticks": ""
             }
            },
            "type": "scatterternary"
           }
          ],
          "surface": [
           {
            "colorbar": {
             "outlinewidth": 0,
             "ticks": ""
            },
            "colorscale": [
             [
              0,
              "#0d0887"
             ],
             [
              0.1111111111111111,
              "#46039f"
             ],
             [
              0.2222222222222222,
              "#7201a8"
             ],
             [
              0.3333333333333333,
              "#9c179e"
             ],
             [
              0.4444444444444444,
              "#bd3786"
             ],
             [
              0.5555555555555556,
              "#d8576b"
             ],
             [
              0.6666666666666666,
              "#ed7953"
             ],
             [
              0.7777777777777778,
              "#fb9f3a"
             ],
             [
              0.8888888888888888,
              "#fdca26"
             ],
             [
              1,
              "#f0f921"
             ]
            ],
            "type": "surface"
           }
          ],
          "table": [
           {
            "cells": {
             "fill": {
              "color": "#EBF0F8"
             },
             "line": {
              "color": "white"
             }
            },
            "header": {
             "fill": {
              "color": "#C8D4E3"
             },
             "line": {
              "color": "white"
             }
            },
            "type": "table"
           }
          ]
         },
         "layout": {
          "annotationdefaults": {
           "arrowcolor": "#2a3f5f",
           "arrowhead": 0,
           "arrowwidth": 1
          },
          "autotypenumbers": "strict",
          "coloraxis": {
           "colorbar": {
            "outlinewidth": 0,
            "ticks": ""
           }
          },
          "colorscale": {
           "diverging": [
            [
             0,
             "#8e0152"
            ],
            [
             0.1,
             "#c51b7d"
            ],
            [
             0.2,
             "#de77ae"
            ],
            [
             0.3,
             "#f1b6da"
            ],
            [
             0.4,
             "#fde0ef"
            ],
            [
             0.5,
             "#f7f7f7"
            ],
            [
             0.6,
             "#e6f5d0"
            ],
            [
             0.7,
             "#b8e186"
            ],
            [
             0.8,
             "#7fbc41"
            ],
            [
             0.9,
             "#4d9221"
            ],
            [
             1,
             "#276419"
            ]
           ],
           "sequential": [
            [
             0,
             "#0d0887"
            ],
            [
             0.1111111111111111,
             "#46039f"
            ],
            [
             0.2222222222222222,
             "#7201a8"
            ],
            [
             0.3333333333333333,
             "#9c179e"
            ],
            [
             0.4444444444444444,
             "#bd3786"
            ],
            [
             0.5555555555555556,
             "#d8576b"
            ],
            [
             0.6666666666666666,
             "#ed7953"
            ],
            [
             0.7777777777777778,
             "#fb9f3a"
            ],
            [
             0.8888888888888888,
             "#fdca26"
            ],
            [
             1,
             "#f0f921"
            ]
           ],
           "sequentialminus": [
            [
             0,
             "#0d0887"
            ],
            [
             0.1111111111111111,
             "#46039f"
            ],
            [
             0.2222222222222222,
             "#7201a8"
            ],
            [
             0.3333333333333333,
             "#9c179e"
            ],
            [
             0.4444444444444444,
             "#bd3786"
            ],
            [
             0.5555555555555556,
             "#d8576b"
            ],
            [
             0.6666666666666666,
             "#ed7953"
            ],
            [
             0.7777777777777778,
             "#fb9f3a"
            ],
            [
             0.8888888888888888,
             "#fdca26"
            ],
            [
             1,
             "#f0f921"
            ]
           ]
          },
          "colorway": [
           "#636efa",
           "#EF553B",
           "#00cc96",
           "#ab63fa",
           "#FFA15A",
           "#19d3f3",
           "#FF6692",
           "#B6E880",
           "#FF97FF",
           "#FECB52"
          ],
          "font": {
           "color": "#2a3f5f"
          },
          "geo": {
           "bgcolor": "white",
           "lakecolor": "white",
           "landcolor": "#E5ECF6",
           "showlakes": true,
           "showland": true,
           "subunitcolor": "white"
          },
          "hoverlabel": {
           "align": "left"
          },
          "hovermode": "closest",
          "mapbox": {
           "style": "light"
          },
          "paper_bgcolor": "white",
          "plot_bgcolor": "#E5ECF6",
          "polar": {
           "angularaxis": {
            "gridcolor": "white",
            "linecolor": "white",
            "ticks": ""
           },
           "bgcolor": "#E5ECF6",
           "radialaxis": {
            "gridcolor": "white",
            "linecolor": "white",
            "ticks": ""
           }
          },
          "scene": {
           "xaxis": {
            "backgroundcolor": "#E5ECF6",
            "gridcolor": "white",
            "gridwidth": 2,
            "linecolor": "white",
            "showbackground": true,
            "ticks": "",
            "zerolinecolor": "white"
           },
           "yaxis": {
            "backgroundcolor": "#E5ECF6",
            "gridcolor": "white",
            "gridwidth": 2,
            "linecolor": "white",
            "showbackground": true,
            "ticks": "",
            "zerolinecolor": "white"
           },
           "zaxis": {
            "backgroundcolor": "#E5ECF6",
            "gridcolor": "white",
            "gridwidth": 2,
            "linecolor": "white",
            "showbackground": true,
            "ticks": "",
            "zerolinecolor": "white"
           }
          },
          "shapedefaults": {
           "line": {
            "color": "#2a3f5f"
           }
          },
          "ternary": {
           "aaxis": {
            "gridcolor": "white",
            "linecolor": "white",
            "ticks": ""
           },
           "baxis": {
            "gridcolor": "white",
            "linecolor": "white",
            "ticks": ""
           },
           "bgcolor": "#E5ECF6",
           "caxis": {
            "gridcolor": "white",
            "linecolor": "white",
            "ticks": ""
           }
          },
          "title": {
           "x": 0.05
          },
          "xaxis": {
           "automargin": true,
           "gridcolor": "white",
           "linecolor": "white",
           "ticks": "",
           "title": {
            "standoff": 15
           },
           "zerolinecolor": "white",
           "zerolinewidth": 2
          },
          "yaxis": {
           "automargin": true,
           "gridcolor": "white",
           "linecolor": "white",
           "ticks": "",
           "title": {
            "standoff": 15
           },
           "zerolinecolor": "white",
           "zerolinewidth": 2
          }
         }
        },
        "xaxis": {
         "anchor": "y",
         "domain": [
          0,
          1
         ],
         "title": {
          "text": "x"
         }
        },
        "yaxis": {
         "anchor": "x",
         "domain": [
          0,
          1
         ],
         "title": {
          "text": "y"
         }
        }
       }
      }
     },
     "metadata": {},
     "output_type": "display_data"
    }
   ],
   "source": [
    "px.scatter(\n",
    "    x=mixed_years.filter(pl.col(\"model_year_is_previous_calendar_year\") == 1).select(\"calendar_year\").collect().to_series(),\n",
    "    y=mixed_years.filter(pl.col(\"model_year_is_previous_calendar_year\") == 1).select(\"advertised_inventory\").collect().to_series()\n",
    ")"
   ]
  },
  {
   "cell_type": "code",
   "execution_count": 138,
   "metadata": {},
   "outputs": [
    {
     "data": {
      "application/vnd.plotly.v1+json": {
       "config": {
        "plotlyServerURL": "https://plot.ly"
       },
       "data": [
        {
         "hovertemplate": "x=%{x}<br>y=%{y}<extra></extra>",
         "legendgroup": "",
         "marker": {
          "color": "#636efa",
          "symbol": "circle"
         },
         "mode": "markers",
         "name": "",
         "orientation": "v",
         "showlegend": false,
         "type": "scatter",
         "x": [
          2022.420572,
          2022.441428,
          2022.462284,
          2022.483139,
          2022.503995,
          2022.524851,
          2022.545707,
          2022.566562,
          2022.587418,
          2022.608274,
          2022.62913,
          2022.649985,
          2022.670841,
          2022.691697,
          2022.712552,
          2022.733408,
          2022.754264,
          2022.77512,
          2022.795975,
          2022.816831,
          2022.837687,
          2022.858543,
          2022.879398,
          2022.900254,
          2022.92111,
          2022.941966,
          2022.962821,
          2022.983677,
          2023.006429,
          2023.027284,
          2023.04814,
          2023.068996,
          2023.089852,
          2023.110707,
          2023.131563,
          2023.152419,
          2023.173275,
          2023.19413,
          2023.214986,
          2023.235842,
          2023.256697,
          2023.277553,
          2023.298409,
          2023.319265,
          2023.34012,
          2023.360976,
          2023.381832,
          2023.402688,
          2023.423543,
          2023.444399,
          2023.465255,
          2023.48611,
          2023.506966,
          2023.527822,
          2023.548678,
          2023.569533,
          2023.590389,
          2023.611245,
          2023.632101,
          2023.652956,
          2023.673812,
          2023.694668,
          2023.715523,
          2023.736379,
          2023.757235,
          2023.778091,
          2023.798946,
          2023.819802,
          2023.840658,
          2023.861514,
          2023.882369,
          2023.903225,
          2023.924081,
          2023.944936,
          2023.965792,
          2023.986648,
          2024.020776,
          2024.041631,
          2024.062487,
          2024.083343,
          2024.104198,
          2024.125054,
          2024.14591,
          2024.166766,
          2024.187621,
          2024.208477,
          2024.229333,
          2024.250189,
          2024.271044,
          2024.2919,
          2024.312756,
          2024.333611,
          2024.354467,
          2024.375323,
          2024.396179,
          2024.417034,
          2024.43789,
          2024.458746,
          2024.479602,
          2024.500457,
          2024.521313,
          2024.542169,
          2024.563024,
          2024.58388,
          2024.604736,
          2024.625592,
          2024.646447,
          2024.667303,
          2024.688159,
          2024.709015,
          2024.72987,
          2024.750726,
          2024.771582,
          2024.783906
         ],
         "xaxis": "x",
         "y": [
          935.612174,
          928.7684125,
          920.8980868,
          913.0277612,
          908.5793162,
          908.5793162,
          905.8418116,
          903.104307,
          899.3402382,
          883.9417749,
          867.8589355,
          851.433908,
          836.3776328,
          824.4010502,
          815.5041603,
          806.9494585,
          795.9994401,
          778.2056603,
          758.3587521,
          738.5118439,
          720.0336879,
          686.1570687,
          658.0976467,
          627.9850962,
          598.2147339,
          568.7865596,
          540.0427614,
          509.930211,
          1100.204637,
          1148.110967,
          1193.964169,
          1239.132995,
          1282.933068,
          1323.995637,
          1363.689453,
          1404.409834,
          1440.339582,
          1471.136508,
          1500.564683,
          1529.650669,
          1556.341339,
          1572.766366,
          1587.480453,
          1603.563293,
          1614.513311,
          1610.064866,
          1597.746095,
          1587.480453,
          1572.766366,
          1567.291357,
          1573.79293,
          1577.899187,
          1577.556999,
          1563.869476,
          1538.889747,
          1516.305334,
          1487.561536,
          1459.844302,
          1432.127068,
          1403.725458,
          1374.98166,
          1341.447229,
          1308.597174,
          1276.773683,
          1241.528311,
          1202.176683,
          1154.954729,
          1097.467133,
          1051.613931,
          1010.551362,
          972.910674,
          936.2965501,
          898.9980502,
          862.0417383,
          825.0854264,
          785.3916099,
          1749.335412,
          1804.76988,
          1860.888724,
          1918.718508,
          1976.890481,
          2043.617155,
          2113.081334,
          2182.203324,
          2250.640939,
          2310.523852,
          2365.95832,
          2423.788104,
          2478.538196,
          2506.597618,
          2524.733586,
          2542.527365,
          2557.583641,
          2557.241453,
          2548.344563,
          2539.105485,
          2532.261723,
          2527.128902,
          2527.128902,
          2526.102338,
          2522.680457,
          2495.989787,
          2452.87409,
          2409.074017,
          2366.300508,
          2318.051989,
          2266.039402,
          2214.369003,
          2165.436109,
          2111.370393,
          2060.042182,
          2006.660843,
          1954.648256,
          1926.759928
         ],
         "yaxis": "y"
        }
       ],
       "layout": {
        "legend": {
         "tracegroupgap": 0
        },
        "margin": {
         "t": 60
        },
        "template": {
         "data": {
          "bar": [
           {
            "error_x": {
             "color": "#2a3f5f"
            },
            "error_y": {
             "color": "#2a3f5f"
            },
            "marker": {
             "line": {
              "color": "#E5ECF6",
              "width": 0.5
             },
             "pattern": {
              "fillmode": "overlay",
              "size": 10,
              "solidity": 0.2
             }
            },
            "type": "bar"
           }
          ],
          "barpolar": [
           {
            "marker": {
             "line": {
              "color": "#E5ECF6",
              "width": 0.5
             },
             "pattern": {
              "fillmode": "overlay",
              "size": 10,
              "solidity": 0.2
             }
            },
            "type": "barpolar"
           }
          ],
          "carpet": [
           {
            "aaxis": {
             "endlinecolor": "#2a3f5f",
             "gridcolor": "white",
             "linecolor": "white",
             "minorgridcolor": "white",
             "startlinecolor": "#2a3f5f"
            },
            "baxis": {
             "endlinecolor": "#2a3f5f",
             "gridcolor": "white",
             "linecolor": "white",
             "minorgridcolor": "white",
             "startlinecolor": "#2a3f5f"
            },
            "type": "carpet"
           }
          ],
          "choropleth": [
           {
            "colorbar": {
             "outlinewidth": 0,
             "ticks": ""
            },
            "type": "choropleth"
           }
          ],
          "contour": [
           {
            "colorbar": {
             "outlinewidth": 0,
             "ticks": ""
            },
            "colorscale": [
             [
              0,
              "#0d0887"
             ],
             [
              0.1111111111111111,
              "#46039f"
             ],
             [
              0.2222222222222222,
              "#7201a8"
             ],
             [
              0.3333333333333333,
              "#9c179e"
             ],
             [
              0.4444444444444444,
              "#bd3786"
             ],
             [
              0.5555555555555556,
              "#d8576b"
             ],
             [
              0.6666666666666666,
              "#ed7953"
             ],
             [
              0.7777777777777778,
              "#fb9f3a"
             ],
             [
              0.8888888888888888,
              "#fdca26"
             ],
             [
              1,
              "#f0f921"
             ]
            ],
            "type": "contour"
           }
          ],
          "contourcarpet": [
           {
            "colorbar": {
             "outlinewidth": 0,
             "ticks": ""
            },
            "type": "contourcarpet"
           }
          ],
          "heatmap": [
           {
            "colorbar": {
             "outlinewidth": 0,
             "ticks": ""
            },
            "colorscale": [
             [
              0,
              "#0d0887"
             ],
             [
              0.1111111111111111,
              "#46039f"
             ],
             [
              0.2222222222222222,
              "#7201a8"
             ],
             [
              0.3333333333333333,
              "#9c179e"
             ],
             [
              0.4444444444444444,
              "#bd3786"
             ],
             [
              0.5555555555555556,
              "#d8576b"
             ],
             [
              0.6666666666666666,
              "#ed7953"
             ],
             [
              0.7777777777777778,
              "#fb9f3a"
             ],
             [
              0.8888888888888888,
              "#fdca26"
             ],
             [
              1,
              "#f0f921"
             ]
            ],
            "type": "heatmap"
           }
          ],
          "heatmapgl": [
           {
            "colorbar": {
             "outlinewidth": 0,
             "ticks": ""
            },
            "colorscale": [
             [
              0,
              "#0d0887"
             ],
             [
              0.1111111111111111,
              "#46039f"
             ],
             [
              0.2222222222222222,
              "#7201a8"
             ],
             [
              0.3333333333333333,
              "#9c179e"
             ],
             [
              0.4444444444444444,
              "#bd3786"
             ],
             [
              0.5555555555555556,
              "#d8576b"
             ],
             [
              0.6666666666666666,
              "#ed7953"
             ],
             [
              0.7777777777777778,
              "#fb9f3a"
             ],
             [
              0.8888888888888888,
              "#fdca26"
             ],
             [
              1,
              "#f0f921"
             ]
            ],
            "type": "heatmapgl"
           }
          ],
          "histogram": [
           {
            "marker": {
             "pattern": {
              "fillmode": "overlay",
              "size": 10,
              "solidity": 0.2
             }
            },
            "type": "histogram"
           }
          ],
          "histogram2d": [
           {
            "colorbar": {
             "outlinewidth": 0,
             "ticks": ""
            },
            "colorscale": [
             [
              0,
              "#0d0887"
             ],
             [
              0.1111111111111111,
              "#46039f"
             ],
             [
              0.2222222222222222,
              "#7201a8"
             ],
             [
              0.3333333333333333,
              "#9c179e"
             ],
             [
              0.4444444444444444,
              "#bd3786"
             ],
             [
              0.5555555555555556,
              "#d8576b"
             ],
             [
              0.6666666666666666,
              "#ed7953"
             ],
             [
              0.7777777777777778,
              "#fb9f3a"
             ],
             [
              0.8888888888888888,
              "#fdca26"
             ],
             [
              1,
              "#f0f921"
             ]
            ],
            "type": "histogram2d"
           }
          ],
          "histogram2dcontour": [
           {
            "colorbar": {
             "outlinewidth": 0,
             "ticks": ""
            },
            "colorscale": [
             [
              0,
              "#0d0887"
             ],
             [
              0.1111111111111111,
              "#46039f"
             ],
             [
              0.2222222222222222,
              "#7201a8"
             ],
             [
              0.3333333333333333,
              "#9c179e"
             ],
             [
              0.4444444444444444,
              "#bd3786"
             ],
             [
              0.5555555555555556,
              "#d8576b"
             ],
             [
              0.6666666666666666,
              "#ed7953"
             ],
             [
              0.7777777777777778,
              "#fb9f3a"
             ],
             [
              0.8888888888888888,
              "#fdca26"
             ],
             [
              1,
              "#f0f921"
             ]
            ],
            "type": "histogram2dcontour"
           }
          ],
          "mesh3d": [
           {
            "colorbar": {
             "outlinewidth": 0,
             "ticks": ""
            },
            "type": "mesh3d"
           }
          ],
          "parcoords": [
           {
            "line": {
             "colorbar": {
              "outlinewidth": 0,
              "ticks": ""
             }
            },
            "type": "parcoords"
           }
          ],
          "pie": [
           {
            "automargin": true,
            "type": "pie"
           }
          ],
          "scatter": [
           {
            "fillpattern": {
             "fillmode": "overlay",
             "size": 10,
             "solidity": 0.2
            },
            "type": "scatter"
           }
          ],
          "scatter3d": [
           {
            "line": {
             "colorbar": {
              "outlinewidth": 0,
              "ticks": ""
             }
            },
            "marker": {
             "colorbar": {
              "outlinewidth": 0,
              "ticks": ""
             }
            },
            "type": "scatter3d"
           }
          ],
          "scattercarpet": [
           {
            "marker": {
             "colorbar": {
              "outlinewidth": 0,
              "ticks": ""
             }
            },
            "type": "scattercarpet"
           }
          ],
          "scattergeo": [
           {
            "marker": {
             "colorbar": {
              "outlinewidth": 0,
              "ticks": ""
             }
            },
            "type": "scattergeo"
           }
          ],
          "scattergl": [
           {
            "marker": {
             "colorbar": {
              "outlinewidth": 0,
              "ticks": ""
             }
            },
            "type": "scattergl"
           }
          ],
          "scattermapbox": [
           {
            "marker": {
             "colorbar": {
              "outlinewidth": 0,
              "ticks": ""
             }
            },
            "type": "scattermapbox"
           }
          ],
          "scatterpolar": [
           {
            "marker": {
             "colorbar": {
              "outlinewidth": 0,
              "ticks": ""
             }
            },
            "type": "scatterpolar"
           }
          ],
          "scatterpolargl": [
           {
            "marker": {
             "colorbar": {
              "outlinewidth": 0,
              "ticks": ""
             }
            },
            "type": "scatterpolargl"
           }
          ],
          "scatterternary": [
           {
            "marker": {
             "colorbar": {
              "outlinewidth": 0,
              "ticks": ""
             }
            },
            "type": "scatterternary"
           }
          ],
          "surface": [
           {
            "colorbar": {
             "outlinewidth": 0,
             "ticks": ""
            },
            "colorscale": [
             [
              0,
              "#0d0887"
             ],
             [
              0.1111111111111111,
              "#46039f"
             ],
             [
              0.2222222222222222,
              "#7201a8"
             ],
             [
              0.3333333333333333,
              "#9c179e"
             ],
             [
              0.4444444444444444,
              "#bd3786"
             ],
             [
              0.5555555555555556,
              "#d8576b"
             ],
             [
              0.6666666666666666,
              "#ed7953"
             ],
             [
              0.7777777777777778,
              "#fb9f3a"
             ],
             [
              0.8888888888888888,
              "#fdca26"
             ],
             [
              1,
              "#f0f921"
             ]
            ],
            "type": "surface"
           }
          ],
          "table": [
           {
            "cells": {
             "fill": {
              "color": "#EBF0F8"
             },
             "line": {
              "color": "white"
             }
            },
            "header": {
             "fill": {
              "color": "#C8D4E3"
             },
             "line": {
              "color": "white"
             }
            },
            "type": "table"
           }
          ]
         },
         "layout": {
          "annotationdefaults": {
           "arrowcolor": "#2a3f5f",
           "arrowhead": 0,
           "arrowwidth": 1
          },
          "autotypenumbers": "strict",
          "coloraxis": {
           "colorbar": {
            "outlinewidth": 0,
            "ticks": ""
           }
          },
          "colorscale": {
           "diverging": [
            [
             0,
             "#8e0152"
            ],
            [
             0.1,
             "#c51b7d"
            ],
            [
             0.2,
             "#de77ae"
            ],
            [
             0.3,
             "#f1b6da"
            ],
            [
             0.4,
             "#fde0ef"
            ],
            [
             0.5,
             "#f7f7f7"
            ],
            [
             0.6,
             "#e6f5d0"
            ],
            [
             0.7,
             "#b8e186"
            ],
            [
             0.8,
             "#7fbc41"
            ],
            [
             0.9,
             "#4d9221"
            ],
            [
             1,
             "#276419"
            ]
           ],
           "sequential": [
            [
             0,
             "#0d0887"
            ],
            [
             0.1111111111111111,
             "#46039f"
            ],
            [
             0.2222222222222222,
             "#7201a8"
            ],
            [
             0.3333333333333333,
             "#9c179e"
            ],
            [
             0.4444444444444444,
             "#bd3786"
            ],
            [
             0.5555555555555556,
             "#d8576b"
            ],
            [
             0.6666666666666666,
             "#ed7953"
            ],
            [
             0.7777777777777778,
             "#fb9f3a"
            ],
            [
             0.8888888888888888,
             "#fdca26"
            ],
            [
             1,
             "#f0f921"
            ]
           ],
           "sequentialminus": [
            [
             0,
             "#0d0887"
            ],
            [
             0.1111111111111111,
             "#46039f"
            ],
            [
             0.2222222222222222,
             "#7201a8"
            ],
            [
             0.3333333333333333,
             "#9c179e"
            ],
            [
             0.4444444444444444,
             "#bd3786"
            ],
            [
             0.5555555555555556,
             "#d8576b"
            ],
            [
             0.6666666666666666,
             "#ed7953"
            ],
            [
             0.7777777777777778,
             "#fb9f3a"
            ],
            [
             0.8888888888888888,
             "#fdca26"
            ],
            [
             1,
             "#f0f921"
            ]
           ]
          },
          "colorway": [
           "#636efa",
           "#EF553B",
           "#00cc96",
           "#ab63fa",
           "#FFA15A",
           "#19d3f3",
           "#FF6692",
           "#B6E880",
           "#FF97FF",
           "#FECB52"
          ],
          "font": {
           "color": "#2a3f5f"
          },
          "geo": {
           "bgcolor": "white",
           "lakecolor": "white",
           "landcolor": "#E5ECF6",
           "showlakes": true,
           "showland": true,
           "subunitcolor": "white"
          },
          "hoverlabel": {
           "align": "left"
          },
          "hovermode": "closest",
          "mapbox": {
           "style": "light"
          },
          "paper_bgcolor": "white",
          "plot_bgcolor": "#E5ECF6",
          "polar": {
           "angularaxis": {
            "gridcolor": "white",
            "linecolor": "white",
            "ticks": ""
           },
           "bgcolor": "#E5ECF6",
           "radialaxis": {
            "gridcolor": "white",
            "linecolor": "white",
            "ticks": ""
           }
          },
          "scene": {
           "xaxis": {
            "backgroundcolor": "#E5ECF6",
            "gridcolor": "white",
            "gridwidth": 2,
            "linecolor": "white",
            "showbackground": true,
            "ticks": "",
            "zerolinecolor": "white"
           },
           "yaxis": {
            "backgroundcolor": "#E5ECF6",
            "gridcolor": "white",
            "gridwidth": 2,
            "linecolor": "white",
            "showbackground": true,
            "ticks": "",
            "zerolinecolor": "white"
           },
           "zaxis": {
            "backgroundcolor": "#E5ECF6",
            "gridcolor": "white",
            "gridwidth": 2,
            "linecolor": "white",
            "showbackground": true,
            "ticks": "",
            "zerolinecolor": "white"
           }
          },
          "shapedefaults": {
           "line": {
            "color": "#2a3f5f"
           }
          },
          "ternary": {
           "aaxis": {
            "gridcolor": "white",
            "linecolor": "white",
            "ticks": ""
           },
           "baxis": {
            "gridcolor": "white",
            "linecolor": "white",
            "ticks": ""
           },
           "bgcolor": "#E5ECF6",
           "caxis": {
            "gridcolor": "white",
            "linecolor": "white",
            "ticks": ""
           }
          },
          "title": {
           "x": 0.05
          },
          "xaxis": {
           "automargin": true,
           "gridcolor": "white",
           "linecolor": "white",
           "ticks": "",
           "title": {
            "standoff": 15
           },
           "zerolinecolor": "white",
           "zerolinewidth": 2
          },
          "yaxis": {
           "automargin": true,
           "gridcolor": "white",
           "linecolor": "white",
           "ticks": "",
           "title": {
            "standoff": 15
           },
           "zerolinecolor": "white",
           "zerolinewidth": 2
          }
         }
        },
        "xaxis": {
         "anchor": "y",
         "domain": [
          0,
          1
         ],
         "title": {
          "text": "x"
         }
        },
        "yaxis": {
         "anchor": "x",
         "domain": [
          0,
          1
         ],
         "title": {
          "text": "y"
         }
        }
       }
      }
     },
     "metadata": {},
     "output_type": "display_data"
    }
   ],
   "source": [
    "px.scatter(\n",
    "    x=mixed_years.filter(pl.col(\"model_year_is_calendar_year\") == 1).select(\"calendar_year\").collect().to_series(),\n",
    "    y=mixed_years.filter(pl.col(\"model_year_is_calendar_year\") == 1).select(\"advertised_inventory\").collect().to_series()\n",
    ")"
   ]
  },
  {
   "cell_type": "code",
   "execution_count": 139,
   "metadata": {},
   "outputs": [
    {
     "data": {
      "application/vnd.plotly.v1+json": {
       "config": {
        "plotlyServerURL": "https://plot.ly"
       },
       "data": [
        {
         "hovertemplate": "x=%{x}<br>y=%{y}<extra></extra>",
         "legendgroup": "",
         "marker": {
          "color": "#636efa",
          "symbol": "circle"
         },
         "mode": "markers",
         "name": "",
         "orientation": "v",
         "showlegend": false,
         "type": "scatter",
         "x": [
          2022.422468,
          2022.443324,
          2022.46418,
          2022.485035,
          2022.505891,
          2022.526747,
          2022.547603,
          2022.568458,
          2022.589314,
          2022.61017,
          2022.631026,
          2022.651881,
          2022.672737,
          2022.693593,
          2022.714448,
          2022.735304,
          2022.75616,
          2022.777016,
          2022.797871,
          2022.818727,
          2022.838108,
          2022.860439,
          2022.881294,
          2022.90215,
          2022.923006,
          2022.943861,
          2022.964717,
          2022.985573,
          2023.014013,
          2023.034868,
          2023.055724,
          2023.07658,
          2023.097435,
          2023.118291,
          2023.139147,
          2023.160003,
          2023.180858,
          2023.201714,
          2023.22257,
          2023.243426,
          2023.264281,
          2023.285137,
          2023.305993,
          2023.326849,
          2023.347704,
          2023.362872,
          2023.408375,
          2023.429231,
          2023.450087,
          2023.470943,
          2023.491798,
          2023.512654,
          2023.53351,
          2023.554366,
          2023.575221,
          2023.596077,
          2023.616933,
          2023.637788,
          2023.658644,
          2023.6795,
          2023.69846,
          2023.716471,
          2023.735431,
          2023.754391,
          2023.773351,
          2023.793258,
          2023.81443,
          2023.833074,
          2023.85393,
          2023.874785,
          2023.895641,
          2023.916497,
          2023.937353,
          2023.958208,
          2023.979064,
          2023.99992,
          2024.030824,
          2024.051111,
          2024.071967,
          2024.092823,
          2024.113678,
          2024.134534,
          2024.15539,
          2024.176245,
          2024.197101,
          2024.217957,
          2024.238813,
          2024.259668,
          2024.280524,
          2024.30138,
          2024.322236,
          2024.343091,
          2024.363947,
          2024.384803,
          2024.402815,
          2024.42841,
          2024.449266,
          2024.470122,
          2024.490977,
          2024.511833,
          2024.532689,
          2024.553545,
          2024.5744,
          2024.595256,
          2024.616112,
          2024.63602,
          2024.655927,
          2024.675835,
          2024.694795,
          2024.714703,
          2024.733662,
          2024.751674,
          2024.770634,
          2024.783906
         ],
         "xaxis": "x",
         "y": [
          7.940307728,
          9.651248094,
          16.83719763,
          22.3122068,
          31.2090967,
          53.10913338,
          73.64041777,
          94.51389023,
          120.1779957,
          154.054615,
          187.9312342,
          221.1234773,
          256.3688488,
          293.6673488,
          334.0455414,
          371.0018533,
          418.5659955,
          489.3989266,
          557.8365412,
          629.3538485,
          681.0622685,
          744.3290411,
          786.7603622,
          830.2182475,
          881.2042704,
          936.6387382,
          992.073206,
          1044.770169,
          0,
          0,
          0,
          0,
          0,
          0,
          0,
          0,
          0,
          0,
          2.465298558,
          5.544991216,
          13.75750497,
          25.39189946,
          36.3419178,
          48.31850036,
          59.2685187,
          61.66383521,
          106.1482847,
          120.8623719,
          141.7358443,
          165.0046333,
          186.5624819,
          209.1468947,
          239.2594452,
          272.1095002,
          303.2486148,
          337.1252341,
          389.1378212,
          446.2832294,
          503.7708257,
          562.9693623,
          639.6575116,
          721.1286897,
          808.8314929,
          891.2645997,
          973.6977065,
          1054.693623,
          1137.560168,
          1213.468889,
          1294.567463,
          1361.294137,
          1426.994247,
          1490.641229,
          1553.946022,
          1602.878917,
          1652.838375,
          1699.033765,
          0,
          0,
          0,
          0,
          0,
          0,
          0,
          0,
          0,
          3.149674704,
          14.09969304,
          23.33877102,
          32.92003707,
          46.60755999,
          61.32164714,
          75.69354621,
          91.0920095,
          119.1514315,
          134.5926683,
          180.7452847,
          202.9875094,
          230.3625553,
          258.0797892,
          286.1392112,
          317.2783258,
          354.2346377,
          391.1909496,
          429.8582019,
          475.7114037,
          550.9927798,
          630.0382247,
          710.5892971,
          790.0111489,
          874.702697,
          958.3486704,
          1037.310469,
          1120.119983,
          1169.241081
         ],
         "yaxis": "y"
        }
       ],
       "layout": {
        "legend": {
         "tracegroupgap": 0
        },
        "margin": {
         "t": 60
        },
        "template": {
         "data": {
          "bar": [
           {
            "error_x": {
             "color": "#2a3f5f"
            },
            "error_y": {
             "color": "#2a3f5f"
            },
            "marker": {
             "line": {
              "color": "#E5ECF6",
              "width": 0.5
             },
             "pattern": {
              "fillmode": "overlay",
              "size": 10,
              "solidity": 0.2
             }
            },
            "type": "bar"
           }
          ],
          "barpolar": [
           {
            "marker": {
             "line": {
              "color": "#E5ECF6",
              "width": 0.5
             },
             "pattern": {
              "fillmode": "overlay",
              "size": 10,
              "solidity": 0.2
             }
            },
            "type": "barpolar"
           }
          ],
          "carpet": [
           {
            "aaxis": {
             "endlinecolor": "#2a3f5f",
             "gridcolor": "white",
             "linecolor": "white",
             "minorgridcolor": "white",
             "startlinecolor": "#2a3f5f"
            },
            "baxis": {
             "endlinecolor": "#2a3f5f",
             "gridcolor": "white",
             "linecolor": "white",
             "minorgridcolor": "white",
             "startlinecolor": "#2a3f5f"
            },
            "type": "carpet"
           }
          ],
          "choropleth": [
           {
            "colorbar": {
             "outlinewidth": 0,
             "ticks": ""
            },
            "type": "choropleth"
           }
          ],
          "contour": [
           {
            "colorbar": {
             "outlinewidth": 0,
             "ticks": ""
            },
            "colorscale": [
             [
              0,
              "#0d0887"
             ],
             [
              0.1111111111111111,
              "#46039f"
             ],
             [
              0.2222222222222222,
              "#7201a8"
             ],
             [
              0.3333333333333333,
              "#9c179e"
             ],
             [
              0.4444444444444444,
              "#bd3786"
             ],
             [
              0.5555555555555556,
              "#d8576b"
             ],
             [
              0.6666666666666666,
              "#ed7953"
             ],
             [
              0.7777777777777778,
              "#fb9f3a"
             ],
             [
              0.8888888888888888,
              "#fdca26"
             ],
             [
              1,
              "#f0f921"
             ]
            ],
            "type": "contour"
           }
          ],
          "contourcarpet": [
           {
            "colorbar": {
             "outlinewidth": 0,
             "ticks": ""
            },
            "type": "contourcarpet"
           }
          ],
          "heatmap": [
           {
            "colorbar": {
             "outlinewidth": 0,
             "ticks": ""
            },
            "colorscale": [
             [
              0,
              "#0d0887"
             ],
             [
              0.1111111111111111,
              "#46039f"
             ],
             [
              0.2222222222222222,
              "#7201a8"
             ],
             [
              0.3333333333333333,
              "#9c179e"
             ],
             [
              0.4444444444444444,
              "#bd3786"
             ],
             [
              0.5555555555555556,
              "#d8576b"
             ],
             [
              0.6666666666666666,
              "#ed7953"
             ],
             [
              0.7777777777777778,
              "#fb9f3a"
             ],
             [
              0.8888888888888888,
              "#fdca26"
             ],
             [
              1,
              "#f0f921"
             ]
            ],
            "type": "heatmap"
           }
          ],
          "heatmapgl": [
           {
            "colorbar": {
             "outlinewidth": 0,
             "ticks": ""
            },
            "colorscale": [
             [
              0,
              "#0d0887"
             ],
             [
              0.1111111111111111,
              "#46039f"
             ],
             [
              0.2222222222222222,
              "#7201a8"
             ],
             [
              0.3333333333333333,
              "#9c179e"
             ],
             [
              0.4444444444444444,
              "#bd3786"
             ],
             [
              0.5555555555555556,
              "#d8576b"
             ],
             [
              0.6666666666666666,
              "#ed7953"
             ],
             [
              0.7777777777777778,
              "#fb9f3a"
             ],
             [
              0.8888888888888888,
              "#fdca26"
             ],
             [
              1,
              "#f0f921"
             ]
            ],
            "type": "heatmapgl"
           }
          ],
          "histogram": [
           {
            "marker": {
             "pattern": {
              "fillmode": "overlay",
              "size": 10,
              "solidity": 0.2
             }
            },
            "type": "histogram"
           }
          ],
          "histogram2d": [
           {
            "colorbar": {
             "outlinewidth": 0,
             "ticks": ""
            },
            "colorscale": [
             [
              0,
              "#0d0887"
             ],
             [
              0.1111111111111111,
              "#46039f"
             ],
             [
              0.2222222222222222,
              "#7201a8"
             ],
             [
              0.3333333333333333,
              "#9c179e"
             ],
             [
              0.4444444444444444,
              "#bd3786"
             ],
             [
              0.5555555555555556,
              "#d8576b"
             ],
             [
              0.6666666666666666,
              "#ed7953"
             ],
             [
              0.7777777777777778,
              "#fb9f3a"
             ],
             [
              0.8888888888888888,
              "#fdca26"
             ],
             [
              1,
              "#f0f921"
             ]
            ],
            "type": "histogram2d"
           }
          ],
          "histogram2dcontour": [
           {
            "colorbar": {
             "outlinewidth": 0,
             "ticks": ""
            },
            "colorscale": [
             [
              0,
              "#0d0887"
             ],
             [
              0.1111111111111111,
              "#46039f"
             ],
             [
              0.2222222222222222,
              "#7201a8"
             ],
             [
              0.3333333333333333,
              "#9c179e"
             ],
             [
              0.4444444444444444,
              "#bd3786"
             ],
             [
              0.5555555555555556,
              "#d8576b"
             ],
             [
              0.6666666666666666,
              "#ed7953"
             ],
             [
              0.7777777777777778,
              "#fb9f3a"
             ],
             [
              0.8888888888888888,
              "#fdca26"
             ],
             [
              1,
              "#f0f921"
             ]
            ],
            "type": "histogram2dcontour"
           }
          ],
          "mesh3d": [
           {
            "colorbar": {
             "outlinewidth": 0,
             "ticks": ""
            },
            "type": "mesh3d"
           }
          ],
          "parcoords": [
           {
            "line": {
             "colorbar": {
              "outlinewidth": 0,
              "ticks": ""
             }
            },
            "type": "parcoords"
           }
          ],
          "pie": [
           {
            "automargin": true,
            "type": "pie"
           }
          ],
          "scatter": [
           {
            "fillpattern": {
             "fillmode": "overlay",
             "size": 10,
             "solidity": 0.2
            },
            "type": "scatter"
           }
          ],
          "scatter3d": [
           {
            "line": {
             "colorbar": {
              "outlinewidth": 0,
              "ticks": ""
             }
            },
            "marker": {
             "colorbar": {
              "outlinewidth": 0,
              "ticks": ""
             }
            },
            "type": "scatter3d"
           }
          ],
          "scattercarpet": [
           {
            "marker": {
             "colorbar": {
              "outlinewidth": 0,
              "ticks": ""
             }
            },
            "type": "scattercarpet"
           }
          ],
          "scattergeo": [
           {
            "marker": {
             "colorbar": {
              "outlinewidth": 0,
              "ticks": ""
             }
            },
            "type": "scattergeo"
           }
          ],
          "scattergl": [
           {
            "marker": {
             "colorbar": {
              "outlinewidth": 0,
              "ticks": ""
             }
            },
            "type": "scattergl"
           }
          ],
          "scattermapbox": [
           {
            "marker": {
             "colorbar": {
              "outlinewidth": 0,
              "ticks": ""
             }
            },
            "type": "scattermapbox"
           }
          ],
          "scatterpolar": [
           {
            "marker": {
             "colorbar": {
              "outlinewidth": 0,
              "ticks": ""
             }
            },
            "type": "scatterpolar"
           }
          ],
          "scatterpolargl": [
           {
            "marker": {
             "colorbar": {
              "outlinewidth": 0,
              "ticks": ""
             }
            },
            "type": "scatterpolargl"
           }
          ],
          "scatterternary": [
           {
            "marker": {
             "colorbar": {
              "outlinewidth": 0,
              "ticks": ""
             }
            },
            "type": "scatterternary"
           }
          ],
          "surface": [
           {
            "colorbar": {
             "outlinewidth": 0,
             "ticks": ""
            },
            "colorscale": [
             [
              0,
              "#0d0887"
             ],
             [
              0.1111111111111111,
              "#46039f"
             ],
             [
              0.2222222222222222,
              "#7201a8"
             ],
             [
              0.3333333333333333,
              "#9c179e"
             ],
             [
              0.4444444444444444,
              "#bd3786"
             ],
             [
              0.5555555555555556,
              "#d8576b"
             ],
             [
              0.6666666666666666,
              "#ed7953"
             ],
             [
              0.7777777777777778,
              "#fb9f3a"
             ],
             [
              0.8888888888888888,
              "#fdca26"
             ],
             [
              1,
              "#f0f921"
             ]
            ],
            "type": "surface"
           }
          ],
          "table": [
           {
            "cells": {
             "fill": {
              "color": "#EBF0F8"
             },
             "line": {
              "color": "white"
             }
            },
            "header": {
             "fill": {
              "color": "#C8D4E3"
             },
             "line": {
              "color": "white"
             }
            },
            "type": "table"
           }
          ]
         },
         "layout": {
          "annotationdefaults": {
           "arrowcolor": "#2a3f5f",
           "arrowhead": 0,
           "arrowwidth": 1
          },
          "autotypenumbers": "strict",
          "coloraxis": {
           "colorbar": {
            "outlinewidth": 0,
            "ticks": ""
           }
          },
          "colorscale": {
           "diverging": [
            [
             0,
             "#8e0152"
            ],
            [
             0.1,
             "#c51b7d"
            ],
            [
             0.2,
             "#de77ae"
            ],
            [
             0.3,
             "#f1b6da"
            ],
            [
             0.4,
             "#fde0ef"
            ],
            [
             0.5,
             "#f7f7f7"
            ],
            [
             0.6,
             "#e6f5d0"
            ],
            [
             0.7,
             "#b8e186"
            ],
            [
             0.8,
             "#7fbc41"
            ],
            [
             0.9,
             "#4d9221"
            ],
            [
             1,
             "#276419"
            ]
           ],
           "sequential": [
            [
             0,
             "#0d0887"
            ],
            [
             0.1111111111111111,
             "#46039f"
            ],
            [
             0.2222222222222222,
             "#7201a8"
            ],
            [
             0.3333333333333333,
             "#9c179e"
            ],
            [
             0.4444444444444444,
             "#bd3786"
            ],
            [
             0.5555555555555556,
             "#d8576b"
            ],
            [
             0.6666666666666666,
             "#ed7953"
            ],
            [
             0.7777777777777778,
             "#fb9f3a"
            ],
            [
             0.8888888888888888,
             "#fdca26"
            ],
            [
             1,
             "#f0f921"
            ]
           ],
           "sequentialminus": [
            [
             0,
             "#0d0887"
            ],
            [
             0.1111111111111111,
             "#46039f"
            ],
            [
             0.2222222222222222,
             "#7201a8"
            ],
            [
             0.3333333333333333,
             "#9c179e"
            ],
            [
             0.4444444444444444,
             "#bd3786"
            ],
            [
             0.5555555555555556,
             "#d8576b"
            ],
            [
             0.6666666666666666,
             "#ed7953"
            ],
            [
             0.7777777777777778,
             "#fb9f3a"
            ],
            [
             0.8888888888888888,
             "#fdca26"
            ],
            [
             1,
             "#f0f921"
            ]
           ]
          },
          "colorway": [
           "#636efa",
           "#EF553B",
           "#00cc96",
           "#ab63fa",
           "#FFA15A",
           "#19d3f3",
           "#FF6692",
           "#B6E880",
           "#FF97FF",
           "#FECB52"
          ],
          "font": {
           "color": "#2a3f5f"
          },
          "geo": {
           "bgcolor": "white",
           "lakecolor": "white",
           "landcolor": "#E5ECF6",
           "showlakes": true,
           "showland": true,
           "subunitcolor": "white"
          },
          "hoverlabel": {
           "align": "left"
          },
          "hovermode": "closest",
          "mapbox": {
           "style": "light"
          },
          "paper_bgcolor": "white",
          "plot_bgcolor": "#E5ECF6",
          "polar": {
           "angularaxis": {
            "gridcolor": "white",
            "linecolor": "white",
            "ticks": ""
           },
           "bgcolor": "#E5ECF6",
           "radialaxis": {
            "gridcolor": "white",
            "linecolor": "white",
            "ticks": ""
           }
          },
          "scene": {
           "xaxis": {
            "backgroundcolor": "#E5ECF6",
            "gridcolor": "white",
            "gridwidth": 2,
            "linecolor": "white",
            "showbackground": true,
            "ticks": "",
            "zerolinecolor": "white"
           },
           "yaxis": {
            "backgroundcolor": "#E5ECF6",
            "gridcolor": "white",
            "gridwidth": 2,
            "linecolor": "white",
            "showbackground": true,
            "ticks": "",
            "zerolinecolor": "white"
           },
           "zaxis": {
            "backgroundcolor": "#E5ECF6",
            "gridcolor": "white",
            "gridwidth": 2,
            "linecolor": "white",
            "showbackground": true,
            "ticks": "",
            "zerolinecolor": "white"
           }
          },
          "shapedefaults": {
           "line": {
            "color": "#2a3f5f"
           }
          },
          "ternary": {
           "aaxis": {
            "gridcolor": "white",
            "linecolor": "white",
            "ticks": ""
           },
           "baxis": {
            "gridcolor": "white",
            "linecolor": "white",
            "ticks": ""
           },
           "bgcolor": "#E5ECF6",
           "caxis": {
            "gridcolor": "white",
            "linecolor": "white",
            "ticks": ""
           }
          },
          "title": {
           "x": 0.05
          },
          "xaxis": {
           "automargin": true,
           "gridcolor": "white",
           "linecolor": "white",
           "ticks": "",
           "title": {
            "standoff": 15
           },
           "zerolinecolor": "white",
           "zerolinewidth": 2
          },
          "yaxis": {
           "automargin": true,
           "gridcolor": "white",
           "linecolor": "white",
           "ticks": "",
           "title": {
            "standoff": 15
           },
           "zerolinecolor": "white",
           "zerolinewidth": 2
          }
         }
        },
        "xaxis": {
         "anchor": "y",
         "domain": [
          0,
          1
         ],
         "title": {
          "text": "x"
         }
        },
        "yaxis": {
         "anchor": "x",
         "domain": [
          0,
          1
         ],
         "title": {
          "text": "y"
         }
        }
       }
      }
     },
     "metadata": {},
     "output_type": "display_data"
    }
   ],
   "source": [
    "px.scatter(\n",
    "    x=mixed_years.filter(pl.col(\"model_year_is_next_calendar_year\") == 1).select(\"calendar_year\").collect().to_series(),\n",
    "    y=mixed_years.filter(pl.col(\"model_year_is_next_calendar_year\") == 1).select(\"advertised_inventory\").collect().to_series()\n",
    ")"
   ]
  },
  {
   "cell_type": "code",
   "execution_count": 176,
   "metadata": {},
   "outputs": [],
   "source": [
    "# https://www.cs.toronto.edu/~duvenaud/cookbook/\n",
    "# https://scikit-learn.org/stable/auto_examples/gaussian_process/plot_gpr_co2.html#sphx-glr-auto-examples-gaussian-process-plot-gpr-co2-py\n",
    "long_term_trend_kernel = 500.0**2 * RBF(length_scale=500.0, length_scale_bounds=(1e1,1e4))\n",
    "\n",
    "seasonal_kernel = (\n",
    "    2500.0**2\n",
    "    * RBF(length_scale=15.0, length_scale_bounds=(1e-1,1e3))\n",
    "    * ExpSineSquared(length_scale=1e2, periodicity=1.0, length_scale_bounds=(1e-1, 1e3), periodicity_bounds=(0.9,1.1))\n",
    ")\n",
    "\n",
    "noise_kernel = 1.0**2 * RBF(length_scale=1.0, length_scale_bounds=(1e-5,2.0)) + WhiteKernel(\n",
    "    noise_level=0.09**2, noise_level_bounds=(1e-7, 1e-1)\n",
    ")\n",
    "\n",
    "kernel = long_term_trend_kernel + seasonal_kernel + noise_kernel\n",
    "# kernel = ConstantKernel(constant_value_bounds=(1e-8,1e1)) \\\n",
    "#     * RBF(length_scale=0.25, length_scale_bounds=(1e-3,3.1)) \\\n",
    "#     * ExpSineSquared(\n",
    "#         length_scale=0.25, \n",
    "#         periodicity=1,\n",
    "#         length_scale_bounds=(1e-3,1e1),\n",
    "#         periodicity_bounds=(0.9, 3.1)\n",
    "#     )"
   ]
  },
  {
   "cell_type": "code",
   "execution_count": 185,
   "metadata": {},
   "outputs": [],
   "source": [
    "advertised_inventory_mean = (\n",
    "    mixed_years\n",
    "        .select(pl.col(\"advertised_inventory\").mean()).collect().item()\n",
    ")"
   ]
  },
  {
   "cell_type": "code",
   "execution_count": null,
   "metadata": {},
   "outputs": [
    {
     "name": "stderr",
     "output_type": "stream",
     "text": [
      "/home/justin/bin/mambaforge/envs/justins_room/lib/python3.11/site-packages/sklearn/gaussian_process/kernels.py:442: ConvergenceWarning:\n",
      "\n",
      "The optimal value found for dimension 0 of parameter k1__k2__k2__periodicity is close to the specified lower bound 0.9. Decreasing the bound and calling fit again may find a better value.\n",
      "\n",
      "/home/justin/bin/mambaforge/envs/justins_room/lib/python3.11/site-packages/sklearn/gaussian_process/kernels.py:452: ConvergenceWarning:\n",
      "\n",
      "The optimal value found for dimension 0 of parameter k2__k1__k1__constant_value is close to the specified upper bound 100000.0. Increasing the bound and calling fit again may find a better value.\n",
      "\n"
     ]
    },
    {
     "data": {
      "text/html": [
       "<style>#sk-container-id-18 {\n",
       "  /* Definition of color scheme common for light and dark mode */\n",
       "  --sklearn-color-text: #000;\n",
       "  --sklearn-color-text-muted: #666;\n",
       "  --sklearn-color-line: gray;\n",
       "  /* Definition of color scheme for unfitted estimators */\n",
       "  --sklearn-color-unfitted-level-0: #fff5e6;\n",
       "  --sklearn-color-unfitted-level-1: #f6e4d2;\n",
       "  --sklearn-color-unfitted-level-2: #ffe0b3;\n",
       "  --sklearn-color-unfitted-level-3: chocolate;\n",
       "  /* Definition of color scheme for fitted estimators */\n",
       "  --sklearn-color-fitted-level-0: #f0f8ff;\n",
       "  --sklearn-color-fitted-level-1: #d4ebff;\n",
       "  --sklearn-color-fitted-level-2: #b3dbfd;\n",
       "  --sklearn-color-fitted-level-3: cornflowerblue;\n",
       "\n",
       "  /* Specific color for light theme */\n",
       "  --sklearn-color-text-on-default-background: var(--sg-text-color, var(--theme-code-foreground, var(--jp-content-font-color1, black)));\n",
       "  --sklearn-color-background: var(--sg-background-color, var(--theme-background, var(--jp-layout-color0, white)));\n",
       "  --sklearn-color-border-box: var(--sg-text-color, var(--theme-code-foreground, var(--jp-content-font-color1, black)));\n",
       "  --sklearn-color-icon: #696969;\n",
       "\n",
       "  @media (prefers-color-scheme: dark) {\n",
       "    /* Redefinition of color scheme for dark theme */\n",
       "    --sklearn-color-text-on-default-background: var(--sg-text-color, var(--theme-code-foreground, var(--jp-content-font-color1, white)));\n",
       "    --sklearn-color-background: var(--sg-background-color, var(--theme-background, var(--jp-layout-color0, #111)));\n",
       "    --sklearn-color-border-box: var(--sg-text-color, var(--theme-code-foreground, var(--jp-content-font-color1, white)));\n",
       "    --sklearn-color-icon: #878787;\n",
       "  }\n",
       "}\n",
       "\n",
       "#sk-container-id-18 {\n",
       "  color: var(--sklearn-color-text);\n",
       "}\n",
       "\n",
       "#sk-container-id-18 pre {\n",
       "  padding: 0;\n",
       "}\n",
       "\n",
       "#sk-container-id-18 input.sk-hidden--visually {\n",
       "  border: 0;\n",
       "  clip: rect(1px 1px 1px 1px);\n",
       "  clip: rect(1px, 1px, 1px, 1px);\n",
       "  height: 1px;\n",
       "  margin: -1px;\n",
       "  overflow: hidden;\n",
       "  padding: 0;\n",
       "  position: absolute;\n",
       "  width: 1px;\n",
       "}\n",
       "\n",
       "#sk-container-id-18 div.sk-dashed-wrapped {\n",
       "  border: 1px dashed var(--sklearn-color-line);\n",
       "  margin: 0 0.4em 0.5em 0.4em;\n",
       "  box-sizing: border-box;\n",
       "  padding-bottom: 0.4em;\n",
       "  background-color: var(--sklearn-color-background);\n",
       "}\n",
       "\n",
       "#sk-container-id-18 div.sk-container {\n",
       "  /* jupyter's `normalize.less` sets `[hidden] { display: none; }`\n",
       "     but bootstrap.min.css set `[hidden] { display: none !important; }`\n",
       "     so we also need the `!important` here to be able to override the\n",
       "     default hidden behavior on the sphinx rendered scikit-learn.org.\n",
       "     See: https://github.com/scikit-learn/scikit-learn/issues/21755 */\n",
       "  display: inline-block !important;\n",
       "  position: relative;\n",
       "}\n",
       "\n",
       "#sk-container-id-18 div.sk-text-repr-fallback {\n",
       "  display: none;\n",
       "}\n",
       "\n",
       "div.sk-parallel-item,\n",
       "div.sk-serial,\n",
       "div.sk-item {\n",
       "  /* draw centered vertical line to link estimators */\n",
       "  background-image: linear-gradient(var(--sklearn-color-text-on-default-background), var(--sklearn-color-text-on-default-background));\n",
       "  background-size: 2px 100%;\n",
       "  background-repeat: no-repeat;\n",
       "  background-position: center center;\n",
       "}\n",
       "\n",
       "/* Parallel-specific style estimator block */\n",
       "\n",
       "#sk-container-id-18 div.sk-parallel-item::after {\n",
       "  content: \"\";\n",
       "  width: 100%;\n",
       "  border-bottom: 2px solid var(--sklearn-color-text-on-default-background);\n",
       "  flex-grow: 1;\n",
       "}\n",
       "\n",
       "#sk-container-id-18 div.sk-parallel {\n",
       "  display: flex;\n",
       "  align-items: stretch;\n",
       "  justify-content: center;\n",
       "  background-color: var(--sklearn-color-background);\n",
       "  position: relative;\n",
       "}\n",
       "\n",
       "#sk-container-id-18 div.sk-parallel-item {\n",
       "  display: flex;\n",
       "  flex-direction: column;\n",
       "}\n",
       "\n",
       "#sk-container-id-18 div.sk-parallel-item:first-child::after {\n",
       "  align-self: flex-end;\n",
       "  width: 50%;\n",
       "}\n",
       "\n",
       "#sk-container-id-18 div.sk-parallel-item:last-child::after {\n",
       "  align-self: flex-start;\n",
       "  width: 50%;\n",
       "}\n",
       "\n",
       "#sk-container-id-18 div.sk-parallel-item:only-child::after {\n",
       "  width: 0;\n",
       "}\n",
       "\n",
       "/* Serial-specific style estimator block */\n",
       "\n",
       "#sk-container-id-18 div.sk-serial {\n",
       "  display: flex;\n",
       "  flex-direction: column;\n",
       "  align-items: center;\n",
       "  background-color: var(--sklearn-color-background);\n",
       "  padding-right: 1em;\n",
       "  padding-left: 1em;\n",
       "}\n",
       "\n",
       "\n",
       "/* Toggleable style: style used for estimator/Pipeline/ColumnTransformer box that is\n",
       "clickable and can be expanded/collapsed.\n",
       "- Pipeline and ColumnTransformer use this feature and define the default style\n",
       "- Estimators will overwrite some part of the style using the `sk-estimator` class\n",
       "*/\n",
       "\n",
       "/* Pipeline and ColumnTransformer style (default) */\n",
       "\n",
       "#sk-container-id-18 div.sk-toggleable {\n",
       "  /* Default theme specific background. It is overwritten whether we have a\n",
       "  specific estimator or a Pipeline/ColumnTransformer */\n",
       "  background-color: var(--sklearn-color-background);\n",
       "}\n",
       "\n",
       "/* Toggleable label */\n",
       "#sk-container-id-18 label.sk-toggleable__label {\n",
       "  cursor: pointer;\n",
       "  display: flex;\n",
       "  width: 100%;\n",
       "  margin-bottom: 0;\n",
       "  padding: 0.5em;\n",
       "  box-sizing: border-box;\n",
       "  text-align: center;\n",
       "  align-items: start;\n",
       "  justify-content: space-between;\n",
       "  gap: 0.5em;\n",
       "}\n",
       "\n",
       "#sk-container-id-18 label.sk-toggleable__label .caption {\n",
       "  font-size: 0.6rem;\n",
       "  font-weight: lighter;\n",
       "  color: var(--sklearn-color-text-muted);\n",
       "}\n",
       "\n",
       "#sk-container-id-18 label.sk-toggleable__label-arrow:before {\n",
       "  /* Arrow on the left of the label */\n",
       "  content: \"▸\";\n",
       "  float: left;\n",
       "  margin-right: 0.25em;\n",
       "  color: var(--sklearn-color-icon);\n",
       "}\n",
       "\n",
       "#sk-container-id-18 label.sk-toggleable__label-arrow:hover:before {\n",
       "  color: var(--sklearn-color-text);\n",
       "}\n",
       "\n",
       "/* Toggleable content - dropdown */\n",
       "\n",
       "#sk-container-id-18 div.sk-toggleable__content {\n",
       "  max-height: 0;\n",
       "  max-width: 0;\n",
       "  overflow: hidden;\n",
       "  text-align: left;\n",
       "  /* unfitted */\n",
       "  background-color: var(--sklearn-color-unfitted-level-0);\n",
       "}\n",
       "\n",
       "#sk-container-id-18 div.sk-toggleable__content.fitted {\n",
       "  /* fitted */\n",
       "  background-color: var(--sklearn-color-fitted-level-0);\n",
       "}\n",
       "\n",
       "#sk-container-id-18 div.sk-toggleable__content pre {\n",
       "  margin: 0.2em;\n",
       "  border-radius: 0.25em;\n",
       "  color: var(--sklearn-color-text);\n",
       "  /* unfitted */\n",
       "  background-color: var(--sklearn-color-unfitted-level-0);\n",
       "}\n",
       "\n",
       "#sk-container-id-18 div.sk-toggleable__content.fitted pre {\n",
       "  /* unfitted */\n",
       "  background-color: var(--sklearn-color-fitted-level-0);\n",
       "}\n",
       "\n",
       "#sk-container-id-18 input.sk-toggleable__control:checked~div.sk-toggleable__content {\n",
       "  /* Expand drop-down */\n",
       "  max-height: 200px;\n",
       "  max-width: 100%;\n",
       "  overflow: auto;\n",
       "}\n",
       "\n",
       "#sk-container-id-18 input.sk-toggleable__control:checked~label.sk-toggleable__label-arrow:before {\n",
       "  content: \"▾\";\n",
       "}\n",
       "\n",
       "/* Pipeline/ColumnTransformer-specific style */\n",
       "\n",
       "#sk-container-id-18 div.sk-label input.sk-toggleable__control:checked~label.sk-toggleable__label {\n",
       "  color: var(--sklearn-color-text);\n",
       "  background-color: var(--sklearn-color-unfitted-level-2);\n",
       "}\n",
       "\n",
       "#sk-container-id-18 div.sk-label.fitted input.sk-toggleable__control:checked~label.sk-toggleable__label {\n",
       "  background-color: var(--sklearn-color-fitted-level-2);\n",
       "}\n",
       "\n",
       "/* Estimator-specific style */\n",
       "\n",
       "/* Colorize estimator box */\n",
       "#sk-container-id-18 div.sk-estimator input.sk-toggleable__control:checked~label.sk-toggleable__label {\n",
       "  /* unfitted */\n",
       "  background-color: var(--sklearn-color-unfitted-level-2);\n",
       "}\n",
       "\n",
       "#sk-container-id-18 div.sk-estimator.fitted input.sk-toggleable__control:checked~label.sk-toggleable__label {\n",
       "  /* fitted */\n",
       "  background-color: var(--sklearn-color-fitted-level-2);\n",
       "}\n",
       "\n",
       "#sk-container-id-18 div.sk-label label.sk-toggleable__label,\n",
       "#sk-container-id-18 div.sk-label label {\n",
       "  /* The background is the default theme color */\n",
       "  color: var(--sklearn-color-text-on-default-background);\n",
       "}\n",
       "\n",
       "/* On hover, darken the color of the background */\n",
       "#sk-container-id-18 div.sk-label:hover label.sk-toggleable__label {\n",
       "  color: var(--sklearn-color-text);\n",
       "  background-color: var(--sklearn-color-unfitted-level-2);\n",
       "}\n",
       "\n",
       "/* Label box, darken color on hover, fitted */\n",
       "#sk-container-id-18 div.sk-label.fitted:hover label.sk-toggleable__label.fitted {\n",
       "  color: var(--sklearn-color-text);\n",
       "  background-color: var(--sklearn-color-fitted-level-2);\n",
       "}\n",
       "\n",
       "/* Estimator label */\n",
       "\n",
       "#sk-container-id-18 div.sk-label label {\n",
       "  font-family: monospace;\n",
       "  font-weight: bold;\n",
       "  display: inline-block;\n",
       "  line-height: 1.2em;\n",
       "}\n",
       "\n",
       "#sk-container-id-18 div.sk-label-container {\n",
       "  text-align: center;\n",
       "}\n",
       "\n",
       "/* Estimator-specific */\n",
       "#sk-container-id-18 div.sk-estimator {\n",
       "  font-family: monospace;\n",
       "  border: 1px dotted var(--sklearn-color-border-box);\n",
       "  border-radius: 0.25em;\n",
       "  box-sizing: border-box;\n",
       "  margin-bottom: 0.5em;\n",
       "  /* unfitted */\n",
       "  background-color: var(--sklearn-color-unfitted-level-0);\n",
       "}\n",
       "\n",
       "#sk-container-id-18 div.sk-estimator.fitted {\n",
       "  /* fitted */\n",
       "  background-color: var(--sklearn-color-fitted-level-0);\n",
       "}\n",
       "\n",
       "/* on hover */\n",
       "#sk-container-id-18 div.sk-estimator:hover {\n",
       "  /* unfitted */\n",
       "  background-color: var(--sklearn-color-unfitted-level-2);\n",
       "}\n",
       "\n",
       "#sk-container-id-18 div.sk-estimator.fitted:hover {\n",
       "  /* fitted */\n",
       "  background-color: var(--sklearn-color-fitted-level-2);\n",
       "}\n",
       "\n",
       "/* Specification for estimator info (e.g. \"i\" and \"?\") */\n",
       "\n",
       "/* Common style for \"i\" and \"?\" */\n",
       "\n",
       ".sk-estimator-doc-link,\n",
       "a:link.sk-estimator-doc-link,\n",
       "a:visited.sk-estimator-doc-link {\n",
       "  float: right;\n",
       "  font-size: smaller;\n",
       "  line-height: 1em;\n",
       "  font-family: monospace;\n",
       "  background-color: var(--sklearn-color-background);\n",
       "  border-radius: 1em;\n",
       "  height: 1em;\n",
       "  width: 1em;\n",
       "  text-decoration: none !important;\n",
       "  margin-left: 0.5em;\n",
       "  text-align: center;\n",
       "  /* unfitted */\n",
       "  border: var(--sklearn-color-unfitted-level-1) 1pt solid;\n",
       "  color: var(--sklearn-color-unfitted-level-1);\n",
       "}\n",
       "\n",
       ".sk-estimator-doc-link.fitted,\n",
       "a:link.sk-estimator-doc-link.fitted,\n",
       "a:visited.sk-estimator-doc-link.fitted {\n",
       "  /* fitted */\n",
       "  border: var(--sklearn-color-fitted-level-1) 1pt solid;\n",
       "  color: var(--sklearn-color-fitted-level-1);\n",
       "}\n",
       "\n",
       "/* On hover */\n",
       "div.sk-estimator:hover .sk-estimator-doc-link:hover,\n",
       ".sk-estimator-doc-link:hover,\n",
       "div.sk-label-container:hover .sk-estimator-doc-link:hover,\n",
       ".sk-estimator-doc-link:hover {\n",
       "  /* unfitted */\n",
       "  background-color: var(--sklearn-color-unfitted-level-3);\n",
       "  color: var(--sklearn-color-background);\n",
       "  text-decoration: none;\n",
       "}\n",
       "\n",
       "div.sk-estimator.fitted:hover .sk-estimator-doc-link.fitted:hover,\n",
       ".sk-estimator-doc-link.fitted:hover,\n",
       "div.sk-label-container:hover .sk-estimator-doc-link.fitted:hover,\n",
       ".sk-estimator-doc-link.fitted:hover {\n",
       "  /* fitted */\n",
       "  background-color: var(--sklearn-color-fitted-level-3);\n",
       "  color: var(--sklearn-color-background);\n",
       "  text-decoration: none;\n",
       "}\n",
       "\n",
       "/* Span, style for the box shown on hovering the info icon */\n",
       ".sk-estimator-doc-link span {\n",
       "  display: none;\n",
       "  z-index: 9999;\n",
       "  position: relative;\n",
       "  font-weight: normal;\n",
       "  right: .2ex;\n",
       "  padding: .5ex;\n",
       "  margin: .5ex;\n",
       "  width: min-content;\n",
       "  min-width: 20ex;\n",
       "  max-width: 50ex;\n",
       "  color: var(--sklearn-color-text);\n",
       "  box-shadow: 2pt 2pt 4pt #999;\n",
       "  /* unfitted */\n",
       "  background: var(--sklearn-color-unfitted-level-0);\n",
       "  border: .5pt solid var(--sklearn-color-unfitted-level-3);\n",
       "}\n",
       "\n",
       ".sk-estimator-doc-link.fitted span {\n",
       "  /* fitted */\n",
       "  background: var(--sklearn-color-fitted-level-0);\n",
       "  border: var(--sklearn-color-fitted-level-3);\n",
       "}\n",
       "\n",
       ".sk-estimator-doc-link:hover span {\n",
       "  display: block;\n",
       "}\n",
       "\n",
       "/* \"?\"-specific style due to the `<a>` HTML tag */\n",
       "\n",
       "#sk-container-id-18 a.estimator_doc_link {\n",
       "  float: right;\n",
       "  font-size: 1rem;\n",
       "  line-height: 1em;\n",
       "  font-family: monospace;\n",
       "  background-color: var(--sklearn-color-background);\n",
       "  border-radius: 1rem;\n",
       "  height: 1rem;\n",
       "  width: 1rem;\n",
       "  text-decoration: none;\n",
       "  /* unfitted */\n",
       "  color: var(--sklearn-color-unfitted-level-1);\n",
       "  border: var(--sklearn-color-unfitted-level-1) 1pt solid;\n",
       "}\n",
       "\n",
       "#sk-container-id-18 a.estimator_doc_link.fitted {\n",
       "  /* fitted */\n",
       "  border: var(--sklearn-color-fitted-level-1) 1pt solid;\n",
       "  color: var(--sklearn-color-fitted-level-1);\n",
       "}\n",
       "\n",
       "/* On hover */\n",
       "#sk-container-id-18 a.estimator_doc_link:hover {\n",
       "  /* unfitted */\n",
       "  background-color: var(--sklearn-color-unfitted-level-3);\n",
       "  color: var(--sklearn-color-background);\n",
       "  text-decoration: none;\n",
       "}\n",
       "\n",
       "#sk-container-id-18 a.estimator_doc_link.fitted:hover {\n",
       "  /* fitted */\n",
       "  background-color: var(--sklearn-color-fitted-level-3);\n",
       "}\n",
       "</style><div id=\"sk-container-id-18\" class=\"sk-top-container\"><div class=\"sk-text-repr-fallback\"><pre>GaussianProcessRegressor(alpha=50,\n",
       "                         kernel=500**2 * RBF(length_scale=500) + 2.5e+03**2 * RBF(length_scale=15) * ExpSineSquared(length_scale=100, periodicity=1) + 1**2 * RBF(length_scale=1) + WhiteKernel(noise_level=0.0081),\n",
       "                         n_restarts_optimizer=50)</pre><b>In a Jupyter environment, please rerun this cell to show the HTML representation or trust the notebook. <br />On GitHub, the HTML representation is unable to render, please try loading this page with nbviewer.org.</b></div><div class=\"sk-container\" hidden><div class=\"sk-item\"><div class=\"sk-estimator fitted sk-toggleable\"><input class=\"sk-toggleable__control sk-hidden--visually\" id=\"sk-estimator-id-18\" type=\"checkbox\" checked><label for=\"sk-estimator-id-18\" class=\"sk-toggleable__label fitted sk-toggleable__label-arrow\"><div><div>GaussianProcessRegressor</div></div><div><a class=\"sk-estimator-doc-link fitted\" rel=\"noreferrer\" target=\"_blank\" href=\"https://scikit-learn.org/1.6/modules/generated/sklearn.gaussian_process.GaussianProcessRegressor.html\">?<span>Documentation for GaussianProcessRegressor</span></a><span class=\"sk-estimator-doc-link fitted\">i<span>Fitted</span></span></div></label><div class=\"sk-toggleable__content fitted\"><pre>GaussianProcessRegressor(alpha=50,\n",
       "                         kernel=500**2 * RBF(length_scale=500) + 2.5e+03**2 * RBF(length_scale=15) * ExpSineSquared(length_scale=100, periodicity=1) + 1**2 * RBF(length_scale=1) + WhiteKernel(noise_level=0.0081),\n",
       "                         n_restarts_optimizer=50)</pre></div> </div></div></div></div>"
      ],
      "text/plain": [
       "GaussianProcessRegressor(alpha=50,\n",
       "                         kernel=500**2 * RBF(length_scale=500) + 2.5e+03**2 * RBF(length_scale=15) * ExpSineSquared(length_scale=100, periodicity=1) + 1**2 * RBF(length_scale=1) + WhiteKernel(noise_level=0.0081),\n",
       "                         n_restarts_optimizer=50)"
      ]
     },
     "execution_count": 177,
     "metadata": {},
     "output_type": "execute_result"
    }
   ],
   "source": [
    "gaussian_process_obj = GaussianProcessRegressor(\n",
    "    kernel=kernel,\n",
    "    alpha=50,\n",
    "    n_restarts_optimizer=50,\n",
    "    normalize_y=False\n",
    ")\n",
    "gaussian_process_obj.fit(\n",
    "    X=mixed_years.select(\"model_year\", \"calendar_year\").collect(),\n",
    "    y=mixed_years.select(pl.col(\"advertised_inventory\") - advertised_inventory_mean).collect()\n",
    ")"
   ]
  },
  {
   "cell_type": "code",
   "execution_count": 222,
   "metadata": {},
   "outputs": [
    {
     "data": {
      "text/plain": [
       "93.8**2 * RBF(length_scale=21.9) + 42.8**2 * RBF(length_scale=0.271) * ExpSineSquared(length_scale=0.827, periodicity=0.9) + 316**2 * RBF(length_scale=0.389) + WhiteKernel(noise_level=1.82e-07)"
      ]
     },
     "execution_count": 222,
     "metadata": {},
     "output_type": "execute_result"
    }
   ],
   "source": [
    "gaussian_process_obj.kernel_"
   ]
  },
  {
   "cell_type": "code",
   "execution_count": 216,
   "metadata": {},
   "outputs": [
    {
     "data": {
      "text/plain": [
       "2031.0833333333335"
      ]
     },
     "execution_count": 216,
     "metadata": {},
     "output_type": "execute_result"
    }
   ],
   "source": [
    "# calendar_years = [2022 + 5/12 + x/12 for x in range(29)]\n",
    "calendar_years = [2019 + 5/12 + x/12 for x in range(29+112)]\n",
    "max(calendar_years)"
   ]
  },
  {
   "cell_type": "code",
   "execution_count": null,
   "metadata": {},
   "outputs": [],
   "source": [
    "X = pl.DataFrame(\n",
    "    data={\"model_year\": list(range(2022, 2026, 1))*len(calendar_years),\n",
    "          \"calendar_year\": calendar_years*4\n",
    "    }\n",
    ")\n",
    "gaussian_process_obj_preds = gaussian_process_obj.predict(\n",
    "    X=X\n",
    ") + advertised_inventory_mean"
   ]
  },
  {
   "cell_type": "code",
   "execution_count": 219,
   "metadata": {},
   "outputs": [],
   "source": [
    "X_with_preds = (\n",
    "    X.hstack([pl.Series(\"advertised_inventory_prediction\", gaussian_process_obj_preds)])\n",
    ")"
   ]
  },
  {
   "cell_type": "code",
   "execution_count": 220,
   "metadata": {},
   "outputs": [
    {
     "data": {
      "application/vnd.plotly.v1+json": {
       "config": {
        "plotlyServerURL": "https://plot.ly"
       },
       "data": [
        {
         "hovertemplate": "x=%{x}<br>y=%{y}<br>color=%{marker.color}<extra></extra>",
         "legendgroup": "",
         "marker": {
          "color": [
           2022,
           2023,
           2024,
           2025,
           2022,
           2023,
           2024,
           2025,
           2022,
           2023,
           2024,
           2025,
           2022,
           2023,
           2024,
           2025,
           2022,
           2023,
           2024,
           2025,
           2022,
           2023,
           2024,
           2025,
           2022,
           2023,
           2024,
           2025,
           2022,
           2023,
           2024,
           2025,
           2022,
           2023,
           2024,
           2025,
           2022,
           2023,
           2024,
           2025,
           2022,
           2023,
           2024,
           2025,
           2022,
           2023,
           2024,
           2025,
           2022,
           2023,
           2024,
           2025,
           2022,
           2023,
           2024,
           2025,
           2022,
           2023,
           2024,
           2025,
           2022,
           2023,
           2024,
           2025,
           2022,
           2023,
           2024,
           2025,
           2022,
           2023,
           2024,
           2025,
           2022,
           2023,
           2024,
           2025,
           2022,
           2023,
           2024,
           2025,
           2022,
           2023,
           2024,
           2025,
           2022,
           2023,
           2024,
           2025,
           2022,
           2023,
           2024,
           2025,
           2022,
           2023,
           2024,
           2025,
           2022,
           2023,
           2024,
           2025,
           2022,
           2023,
           2024,
           2025,
           2022,
           2023,
           2024,
           2025,
           2022,
           2023,
           2024,
           2025,
           2022,
           2023,
           2024,
           2025,
           2022,
           2023,
           2024,
           2025,
           2022,
           2023,
           2024,
           2025,
           2022,
           2023,
           2024,
           2025,
           2022,
           2023,
           2024,
           2025,
           2022,
           2023,
           2024,
           2025,
           2022,
           2023,
           2024,
           2025,
           2022,
           2023,
           2024,
           2025,
           2022,
           2023,
           2024,
           2025,
           2022,
           2023,
           2024,
           2025,
           2022,
           2023,
           2024,
           2025,
           2022,
           2023,
           2024,
           2025,
           2022,
           2023,
           2024,
           2025,
           2022,
           2023,
           2024,
           2025,
           2022,
           2023,
           2024,
           2025,
           2022,
           2023,
           2024,
           2025,
           2022,
           2023,
           2024,
           2025,
           2022,
           2023,
           2024,
           2025,
           2022,
           2023,
           2024,
           2025,
           2022,
           2023,
           2024,
           2025,
           2022,
           2023,
           2024,
           2025,
           2022,
           2023,
           2024,
           2025,
           2022,
           2023,
           2024,
           2025,
           2022,
           2023,
           2024,
           2025,
           2022,
           2023,
           2024,
           2025,
           2022,
           2023,
           2024,
           2025,
           2022,
           2023,
           2024,
           2025,
           2022,
           2023,
           2024,
           2025,
           2022,
           2023,
           2024,
           2025,
           2022,
           2023,
           2024,
           2025,
           2022,
           2023,
           2024,
           2025,
           2022,
           2023,
           2024,
           2025,
           2022,
           2023,
           2024,
           2025,
           2022,
           2023,
           2024,
           2025,
           2022,
           2023,
           2024,
           2025,
           2022,
           2023,
           2024,
           2025,
           2022,
           2023,
           2024,
           2025,
           2022,
           2023,
           2024,
           2025,
           2022,
           2023,
           2024,
           2025,
           2022,
           2023,
           2024,
           2025,
           2022,
           2023,
           2024,
           2025,
           2022,
           2023,
           2024,
           2025,
           2022,
           2023,
           2024,
           2025,
           2022,
           2023,
           2024,
           2025,
           2022,
           2023,
           2024,
           2025,
           2022,
           2023,
           2024,
           2025,
           2022,
           2023,
           2024,
           2025,
           2022,
           2023,
           2024,
           2025,
           2022,
           2023,
           2024,
           2025,
           2022,
           2023,
           2024,
           2025,
           2022,
           2023,
           2024,
           2025,
           2022,
           2023,
           2024,
           2025,
           2022,
           2023,
           2024,
           2025,
           2022,
           2023,
           2024,
           2025,
           2022,
           2023,
           2024,
           2025,
           2022,
           2023,
           2024,
           2025,
           2022,
           2023,
           2024,
           2025,
           2022,
           2023,
           2024,
           2025,
           2022,
           2023,
           2024,
           2025,
           2022,
           2023,
           2024,
           2025,
           2022,
           2023,
           2024,
           2025,
           2022,
           2023,
           2024,
           2025,
           2022,
           2023,
           2024,
           2025,
           2022,
           2023,
           2024,
           2025,
           2022,
           2023,
           2024,
           2025,
           2022,
           2023,
           2024,
           2025,
           2022,
           2023,
           2024,
           2025,
           2022,
           2023,
           2024,
           2025,
           2022,
           2023,
           2024,
           2025,
           2022,
           2023,
           2024,
           2025,
           2022,
           2023,
           2024,
           2025,
           2022,
           2023,
           2024,
           2025,
           2022,
           2023,
           2024,
           2025,
           2022,
           2023,
           2024,
           2025,
           2022,
           2023,
           2024,
           2025,
           2022,
           2023,
           2024,
           2025,
           2022,
           2023,
           2024,
           2025,
           2022,
           2023,
           2024,
           2025,
           2022,
           2023,
           2024,
           2025,
           2022,
           2023,
           2024,
           2025,
           2022,
           2023,
           2024,
           2025,
           2022,
           2023,
           2024,
           2025,
           2022,
           2023,
           2024,
           2025,
           2022,
           2023,
           2024,
           2025,
           2022,
           2023,
           2024,
           2025,
           2022,
           2023,
           2024,
           2025,
           2022,
           2023,
           2024,
           2025,
           2022,
           2023,
           2024,
           2025,
           2022,
           2023,
           2024,
           2025,
           2022,
           2023,
           2024,
           2025,
           2022,
           2023,
           2024,
           2025,
           2022,
           2023,
           2024,
           2025,
           2022,
           2023,
           2024,
           2025,
           2022,
           2023,
           2024,
           2025,
           2022,
           2023,
           2024,
           2025,
           2022,
           2023,
           2024,
           2025,
           2022,
           2023,
           2024,
           2025,
           2022,
           2023,
           2024,
           2025,
           2022,
           2023,
           2024,
           2025,
           2022,
           2023,
           2024,
           2025,
           2022,
           2023,
           2024,
           2025,
           2022,
           2023,
           2024,
           2025,
           2022,
           2023,
           2024,
           2025,
           2022,
           2023,
           2024,
           2025,
           2022,
           2023,
           2024,
           2025,
           2022,
           2023,
           2024,
           2025,
           2022,
           2023,
           2024,
           2025,
           2022,
           2023,
           2024,
           2025,
           2022,
           2023,
           2024,
           2025,
           2022,
           2023,
           2024,
           2025,
           2022,
           2023,
           2024,
           2025,
           2022,
           2023,
           2024,
           2025,
           2022,
           2023,
           2024,
           2025
          ],
          "coloraxis": "coloraxis",
          "symbol": "circle"
         },
         "mode": "markers",
         "name": "",
         "orientation": "v",
         "showlegend": false,
         "type": "scatter",
         "x": [
          2019.4166666666667,
          2019.5,
          2019.5833333333335,
          2019.6666666666667,
          2019.75,
          2019.8333333333335,
          2019.9166666666667,
          2020,
          2020.0833333333335,
          2020.1666666666667,
          2020.25,
          2020.3333333333335,
          2020.4166666666667,
          2020.5,
          2020.5833333333335,
          2020.6666666666667,
          2020.75,
          2020.8333333333335,
          2020.9166666666667,
          2021,
          2021.0833333333335,
          2021.1666666666667,
          2021.25,
          2021.3333333333335,
          2021.4166666666667,
          2021.5,
          2021.5833333333335,
          2021.6666666666667,
          2021.75,
          2021.8333333333335,
          2021.9166666666667,
          2022,
          2022.0833333333335,
          2022.1666666666667,
          2022.25,
          2022.3333333333335,
          2022.4166666666667,
          2022.5,
          2022.5833333333335,
          2022.6666666666667,
          2022.75,
          2022.8333333333335,
          2022.9166666666667,
          2023,
          2023.0833333333335,
          2023.1666666666667,
          2023.25,
          2023.3333333333335,
          2023.4166666666667,
          2023.5,
          2023.5833333333335,
          2023.6666666666667,
          2023.75,
          2023.8333333333335,
          2023.9166666666667,
          2024,
          2024.0833333333335,
          2024.1666666666667,
          2024.25,
          2024.3333333333335,
          2024.4166666666667,
          2024.5,
          2024.5833333333335,
          2024.6666666666667,
          2024.75,
          2024.8333333333335,
          2024.9166666666667,
          2025,
          2025.0833333333335,
          2025.1666666666667,
          2025.25,
          2025.3333333333335,
          2025.4166666666667,
          2025.5,
          2025.5833333333335,
          2025.6666666666667,
          2025.75,
          2025.8333333333335,
          2025.9166666666667,
          2026,
          2026.0833333333335,
          2026.1666666666667,
          2026.25,
          2026.3333333333335,
          2026.4166666666667,
          2026.5,
          2026.5833333333335,
          2026.6666666666667,
          2026.75,
          2026.8333333333335,
          2026.9166666666667,
          2027,
          2027.0833333333335,
          2027.1666666666667,
          2027.25,
          2027.3333333333335,
          2027.4166666666667,
          2027.5,
          2027.5833333333335,
          2027.6666666666667,
          2027.75,
          2027.8333333333335,
          2027.9166666666667,
          2028,
          2028.0833333333335,
          2028.1666666666667,
          2028.25,
          2028.3333333333335,
          2028.4166666666667,
          2028.5,
          2028.5833333333335,
          2028.6666666666667,
          2028.75,
          2028.8333333333335,
          2028.9166666666667,
          2029,
          2029.0833333333335,
          2029.1666666666667,
          2029.25,
          2029.3333333333335,
          2029.4166666666667,
          2029.5,
          2029.5833333333335,
          2029.6666666666667,
          2029.75,
          2029.8333333333335,
          2029.9166666666667,
          2030,
          2030.0833333333335,
          2030.1666666666667,
          2030.25,
          2030.3333333333335,
          2030.4166666666667,
          2030.5,
          2030.5833333333335,
          2030.6666666666667,
          2030.75,
          2030.8333333333335,
          2030.9166666666667,
          2031,
          2031.0833333333335,
          2019.4166666666667,
          2019.5,
          2019.5833333333335,
          2019.6666666666667,
          2019.75,
          2019.8333333333335,
          2019.9166666666667,
          2020,
          2020.0833333333335,
          2020.1666666666667,
          2020.25,
          2020.3333333333335,
          2020.4166666666667,
          2020.5,
          2020.5833333333335,
          2020.6666666666667,
          2020.75,
          2020.8333333333335,
          2020.9166666666667,
          2021,
          2021.0833333333335,
          2021.1666666666667,
          2021.25,
          2021.3333333333335,
          2021.4166666666667,
          2021.5,
          2021.5833333333335,
          2021.6666666666667,
          2021.75,
          2021.8333333333335,
          2021.9166666666667,
          2022,
          2022.0833333333335,
          2022.1666666666667,
          2022.25,
          2022.3333333333335,
          2022.4166666666667,
          2022.5,
          2022.5833333333335,
          2022.6666666666667,
          2022.75,
          2022.8333333333335,
          2022.9166666666667,
          2023,
          2023.0833333333335,
          2023.1666666666667,
          2023.25,
          2023.3333333333335,
          2023.4166666666667,
          2023.5,
          2023.5833333333335,
          2023.6666666666667,
          2023.75,
          2023.8333333333335,
          2023.9166666666667,
          2024,
          2024.0833333333335,
          2024.1666666666667,
          2024.25,
          2024.3333333333335,
          2024.4166666666667,
          2024.5,
          2024.5833333333335,
          2024.6666666666667,
          2024.75,
          2024.8333333333335,
          2024.9166666666667,
          2025,
          2025.0833333333335,
          2025.1666666666667,
          2025.25,
          2025.3333333333335,
          2025.4166666666667,
          2025.5,
          2025.5833333333335,
          2025.6666666666667,
          2025.75,
          2025.8333333333335,
          2025.9166666666667,
          2026,
          2026.0833333333335,
          2026.1666666666667,
          2026.25,
          2026.3333333333335,
          2026.4166666666667,
          2026.5,
          2026.5833333333335,
          2026.6666666666667,
          2026.75,
          2026.8333333333335,
          2026.9166666666667,
          2027,
          2027.0833333333335,
          2027.1666666666667,
          2027.25,
          2027.3333333333335,
          2027.4166666666667,
          2027.5,
          2027.5833333333335,
          2027.6666666666667,
          2027.75,
          2027.8333333333335,
          2027.9166666666667,
          2028,
          2028.0833333333335,
          2028.1666666666667,
          2028.25,
          2028.3333333333335,
          2028.4166666666667,
          2028.5,
          2028.5833333333335,
          2028.6666666666667,
          2028.75,
          2028.8333333333335,
          2028.9166666666667,
          2029,
          2029.0833333333335,
          2029.1666666666667,
          2029.25,
          2029.3333333333335,
          2029.4166666666667,
          2029.5,
          2029.5833333333335,
          2029.6666666666667,
          2029.75,
          2029.8333333333335,
          2029.9166666666667,
          2030,
          2030.0833333333335,
          2030.1666666666667,
          2030.25,
          2030.3333333333335,
          2030.4166666666667,
          2030.5,
          2030.5833333333335,
          2030.6666666666667,
          2030.75,
          2030.8333333333335,
          2030.9166666666667,
          2031,
          2031.0833333333335,
          2019.4166666666667,
          2019.5,
          2019.5833333333335,
          2019.6666666666667,
          2019.75,
          2019.8333333333335,
          2019.9166666666667,
          2020,
          2020.0833333333335,
          2020.1666666666667,
          2020.25,
          2020.3333333333335,
          2020.4166666666667,
          2020.5,
          2020.5833333333335,
          2020.6666666666667,
          2020.75,
          2020.8333333333335,
          2020.9166666666667,
          2021,
          2021.0833333333335,
          2021.1666666666667,
          2021.25,
          2021.3333333333335,
          2021.4166666666667,
          2021.5,
          2021.5833333333335,
          2021.6666666666667,
          2021.75,
          2021.8333333333335,
          2021.9166666666667,
          2022,
          2022.0833333333335,
          2022.1666666666667,
          2022.25,
          2022.3333333333335,
          2022.4166666666667,
          2022.5,
          2022.5833333333335,
          2022.6666666666667,
          2022.75,
          2022.8333333333335,
          2022.9166666666667,
          2023,
          2023.0833333333335,
          2023.1666666666667,
          2023.25,
          2023.3333333333335,
          2023.4166666666667,
          2023.5,
          2023.5833333333335,
          2023.6666666666667,
          2023.75,
          2023.8333333333335,
          2023.9166666666667,
          2024,
          2024.0833333333335,
          2024.1666666666667,
          2024.25,
          2024.3333333333335,
          2024.4166666666667,
          2024.5,
          2024.5833333333335,
          2024.6666666666667,
          2024.75,
          2024.8333333333335,
          2024.9166666666667,
          2025,
          2025.0833333333335,
          2025.1666666666667,
          2025.25,
          2025.3333333333335,
          2025.4166666666667,
          2025.5,
          2025.5833333333335,
          2025.6666666666667,
          2025.75,
          2025.8333333333335,
          2025.9166666666667,
          2026,
          2026.0833333333335,
          2026.1666666666667,
          2026.25,
          2026.3333333333335,
          2026.4166666666667,
          2026.5,
          2026.5833333333335,
          2026.6666666666667,
          2026.75,
          2026.8333333333335,
          2026.9166666666667,
          2027,
          2027.0833333333335,
          2027.1666666666667,
          2027.25,
          2027.3333333333335,
          2027.4166666666667,
          2027.5,
          2027.5833333333335,
          2027.6666666666667,
          2027.75,
          2027.8333333333335,
          2027.9166666666667,
          2028,
          2028.0833333333335,
          2028.1666666666667,
          2028.25,
          2028.3333333333335,
          2028.4166666666667,
          2028.5,
          2028.5833333333335,
          2028.6666666666667,
          2028.75,
          2028.8333333333335,
          2028.9166666666667,
          2029,
          2029.0833333333335,
          2029.1666666666667,
          2029.25,
          2029.3333333333335,
          2029.4166666666667,
          2029.5,
          2029.5833333333335,
          2029.6666666666667,
          2029.75,
          2029.8333333333335,
          2029.9166666666667,
          2030,
          2030.0833333333335,
          2030.1666666666667,
          2030.25,
          2030.3333333333335,
          2030.4166666666667,
          2030.5,
          2030.5833333333335,
          2030.6666666666667,
          2030.75,
          2030.8333333333335,
          2030.9166666666667,
          2031,
          2031.0833333333335,
          2019.4166666666667,
          2019.5,
          2019.5833333333335,
          2019.6666666666667,
          2019.75,
          2019.8333333333335,
          2019.9166666666667,
          2020,
          2020.0833333333335,
          2020.1666666666667,
          2020.25,
          2020.3333333333335,
          2020.4166666666667,
          2020.5,
          2020.5833333333335,
          2020.6666666666667,
          2020.75,
          2020.8333333333335,
          2020.9166666666667,
          2021,
          2021.0833333333335,
          2021.1666666666667,
          2021.25,
          2021.3333333333335,
          2021.4166666666667,
          2021.5,
          2021.5833333333335,
          2021.6666666666667,
          2021.75,
          2021.8333333333335,
          2021.9166666666667,
          2022,
          2022.0833333333335,
          2022.1666666666667,
          2022.25,
          2022.3333333333335,
          2022.4166666666667,
          2022.5,
          2022.5833333333335,
          2022.6666666666667,
          2022.75,
          2022.8333333333335,
          2022.9166666666667,
          2023,
          2023.0833333333335,
          2023.1666666666667,
          2023.25,
          2023.3333333333335,
          2023.4166666666667,
          2023.5,
          2023.5833333333335,
          2023.6666666666667,
          2023.75,
          2023.8333333333335,
          2023.9166666666667,
          2024,
          2024.0833333333335,
          2024.1666666666667,
          2024.25,
          2024.3333333333335,
          2024.4166666666667,
          2024.5,
          2024.5833333333335,
          2024.6666666666667,
          2024.75,
          2024.8333333333335,
          2024.9166666666667,
          2025,
          2025.0833333333335,
          2025.1666666666667,
          2025.25,
          2025.3333333333335,
          2025.4166666666667,
          2025.5,
          2025.5833333333335,
          2025.6666666666667,
          2025.75,
          2025.8333333333335,
          2025.9166666666667,
          2026,
          2026.0833333333335,
          2026.1666666666667,
          2026.25,
          2026.3333333333335,
          2026.4166666666667,
          2026.5,
          2026.5833333333335,
          2026.6666666666667,
          2026.75,
          2026.8333333333335,
          2026.9166666666667,
          2027,
          2027.0833333333335,
          2027.1666666666667,
          2027.25,
          2027.3333333333335,
          2027.4166666666667,
          2027.5,
          2027.5833333333335,
          2027.6666666666667,
          2027.75,
          2027.8333333333335,
          2027.9166666666667,
          2028,
          2028.0833333333335,
          2028.1666666666667,
          2028.25,
          2028.3333333333335,
          2028.4166666666667,
          2028.5,
          2028.5833333333335,
          2028.6666666666667,
          2028.75,
          2028.8333333333335,
          2028.9166666666667,
          2029,
          2029.0833333333335,
          2029.1666666666667,
          2029.25,
          2029.3333333333335,
          2029.4166666666667,
          2029.5,
          2029.5833333333335,
          2029.6666666666667,
          2029.75,
          2029.8333333333335,
          2029.9166666666667,
          2030,
          2030.0833333333335,
          2030.1666666666667,
          2030.25,
          2030.3333333333335,
          2030.4166666666667,
          2030.5,
          2030.5833333333335,
          2030.6666666666667,
          2030.75,
          2030.8333333333335,
          2030.9166666666667,
          2031,
          2031.0833333333335
         ],
         "xaxis": "x",
         "y": [
          676.7408661742014,
          676.7323821889275,
          676.8625054514529,
          677.1304152819015,
          676.7104700046101,
          676.7067869739684,
          676.8417598026396,
          677.1145368898577,
          676.695831709564,
          676.6969179187371,
          676.8367296961586,
          677.1142833912612,
          676.6993198199749,
          676.7011090250381,
          676.8471769182196,
          677.1262800850346,
          676.8306735262264,
          676.6391211136723,
          676.8624731391611,
          676.9963583539164,
          679.3331950458215,
          674.6417161433052,
          676.6394699392853,
          673.4780085854883,
          702.7285790712498,
          650.2538617245594,
          673.0959886168326,
          636.6278531887211,
          792.97516746177,
          510.67861306124894,
          644.1629234028491,
          464.7671643311654,
          917.1182584944657,
          175.0948400092442,
          514.0553855337397,
          140.58476271658435,
          936.3565403438337,
          30.7360488653361,
          243.160035059312,
          13.982569017127275,
          795.1598644164009,
          663.4632471018416,
          24.885192745793006,
          255.14378867885432,
          369.61212785053465,
          1426.869840638908,
          9.994716980982389,
          369.9696252185764,
          65.07497073438105,
          1570.712079700012,
          317.78840710051406,
          179.0648603804567,
          10.389308439715137,
          1072.8267528174315,
          1491.5621661379232,
          4.21287902198344,
          19.364757674967336,
          461.4720098245451,
          2424.1270800962197,
          67.79125661259275,
          258.987565102629,
          113.85547130723842,
          2416.7422747830246,
          668.5211129130424,
          526.3075269788557,
          45.87682180483523,
          1578.9803328826897,
          1661.8500185326275,
          640.0306679139829,
          252.66027423064122,
          949.5819473235732,
          1457.7911736508427,
          669.252041172039,
          526.1478326293781,
          733.3302926362743,
          903.82690410577,
          677.1659180252599,
          653.1409829047728,
          686.0637712134111,
          706.6674673236545,
          678.9293960382646,
          677.1495197158689,
          679.8607779416201,
          681.2122384542025,
          679.350135061373,
          679.3728449141539,
          679.6846106537226,
          680.0593225463218,
          679.6447249441316,
          679.7375607047555,
          679.9650789406222,
          680.321904128297,
          679.9465488287823,
          680.0447230807907,
          680.274311766577,
          680.6338389013125,
          680.2617422277248,
          680.36408779635,
          680.5971398729367,
          680.9594328939198,
          680.5902256567259,
          680.6966693142725,
          680.9331041281711,
          681.2980435397116,
          680.9317766845721,
          681.0422513376913,
          681.2819742733149,
          681.6494384142392,
          681.2861633923302,
          681.400599449653,
          681.643513827856,
          682.0133795429077,
          681.6531459709541,
          681.7714713880622,
          682.0174786052663,
          682.3896213555753,
          682.032476997885,
          682.15461735721,
          682.4036169816064,
          682.777910956508,
          682.423901714891,
          682.5497803080399,
          682.8016701775667,
          683.1779884074748,
          682.8271583130335,
          682.9566962253913,
          683.2113725472585,
          683.5895870175242,
          683.2419782242724,
          683.375094421683,
          683.6324518733867,
          684.0124336389994,
          683.6680864192605,
          683.8046978367078,
          684.0646296683382,
          684.4462489692434,
          684.1052017108422,
          684.2452233429848,
          684.5076214807435,
          684.8907478576338,
          684.5530370628616,
          676.7412387485114,
          676.870146131679,
          677.1368303755918,
          676.7165945910002,
          676.7117104786429,
          676.8454730897844,
          677.1170387911887,
          676.6980042416404,
          676.6979166899465,
          676.8365144454143,
          677.1128948975719,
          676.6959621914142,
          676.6992996125733,
          676.8431931831248,
          677.1232492164137,
          676.7557658245463,
          676.6832482466338,
          676.8611070261858,
          677.0843998328518,
          678.0207790669864,
          675.7383426966377,
          676.772491494189,
          675.3635455166522,
          692.4837512471062,
          661.7452949227521,
          674.8555584792579,
          653.3001243625912,
          762.8631798838568,
          564.5354215381575,
          656.8217985777877,
          526.7506795090311,
          890.8248759545635,
          267.88827901333696,
          561.5645558633058,
          221.92284183960544,
          957.7552038727057,
          8.539489965646112,
          316.1456324865675,
          0.21041111694955816,
          842.3262723879819,
          414.53323211875284,
          65.09509431536151,
          185.73951846498483,
          487.42605235356893,
          1270.7628301750178,
          -0.9287505269072653,
          375.67078095105524,
          101.56929209463704,
          1583.085708623576,
          196.31763357013585,
          238.5594372274668,
          16.44338173117228,
          1253.0205171919702,
          1215.2184473141065,
          30.027478066970957,
          4.820775863473841,
          609.4388882853294,
          2180.4219905855393,
          17.717968764649754,
          184.4239607193707,
          157.4479131355596,
          2524.3264179262665,
          405.1669668575454,
          472.5362578560811,
          46.471685839823635,
          1796.3091430597146,
          1536.4737039609613,
          623.7367341452933,
          184.00531145148477,
          1059.9778481288445,
          1595.8362529070764,
          665.1081913633187,
          467.5538114727443,
          763.0519218586791,
          1012.856895256324,
          676.0677055999755,
          635.6272853814254,
          691.3067792492697,
          729.1829484440331,
          678.7186690621203,
          675.001350550773,
          680.3086428104801,
          682.958407020259,
          679.2712333288752,
          679.1945709439016,
          679.6365415594759,
          680.0493705564087,
          679.5711824677563,
          679.6607252366301,
          679.8903198555578,
          680.2468774890345,
          679.8698497280135,
          679.9669505825892,
          680.1956873018661,
          680.554506397698,
          680.1816895724518,
          680.2830003428525,
          680.5151923287875,
          680.876804929918,
          680.5068708304456,
          680.612296160119,
          680.8478940722936,
          681.212183231154,
          680.8451763862626,
          680.9546497171433,
          681.1935596087327,
          681.5604040566308,
          681.1963763527318,
          681.3098287186943,
          681.5519544068035,
          681.9212313516908,
          681.5602328668016,
          681.6775928292953,
          681.9228361824775,
          682.2944214209641,
          681.9365003835072,
          682.0576941106298,
          682.3059551450214,
          682.6797231738407,
          682.3249259520938,
          682.4498773003182,
          682.7010542771517,
          683.0768784058104,
          682.7252494992239,
          682.853880097434,
          683.1078696221892,
          683.4856220865817,
          683.1372041189405,
          683.2694334546355,
          683.5261305776825,
          683.9056826546035,
          683.5605163689814,
          683.696261876439,
          683.9555601950702,
          684.3367823173811,
          683.9949065729028,
          684.1340837232809,
          684.3958754849076,
          684.7786373572366,
          684.4400891275747,
          684.582611520722,
          676.8787678413333,
          677.1442231129937,
          676.7237024126222,
          676.7176176993502,
          676.8501686246958,
          677.120519248207,
          676.7011729760314,
          676.6998910997532,
          676.8372805488356,
          677.1124673163287,
          676.6946442068119,
          676.6977272100672,
          676.8400861637803,
          677.1196984743611,
          676.7218952151046,
          676.6984545658914,
          676.8568366063824,
          677.1171200542061,
          677.3347959456631,
          676.2777396116875,
          676.8326088011098,
          676.3237475026211,
          685.8160228366404,
          668.6120984501493,
          675.8384369667741,
          663.7484439650324,
          737.5734875288248,
          604.260390442012,
          664.9848003694113,
          575.4032761134887,
          859.5599530433218,
          359.2776821469164,
          598.3199953645529,
          307.71630517801043,
          952.9889601015597,
          32.093901848849214,
          388.6895983028347,
          21.245081226051184,
          895.4976761530219,
          243.43376136264885,
          115.30914707799855,
          116.27102909817415,
          605.0055252781934,
          1079.8567886520218,
          0.06330780369205513,
          356.71341016663735,
          158.03333751147818,
          1606.2993926635531,
          110.20449512913945,
          295.2809169855044,
          28.0747944890785,
          1382.5915776211637,
          867.6399991495822,
          72.46742510420643,
          5.1902355490618675,
          761.8688022790956,
          1917.7435366552204,
          -0.9555149352796661,
          116.82706637534227,
          221.3098183406304,
          2541.554255260479,
          271.84912586562893,
          408.0365953622671,
          63.16941237638309,
          2010.300249141554,
          1335.3217175222148,
          600.6153689728413,
          124.31639760296423,
          1201.9073817139338,
          1688.8658714350177,
          659.4000717301836,
          399.6901865311537,
          806.106014751433,
          1147.7107597111367,
          674.4904761859992,
          609.6938705322572,
          699.8283616705434,
          765.944714507801,
          678.3990427918926,
          671.0981445821798,
          681.2292782587689,
          686.5897074064145,
          679.1827281207151,
          678.8813953884418,
          679.6207836898355,
          680.1345176575186,
          679.4980835451287,
          679.5803733687234,
          679.8173232790895,
          680.1746847637431,
          679.7939908950478,
          679.8899599070045,
          680.117912524984,
          680.4760232202653,
          680.1024710287869,
          680.2027426747285,
          680.434069280849,
          680.7949939969047,
          680.424336314291,
          680.5287391637447,
          680.7634942912458,
          681.1271256174651,
          680.7593820274475,
          680.8678497253462,
          681.1059405609925,
          681.4721576408245,
          681.1073803848734,
          681.2198445941777,
          681.4611754585052,
          681.8298558699759,
          681.4680954864722,
          681.584485379466,
          681.828958619158,
          682.1999785013162,
          681.8412836821523,
          681.9615260176919,
          682.209042102921,
          682.5822762669551,
          682.2266938463239,
          682.3507130510069,
          682.6011706724927,
          682.9764927140958,
          682.6240676593658,
          682.7517859109754,
          683.0050820787629,
          683.3823644915209,
          683.0331398959441,
          683.1644772091257,
          683.4205073528464,
          683.7996216425662,
          683.4536387197662,
          683.5885130337341,
          683.8471711043197,
          684.2279879040076,
          683.8852859843015,
          684.0236132524532,
          684.2847918250449,
          684.6671810105203,
          684.3277975389905,
          684.4694918202973,
          684.733082198282,
          677.1525931324212,
          676.7317930745909,
          676.7245083791746,
          676.8558461730105,
          677.1249781492912,
          676.7053291444939,
          676.7028472904602,
          676.8390289349176,
          677.1130133936855,
          676.6946832819934,
          676.696874923755,
          676.8379232663827,
          677.1165921878022,
          676.706498393863,
          676.7018861117502,
          676.851865082699,
          677.1262895900005,
          676.9933612431381,
          676.5291374784391,
          676.8562112444469,
          676.7865547187715,
          681.7165738133402,
          672.5207590407066,
          676.3670829921815,
          669.9648374456339,
          717.5535879866214,
          631.9614080513278,
          670.0560338041274,
          611.4244149095699,
          826.0281898804604,
          441.6183594631551,
          625.2905160309618,
          390.59705634547174,
          937.5857677751741,
          92.01164071558503,
          455.87496658406997,
          71.21258402742149,
          912.3711807345757,
          115.85032101984723,
          174.947522245919,
          56.10929740152221,
          720.5591079156533,
          871.8595465155871,
          2.4117005931260564,
          314.83056107590653,
          252.55598717235932,
          1547.0739015103823,
          49.42852445592905,
          341.4705865392972,
          41.9152872545377,
          1500.9098100130527,
          528.2973671526346,
          122.69442331395396,
          5.504513373863915,
          910.3933093286049,
          1702.302374781983,
          -0.03385912687701875,
          59.82461550804044,
          319.05225202641975,
          2545.838688828521,
          157.66903278105417,
          335.3758998956854,
          84.64126883978895,
          2215.684468047188,
          1031.4471015197491,
          568.6950961555993,
          75.6132032429972,
          1376.245087951364,
          1714.381427705605,
          651.4063944887922,
          326.3337347145206,
          866.8151008834728,
          1300.8867933016863,
          672.2840048915435,
          573.5605903385671,
          713.1615264318287,
          822.4398453364819,
          677.9088049915277,
          664.3236349843345,
          682.9690650073015,
          693.6682090866401,
          679.0745979325128,
          678.2887585829361,
          679.672797379677,
          680.4371802258069,
          679.4248378652131,
          679.4897142783933,
          679.7475684855725,
          680.1089809662195,
          679.7189613162876,
          679.8136228013169,
          680.0410164478845,
          680.3984386233857,
          680.0240898312787,
          680.1233171068499,
          680.3537743814294,
          680.7140038344772,
          680.3426256207212,
          680.4460018746692,
          680.6799083722052,
          681.0428743106621,
          680.6743972480641,
          680.7818550416329,
          681.0191208407904,
          681.3847029006469,
          681.0191792513789,
          681.1306508769006,
          681.3711808136451,
          681.7392569498501,
          681.3767377110347,
          681.4921529565562,
          681.7358498616699,
          682.1062965626501,
          681.7468308889544,
          681.8661171091741,
          682.1128819129261,
          682.4855743113498,
          682.1292095023308,
          682.252291699161,
          682.5020235279502,
          682.876835512776,
          682.5236170032662,
          682.6504179087545,
          682.9030141834336,
          683.2798185131063,
          682.9297898654701,
          683.0602300268996,
          683.3155865627242,
          683.6942549792396,
          683.3474578774136,
          683.481455744533,
          683.73946685251,
          684.119870196247,
          683.7763444416386,
          683.9138164557872,
          684.1743750452939,
          684.5563833705177,
          684.2161668795865,
          684.3570275646974,
          684.6200252472521,
          685.0035079379849
         ],
         "yaxis": "y"
        }
       ],
       "layout": {
        "coloraxis": {
         "colorbar": {
          "title": {
           "text": "color"
          }
         },
         "colorscale": [
          [
           0,
           "#0d0887"
          ],
          [
           0.1111111111111111,
           "#46039f"
          ],
          [
           0.2222222222222222,
           "#7201a8"
          ],
          [
           0.3333333333333333,
           "#9c179e"
          ],
          [
           0.4444444444444444,
           "#bd3786"
          ],
          [
           0.5555555555555556,
           "#d8576b"
          ],
          [
           0.6666666666666666,
           "#ed7953"
          ],
          [
           0.7777777777777778,
           "#fb9f3a"
          ],
          [
           0.8888888888888888,
           "#fdca26"
          ],
          [
           1,
           "#f0f921"
          ]
         ]
        },
        "legend": {
         "tracegroupgap": 0
        },
        "margin": {
         "t": 60
        },
        "template": {
         "data": {
          "bar": [
           {
            "error_x": {
             "color": "#2a3f5f"
            },
            "error_y": {
             "color": "#2a3f5f"
            },
            "marker": {
             "line": {
              "color": "#E5ECF6",
              "width": 0.5
             },
             "pattern": {
              "fillmode": "overlay",
              "size": 10,
              "solidity": 0.2
             }
            },
            "type": "bar"
           }
          ],
          "barpolar": [
           {
            "marker": {
             "line": {
              "color": "#E5ECF6",
              "width": 0.5
             },
             "pattern": {
              "fillmode": "overlay",
              "size": 10,
              "solidity": 0.2
             }
            },
            "type": "barpolar"
           }
          ],
          "carpet": [
           {
            "aaxis": {
             "endlinecolor": "#2a3f5f",
             "gridcolor": "white",
             "linecolor": "white",
             "minorgridcolor": "white",
             "startlinecolor": "#2a3f5f"
            },
            "baxis": {
             "endlinecolor": "#2a3f5f",
             "gridcolor": "white",
             "linecolor": "white",
             "minorgridcolor": "white",
             "startlinecolor": "#2a3f5f"
            },
            "type": "carpet"
           }
          ],
          "choropleth": [
           {
            "colorbar": {
             "outlinewidth": 0,
             "ticks": ""
            },
            "type": "choropleth"
           }
          ],
          "contour": [
           {
            "colorbar": {
             "outlinewidth": 0,
             "ticks": ""
            },
            "colorscale": [
             [
              0,
              "#0d0887"
             ],
             [
              0.1111111111111111,
              "#46039f"
             ],
             [
              0.2222222222222222,
              "#7201a8"
             ],
             [
              0.3333333333333333,
              "#9c179e"
             ],
             [
              0.4444444444444444,
              "#bd3786"
             ],
             [
              0.5555555555555556,
              "#d8576b"
             ],
             [
              0.6666666666666666,
              "#ed7953"
             ],
             [
              0.7777777777777778,
              "#fb9f3a"
             ],
             [
              0.8888888888888888,
              "#fdca26"
             ],
             [
              1,
              "#f0f921"
             ]
            ],
            "type": "contour"
           }
          ],
          "contourcarpet": [
           {
            "colorbar": {
             "outlinewidth": 0,
             "ticks": ""
            },
            "type": "contourcarpet"
           }
          ],
          "heatmap": [
           {
            "colorbar": {
             "outlinewidth": 0,
             "ticks": ""
            },
            "colorscale": [
             [
              0,
              "#0d0887"
             ],
             [
              0.1111111111111111,
              "#46039f"
             ],
             [
              0.2222222222222222,
              "#7201a8"
             ],
             [
              0.3333333333333333,
              "#9c179e"
             ],
             [
              0.4444444444444444,
              "#bd3786"
             ],
             [
              0.5555555555555556,
              "#d8576b"
             ],
             [
              0.6666666666666666,
              "#ed7953"
             ],
             [
              0.7777777777777778,
              "#fb9f3a"
             ],
             [
              0.8888888888888888,
              "#fdca26"
             ],
             [
              1,
              "#f0f921"
             ]
            ],
            "type": "heatmap"
           }
          ],
          "heatmapgl": [
           {
            "colorbar": {
             "outlinewidth": 0,
             "ticks": ""
            },
            "colorscale": [
             [
              0,
              "#0d0887"
             ],
             [
              0.1111111111111111,
              "#46039f"
             ],
             [
              0.2222222222222222,
              "#7201a8"
             ],
             [
              0.3333333333333333,
              "#9c179e"
             ],
             [
              0.4444444444444444,
              "#bd3786"
             ],
             [
              0.5555555555555556,
              "#d8576b"
             ],
             [
              0.6666666666666666,
              "#ed7953"
             ],
             [
              0.7777777777777778,
              "#fb9f3a"
             ],
             [
              0.8888888888888888,
              "#fdca26"
             ],
             [
              1,
              "#f0f921"
             ]
            ],
            "type": "heatmapgl"
           }
          ],
          "histogram": [
           {
            "marker": {
             "pattern": {
              "fillmode": "overlay",
              "size": 10,
              "solidity": 0.2
             }
            },
            "type": "histogram"
           }
          ],
          "histogram2d": [
           {
            "colorbar": {
             "outlinewidth": 0,
             "ticks": ""
            },
            "colorscale": [
             [
              0,
              "#0d0887"
             ],
             [
              0.1111111111111111,
              "#46039f"
             ],
             [
              0.2222222222222222,
              "#7201a8"
             ],
             [
              0.3333333333333333,
              "#9c179e"
             ],
             [
              0.4444444444444444,
              "#bd3786"
             ],
             [
              0.5555555555555556,
              "#d8576b"
             ],
             [
              0.6666666666666666,
              "#ed7953"
             ],
             [
              0.7777777777777778,
              "#fb9f3a"
             ],
             [
              0.8888888888888888,
              "#fdca26"
             ],
             [
              1,
              "#f0f921"
             ]
            ],
            "type": "histogram2d"
           }
          ],
          "histogram2dcontour": [
           {
            "colorbar": {
             "outlinewidth": 0,
             "ticks": ""
            },
            "colorscale": [
             [
              0,
              "#0d0887"
             ],
             [
              0.1111111111111111,
              "#46039f"
             ],
             [
              0.2222222222222222,
              "#7201a8"
             ],
             [
              0.3333333333333333,
              "#9c179e"
             ],
             [
              0.4444444444444444,
              "#bd3786"
             ],
             [
              0.5555555555555556,
              "#d8576b"
             ],
             [
              0.6666666666666666,
              "#ed7953"
             ],
             [
              0.7777777777777778,
              "#fb9f3a"
             ],
             [
              0.8888888888888888,
              "#fdca26"
             ],
             [
              1,
              "#f0f921"
             ]
            ],
            "type": "histogram2dcontour"
           }
          ],
          "mesh3d": [
           {
            "colorbar": {
             "outlinewidth": 0,
             "ticks": ""
            },
            "type": "mesh3d"
           }
          ],
          "parcoords": [
           {
            "line": {
             "colorbar": {
              "outlinewidth": 0,
              "ticks": ""
             }
            },
            "type": "parcoords"
           }
          ],
          "pie": [
           {
            "automargin": true,
            "type": "pie"
           }
          ],
          "scatter": [
           {
            "fillpattern": {
             "fillmode": "overlay",
             "size": 10,
             "solidity": 0.2
            },
            "type": "scatter"
           }
          ],
          "scatter3d": [
           {
            "line": {
             "colorbar": {
              "outlinewidth": 0,
              "ticks": ""
             }
            },
            "marker": {
             "colorbar": {
              "outlinewidth": 0,
              "ticks": ""
             }
            },
            "type": "scatter3d"
           }
          ],
          "scattercarpet": [
           {
            "marker": {
             "colorbar": {
              "outlinewidth": 0,
              "ticks": ""
             }
            },
            "type": "scattercarpet"
           }
          ],
          "scattergeo": [
           {
            "marker": {
             "colorbar": {
              "outlinewidth": 0,
              "ticks": ""
             }
            },
            "type": "scattergeo"
           }
          ],
          "scattergl": [
           {
            "marker": {
             "colorbar": {
              "outlinewidth": 0,
              "ticks": ""
             }
            },
            "type": "scattergl"
           }
          ],
          "scattermapbox": [
           {
            "marker": {
             "colorbar": {
              "outlinewidth": 0,
              "ticks": ""
             }
            },
            "type": "scattermapbox"
           }
          ],
          "scatterpolar": [
           {
            "marker": {
             "colorbar": {
              "outlinewidth": 0,
              "ticks": ""
             }
            },
            "type": "scatterpolar"
           }
          ],
          "scatterpolargl": [
           {
            "marker": {
             "colorbar": {
              "outlinewidth": 0,
              "ticks": ""
             }
            },
            "type": "scatterpolargl"
           }
          ],
          "scatterternary": [
           {
            "marker": {
             "colorbar": {
              "outlinewidth": 0,
              "ticks": ""
             }
            },
            "type": "scatterternary"
           }
          ],
          "surface": [
           {
            "colorbar": {
             "outlinewidth": 0,
             "ticks": ""
            },
            "colorscale": [
             [
              0,
              "#0d0887"
             ],
             [
              0.1111111111111111,
              "#46039f"
             ],
             [
              0.2222222222222222,
              "#7201a8"
             ],
             [
              0.3333333333333333,
              "#9c179e"
             ],
             [
              0.4444444444444444,
              "#bd3786"
             ],
             [
              0.5555555555555556,
              "#d8576b"
             ],
             [
              0.6666666666666666,
              "#ed7953"
             ],
             [
              0.7777777777777778,
              "#fb9f3a"
             ],
             [
              0.8888888888888888,
              "#fdca26"
             ],
             [
              1,
              "#f0f921"
             ]
            ],
            "type": "surface"
           }
          ],
          "table": [
           {
            "cells": {
             "fill": {
              "color": "#EBF0F8"
             },
             "line": {
              "color": "white"
             }
            },
            "header": {
             "fill": {
              "color": "#C8D4E3"
             },
             "line": {
              "color": "white"
             }
            },
            "type": "table"
           }
          ]
         },
         "layout": {
          "annotationdefaults": {
           "arrowcolor": "#2a3f5f",
           "arrowhead": 0,
           "arrowwidth": 1
          },
          "autotypenumbers": "strict",
          "coloraxis": {
           "colorbar": {
            "outlinewidth": 0,
            "ticks": ""
           }
          },
          "colorscale": {
           "diverging": [
            [
             0,
             "#8e0152"
            ],
            [
             0.1,
             "#c51b7d"
            ],
            [
             0.2,
             "#de77ae"
            ],
            [
             0.3,
             "#f1b6da"
            ],
            [
             0.4,
             "#fde0ef"
            ],
            [
             0.5,
             "#f7f7f7"
            ],
            [
             0.6,
             "#e6f5d0"
            ],
            [
             0.7,
             "#b8e186"
            ],
            [
             0.8,
             "#7fbc41"
            ],
            [
             0.9,
             "#4d9221"
            ],
            [
             1,
             "#276419"
            ]
           ],
           "sequential": [
            [
             0,
             "#0d0887"
            ],
            [
             0.1111111111111111,
             "#46039f"
            ],
            [
             0.2222222222222222,
             "#7201a8"
            ],
            [
             0.3333333333333333,
             "#9c179e"
            ],
            [
             0.4444444444444444,
             "#bd3786"
            ],
            [
             0.5555555555555556,
             "#d8576b"
            ],
            [
             0.6666666666666666,
             "#ed7953"
            ],
            [
             0.7777777777777778,
             "#fb9f3a"
            ],
            [
             0.8888888888888888,
             "#fdca26"
            ],
            [
             1,
             "#f0f921"
            ]
           ],
           "sequentialminus": [
            [
             0,
             "#0d0887"
            ],
            [
             0.1111111111111111,
             "#46039f"
            ],
            [
             0.2222222222222222,
             "#7201a8"
            ],
            [
             0.3333333333333333,
             "#9c179e"
            ],
            [
             0.4444444444444444,
             "#bd3786"
            ],
            [
             0.5555555555555556,
             "#d8576b"
            ],
            [
             0.6666666666666666,
             "#ed7953"
            ],
            [
             0.7777777777777778,
             "#fb9f3a"
            ],
            [
             0.8888888888888888,
             "#fdca26"
            ],
            [
             1,
             "#f0f921"
            ]
           ]
          },
          "colorway": [
           "#636efa",
           "#EF553B",
           "#00cc96",
           "#ab63fa",
           "#FFA15A",
           "#19d3f3",
           "#FF6692",
           "#B6E880",
           "#FF97FF",
           "#FECB52"
          ],
          "font": {
           "color": "#2a3f5f"
          },
          "geo": {
           "bgcolor": "white",
           "lakecolor": "white",
           "landcolor": "#E5ECF6",
           "showlakes": true,
           "showland": true,
           "subunitcolor": "white"
          },
          "hoverlabel": {
           "align": "left"
          },
          "hovermode": "closest",
          "mapbox": {
           "style": "light"
          },
          "paper_bgcolor": "white",
          "plot_bgcolor": "#E5ECF6",
          "polar": {
           "angularaxis": {
            "gridcolor": "white",
            "linecolor": "white",
            "ticks": ""
           },
           "bgcolor": "#E5ECF6",
           "radialaxis": {
            "gridcolor": "white",
            "linecolor": "white",
            "ticks": ""
           }
          },
          "scene": {
           "xaxis": {
            "backgroundcolor": "#E5ECF6",
            "gridcolor": "white",
            "gridwidth": 2,
            "linecolor": "white",
            "showbackground": true,
            "ticks": "",
            "zerolinecolor": "white"
           },
           "yaxis": {
            "backgroundcolor": "#E5ECF6",
            "gridcolor": "white",
            "gridwidth": 2,
            "linecolor": "white",
            "showbackground": true,
            "ticks": "",
            "zerolinecolor": "white"
           },
           "zaxis": {
            "backgroundcolor": "#E5ECF6",
            "gridcolor": "white",
            "gridwidth": 2,
            "linecolor": "white",
            "showbackground": true,
            "ticks": "",
            "zerolinecolor": "white"
           }
          },
          "shapedefaults": {
           "line": {
            "color": "#2a3f5f"
           }
          },
          "ternary": {
           "aaxis": {
            "gridcolor": "white",
            "linecolor": "white",
            "ticks": ""
           },
           "baxis": {
            "gridcolor": "white",
            "linecolor": "white",
            "ticks": ""
           },
           "bgcolor": "#E5ECF6",
           "caxis": {
            "gridcolor": "white",
            "linecolor": "white",
            "ticks": ""
           }
          },
          "title": {
           "x": 0.05
          },
          "xaxis": {
           "automargin": true,
           "gridcolor": "white",
           "linecolor": "white",
           "ticks": "",
           "title": {
            "standoff": 15
           },
           "zerolinecolor": "white",
           "zerolinewidth": 2
          },
          "yaxis": {
           "automargin": true,
           "gridcolor": "white",
           "linecolor": "white",
           "ticks": "",
           "title": {
            "standoff": 15
           },
           "zerolinecolor": "white",
           "zerolinewidth": 2
          }
         }
        },
        "xaxis": {
         "anchor": "y",
         "domain": [
          0,
          1
         ],
         "title": {
          "text": "x"
         }
        },
        "yaxis": {
         "anchor": "x",
         "domain": [
          0,
          1
         ],
         "title": {
          "text": "y"
         }
        }
       }
      }
     },
     "metadata": {},
     "output_type": "display_data"
    }
   ],
   "source": [
    "px.scatter(\n",
    "    x=X_with_preds.select(\"calendar_year\").to_series(),\n",
    "    y=X_with_preds.select(\"advertised_inventory_prediction\").to_series(),\n",
    "    color=X_with_preds.select(\"model_year\").to_series()\n",
    ")"
   ]
  },
  {
   "cell_type": "code",
   "execution_count": 239,
   "metadata": {},
   "outputs": [],
   "source": [
    "X_with_preds = (\n",
    "    X_with_preds.group_by(\"calendar_year\").agg(pl.col(\"advertised_inventory_prediction\").sum())\n",
    ")"
   ]
  },
  {
   "cell_type": "code",
   "execution_count": 245,
   "metadata": {},
   "outputs": [
    {
     "data": {
      "application/vnd.plotly.v1+json": {
       "config": {
        "plotlyServerURL": "https://plot.ly"
       },
       "data": [
        {
         "hovertemplate": "x=%{x}<br>y=%{y}<extra></extra>",
         "legendgroup": "",
         "marker": {
          "color": "#636efa",
          "symbol": "circle"
         },
         "mode": "markers",
         "name": "",
         "orientation": "v",
         "showlegend": false,
         "type": "scatter",
         "x": [
          2025,
          2024.75,
          2024.6666666666667,
          2024.8333333333335,
          2024.5833333333335,
          2025.5,
          2024.4166666666667,
          2025.25,
          2025.1666666666667,
          2025.0833333333335,
          2024.5,
          2024.9166666666667,
          2025.4166666666667,
          2025.3333333333335,
          2025.5833333333335,
          2024.3333333333335
         ],
         "xaxis": "x",
         "y": [
          3786.148238232249,
          3614.5265634799825,
          3419.9112511926946,
          3746.2027785423643,
          3314.5871058426264,
          3109.1945190907377,
          3115.6587662797215,
          3531.152006675354,
          3652.9103882832956,
          3740.3247887850066,
          3245.4069149948195,
          3791.6826090594896,
          3243.7986606979025,
          3389.4046524287883,
          2994.2382544171646,
          3019.3637245011146
         ],
         "yaxis": "y"
        }
       ],
       "layout": {
        "legend": {
         "tracegroupgap": 0
        },
        "margin": {
         "t": 60
        },
        "template": {
         "data": {
          "bar": [
           {
            "error_x": {
             "color": "#2a3f5f"
            },
            "error_y": {
             "color": "#2a3f5f"
            },
            "marker": {
             "line": {
              "color": "#E5ECF6",
              "width": 0.5
             },
             "pattern": {
              "fillmode": "overlay",
              "size": 10,
              "solidity": 0.2
             }
            },
            "type": "bar"
           }
          ],
          "barpolar": [
           {
            "marker": {
             "line": {
              "color": "#E5ECF6",
              "width": 0.5
             },
             "pattern": {
              "fillmode": "overlay",
              "size": 10,
              "solidity": 0.2
             }
            },
            "type": "barpolar"
           }
          ],
          "carpet": [
           {
            "aaxis": {
             "endlinecolor": "#2a3f5f",
             "gridcolor": "white",
             "linecolor": "white",
             "minorgridcolor": "white",
             "startlinecolor": "#2a3f5f"
            },
            "baxis": {
             "endlinecolor": "#2a3f5f",
             "gridcolor": "white",
             "linecolor": "white",
             "minorgridcolor": "white",
             "startlinecolor": "#2a3f5f"
            },
            "type": "carpet"
           }
          ],
          "choropleth": [
           {
            "colorbar": {
             "outlinewidth": 0,
             "ticks": ""
            },
            "type": "choropleth"
           }
          ],
          "contour": [
           {
            "colorbar": {
             "outlinewidth": 0,
             "ticks": ""
            },
            "colorscale": [
             [
              0,
              "#0d0887"
             ],
             [
              0.1111111111111111,
              "#46039f"
             ],
             [
              0.2222222222222222,
              "#7201a8"
             ],
             [
              0.3333333333333333,
              "#9c179e"
             ],
             [
              0.4444444444444444,
              "#bd3786"
             ],
             [
              0.5555555555555556,
              "#d8576b"
             ],
             [
              0.6666666666666666,
              "#ed7953"
             ],
             [
              0.7777777777777778,
              "#fb9f3a"
             ],
             [
              0.8888888888888888,
              "#fdca26"
             ],
             [
              1,
              "#f0f921"
             ]
            ],
            "type": "contour"
           }
          ],
          "contourcarpet": [
           {
            "colorbar": {
             "outlinewidth": 0,
             "ticks": ""
            },
            "type": "contourcarpet"
           }
          ],
          "heatmap": [
           {
            "colorbar": {
             "outlinewidth": 0,
             "ticks": ""
            },
            "colorscale": [
             [
              0,
              "#0d0887"
             ],
             [
              0.1111111111111111,
              "#46039f"
             ],
             [
              0.2222222222222222,
              "#7201a8"
             ],
             [
              0.3333333333333333,
              "#9c179e"
             ],
             [
              0.4444444444444444,
              "#bd3786"
             ],
             [
              0.5555555555555556,
              "#d8576b"
             ],
             [
              0.6666666666666666,
              "#ed7953"
             ],
             [
              0.7777777777777778,
              "#fb9f3a"
             ],
             [
              0.8888888888888888,
              "#fdca26"
             ],
             [
              1,
              "#f0f921"
             ]
            ],
            "type": "heatmap"
           }
          ],
          "heatmapgl": [
           {
            "colorbar": {
             "outlinewidth": 0,
             "ticks": ""
            },
            "colorscale": [
             [
              0,
              "#0d0887"
             ],
             [
              0.1111111111111111,
              "#46039f"
             ],
             [
              0.2222222222222222,
              "#7201a8"
             ],
             [
              0.3333333333333333,
              "#9c179e"
             ],
             [
              0.4444444444444444,
              "#bd3786"
             ],
             [
              0.5555555555555556,
              "#d8576b"
             ],
             [
              0.6666666666666666,
              "#ed7953"
             ],
             [
              0.7777777777777778,
              "#fb9f3a"
             ],
             [
              0.8888888888888888,
              "#fdca26"
             ],
             [
              1,
              "#f0f921"
             ]
            ],
            "type": "heatmapgl"
           }
          ],
          "histogram": [
           {
            "marker": {
             "pattern": {
              "fillmode": "overlay",
              "size": 10,
              "solidity": 0.2
             }
            },
            "type": "histogram"
           }
          ],
          "histogram2d": [
           {
            "colorbar": {
             "outlinewidth": 0,
             "ticks": ""
            },
            "colorscale": [
             [
              0,
              "#0d0887"
             ],
             [
              0.1111111111111111,
              "#46039f"
             ],
             [
              0.2222222222222222,
              "#7201a8"
             ],
             [
              0.3333333333333333,
              "#9c179e"
             ],
             [
              0.4444444444444444,
              "#bd3786"
             ],
             [
              0.5555555555555556,
              "#d8576b"
             ],
             [
              0.6666666666666666,
              "#ed7953"
             ],
             [
              0.7777777777777778,
              "#fb9f3a"
             ],
             [
              0.8888888888888888,
              "#fdca26"
             ],
             [
              1,
              "#f0f921"
             ]
            ],
            "type": "histogram2d"
           }
          ],
          "histogram2dcontour": [
           {
            "colorbar": {
             "outlinewidth": 0,
             "ticks": ""
            },
            "colorscale": [
             [
              0,
              "#0d0887"
             ],
             [
              0.1111111111111111,
              "#46039f"
             ],
             [
              0.2222222222222222,
              "#7201a8"
             ],
             [
              0.3333333333333333,
              "#9c179e"
             ],
             [
              0.4444444444444444,
              "#bd3786"
             ],
             [
              0.5555555555555556,
              "#d8576b"
             ],
             [
              0.6666666666666666,
              "#ed7953"
             ],
             [
              0.7777777777777778,
              "#fb9f3a"
             ],
             [
              0.8888888888888888,
              "#fdca26"
             ],
             [
              1,
              "#f0f921"
             ]
            ],
            "type": "histogram2dcontour"
           }
          ],
          "mesh3d": [
           {
            "colorbar": {
             "outlinewidth": 0,
             "ticks": ""
            },
            "type": "mesh3d"
           }
          ],
          "parcoords": [
           {
            "line": {
             "colorbar": {
              "outlinewidth": 0,
              "ticks": ""
             }
            },
            "type": "parcoords"
           }
          ],
          "pie": [
           {
            "automargin": true,
            "type": "pie"
           }
          ],
          "scatter": [
           {
            "fillpattern": {
             "fillmode": "overlay",
             "size": 10,
             "solidity": 0.2
            },
            "type": "scatter"
           }
          ],
          "scatter3d": [
           {
            "line": {
             "colorbar": {
              "outlinewidth": 0,
              "ticks": ""
             }
            },
            "marker": {
             "colorbar": {
              "outlinewidth": 0,
              "ticks": ""
             }
            },
            "type": "scatter3d"
           }
          ],
          "scattercarpet": [
           {
            "marker": {
             "colorbar": {
              "outlinewidth": 0,
              "ticks": ""
             }
            },
            "type": "scattercarpet"
           }
          ],
          "scattergeo": [
           {
            "marker": {
             "colorbar": {
              "outlinewidth": 0,
              "ticks": ""
             }
            },
            "type": "scattergeo"
           }
          ],
          "scattergl": [
           {
            "marker": {
             "colorbar": {
              "outlinewidth": 0,
              "ticks": ""
             }
            },
            "type": "scattergl"
           }
          ],
          "scattermapbox": [
           {
            "marker": {
             "colorbar": {
              "outlinewidth": 0,
              "ticks": ""
             }
            },
            "type": "scattermapbox"
           }
          ],
          "scatterpolar": [
           {
            "marker": {
             "colorbar": {
              "outlinewidth": 0,
              "ticks": ""
             }
            },
            "type": "scatterpolar"
           }
          ],
          "scatterpolargl": [
           {
            "marker": {
             "colorbar": {
              "outlinewidth": 0,
              "ticks": ""
             }
            },
            "type": "scatterpolargl"
           }
          ],
          "scatterternary": [
           {
            "marker": {
             "colorbar": {
              "outlinewidth": 0,
              "ticks": ""
             }
            },
            "type": "scatterternary"
           }
          ],
          "surface": [
           {
            "colorbar": {
             "outlinewidth": 0,
             "ticks": ""
            },
            "colorscale": [
             [
              0,
              "#0d0887"
             ],
             [
              0.1111111111111111,
              "#46039f"
             ],
             [
              0.2222222222222222,
              "#7201a8"
             ],
             [
              0.3333333333333333,
              "#9c179e"
             ],
             [
              0.4444444444444444,
              "#bd3786"
             ],
             [
              0.5555555555555556,
              "#d8576b"
             ],
             [
              0.6666666666666666,
              "#ed7953"
             ],
             [
              0.7777777777777778,
              "#fb9f3a"
             ],
             [
              0.8888888888888888,
              "#fdca26"
             ],
             [
              1,
              "#f0f921"
             ]
            ],
            "type": "surface"
           }
          ],
          "table": [
           {
            "cells": {
             "fill": {
              "color": "#EBF0F8"
             },
             "line": {
              "color": "white"
             }
            },
            "header": {
             "fill": {
              "color": "#C8D4E3"
             },
             "line": {
              "color": "white"
             }
            },
            "type": "table"
           }
          ]
         },
         "layout": {
          "annotationdefaults": {
           "arrowcolor": "#2a3f5f",
           "arrowhead": 0,
           "arrowwidth": 1
          },
          "autotypenumbers": "strict",
          "coloraxis": {
           "colorbar": {
            "outlinewidth": 0,
            "ticks": ""
           }
          },
          "colorscale": {
           "diverging": [
            [
             0,
             "#8e0152"
            ],
            [
             0.1,
             "#c51b7d"
            ],
            [
             0.2,
             "#de77ae"
            ],
            [
             0.3,
             "#f1b6da"
            ],
            [
             0.4,
             "#fde0ef"
            ],
            [
             0.5,
             "#f7f7f7"
            ],
            [
             0.6,
             "#e6f5d0"
            ],
            [
             0.7,
             "#b8e186"
            ],
            [
             0.8,
             "#7fbc41"
            ],
            [
             0.9,
             "#4d9221"
            ],
            [
             1,
             "#276419"
            ]
           ],
           "sequential": [
            [
             0,
             "#0d0887"
            ],
            [
             0.1111111111111111,
             "#46039f"
            ],
            [
             0.2222222222222222,
             "#7201a8"
            ],
            [
             0.3333333333333333,
             "#9c179e"
            ],
            [
             0.4444444444444444,
             "#bd3786"
            ],
            [
             0.5555555555555556,
             "#d8576b"
            ],
            [
             0.6666666666666666,
             "#ed7953"
            ],
            [
             0.7777777777777778,
             "#fb9f3a"
            ],
            [
             0.8888888888888888,
             "#fdca26"
            ],
            [
             1,
             "#f0f921"
            ]
           ],
           "sequentialminus": [
            [
             0,
             "#0d0887"
            ],
            [
             0.1111111111111111,
             "#46039f"
            ],
            [
             0.2222222222222222,
             "#7201a8"
            ],
            [
             0.3333333333333333,
             "#9c179e"
            ],
            [
             0.4444444444444444,
             "#bd3786"
            ],
            [
             0.5555555555555556,
             "#d8576b"
            ],
            [
             0.6666666666666666,
             "#ed7953"
            ],
            [
             0.7777777777777778,
             "#fb9f3a"
            ],
            [
             0.8888888888888888,
             "#fdca26"
            ],
            [
             1,
             "#f0f921"
            ]
           ]
          },
          "colorway": [
           "#636efa",
           "#EF553B",
           "#00cc96",
           "#ab63fa",
           "#FFA15A",
           "#19d3f3",
           "#FF6692",
           "#B6E880",
           "#FF97FF",
           "#FECB52"
          ],
          "font": {
           "color": "#2a3f5f"
          },
          "geo": {
           "bgcolor": "white",
           "lakecolor": "white",
           "landcolor": "#E5ECF6",
           "showlakes": true,
           "showland": true,
           "subunitcolor": "white"
          },
          "hoverlabel": {
           "align": "left"
          },
          "hovermode": "closest",
          "mapbox": {
           "style": "light"
          },
          "paper_bgcolor": "white",
          "plot_bgcolor": "#E5ECF6",
          "polar": {
           "angularaxis": {
            "gridcolor": "white",
            "linecolor": "white",
            "ticks": ""
           },
           "bgcolor": "#E5ECF6",
           "radialaxis": {
            "gridcolor": "white",
            "linecolor": "white",
            "ticks": ""
           }
          },
          "scene": {
           "xaxis": {
            "backgroundcolor": "#E5ECF6",
            "gridcolor": "white",
            "gridwidth": 2,
            "linecolor": "white",
            "showbackground": true,
            "ticks": "",
            "zerolinecolor": "white"
           },
           "yaxis": {
            "backgroundcolor": "#E5ECF6",
            "gridcolor": "white",
            "gridwidth": 2,
            "linecolor": "white",
            "showbackground": true,
            "ticks": "",
            "zerolinecolor": "white"
           },
           "zaxis": {
            "backgroundcolor": "#E5ECF6",
            "gridcolor": "white",
            "gridwidth": 2,
            "linecolor": "white",
            "showbackground": true,
            "ticks": "",
            "zerolinecolor": "white"
           }
          },
          "shapedefaults": {
           "line": {
            "color": "#2a3f5f"
           }
          },
          "ternary": {
           "aaxis": {
            "gridcolor": "white",
            "linecolor": "white",
            "ticks": ""
           },
           "baxis": {
            "gridcolor": "white",
            "linecolor": "white",
            "ticks": ""
           },
           "bgcolor": "#E5ECF6",
           "caxis": {
            "gridcolor": "white",
            "linecolor": "white",
            "ticks": ""
           }
          },
          "title": {
           "x": 0.05
          },
          "xaxis": {
           "automargin": true,
           "gridcolor": "white",
           "linecolor": "white",
           "ticks": "",
           "title": {
            "standoff": 15
           },
           "zerolinecolor": "white",
           "zerolinewidth": 2
          },
          "yaxis": {
           "automargin": true,
           "gridcolor": "white",
           "linecolor": "white",
           "ticks": "",
           "title": {
            "standoff": 15
           },
           "zerolinecolor": "white",
           "zerolinewidth": 2
          }
         }
        },
        "xaxis": {
         "anchor": "y",
         "domain": [
          0,
          1
         ],
         "title": {
          "text": "x"
         }
        },
        "yaxis": {
         "anchor": "x",
         "domain": [
          0,
          1
         ],
         "title": {
          "text": "y"
         }
        }
       }
      }
     },
     "metadata": {},
     "output_type": "display_data"
    }
   ],
   "source": [
    "px.scatter(\n",
    "    x=X_with_preds.filter(pl.col(\"advertised_inventory_prediction\")>4*advertised_inventory_mean).select(\"calendar_year\").to_series(),\n",
    "    y=X_with_preds.filter(pl.col(\"advertised_inventory_prediction\")>4*advertised_inventory_mean).select(\"advertised_inventory_prediction\").to_series(),\n",
    ")"
   ]
  },
  {
   "cell_type": "code",
   "execution_count": 221,
   "metadata": {},
   "outputs": [
    {
     "data": {
      "application/vnd.plotly.v1+json": {
       "config": {
        "plotlyServerURL": "https://plot.ly"
       },
       "data": [
        {
         "hovertemplate": "x=%{x}<br>y=%{y}<br>z=%{z}<extra></extra>",
         "legendgroup": "",
         "marker": {
          "color": "#636efa",
          "symbol": "circle"
         },
         "mode": "markers",
         "name": "",
         "scene": "scene",
         "showlegend": false,
         "type": "scatter3d",
         "x": [
          2019.4166666666667,
          2019.5,
          2019.5833333333335,
          2019.6666666666667,
          2019.75,
          2019.8333333333335,
          2019.9166666666667,
          2020,
          2020.0833333333335,
          2020.1666666666667,
          2020.25,
          2020.3333333333335,
          2020.4166666666667,
          2020.5,
          2020.5833333333335,
          2020.6666666666667,
          2020.75,
          2020.8333333333335,
          2020.9166666666667,
          2021,
          2021.0833333333335,
          2021.1666666666667,
          2021.25,
          2021.3333333333335,
          2021.4166666666667,
          2021.5,
          2021.5833333333335,
          2021.6666666666667,
          2021.75,
          2021.8333333333335,
          2021.9166666666667,
          2022,
          2022.0833333333335,
          2022.1666666666667,
          2022.25,
          2022.3333333333335,
          2022.4166666666667,
          2022.5,
          2022.5833333333335,
          2022.6666666666667,
          2022.75,
          2022.8333333333335,
          2022.9166666666667,
          2023,
          2023.0833333333335,
          2023.1666666666667,
          2023.25,
          2023.3333333333335,
          2023.4166666666667,
          2023.5,
          2023.5833333333335,
          2023.6666666666667,
          2023.75,
          2023.8333333333335,
          2023.9166666666667,
          2024,
          2024.0833333333335,
          2024.1666666666667,
          2024.25,
          2024.3333333333335,
          2024.4166666666667,
          2024.5,
          2024.5833333333335,
          2024.6666666666667,
          2024.75,
          2024.8333333333335,
          2024.9166666666667,
          2025,
          2025.0833333333335,
          2025.1666666666667,
          2025.25,
          2025.3333333333335,
          2025.4166666666667,
          2025.5,
          2025.5833333333335,
          2025.6666666666667,
          2025.75,
          2025.8333333333335,
          2025.9166666666667,
          2026,
          2026.0833333333335,
          2026.1666666666667,
          2026.25,
          2026.3333333333335,
          2026.4166666666667,
          2026.5,
          2026.5833333333335,
          2026.6666666666667,
          2026.75,
          2026.8333333333335,
          2026.9166666666667,
          2027,
          2027.0833333333335,
          2027.1666666666667,
          2027.25,
          2027.3333333333335,
          2027.4166666666667,
          2027.5,
          2027.5833333333335,
          2027.6666666666667,
          2027.75,
          2027.8333333333335,
          2027.9166666666667,
          2028,
          2028.0833333333335,
          2028.1666666666667,
          2028.25,
          2028.3333333333335,
          2028.4166666666667,
          2028.5,
          2028.5833333333335,
          2028.6666666666667,
          2028.75,
          2028.8333333333335,
          2028.9166666666667,
          2029,
          2029.0833333333335,
          2029.1666666666667,
          2029.25,
          2029.3333333333335,
          2029.4166666666667,
          2029.5,
          2029.5833333333335,
          2029.6666666666667,
          2029.75,
          2029.8333333333335,
          2029.9166666666667,
          2030,
          2030.0833333333335,
          2030.1666666666667,
          2030.25,
          2030.3333333333335,
          2030.4166666666667,
          2030.5,
          2030.5833333333335,
          2030.6666666666667,
          2030.75,
          2030.8333333333335,
          2030.9166666666667,
          2031,
          2031.0833333333335,
          2019.4166666666667,
          2019.5,
          2019.5833333333335,
          2019.6666666666667,
          2019.75,
          2019.8333333333335,
          2019.9166666666667,
          2020,
          2020.0833333333335,
          2020.1666666666667,
          2020.25,
          2020.3333333333335,
          2020.4166666666667,
          2020.5,
          2020.5833333333335,
          2020.6666666666667,
          2020.75,
          2020.8333333333335,
          2020.9166666666667,
          2021,
          2021.0833333333335,
          2021.1666666666667,
          2021.25,
          2021.3333333333335,
          2021.4166666666667,
          2021.5,
          2021.5833333333335,
          2021.6666666666667,
          2021.75,
          2021.8333333333335,
          2021.9166666666667,
          2022,
          2022.0833333333335,
          2022.1666666666667,
          2022.25,
          2022.3333333333335,
          2022.4166666666667,
          2022.5,
          2022.5833333333335,
          2022.6666666666667,
          2022.75,
          2022.8333333333335,
          2022.9166666666667,
          2023,
          2023.0833333333335,
          2023.1666666666667,
          2023.25,
          2023.3333333333335,
          2023.4166666666667,
          2023.5,
          2023.5833333333335,
          2023.6666666666667,
          2023.75,
          2023.8333333333335,
          2023.9166666666667,
          2024,
          2024.0833333333335,
          2024.1666666666667,
          2024.25,
          2024.3333333333335,
          2024.4166666666667,
          2024.5,
          2024.5833333333335,
          2024.6666666666667,
          2024.75,
          2024.8333333333335,
          2024.9166666666667,
          2025,
          2025.0833333333335,
          2025.1666666666667,
          2025.25,
          2025.3333333333335,
          2025.4166666666667,
          2025.5,
          2025.5833333333335,
          2025.6666666666667,
          2025.75,
          2025.8333333333335,
          2025.9166666666667,
          2026,
          2026.0833333333335,
          2026.1666666666667,
          2026.25,
          2026.3333333333335,
          2026.4166666666667,
          2026.5,
          2026.5833333333335,
          2026.6666666666667,
          2026.75,
          2026.8333333333335,
          2026.9166666666667,
          2027,
          2027.0833333333335,
          2027.1666666666667,
          2027.25,
          2027.3333333333335,
          2027.4166666666667,
          2027.5,
          2027.5833333333335,
          2027.6666666666667,
          2027.75,
          2027.8333333333335,
          2027.9166666666667,
          2028,
          2028.0833333333335,
          2028.1666666666667,
          2028.25,
          2028.3333333333335,
          2028.4166666666667,
          2028.5,
          2028.5833333333335,
          2028.6666666666667,
          2028.75,
          2028.8333333333335,
          2028.9166666666667,
          2029,
          2029.0833333333335,
          2029.1666666666667,
          2029.25,
          2029.3333333333335,
          2029.4166666666667,
          2029.5,
          2029.5833333333335,
          2029.6666666666667,
          2029.75,
          2029.8333333333335,
          2029.9166666666667,
          2030,
          2030.0833333333335,
          2030.1666666666667,
          2030.25,
          2030.3333333333335,
          2030.4166666666667,
          2030.5,
          2030.5833333333335,
          2030.6666666666667,
          2030.75,
          2030.8333333333335,
          2030.9166666666667,
          2031,
          2031.0833333333335,
          2019.4166666666667,
          2019.5,
          2019.5833333333335,
          2019.6666666666667,
          2019.75,
          2019.8333333333335,
          2019.9166666666667,
          2020,
          2020.0833333333335,
          2020.1666666666667,
          2020.25,
          2020.3333333333335,
          2020.4166666666667,
          2020.5,
          2020.5833333333335,
          2020.6666666666667,
          2020.75,
          2020.8333333333335,
          2020.9166666666667,
          2021,
          2021.0833333333335,
          2021.1666666666667,
          2021.25,
          2021.3333333333335,
          2021.4166666666667,
          2021.5,
          2021.5833333333335,
          2021.6666666666667,
          2021.75,
          2021.8333333333335,
          2021.9166666666667,
          2022,
          2022.0833333333335,
          2022.1666666666667,
          2022.25,
          2022.3333333333335,
          2022.4166666666667,
          2022.5,
          2022.5833333333335,
          2022.6666666666667,
          2022.75,
          2022.8333333333335,
          2022.9166666666667,
          2023,
          2023.0833333333335,
          2023.1666666666667,
          2023.25,
          2023.3333333333335,
          2023.4166666666667,
          2023.5,
          2023.5833333333335,
          2023.6666666666667,
          2023.75,
          2023.8333333333335,
          2023.9166666666667,
          2024,
          2024.0833333333335,
          2024.1666666666667,
          2024.25,
          2024.3333333333335,
          2024.4166666666667,
          2024.5,
          2024.5833333333335,
          2024.6666666666667,
          2024.75,
          2024.8333333333335,
          2024.9166666666667,
          2025,
          2025.0833333333335,
          2025.1666666666667,
          2025.25,
          2025.3333333333335,
          2025.4166666666667,
          2025.5,
          2025.5833333333335,
          2025.6666666666667,
          2025.75,
          2025.8333333333335,
          2025.9166666666667,
          2026,
          2026.0833333333335,
          2026.1666666666667,
          2026.25,
          2026.3333333333335,
          2026.4166666666667,
          2026.5,
          2026.5833333333335,
          2026.6666666666667,
          2026.75,
          2026.8333333333335,
          2026.9166666666667,
          2027,
          2027.0833333333335,
          2027.1666666666667,
          2027.25,
          2027.3333333333335,
          2027.4166666666667,
          2027.5,
          2027.5833333333335,
          2027.6666666666667,
          2027.75,
          2027.8333333333335,
          2027.9166666666667,
          2028,
          2028.0833333333335,
          2028.1666666666667,
          2028.25,
          2028.3333333333335,
          2028.4166666666667,
          2028.5,
          2028.5833333333335,
          2028.6666666666667,
          2028.75,
          2028.8333333333335,
          2028.9166666666667,
          2029,
          2029.0833333333335,
          2029.1666666666667,
          2029.25,
          2029.3333333333335,
          2029.4166666666667,
          2029.5,
          2029.5833333333335,
          2029.6666666666667,
          2029.75,
          2029.8333333333335,
          2029.9166666666667,
          2030,
          2030.0833333333335,
          2030.1666666666667,
          2030.25,
          2030.3333333333335,
          2030.4166666666667,
          2030.5,
          2030.5833333333335,
          2030.6666666666667,
          2030.75,
          2030.8333333333335,
          2030.9166666666667,
          2031,
          2031.0833333333335,
          2019.4166666666667,
          2019.5,
          2019.5833333333335,
          2019.6666666666667,
          2019.75,
          2019.8333333333335,
          2019.9166666666667,
          2020,
          2020.0833333333335,
          2020.1666666666667,
          2020.25,
          2020.3333333333335,
          2020.4166666666667,
          2020.5,
          2020.5833333333335,
          2020.6666666666667,
          2020.75,
          2020.8333333333335,
          2020.9166666666667,
          2021,
          2021.0833333333335,
          2021.1666666666667,
          2021.25,
          2021.3333333333335,
          2021.4166666666667,
          2021.5,
          2021.5833333333335,
          2021.6666666666667,
          2021.75,
          2021.8333333333335,
          2021.9166666666667,
          2022,
          2022.0833333333335,
          2022.1666666666667,
          2022.25,
          2022.3333333333335,
          2022.4166666666667,
          2022.5,
          2022.5833333333335,
          2022.6666666666667,
          2022.75,
          2022.8333333333335,
          2022.9166666666667,
          2023,
          2023.0833333333335,
          2023.1666666666667,
          2023.25,
          2023.3333333333335,
          2023.4166666666667,
          2023.5,
          2023.5833333333335,
          2023.6666666666667,
          2023.75,
          2023.8333333333335,
          2023.9166666666667,
          2024,
          2024.0833333333335,
          2024.1666666666667,
          2024.25,
          2024.3333333333335,
          2024.4166666666667,
          2024.5,
          2024.5833333333335,
          2024.6666666666667,
          2024.75,
          2024.8333333333335,
          2024.9166666666667,
          2025,
          2025.0833333333335,
          2025.1666666666667,
          2025.25,
          2025.3333333333335,
          2025.4166666666667,
          2025.5,
          2025.5833333333335,
          2025.6666666666667,
          2025.75,
          2025.8333333333335,
          2025.9166666666667,
          2026,
          2026.0833333333335,
          2026.1666666666667,
          2026.25,
          2026.3333333333335,
          2026.4166666666667,
          2026.5,
          2026.5833333333335,
          2026.6666666666667,
          2026.75,
          2026.8333333333335,
          2026.9166666666667,
          2027,
          2027.0833333333335,
          2027.1666666666667,
          2027.25,
          2027.3333333333335,
          2027.4166666666667,
          2027.5,
          2027.5833333333335,
          2027.6666666666667,
          2027.75,
          2027.8333333333335,
          2027.9166666666667,
          2028,
          2028.0833333333335,
          2028.1666666666667,
          2028.25,
          2028.3333333333335,
          2028.4166666666667,
          2028.5,
          2028.5833333333335,
          2028.6666666666667,
          2028.75,
          2028.8333333333335,
          2028.9166666666667,
          2029,
          2029.0833333333335,
          2029.1666666666667,
          2029.25,
          2029.3333333333335,
          2029.4166666666667,
          2029.5,
          2029.5833333333335,
          2029.6666666666667,
          2029.75,
          2029.8333333333335,
          2029.9166666666667,
          2030,
          2030.0833333333335,
          2030.1666666666667,
          2030.25,
          2030.3333333333335,
          2030.4166666666667,
          2030.5,
          2030.5833333333335,
          2030.6666666666667,
          2030.75,
          2030.8333333333335,
          2030.9166666666667,
          2031,
          2031.0833333333335
         ],
         "y": [
          2022,
          2023,
          2024,
          2025,
          2022,
          2023,
          2024,
          2025,
          2022,
          2023,
          2024,
          2025,
          2022,
          2023,
          2024,
          2025,
          2022,
          2023,
          2024,
          2025,
          2022,
          2023,
          2024,
          2025,
          2022,
          2023,
          2024,
          2025,
          2022,
          2023,
          2024,
          2025,
          2022,
          2023,
          2024,
          2025,
          2022,
          2023,
          2024,
          2025,
          2022,
          2023,
          2024,
          2025,
          2022,
          2023,
          2024,
          2025,
          2022,
          2023,
          2024,
          2025,
          2022,
          2023,
          2024,
          2025,
          2022,
          2023,
          2024,
          2025,
          2022,
          2023,
          2024,
          2025,
          2022,
          2023,
          2024,
          2025,
          2022,
          2023,
          2024,
          2025,
          2022,
          2023,
          2024,
          2025,
          2022,
          2023,
          2024,
          2025,
          2022,
          2023,
          2024,
          2025,
          2022,
          2023,
          2024,
          2025,
          2022,
          2023,
          2024,
          2025,
          2022,
          2023,
          2024,
          2025,
          2022,
          2023,
          2024,
          2025,
          2022,
          2023,
          2024,
          2025,
          2022,
          2023,
          2024,
          2025,
          2022,
          2023,
          2024,
          2025,
          2022,
          2023,
          2024,
          2025,
          2022,
          2023,
          2024,
          2025,
          2022,
          2023,
          2024,
          2025,
          2022,
          2023,
          2024,
          2025,
          2022,
          2023,
          2024,
          2025,
          2022,
          2023,
          2024,
          2025,
          2022,
          2023,
          2024,
          2025,
          2022,
          2023,
          2024,
          2025,
          2022,
          2023,
          2024,
          2025,
          2022,
          2023,
          2024,
          2025,
          2022,
          2023,
          2024,
          2025,
          2022,
          2023,
          2024,
          2025,
          2022,
          2023,
          2024,
          2025,
          2022,
          2023,
          2024,
          2025,
          2022,
          2023,
          2024,
          2025,
          2022,
          2023,
          2024,
          2025,
          2022,
          2023,
          2024,
          2025,
          2022,
          2023,
          2024,
          2025,
          2022,
          2023,
          2024,
          2025,
          2022,
          2023,
          2024,
          2025,
          2022,
          2023,
          2024,
          2025,
          2022,
          2023,
          2024,
          2025,
          2022,
          2023,
          2024,
          2025,
          2022,
          2023,
          2024,
          2025,
          2022,
          2023,
          2024,
          2025,
          2022,
          2023,
          2024,
          2025,
          2022,
          2023,
          2024,
          2025,
          2022,
          2023,
          2024,
          2025,
          2022,
          2023,
          2024,
          2025,
          2022,
          2023,
          2024,
          2025,
          2022,
          2023,
          2024,
          2025,
          2022,
          2023,
          2024,
          2025,
          2022,
          2023,
          2024,
          2025,
          2022,
          2023,
          2024,
          2025,
          2022,
          2023,
          2024,
          2025,
          2022,
          2023,
          2024,
          2025,
          2022,
          2023,
          2024,
          2025,
          2022,
          2023,
          2024,
          2025,
          2022,
          2023,
          2024,
          2025,
          2022,
          2023,
          2024,
          2025,
          2022,
          2023,
          2024,
          2025,
          2022,
          2023,
          2024,
          2025,
          2022,
          2023,
          2024,
          2025,
          2022,
          2023,
          2024,
          2025,
          2022,
          2023,
          2024,
          2025,
          2022,
          2023,
          2024,
          2025,
          2022,
          2023,
          2024,
          2025,
          2022,
          2023,
          2024,
          2025,
          2022,
          2023,
          2024,
          2025,
          2022,
          2023,
          2024,
          2025,
          2022,
          2023,
          2024,
          2025,
          2022,
          2023,
          2024,
          2025,
          2022,
          2023,
          2024,
          2025,
          2022,
          2023,
          2024,
          2025,
          2022,
          2023,
          2024,
          2025,
          2022,
          2023,
          2024,
          2025,
          2022,
          2023,
          2024,
          2025,
          2022,
          2023,
          2024,
          2025,
          2022,
          2023,
          2024,
          2025,
          2022,
          2023,
          2024,
          2025,
          2022,
          2023,
          2024,
          2025,
          2022,
          2023,
          2024,
          2025,
          2022,
          2023,
          2024,
          2025,
          2022,
          2023,
          2024,
          2025,
          2022,
          2023,
          2024,
          2025,
          2022,
          2023,
          2024,
          2025,
          2022,
          2023,
          2024,
          2025,
          2022,
          2023,
          2024,
          2025,
          2022,
          2023,
          2024,
          2025,
          2022,
          2023,
          2024,
          2025,
          2022,
          2023,
          2024,
          2025,
          2022,
          2023,
          2024,
          2025,
          2022,
          2023,
          2024,
          2025,
          2022,
          2023,
          2024,
          2025,
          2022,
          2023,
          2024,
          2025,
          2022,
          2023,
          2024,
          2025,
          2022,
          2023,
          2024,
          2025,
          2022,
          2023,
          2024,
          2025,
          2022,
          2023,
          2024,
          2025,
          2022,
          2023,
          2024,
          2025,
          2022,
          2023,
          2024,
          2025,
          2022,
          2023,
          2024,
          2025,
          2022,
          2023,
          2024,
          2025,
          2022,
          2023,
          2024,
          2025,
          2022,
          2023,
          2024,
          2025,
          2022,
          2023,
          2024,
          2025,
          2022,
          2023,
          2024,
          2025,
          2022,
          2023,
          2024,
          2025,
          2022,
          2023,
          2024,
          2025,
          2022,
          2023,
          2024,
          2025,
          2022,
          2023,
          2024,
          2025,
          2022,
          2023,
          2024,
          2025,
          2022,
          2023,
          2024,
          2025,
          2022,
          2023,
          2024,
          2025,
          2022,
          2023,
          2024,
          2025,
          2022,
          2023,
          2024,
          2025,
          2022,
          2023,
          2024,
          2025,
          2022,
          2023,
          2024,
          2025,
          2022,
          2023,
          2024,
          2025,
          2022,
          2023,
          2024,
          2025,
          2022,
          2023,
          2024,
          2025,
          2022,
          2023,
          2024,
          2025,
          2022,
          2023,
          2024,
          2025,
          2022,
          2023,
          2024,
          2025,
          2022,
          2023,
          2024,
          2025,
          2022,
          2023,
          2024,
          2025,
          2022,
          2023,
          2024,
          2025,
          2022,
          2023,
          2024,
          2025,
          2022,
          2023,
          2024,
          2025,
          2022,
          2023,
          2024,
          2025,
          2022,
          2023,
          2024,
          2025,
          2022,
          2023,
          2024,
          2025,
          2022,
          2023,
          2024,
          2025
         ],
         "z": [
          676.7408661742014,
          676.7323821889275,
          676.8625054514529,
          677.1304152819015,
          676.7104700046101,
          676.7067869739684,
          676.8417598026396,
          677.1145368898577,
          676.695831709564,
          676.6969179187371,
          676.8367296961586,
          677.1142833912612,
          676.6993198199749,
          676.7011090250381,
          676.8471769182196,
          677.1262800850346,
          676.8306735262264,
          676.6391211136723,
          676.8624731391611,
          676.9963583539164,
          679.3331950458215,
          674.6417161433052,
          676.6394699392853,
          673.4780085854883,
          702.7285790712498,
          650.2538617245594,
          673.0959886168326,
          636.6278531887211,
          792.97516746177,
          510.67861306124894,
          644.1629234028491,
          464.7671643311654,
          917.1182584944657,
          175.0948400092442,
          514.0553855337397,
          140.58476271658435,
          936.3565403438337,
          30.7360488653361,
          243.160035059312,
          13.982569017127275,
          795.1598644164009,
          663.4632471018416,
          24.885192745793006,
          255.14378867885432,
          369.61212785053465,
          1426.869840638908,
          9.994716980982389,
          369.9696252185764,
          65.07497073438105,
          1570.712079700012,
          317.78840710051406,
          179.0648603804567,
          10.389308439715137,
          1072.8267528174315,
          1491.5621661379232,
          4.21287902198344,
          19.364757674967336,
          461.4720098245451,
          2424.1270800962197,
          67.79125661259275,
          258.987565102629,
          113.85547130723842,
          2416.7422747830246,
          668.5211129130424,
          526.3075269788557,
          45.87682180483523,
          1578.9803328826897,
          1661.8500185326275,
          640.0306679139829,
          252.66027423064122,
          949.5819473235732,
          1457.7911736508427,
          669.252041172039,
          526.1478326293781,
          733.3302926362743,
          903.82690410577,
          677.1659180252599,
          653.1409829047728,
          686.0637712134111,
          706.6674673236545,
          678.9293960382646,
          677.1495197158689,
          679.8607779416201,
          681.2122384542025,
          679.350135061373,
          679.3728449141539,
          679.6846106537226,
          680.0593225463218,
          679.6447249441316,
          679.7375607047555,
          679.9650789406222,
          680.321904128297,
          679.9465488287823,
          680.0447230807907,
          680.274311766577,
          680.6338389013125,
          680.2617422277248,
          680.36408779635,
          680.5971398729367,
          680.9594328939198,
          680.5902256567259,
          680.6966693142725,
          680.9331041281711,
          681.2980435397116,
          680.9317766845721,
          681.0422513376913,
          681.2819742733149,
          681.6494384142392,
          681.2861633923302,
          681.400599449653,
          681.643513827856,
          682.0133795429077,
          681.6531459709541,
          681.7714713880622,
          682.0174786052663,
          682.3896213555753,
          682.032476997885,
          682.15461735721,
          682.4036169816064,
          682.777910956508,
          682.423901714891,
          682.5497803080399,
          682.8016701775667,
          683.1779884074748,
          682.8271583130335,
          682.9566962253913,
          683.2113725472585,
          683.5895870175242,
          683.2419782242724,
          683.375094421683,
          683.6324518733867,
          684.0124336389994,
          683.6680864192605,
          683.8046978367078,
          684.0646296683382,
          684.4462489692434,
          684.1052017108422,
          684.2452233429848,
          684.5076214807435,
          684.8907478576338,
          684.5530370628616,
          676.7412387485114,
          676.870146131679,
          677.1368303755918,
          676.7165945910002,
          676.7117104786429,
          676.8454730897844,
          677.1170387911887,
          676.6980042416404,
          676.6979166899465,
          676.8365144454143,
          677.1128948975719,
          676.6959621914142,
          676.6992996125733,
          676.8431931831248,
          677.1232492164137,
          676.7557658245463,
          676.6832482466338,
          676.8611070261858,
          677.0843998328518,
          678.0207790669864,
          675.7383426966377,
          676.772491494189,
          675.3635455166522,
          692.4837512471062,
          661.7452949227521,
          674.8555584792579,
          653.3001243625912,
          762.8631798838568,
          564.5354215381575,
          656.8217985777877,
          526.7506795090311,
          890.8248759545635,
          267.88827901333696,
          561.5645558633058,
          221.92284183960544,
          957.7552038727057,
          8.539489965646112,
          316.1456324865675,
          0.21041111694955816,
          842.3262723879819,
          414.53323211875284,
          65.09509431536151,
          185.73951846498483,
          487.42605235356893,
          1270.7628301750178,
          -0.9287505269072653,
          375.67078095105524,
          101.56929209463704,
          1583.085708623576,
          196.31763357013585,
          238.5594372274668,
          16.44338173117228,
          1253.0205171919702,
          1215.2184473141065,
          30.027478066970957,
          4.820775863473841,
          609.4388882853294,
          2180.4219905855393,
          17.717968764649754,
          184.4239607193707,
          157.4479131355596,
          2524.3264179262665,
          405.1669668575454,
          472.5362578560811,
          46.471685839823635,
          1796.3091430597146,
          1536.4737039609613,
          623.7367341452933,
          184.00531145148477,
          1059.9778481288445,
          1595.8362529070764,
          665.1081913633187,
          467.5538114727443,
          763.0519218586791,
          1012.856895256324,
          676.0677055999755,
          635.6272853814254,
          691.3067792492697,
          729.1829484440331,
          678.7186690621203,
          675.001350550773,
          680.3086428104801,
          682.958407020259,
          679.2712333288752,
          679.1945709439016,
          679.6365415594759,
          680.0493705564087,
          679.5711824677563,
          679.6607252366301,
          679.8903198555578,
          680.2468774890345,
          679.8698497280135,
          679.9669505825892,
          680.1956873018661,
          680.554506397698,
          680.1816895724518,
          680.2830003428525,
          680.5151923287875,
          680.876804929918,
          680.5068708304456,
          680.612296160119,
          680.8478940722936,
          681.212183231154,
          680.8451763862626,
          680.9546497171433,
          681.1935596087327,
          681.5604040566308,
          681.1963763527318,
          681.3098287186943,
          681.5519544068035,
          681.9212313516908,
          681.5602328668016,
          681.6775928292953,
          681.9228361824775,
          682.2944214209641,
          681.9365003835072,
          682.0576941106298,
          682.3059551450214,
          682.6797231738407,
          682.3249259520938,
          682.4498773003182,
          682.7010542771517,
          683.0768784058104,
          682.7252494992239,
          682.853880097434,
          683.1078696221892,
          683.4856220865817,
          683.1372041189405,
          683.2694334546355,
          683.5261305776825,
          683.9056826546035,
          683.5605163689814,
          683.696261876439,
          683.9555601950702,
          684.3367823173811,
          683.9949065729028,
          684.1340837232809,
          684.3958754849076,
          684.7786373572366,
          684.4400891275747,
          684.582611520722,
          676.8787678413333,
          677.1442231129937,
          676.7237024126222,
          676.7176176993502,
          676.8501686246958,
          677.120519248207,
          676.7011729760314,
          676.6998910997532,
          676.8372805488356,
          677.1124673163287,
          676.6946442068119,
          676.6977272100672,
          676.8400861637803,
          677.1196984743611,
          676.7218952151046,
          676.6984545658914,
          676.8568366063824,
          677.1171200542061,
          677.3347959456631,
          676.2777396116875,
          676.8326088011098,
          676.3237475026211,
          685.8160228366404,
          668.6120984501493,
          675.8384369667741,
          663.7484439650324,
          737.5734875288248,
          604.260390442012,
          664.9848003694113,
          575.4032761134887,
          859.5599530433218,
          359.2776821469164,
          598.3199953645529,
          307.71630517801043,
          952.9889601015597,
          32.093901848849214,
          388.6895983028347,
          21.245081226051184,
          895.4976761530219,
          243.43376136264885,
          115.30914707799855,
          116.27102909817415,
          605.0055252781934,
          1079.8567886520218,
          0.06330780369205513,
          356.71341016663735,
          158.03333751147818,
          1606.2993926635531,
          110.20449512913945,
          295.2809169855044,
          28.0747944890785,
          1382.5915776211637,
          867.6399991495822,
          72.46742510420643,
          5.1902355490618675,
          761.8688022790956,
          1917.7435366552204,
          -0.9555149352796661,
          116.82706637534227,
          221.3098183406304,
          2541.554255260479,
          271.84912586562893,
          408.0365953622671,
          63.16941237638309,
          2010.300249141554,
          1335.3217175222148,
          600.6153689728413,
          124.31639760296423,
          1201.9073817139338,
          1688.8658714350177,
          659.4000717301836,
          399.6901865311537,
          806.106014751433,
          1147.7107597111367,
          674.4904761859992,
          609.6938705322572,
          699.8283616705434,
          765.944714507801,
          678.3990427918926,
          671.0981445821798,
          681.2292782587689,
          686.5897074064145,
          679.1827281207151,
          678.8813953884418,
          679.6207836898355,
          680.1345176575186,
          679.4980835451287,
          679.5803733687234,
          679.8173232790895,
          680.1746847637431,
          679.7939908950478,
          679.8899599070045,
          680.117912524984,
          680.4760232202653,
          680.1024710287869,
          680.2027426747285,
          680.434069280849,
          680.7949939969047,
          680.424336314291,
          680.5287391637447,
          680.7634942912458,
          681.1271256174651,
          680.7593820274475,
          680.8678497253462,
          681.1059405609925,
          681.4721576408245,
          681.1073803848734,
          681.2198445941777,
          681.4611754585052,
          681.8298558699759,
          681.4680954864722,
          681.584485379466,
          681.828958619158,
          682.1999785013162,
          681.8412836821523,
          681.9615260176919,
          682.209042102921,
          682.5822762669551,
          682.2266938463239,
          682.3507130510069,
          682.6011706724927,
          682.9764927140958,
          682.6240676593658,
          682.7517859109754,
          683.0050820787629,
          683.3823644915209,
          683.0331398959441,
          683.1644772091257,
          683.4205073528464,
          683.7996216425662,
          683.4536387197662,
          683.5885130337341,
          683.8471711043197,
          684.2279879040076,
          683.8852859843015,
          684.0236132524532,
          684.2847918250449,
          684.6671810105203,
          684.3277975389905,
          684.4694918202973,
          684.733082198282,
          677.1525931324212,
          676.7317930745909,
          676.7245083791746,
          676.8558461730105,
          677.1249781492912,
          676.7053291444939,
          676.7028472904602,
          676.8390289349176,
          677.1130133936855,
          676.6946832819934,
          676.696874923755,
          676.8379232663827,
          677.1165921878022,
          676.706498393863,
          676.7018861117502,
          676.851865082699,
          677.1262895900005,
          676.9933612431381,
          676.5291374784391,
          676.8562112444469,
          676.7865547187715,
          681.7165738133402,
          672.5207590407066,
          676.3670829921815,
          669.9648374456339,
          717.5535879866214,
          631.9614080513278,
          670.0560338041274,
          611.4244149095699,
          826.0281898804604,
          441.6183594631551,
          625.2905160309618,
          390.59705634547174,
          937.5857677751741,
          92.01164071558503,
          455.87496658406997,
          71.21258402742149,
          912.3711807345757,
          115.85032101984723,
          174.947522245919,
          56.10929740152221,
          720.5591079156533,
          871.8595465155871,
          2.4117005931260564,
          314.83056107590653,
          252.55598717235932,
          1547.0739015103823,
          49.42852445592905,
          341.4705865392972,
          41.9152872545377,
          1500.9098100130527,
          528.2973671526346,
          122.69442331395396,
          5.504513373863915,
          910.3933093286049,
          1702.302374781983,
          -0.03385912687701875,
          59.82461550804044,
          319.05225202641975,
          2545.838688828521,
          157.66903278105417,
          335.3758998956854,
          84.64126883978895,
          2215.684468047188,
          1031.4471015197491,
          568.6950961555993,
          75.6132032429972,
          1376.245087951364,
          1714.381427705605,
          651.4063944887922,
          326.3337347145206,
          866.8151008834728,
          1300.8867933016863,
          672.2840048915435,
          573.5605903385671,
          713.1615264318287,
          822.4398453364819,
          677.9088049915277,
          664.3236349843345,
          682.9690650073015,
          693.6682090866401,
          679.0745979325128,
          678.2887585829361,
          679.672797379677,
          680.4371802258069,
          679.4248378652131,
          679.4897142783933,
          679.7475684855725,
          680.1089809662195,
          679.7189613162876,
          679.8136228013169,
          680.0410164478845,
          680.3984386233857,
          680.0240898312787,
          680.1233171068499,
          680.3537743814294,
          680.7140038344772,
          680.3426256207212,
          680.4460018746692,
          680.6799083722052,
          681.0428743106621,
          680.6743972480641,
          680.7818550416329,
          681.0191208407904,
          681.3847029006469,
          681.0191792513789,
          681.1306508769006,
          681.3711808136451,
          681.7392569498501,
          681.3767377110347,
          681.4921529565562,
          681.7358498616699,
          682.1062965626501,
          681.7468308889544,
          681.8661171091741,
          682.1128819129261,
          682.4855743113498,
          682.1292095023308,
          682.252291699161,
          682.5020235279502,
          682.876835512776,
          682.5236170032662,
          682.6504179087545,
          682.9030141834336,
          683.2798185131063,
          682.9297898654701,
          683.0602300268996,
          683.3155865627242,
          683.6942549792396,
          683.3474578774136,
          683.481455744533,
          683.73946685251,
          684.119870196247,
          683.7763444416386,
          683.9138164557872,
          684.1743750452939,
          684.5563833705177,
          684.2161668795865,
          684.3570275646974,
          684.6200252472521,
          685.0035079379849
         ]
        }
       ],
       "layout": {
        "legend": {
         "tracegroupgap": 0
        },
        "margin": {
         "t": 60
        },
        "scene": {
         "domain": {
          "x": [
           0,
           1
          ],
          "y": [
           0,
           1
          ]
         },
         "xaxis": {
          "title": {
           "text": "x"
          }
         },
         "yaxis": {
          "title": {
           "text": "y"
          }
         },
         "zaxis": {
          "title": {
           "text": "z"
          }
         }
        },
        "template": {
         "data": {
          "bar": [
           {
            "error_x": {
             "color": "#2a3f5f"
            },
            "error_y": {
             "color": "#2a3f5f"
            },
            "marker": {
             "line": {
              "color": "#E5ECF6",
              "width": 0.5
             },
             "pattern": {
              "fillmode": "overlay",
              "size": 10,
              "solidity": 0.2
             }
            },
            "type": "bar"
           }
          ],
          "barpolar": [
           {
            "marker": {
             "line": {
              "color": "#E5ECF6",
              "width": 0.5
             },
             "pattern": {
              "fillmode": "overlay",
              "size": 10,
              "solidity": 0.2
             }
            },
            "type": "barpolar"
           }
          ],
          "carpet": [
           {
            "aaxis": {
             "endlinecolor": "#2a3f5f",
             "gridcolor": "white",
             "linecolor": "white",
             "minorgridcolor": "white",
             "startlinecolor": "#2a3f5f"
            },
            "baxis": {
             "endlinecolor": "#2a3f5f",
             "gridcolor": "white",
             "linecolor": "white",
             "minorgridcolor": "white",
             "startlinecolor": "#2a3f5f"
            },
            "type": "carpet"
           }
          ],
          "choropleth": [
           {
            "colorbar": {
             "outlinewidth": 0,
             "ticks": ""
            },
            "type": "choropleth"
           }
          ],
          "contour": [
           {
            "colorbar": {
             "outlinewidth": 0,
             "ticks": ""
            },
            "colorscale": [
             [
              0,
              "#0d0887"
             ],
             [
              0.1111111111111111,
              "#46039f"
             ],
             [
              0.2222222222222222,
              "#7201a8"
             ],
             [
              0.3333333333333333,
              "#9c179e"
             ],
             [
              0.4444444444444444,
              "#bd3786"
             ],
             [
              0.5555555555555556,
              "#d8576b"
             ],
             [
              0.6666666666666666,
              "#ed7953"
             ],
             [
              0.7777777777777778,
              "#fb9f3a"
             ],
             [
              0.8888888888888888,
              "#fdca26"
             ],
             [
              1,
              "#f0f921"
             ]
            ],
            "type": "contour"
           }
          ],
          "contourcarpet": [
           {
            "colorbar": {
             "outlinewidth": 0,
             "ticks": ""
            },
            "type": "contourcarpet"
           }
          ],
          "heatmap": [
           {
            "colorbar": {
             "outlinewidth": 0,
             "ticks": ""
            },
            "colorscale": [
             [
              0,
              "#0d0887"
             ],
             [
              0.1111111111111111,
              "#46039f"
             ],
             [
              0.2222222222222222,
              "#7201a8"
             ],
             [
              0.3333333333333333,
              "#9c179e"
             ],
             [
              0.4444444444444444,
              "#bd3786"
             ],
             [
              0.5555555555555556,
              "#d8576b"
             ],
             [
              0.6666666666666666,
              "#ed7953"
             ],
             [
              0.7777777777777778,
              "#fb9f3a"
             ],
             [
              0.8888888888888888,
              "#fdca26"
             ],
             [
              1,
              "#f0f921"
             ]
            ],
            "type": "heatmap"
           }
          ],
          "heatmapgl": [
           {
            "colorbar": {
             "outlinewidth": 0,
             "ticks": ""
            },
            "colorscale": [
             [
              0,
              "#0d0887"
             ],
             [
              0.1111111111111111,
              "#46039f"
             ],
             [
              0.2222222222222222,
              "#7201a8"
             ],
             [
              0.3333333333333333,
              "#9c179e"
             ],
             [
              0.4444444444444444,
              "#bd3786"
             ],
             [
              0.5555555555555556,
              "#d8576b"
             ],
             [
              0.6666666666666666,
              "#ed7953"
             ],
             [
              0.7777777777777778,
              "#fb9f3a"
             ],
             [
              0.8888888888888888,
              "#fdca26"
             ],
             [
              1,
              "#f0f921"
             ]
            ],
            "type": "heatmapgl"
           }
          ],
          "histogram": [
           {
            "marker": {
             "pattern": {
              "fillmode": "overlay",
              "size": 10,
              "solidity": 0.2
             }
            },
            "type": "histogram"
           }
          ],
          "histogram2d": [
           {
            "colorbar": {
             "outlinewidth": 0,
             "ticks": ""
            },
            "colorscale": [
             [
              0,
              "#0d0887"
             ],
             [
              0.1111111111111111,
              "#46039f"
             ],
             [
              0.2222222222222222,
              "#7201a8"
             ],
             [
              0.3333333333333333,
              "#9c179e"
             ],
             [
              0.4444444444444444,
              "#bd3786"
             ],
             [
              0.5555555555555556,
              "#d8576b"
             ],
             [
              0.6666666666666666,
              "#ed7953"
             ],
             [
              0.7777777777777778,
              "#fb9f3a"
             ],
             [
              0.8888888888888888,
              "#fdca26"
             ],
             [
              1,
              "#f0f921"
             ]
            ],
            "type": "histogram2d"
           }
          ],
          "histogram2dcontour": [
           {
            "colorbar": {
             "outlinewidth": 0,
             "ticks": ""
            },
            "colorscale": [
             [
              0,
              "#0d0887"
             ],
             [
              0.1111111111111111,
              "#46039f"
             ],
             [
              0.2222222222222222,
              "#7201a8"
             ],
             [
              0.3333333333333333,
              "#9c179e"
             ],
             [
              0.4444444444444444,
              "#bd3786"
             ],
             [
              0.5555555555555556,
              "#d8576b"
             ],
             [
              0.6666666666666666,
              "#ed7953"
             ],
             [
              0.7777777777777778,
              "#fb9f3a"
             ],
             [
              0.8888888888888888,
              "#fdca26"
             ],
             [
              1,
              "#f0f921"
             ]
            ],
            "type": "histogram2dcontour"
           }
          ],
          "mesh3d": [
           {
            "colorbar": {
             "outlinewidth": 0,
             "ticks": ""
            },
            "type": "mesh3d"
           }
          ],
          "parcoords": [
           {
            "line": {
             "colorbar": {
              "outlinewidth": 0,
              "ticks": ""
             }
            },
            "type": "parcoords"
           }
          ],
          "pie": [
           {
            "automargin": true,
            "type": "pie"
           }
          ],
          "scatter": [
           {
            "fillpattern": {
             "fillmode": "overlay",
             "size": 10,
             "solidity": 0.2
            },
            "type": "scatter"
           }
          ],
          "scatter3d": [
           {
            "line": {
             "colorbar": {
              "outlinewidth": 0,
              "ticks": ""
             }
            },
            "marker": {
             "colorbar": {
              "outlinewidth": 0,
              "ticks": ""
             }
            },
            "type": "scatter3d"
           }
          ],
          "scattercarpet": [
           {
            "marker": {
             "colorbar": {
              "outlinewidth": 0,
              "ticks": ""
             }
            },
            "type": "scattercarpet"
           }
          ],
          "scattergeo": [
           {
            "marker": {
             "colorbar": {
              "outlinewidth": 0,
              "ticks": ""
             }
            },
            "type": "scattergeo"
           }
          ],
          "scattergl": [
           {
            "marker": {
             "colorbar": {
              "outlinewidth": 0,
              "ticks": ""
             }
            },
            "type": "scattergl"
           }
          ],
          "scattermapbox": [
           {
            "marker": {
             "colorbar": {
              "outlinewidth": 0,
              "ticks": ""
             }
            },
            "type": "scattermapbox"
           }
          ],
          "scatterpolar": [
           {
            "marker": {
             "colorbar": {
              "outlinewidth": 0,
              "ticks": ""
             }
            },
            "type": "scatterpolar"
           }
          ],
          "scatterpolargl": [
           {
            "marker": {
             "colorbar": {
              "outlinewidth": 0,
              "ticks": ""
             }
            },
            "type": "scatterpolargl"
           }
          ],
          "scatterternary": [
           {
            "marker": {
             "colorbar": {
              "outlinewidth": 0,
              "ticks": ""
             }
            },
            "type": "scatterternary"
           }
          ],
          "surface": [
           {
            "colorbar": {
             "outlinewidth": 0,
             "ticks": ""
            },
            "colorscale": [
             [
              0,
              "#0d0887"
             ],
             [
              0.1111111111111111,
              "#46039f"
             ],
             [
              0.2222222222222222,
              "#7201a8"
             ],
             [
              0.3333333333333333,
              "#9c179e"
             ],
             [
              0.4444444444444444,
              "#bd3786"
             ],
             [
              0.5555555555555556,
              "#d8576b"
             ],
             [
              0.6666666666666666,
              "#ed7953"
             ],
             [
              0.7777777777777778,
              "#fb9f3a"
             ],
             [
              0.8888888888888888,
              "#fdca26"
             ],
             [
              1,
              "#f0f921"
             ]
            ],
            "type": "surface"
           }
          ],
          "table": [
           {
            "cells": {
             "fill": {
              "color": "#EBF0F8"
             },
             "line": {
              "color": "white"
             }
            },
            "header": {
             "fill": {
              "color": "#C8D4E3"
             },
             "line": {
              "color": "white"
             }
            },
            "type": "table"
           }
          ]
         },
         "layout": {
          "annotationdefaults": {
           "arrowcolor": "#2a3f5f",
           "arrowhead": 0,
           "arrowwidth": 1
          },
          "autotypenumbers": "strict",
          "coloraxis": {
           "colorbar": {
            "outlinewidth": 0,
            "ticks": ""
           }
          },
          "colorscale": {
           "diverging": [
            [
             0,
             "#8e0152"
            ],
            [
             0.1,
             "#c51b7d"
            ],
            [
             0.2,
             "#de77ae"
            ],
            [
             0.3,
             "#f1b6da"
            ],
            [
             0.4,
             "#fde0ef"
            ],
            [
             0.5,
             "#f7f7f7"
            ],
            [
             0.6,
             "#e6f5d0"
            ],
            [
             0.7,
             "#b8e186"
            ],
            [
             0.8,
             "#7fbc41"
            ],
            [
             0.9,
             "#4d9221"
            ],
            [
             1,
             "#276419"
            ]
           ],
           "sequential": [
            [
             0,
             "#0d0887"
            ],
            [
             0.1111111111111111,
             "#46039f"
            ],
            [
             0.2222222222222222,
             "#7201a8"
            ],
            [
             0.3333333333333333,
             "#9c179e"
            ],
            [
             0.4444444444444444,
             "#bd3786"
            ],
            [
             0.5555555555555556,
             "#d8576b"
            ],
            [
             0.6666666666666666,
             "#ed7953"
            ],
            [
             0.7777777777777778,
             "#fb9f3a"
            ],
            [
             0.8888888888888888,
             "#fdca26"
            ],
            [
             1,
             "#f0f921"
            ]
           ],
           "sequentialminus": [
            [
             0,
             "#0d0887"
            ],
            [
             0.1111111111111111,
             "#46039f"
            ],
            [
             0.2222222222222222,
             "#7201a8"
            ],
            [
             0.3333333333333333,
             "#9c179e"
            ],
            [
             0.4444444444444444,
             "#bd3786"
            ],
            [
             0.5555555555555556,
             "#d8576b"
            ],
            [
             0.6666666666666666,
             "#ed7953"
            ],
            [
             0.7777777777777778,
             "#fb9f3a"
            ],
            [
             0.8888888888888888,
             "#fdca26"
            ],
            [
             1,
             "#f0f921"
            ]
           ]
          },
          "colorway": [
           "#636efa",
           "#EF553B",
           "#00cc96",
           "#ab63fa",
           "#FFA15A",
           "#19d3f3",
           "#FF6692",
           "#B6E880",
           "#FF97FF",
           "#FECB52"
          ],
          "font": {
           "color": "#2a3f5f"
          },
          "geo": {
           "bgcolor": "white",
           "lakecolor": "white",
           "landcolor": "#E5ECF6",
           "showlakes": true,
           "showland": true,
           "subunitcolor": "white"
          },
          "hoverlabel": {
           "align": "left"
          },
          "hovermode": "closest",
          "mapbox": {
           "style": "light"
          },
          "paper_bgcolor": "white",
          "plot_bgcolor": "#E5ECF6",
          "polar": {
           "angularaxis": {
            "gridcolor": "white",
            "linecolor": "white",
            "ticks": ""
           },
           "bgcolor": "#E5ECF6",
           "radialaxis": {
            "gridcolor": "white",
            "linecolor": "white",
            "ticks": ""
           }
          },
          "scene": {
           "xaxis": {
            "backgroundcolor": "#E5ECF6",
            "gridcolor": "white",
            "gridwidth": 2,
            "linecolor": "white",
            "showbackground": true,
            "ticks": "",
            "zerolinecolor": "white"
           },
           "yaxis": {
            "backgroundcolor": "#E5ECF6",
            "gridcolor": "white",
            "gridwidth": 2,
            "linecolor": "white",
            "showbackground": true,
            "ticks": "",
            "zerolinecolor": "white"
           },
           "zaxis": {
            "backgroundcolor": "#E5ECF6",
            "gridcolor": "white",
            "gridwidth": 2,
            "linecolor": "white",
            "showbackground": true,
            "ticks": "",
            "zerolinecolor": "white"
           }
          },
          "shapedefaults": {
           "line": {
            "color": "#2a3f5f"
           }
          },
          "ternary": {
           "aaxis": {
            "gridcolor": "white",
            "linecolor": "white",
            "ticks": ""
           },
           "baxis": {
            "gridcolor": "white",
            "linecolor": "white",
            "ticks": ""
           },
           "bgcolor": "#E5ECF6",
           "caxis": {
            "gridcolor": "white",
            "linecolor": "white",
            "ticks": ""
           }
          },
          "title": {
           "x": 0.05
          },
          "xaxis": {
           "automargin": true,
           "gridcolor": "white",
           "linecolor": "white",
           "ticks": "",
           "title": {
            "standoff": 15
           },
           "zerolinecolor": "white",
           "zerolinewidth": 2
          },
          "yaxis": {
           "automargin": true,
           "gridcolor": "white",
           "linecolor": "white",
           "ticks": "",
           "title": {
            "standoff": 15
           },
           "zerolinecolor": "white",
           "zerolinewidth": 2
          }
         }
        }
       }
      }
     },
     "metadata": {},
     "output_type": "display_data"
    }
   ],
   "source": [
    "px.scatter_3d(\n",
    "    x=X_with_preds.select(\"calendar_year\").to_series(),\n",
    "    z=X_with_preds.select(\"advertised_inventory_prediction\").to_series(),\n",
    "    y=X_with_preds.select(\"model_year\").to_series()\n",
    ")"
   ]
  },
  {
   "cell_type": "code",
   "execution_count": 234,
   "metadata": {},
   "outputs": [],
   "source": [
    "mixed_years = (\n",
    "    mixed_years\n",
    "        .select(\n",
    "            pl.all(),\n",
    "            (pl.col(\"model_year\") + 6/12 - pl.col(\"calendar_year\")).alias(\"yr_diff\"),\n",
    "        )\n",
    ")"
   ]
  },
  {
   "cell_type": "code",
   "execution_count": 238,
   "metadata": {},
   "outputs": [
    {
     "name": "stderr",
     "output_type": "stream",
     "text": [
      "/home/justin/bin/mambaforge/envs/justins_room/lib/python3.11/site-packages/plotly/express/_core.py:2065: FutureWarning:\n",
      "\n",
      "When grouping with a length-1 list-like, you will need to pass a length-1 tuple to get_group in a future version of pandas. Pass `(name,)` instead of `name` to silence this warning.\n",
      "\n"
     ]
    },
    {
     "data": {
      "application/vnd.plotly.v1+json": {
       "config": {
        "plotlyServerURL": "https://plot.ly"
       },
       "data": [
        {
         "hovertemplate": "color=2022<br>x=%{x}<br>y=%{y}<extra></extra>",
         "legendgroup": "2022",
         "marker": {
          "color": "#636efa",
          "symbol": "circle"
         },
         "mode": "markers",
         "name": "2022",
         "orientation": "v",
         "showlegend": true,
         "type": "scatter",
         "x": [
          2,
          1.599999999999909,
          0.07942800000000716,
          0.058571999999912805,
          0.037716000000045824,
          0.01686100000006263,
          -0.003995000000031723,
          -0.024850999999898704,
          -0.04570699999999306,
          -0.06656199999997625,
          -0.0874180000000706,
          -0.10827399999993759,
          -0.12913000000003194,
          -0.14998500000001513,
          -0.1708410000001095,
          -0.19169699999997647,
          -0.21255199999995966,
          -0.23340800000005402,
          -0.254263999999921,
          -0.27512000000001535,
          -0.29597499999999854,
          -0.3168310000000929,
          -0.3376869999999599,
          -0.35854300000005423,
          -0.3793980000000374,
          -0.4002539999999044,
          -0.42110999999999876,
          -0.4419660000000931,
          -0.4628210000000763,
          -0.4836769999999433,
          -0.5045330000000376,
          -0.5253880000000208,
          -0.5462439999998878,
          -0.5670999999999822,
          -0.5879560000000765,
          -0.6088110000000597,
          -0.6296669999999267,
          -0.6505230000000211,
          -0.671378999999888,
          -0.6922340000000986,
          -0.7130899999999656,
          -0.7339460000000599,
          -0.7548010000000431,
          -0.7756569999999101,
          -0.7965130000000045,
          -0.8173690000000988,
          -0.838224000000082,
          -0.859079999999949,
          -0.8799360000000434,
          -0.9007919999999103,
          -0.9216469999998935,
          -0.9425029999999879,
          -0.9633590000000822,
          -0.9842140000000654,
          -1.0050699999999324,
          -1.0259260000000268,
          -1.0467819999998937,
          -1.0676370000001043,
          -1.0884929999999713,
          -1.1093490000000656,
          -1.1302049999999326,
          -1.1510599999999158,
          -1.1719160000000102,
          -1.1927720000001045,
          -1.2136270000000877,
          -1.2344829999999547,
          -1.255339000000049,
          -1.276194999999916,
          -1.2970499999998992,
          -1.3179059999999936,
          -1.338762000000088,
          -1.359617999999955,
          -1.380472999999938,
          -1.4013290000000325,
          -1.4221849999998994,
          -1.4430409999999938,
          -1.463895999999977,
          -1.4847520000000713,
          -1.5056079999999383,
          -2.0499999999999545,
          -2.1900000000000546
         ],
         "xaxis": "x",
         "y": [
          0,
          0,
          935.612174,
          928.7684125,
          920.8980868,
          913.0277612,
          908.5793162,
          908.5793162,
          905.8418116,
          903.104307,
          899.3402382,
          883.9417749,
          867.8589355,
          851.433908,
          836.3776328,
          824.4010502,
          815.5041603,
          806.9494585,
          795.9994401,
          778.2056603,
          758.3587521,
          738.5118439,
          720.0336879,
          686.1570687,
          658.0976467,
          627.9850962,
          598.2147339,
          568.7865596,
          540.0427614,
          509.930211,
          482.2129771,
          451.4160505,
          421.6456881,
          392.5597019,
          363.4737157,
          334.0455414,
          303.932991,
          274.1626286,
          244.0500782,
          219.754725,
          197.1703122,
          174.2437113,
          152.6858627,
          136.2608352,
          122.2311242,
          108.8857893,
          97.59358289,
          92.80294986,
          82.30918229,
          69.87634896,
          60.29508292,
          56.53101411,
          50.3716288,
          45.92318385,
          41.13255082,
          36.3419178,
          35.31535358,
          29.49815634,
          27.78721597,
          25.04971138,
          20.25907836,
          16.83719763,
          16.49500956,
          13.4153169,
          12.73094075,
          12.73094075,
          9.993436167,
          8.966871947,
          6.913743509,
          5.202803143,
          5.202803143,
          5.202803143,
          5.202803143,
          5.202803143,
          5.202803143,
          5.202803143,
          5.202803143,
          5.202803143,
          3.491862777,
          0,
          0
         ],
         "yaxis": "y"
        },
        {
         "hovertemplate": "color=2023<br>x=%{x}<br>y=%{y}<extra></extra>",
         "legendgroup": "2023",
         "marker": {
          "color": "#EF553B",
          "symbol": "circle"
         },
         "mode": "markers",
         "name": "2023",
         "orientation": "v",
         "showlegend": true,
         "type": "scatter",
         "x": [
          2,
          1.599999999999909,
          1.0775320000000193,
          1.056675999999925,
          1.035820000000058,
          1.0149650000000747,
          0.9941089999999804,
          0.9732530000001134,
          0.952397000000019,
          0.9315420000000358,
          0.9106859999999415,
          0.8898300000000745,
          0.8689739999999802,
          0.848118999999997,
          0.8272629999999026,
          0.8064070000000356,
          0.7855520000000524,
          0.7646959999999581,
          0.7438400000000911,
          0.7229839999999967,
          0.7021290000000135,
          0.6812729999999192,
          0.6618920000000799,
          0.6395609999999579,
          0.6187059999999747,
          0.5978500000001077,
          0.5769940000000133,
          0.5561390000000301,
          0.5352829999999358,
          0.5144270000000688,
          0.49357099999997445,
          0.47271599999999125,
          0.4518599999998969,
          0.4310040000000299,
          0.41014799999993556,
          0.38929299999995237,
          0.3684370000000854,
          0.34758099999999104,
          0.3267249999998967,
          0.3058699999999135,
          0.2850140000000465,
          0.26415799999995215,
          0.24330299999996896,
          0.22244700000010198,
          0.20159100000000763,
          0.18073499999991327,
          0.15987999999993008,
          0.1390240000000631,
          0.11816799999996874,
          0.09731200000010176,
          0.0764569999998912,
          0.055601000000024214,
          0.03474499999992986,
          0.013889999999946667,
          -0.006965999999920314,
          -0.02782200000001467,
          -0.04867800000010902,
          -0.06953300000009222,
          -0.0903889999999592,
          -0.11124500000005355,
          -0.13210099999992053,
          -0.15295599999990372,
          -0.17381199999999808,
          -0.19466800000009243,
          -0.21552300000007563,
          -0.2363789999999426,
          -0.25723500000003696,
          -0.27809099999990394,
          -0.29894599999988714,
          -0.3198019999999815,
          -0.34065800000007584,
          -0.3615139999999428,
          -0.382368999999926,
          -0.4032250000000204,
          -0.42408099999988735,
          -0.4449360000000979,
          -0.4657919999999649,
          -0.48664800000005926,
          -0.5075039999999262,
          -0.5283589999999094,
          -0.5492150000000038,
          -0.5700710000000981,
          -0.5909269999999651,
          -0.6117819999999483,
          -0.6326380000000427,
          -0.6534939999999096,
          -0.674350000000004,
          -0.6952049999999872,
          -0.7160610000000815,
          -0.7369169999999485,
          -0.7577719999999317,
          -0.7786280000000261,
          -0.7994839999998931,
          -0.8203399999999874,
          -0.8411949999999706,
          -0.862051000000065,
          -0.8829069999999319,
          -0.9037630000000263,
          -0.9246180000000095,
          -0.9454740000001038,
          -0.9663299999999708,
          -0.987184999999954,
          -1.0080410000000484,
          -1.0288969999999154,
          -1.0497530000000097,
          -1.070607999999993,
          -1.0914640000000873,
          -1.1123199999999542,
          -1.1331760000000486,
          -1.1540310000000318,
          -1.1748869999998988,
          -1.1957429999999931,
          -1.2165979999999763,
          -1.2374540000000707,
          -1.2782179999999244,
          -1.900000000000091,
          -2.099999999999909
         ],
         "xaxis": "x",
         "y": [
          0,
          0,
          7.940307728,
          9.651248094,
          16.83719763,
          22.3122068,
          31.2090967,
          53.10913338,
          73.64041777,
          94.51389023,
          120.1779957,
          154.054615,
          187.9312342,
          221.1234773,
          256.3688488,
          293.6673488,
          334.0455414,
          371.0018533,
          418.5659955,
          489.3989266,
          557.8365412,
          629.3538485,
          681.0622685,
          744.3290411,
          786.7603622,
          830.2182475,
          881.2042704,
          936.6387382,
          992.073206,
          1044.770169,
          1100.204637,
          1148.110967,
          1193.964169,
          1239.132995,
          1282.933068,
          1323.995637,
          1363.689453,
          1404.409834,
          1440.339582,
          1471.136508,
          1500.564683,
          1529.650669,
          1556.341339,
          1572.766366,
          1587.480453,
          1603.563293,
          1614.513311,
          1610.064866,
          1597.746095,
          1587.480453,
          1572.766366,
          1567.291357,
          1573.79293,
          1577.899187,
          1577.556999,
          1563.869476,
          1538.889747,
          1516.305334,
          1487.561536,
          1459.844302,
          1432.127068,
          1403.725458,
          1374.98166,
          1341.447229,
          1308.597174,
          1276.773683,
          1241.528311,
          1202.176683,
          1154.954729,
          1097.467133,
          1051.613931,
          1010.551362,
          972.910674,
          936.2965501,
          898.9980502,
          862.0417383,
          825.0854264,
          785.3916099,
          747.7509218,
          708.7414815,
          669.047665,
          633.4601054,
          598.89911,
          558.5209174,
          520.8802293,
          485.6348578,
          447.9941698,
          409.6691056,
          376.1346744,
          340.8893029,
          306.3283075,
          274.1626286,
          254.6579085,
          235.1531883,
          216.6750323,
          196.485936,
          181.4296608,
          168.426514,
          148.9217939,
          138.3139636,
          129.4170737,
          120.5201838,
          111.2811058,
          102.726404,
          95.88264252,
          88.01231684,
          81.85293152,
          76.37792235,
          71.58728933,
          65.42790401,
          60.29508292,
          57.8997664,
          54.1356976,
          48.17184833,
          41.96520847,
          0,
          0
         ],
         "yaxis": "y"
        },
        {
         "hovertemplate": "color=2024<br>x=%{x}<br>y=%{y}<extra></extra>",
         "legendgroup": "2024",
         "marker": {
          "color": "#00cc96",
          "symbol": "circle"
         },
         "mode": "markers",
         "name": "2024",
         "orientation": "v",
         "showlegend": true,
         "type": "scatter",
         "x": [
          2,
          1.599999999999909,
          1.4859870000000228,
          1.4651320000000396,
          1.4442759999999453,
          1.4234200000000783,
          1.402565000000095,
          1.3817090000000007,
          1.3608529999999064,
          1.3399970000000394,
          1.3191420000000562,
          1.2982859999999619,
          1.2774300000000949,
          1.2565740000000005,
          1.2357190000000173,
          1.214862999999923,
          1.194007000000056,
          1.1731509999999616,
          1.1522959999999784,
          1.1371280000000752,
          1.0916250000000218,
          1.0707689999999275,
          1.0499130000000605,
          1.0290569999999661,
          1.008201999999983,
          0.9873459999998886,
          0.9664900000000216,
          0.9456339999999273,
          0.9247789999999441,
          0.9039230000000771,
          0.8830669999999827,
          0.8622119999999995,
          0.8413559999999052,
          0.8205000000000382,
          0.8015399999999318,
          0.7835290000000441,
          0.7645689999999377,
          0.7456090000000586,
          0.7266489999999521,
          0.7067420000000766,
          0.6855700000000979,
          0.6669260000001032,
          0.6460700000000088,
          0.6252150000000256,
          0.6043589999999313,
          0.5835030000000643,
          0.5626469999999699,
          0.5417919999999867,
          0.5209359999998924,
          0.5000800000000254,
          0.47922399999993104,
          0.45836899999994785,
          0.43751300000008086,
          0.4166569999999865,
          0.3958020000000033,
          0.37494599999990896,
          0.354090000000042,
          0.3332339999999476,
          0.31237899999996444,
          0.29152300000009745,
          0.2706670000000031,
          0.24981099999990874,
          0.22895599999992555,
          0.20810000000005857,
          0.18724399999996422,
          0.16638899999998102,
          0.14553299999988667,
          0.12467700000001969,
          0.10382099999992533,
          0.08296599999994214,
          0.06211000000007516,
          0.041253999999980806,
          0.02039799999988645,
          -0.00045700000009674113,
          -0.021312999999963722,
          -0.04216900000005808,
          -0.06302400000004127,
          -0.08387999999990825,
          -0.1047360000000026,
          -0.12559200000009696,
          -0.14644700000008015,
          -0.16730299999994713,
          -0.1881590000000415,
          -0.20901499999990847,
          -0.22986999999989166,
          -0.250725999999986,
          -0.27158200000008037,
          -0.2839059999998881,
          -1.95900000000006,
          -2.130000000000109
         ],
         "xaxis": "x",
         "y": [
          0,
          0,
          0,
          0,
          0,
          0,
          0,
          0,
          0,
          0,
          0,
          0,
          2.465298558,
          5.544991216,
          13.75750497,
          25.39189946,
          36.3419178,
          48.31850036,
          59.2685187,
          61.66383521,
          106.1482847,
          120.8623719,
          141.7358443,
          165.0046333,
          186.5624819,
          209.1468947,
          239.2594452,
          272.1095002,
          303.2486148,
          337.1252341,
          389.1378212,
          446.2832294,
          503.7708257,
          562.9693623,
          639.6575116,
          721.1286897,
          808.8314929,
          891.2645997,
          973.6977065,
          1054.693623,
          1137.560168,
          1213.468889,
          1294.567463,
          1361.294137,
          1426.994247,
          1490.641229,
          1553.946022,
          1602.878917,
          1652.838375,
          1699.033765,
          1749.335412,
          1804.76988,
          1860.888724,
          1918.718508,
          1976.890481,
          2043.617155,
          2113.081334,
          2182.203324,
          2250.640939,
          2310.523852,
          2365.95832,
          2423.788104,
          2478.538196,
          2506.597618,
          2524.733586,
          2542.527365,
          2557.583641,
          2557.241453,
          2548.344563,
          2539.105485,
          2532.261723,
          2527.128902,
          2527.128902,
          2526.102338,
          2522.680457,
          2495.989787,
          2452.87409,
          2409.074017,
          2366.300508,
          2318.051989,
          2266.039402,
          2214.369003,
          2165.436109,
          2111.370393,
          2060.042182,
          2006.660843,
          1954.648256,
          1926.759928,
          0,
          0
         ],
         "yaxis": "y"
        },
        {
         "hovertemplate": "color=2025<br>x=%{x}<br>y=%{y}<extra></extra>",
         "legendgroup": "2025",
         "marker": {
          "color": "#ab63fa",
          "symbol": "circle"
         },
         "mode": "markers",
         "name": "2025",
         "orientation": "v",
         "showlegend": true,
         "type": "scatter",
         "x": [
          2,
          1.599999999999909,
          1.4691760000000613,
          1.4488890000000083,
          1.428032999999914,
          1.407177000000047,
          1.3863220000000638,
          1.3654659999999694,
          1.3446100000001024,
          1.3237549999998919,
          1.302899000000025,
          1.2820429999999305,
          1.2611870000000636,
          1.2403320000000804,
          1.219475999999986,
          1.1986199999998917,
          1.1777640000000247,
          1.1569090000000415,
          1.1360529999999471,
          1.1151970000000802,
          1.0971850000000813,
          1.0715900000000147,
          1.0507339999999203,
          1.0298780000000534,
          1.0090230000000702,
          0.9881669999999758,
          0.9673110000001088,
          0.9464550000000145,
          0.9256000000000313,
          0.9047439999999369,
          0.88388800000007,
          0.8639800000000832,
          0.8440729999999803,
          0.8241649999999936,
          0.8052049999998871,
          0.7852969999999004,
          0.7663379999999052,
          0.7483259999999063,
          0.7293660000000273,
          0.7160940000001119,
          -1.900000000000091,
          -2.063000000000102
         ],
         "xaxis": "x",
         "y": [
          0,
          0,
          0,
          0,
          0,
          0,
          0,
          0,
          0,
          0,
          0,
          3.149674704,
          14.09969304,
          23.33877102,
          32.92003707,
          46.60755999,
          61.32164714,
          75.69354621,
          91.0920095,
          119.1514315,
          134.5926683,
          180.7452847,
          202.9875094,
          230.3625553,
          258.0797892,
          286.1392112,
          317.2783258,
          354.2346377,
          391.1909496,
          429.8582019,
          475.7114037,
          550.9927798,
          630.0382247,
          710.5892971,
          790.0111489,
          874.702697,
          958.3486704,
          1037.310469,
          1120.119983,
          1169.241081,
          0,
          0
         ],
         "yaxis": "y"
        }
       ],
       "layout": {
        "legend": {
         "title": {
          "text": "color"
         },
         "tracegroupgap": 0
        },
        "margin": {
         "t": 60
        },
        "template": {
         "data": {
          "bar": [
           {
            "error_x": {
             "color": "#2a3f5f"
            },
            "error_y": {
             "color": "#2a3f5f"
            },
            "marker": {
             "line": {
              "color": "#E5ECF6",
              "width": 0.5
             },
             "pattern": {
              "fillmode": "overlay",
              "size": 10,
              "solidity": 0.2
             }
            },
            "type": "bar"
           }
          ],
          "barpolar": [
           {
            "marker": {
             "line": {
              "color": "#E5ECF6",
              "width": 0.5
             },
             "pattern": {
              "fillmode": "overlay",
              "size": 10,
              "solidity": 0.2
             }
            },
            "type": "barpolar"
           }
          ],
          "carpet": [
           {
            "aaxis": {
             "endlinecolor": "#2a3f5f",
             "gridcolor": "white",
             "linecolor": "white",
             "minorgridcolor": "white",
             "startlinecolor": "#2a3f5f"
            },
            "baxis": {
             "endlinecolor": "#2a3f5f",
             "gridcolor": "white",
             "linecolor": "white",
             "minorgridcolor": "white",
             "startlinecolor": "#2a3f5f"
            },
            "type": "carpet"
           }
          ],
          "choropleth": [
           {
            "colorbar": {
             "outlinewidth": 0,
             "ticks": ""
            },
            "type": "choropleth"
           }
          ],
          "contour": [
           {
            "colorbar": {
             "outlinewidth": 0,
             "ticks": ""
            },
            "colorscale": [
             [
              0,
              "#0d0887"
             ],
             [
              0.1111111111111111,
              "#46039f"
             ],
             [
              0.2222222222222222,
              "#7201a8"
             ],
             [
              0.3333333333333333,
              "#9c179e"
             ],
             [
              0.4444444444444444,
              "#bd3786"
             ],
             [
              0.5555555555555556,
              "#d8576b"
             ],
             [
              0.6666666666666666,
              "#ed7953"
             ],
             [
              0.7777777777777778,
              "#fb9f3a"
             ],
             [
              0.8888888888888888,
              "#fdca26"
             ],
             [
              1,
              "#f0f921"
             ]
            ],
            "type": "contour"
           }
          ],
          "contourcarpet": [
           {
            "colorbar": {
             "outlinewidth": 0,
             "ticks": ""
            },
            "type": "contourcarpet"
           }
          ],
          "heatmap": [
           {
            "colorbar": {
             "outlinewidth": 0,
             "ticks": ""
            },
            "colorscale": [
             [
              0,
              "#0d0887"
             ],
             [
              0.1111111111111111,
              "#46039f"
             ],
             [
              0.2222222222222222,
              "#7201a8"
             ],
             [
              0.3333333333333333,
              "#9c179e"
             ],
             [
              0.4444444444444444,
              "#bd3786"
             ],
             [
              0.5555555555555556,
              "#d8576b"
             ],
             [
              0.6666666666666666,
              "#ed7953"
             ],
             [
              0.7777777777777778,
              "#fb9f3a"
             ],
             [
              0.8888888888888888,
              "#fdca26"
             ],
             [
              1,
              "#f0f921"
             ]
            ],
            "type": "heatmap"
           }
          ],
          "heatmapgl": [
           {
            "colorbar": {
             "outlinewidth": 0,
             "ticks": ""
            },
            "colorscale": [
             [
              0,
              "#0d0887"
             ],
             [
              0.1111111111111111,
              "#46039f"
             ],
             [
              0.2222222222222222,
              "#7201a8"
             ],
             [
              0.3333333333333333,
              "#9c179e"
             ],
             [
              0.4444444444444444,
              "#bd3786"
             ],
             [
              0.5555555555555556,
              "#d8576b"
             ],
             [
              0.6666666666666666,
              "#ed7953"
             ],
             [
              0.7777777777777778,
              "#fb9f3a"
             ],
             [
              0.8888888888888888,
              "#fdca26"
             ],
             [
              1,
              "#f0f921"
             ]
            ],
            "type": "heatmapgl"
           }
          ],
          "histogram": [
           {
            "marker": {
             "pattern": {
              "fillmode": "overlay",
              "size": 10,
              "solidity": 0.2
             }
            },
            "type": "histogram"
           }
          ],
          "histogram2d": [
           {
            "colorbar": {
             "outlinewidth": 0,
             "ticks": ""
            },
            "colorscale": [
             [
              0,
              "#0d0887"
             ],
             [
              0.1111111111111111,
              "#46039f"
             ],
             [
              0.2222222222222222,
              "#7201a8"
             ],
             [
              0.3333333333333333,
              "#9c179e"
             ],
             [
              0.4444444444444444,
              "#bd3786"
             ],
             [
              0.5555555555555556,
              "#d8576b"
             ],
             [
              0.6666666666666666,
              "#ed7953"
             ],
             [
              0.7777777777777778,
              "#fb9f3a"
             ],
             [
              0.8888888888888888,
              "#fdca26"
             ],
             [
              1,
              "#f0f921"
             ]
            ],
            "type": "histogram2d"
           }
          ],
          "histogram2dcontour": [
           {
            "colorbar": {
             "outlinewidth": 0,
             "ticks": ""
            },
            "colorscale": [
             [
              0,
              "#0d0887"
             ],
             [
              0.1111111111111111,
              "#46039f"
             ],
             [
              0.2222222222222222,
              "#7201a8"
             ],
             [
              0.3333333333333333,
              "#9c179e"
             ],
             [
              0.4444444444444444,
              "#bd3786"
             ],
             [
              0.5555555555555556,
              "#d8576b"
             ],
             [
              0.6666666666666666,
              "#ed7953"
             ],
             [
              0.7777777777777778,
              "#fb9f3a"
             ],
             [
              0.8888888888888888,
              "#fdca26"
             ],
             [
              1,
              "#f0f921"
             ]
            ],
            "type": "histogram2dcontour"
           }
          ],
          "mesh3d": [
           {
            "colorbar": {
             "outlinewidth": 0,
             "ticks": ""
            },
            "type": "mesh3d"
           }
          ],
          "parcoords": [
           {
            "line": {
             "colorbar": {
              "outlinewidth": 0,
              "ticks": ""
             }
            },
            "type": "parcoords"
           }
          ],
          "pie": [
           {
            "automargin": true,
            "type": "pie"
           }
          ],
          "scatter": [
           {
            "fillpattern": {
             "fillmode": "overlay",
             "size": 10,
             "solidity": 0.2
            },
            "type": "scatter"
           }
          ],
          "scatter3d": [
           {
            "line": {
             "colorbar": {
              "outlinewidth": 0,
              "ticks": ""
             }
            },
            "marker": {
             "colorbar": {
              "outlinewidth": 0,
              "ticks": ""
             }
            },
            "type": "scatter3d"
           }
          ],
          "scattercarpet": [
           {
            "marker": {
             "colorbar": {
              "outlinewidth": 0,
              "ticks": ""
             }
            },
            "type": "scattercarpet"
           }
          ],
          "scattergeo": [
           {
            "marker": {
             "colorbar": {
              "outlinewidth": 0,
              "ticks": ""
             }
            },
            "type": "scattergeo"
           }
          ],
          "scattergl": [
           {
            "marker": {
             "colorbar": {
              "outlinewidth": 0,
              "ticks": ""
             }
            },
            "type": "scattergl"
           }
          ],
          "scattermapbox": [
           {
            "marker": {
             "colorbar": {
              "outlinewidth": 0,
              "ticks": ""
             }
            },
            "type": "scattermapbox"
           }
          ],
          "scatterpolar": [
           {
            "marker": {
             "colorbar": {
              "outlinewidth": 0,
              "ticks": ""
             }
            },
            "type": "scatterpolar"
           }
          ],
          "scatterpolargl": [
           {
            "marker": {
             "colorbar": {
              "outlinewidth": 0,
              "ticks": ""
             }
            },
            "type": "scatterpolargl"
           }
          ],
          "scatterternary": [
           {
            "marker": {
             "colorbar": {
              "outlinewidth": 0,
              "ticks": ""
             }
            },
            "type": "scatterternary"
           }
          ],
          "surface": [
           {
            "colorbar": {
             "outlinewidth": 0,
             "ticks": ""
            },
            "colorscale": [
             [
              0,
              "#0d0887"
             ],
             [
              0.1111111111111111,
              "#46039f"
             ],
             [
              0.2222222222222222,
              "#7201a8"
             ],
             [
              0.3333333333333333,
              "#9c179e"
             ],
             [
              0.4444444444444444,
              "#bd3786"
             ],
             [
              0.5555555555555556,
              "#d8576b"
             ],
             [
              0.6666666666666666,
              "#ed7953"
             ],
             [
              0.7777777777777778,
              "#fb9f3a"
             ],
             [
              0.8888888888888888,
              "#fdca26"
             ],
             [
              1,
              "#f0f921"
             ]
            ],
            "type": "surface"
           }
          ],
          "table": [
           {
            "cells": {
             "fill": {
              "color": "#EBF0F8"
             },
             "line": {
              "color": "white"
             }
            },
            "header": {
             "fill": {
              "color": "#C8D4E3"
             },
             "line": {
              "color": "white"
             }
            },
            "type": "table"
           }
          ]
         },
         "layout": {
          "annotationdefaults": {
           "arrowcolor": "#2a3f5f",
           "arrowhead": 0,
           "arrowwidth": 1
          },
          "autotypenumbers": "strict",
          "coloraxis": {
           "colorbar": {
            "outlinewidth": 0,
            "ticks": ""
           }
          },
          "colorscale": {
           "diverging": [
            [
             0,
             "#8e0152"
            ],
            [
             0.1,
             "#c51b7d"
            ],
            [
             0.2,
             "#de77ae"
            ],
            [
             0.3,
             "#f1b6da"
            ],
            [
             0.4,
             "#fde0ef"
            ],
            [
             0.5,
             "#f7f7f7"
            ],
            [
             0.6,
             "#e6f5d0"
            ],
            [
             0.7,
             "#b8e186"
            ],
            [
             0.8,
             "#7fbc41"
            ],
            [
             0.9,
             "#4d9221"
            ],
            [
             1,
             "#276419"
            ]
           ],
           "sequential": [
            [
             0,
             "#0d0887"
            ],
            [
             0.1111111111111111,
             "#46039f"
            ],
            [
             0.2222222222222222,
             "#7201a8"
            ],
            [
             0.3333333333333333,
             "#9c179e"
            ],
            [
             0.4444444444444444,
             "#bd3786"
            ],
            [
             0.5555555555555556,
             "#d8576b"
            ],
            [
             0.6666666666666666,
             "#ed7953"
            ],
            [
             0.7777777777777778,
             "#fb9f3a"
            ],
            [
             0.8888888888888888,
             "#fdca26"
            ],
            [
             1,
             "#f0f921"
            ]
           ],
           "sequentialminus": [
            [
             0,
             "#0d0887"
            ],
            [
             0.1111111111111111,
             "#46039f"
            ],
            [
             0.2222222222222222,
             "#7201a8"
            ],
            [
             0.3333333333333333,
             "#9c179e"
            ],
            [
             0.4444444444444444,
             "#bd3786"
            ],
            [
             0.5555555555555556,
             "#d8576b"
            ],
            [
             0.6666666666666666,
             "#ed7953"
            ],
            [
             0.7777777777777778,
             "#fb9f3a"
            ],
            [
             0.8888888888888888,
             "#fdca26"
            ],
            [
             1,
             "#f0f921"
            ]
           ]
          },
          "colorway": [
           "#636efa",
           "#EF553B",
           "#00cc96",
           "#ab63fa",
           "#FFA15A",
           "#19d3f3",
           "#FF6692",
           "#B6E880",
           "#FF97FF",
           "#FECB52"
          ],
          "font": {
           "color": "#2a3f5f"
          },
          "geo": {
           "bgcolor": "white",
           "lakecolor": "white",
           "landcolor": "#E5ECF6",
           "showlakes": true,
           "showland": true,
           "subunitcolor": "white"
          },
          "hoverlabel": {
           "align": "left"
          },
          "hovermode": "closest",
          "mapbox": {
           "style": "light"
          },
          "paper_bgcolor": "white",
          "plot_bgcolor": "#E5ECF6",
          "polar": {
           "angularaxis": {
            "gridcolor": "white",
            "linecolor": "white",
            "ticks": ""
           },
           "bgcolor": "#E5ECF6",
           "radialaxis": {
            "gridcolor": "white",
            "linecolor": "white",
            "ticks": ""
           }
          },
          "scene": {
           "xaxis": {
            "backgroundcolor": "#E5ECF6",
            "gridcolor": "white",
            "gridwidth": 2,
            "linecolor": "white",
            "showbackground": true,
            "ticks": "",
            "zerolinecolor": "white"
           },
           "yaxis": {
            "backgroundcolor": "#E5ECF6",
            "gridcolor": "white",
            "gridwidth": 2,
            "linecolor": "white",
            "showbackground": true,
            "ticks": "",
            "zerolinecolor": "white"
           },
           "zaxis": {
            "backgroundcolor": "#E5ECF6",
            "gridcolor": "white",
            "gridwidth": 2,
            "linecolor": "white",
            "showbackground": true,
            "ticks": "",
            "zerolinecolor": "white"
           }
          },
          "shapedefaults": {
           "line": {
            "color": "#2a3f5f"
           }
          },
          "ternary": {
           "aaxis": {
            "gridcolor": "white",
            "linecolor": "white",
            "ticks": ""
           },
           "baxis": {
            "gridcolor": "white",
            "linecolor": "white",
            "ticks": ""
           },
           "bgcolor": "#E5ECF6",
           "caxis": {
            "gridcolor": "white",
            "linecolor": "white",
            "ticks": ""
           }
          },
          "title": {
           "x": 0.05
          },
          "xaxis": {
           "automargin": true,
           "gridcolor": "white",
           "linecolor": "white",
           "ticks": "",
           "title": {
            "standoff": 15
           },
           "zerolinecolor": "white",
           "zerolinewidth": 2
          },
          "yaxis": {
           "automargin": true,
           "gridcolor": "white",
           "linecolor": "white",
           "ticks": "",
           "title": {
            "standoff": 15
           },
           "zerolinecolor": "white",
           "zerolinewidth": 2
          }
         }
        },
        "xaxis": {
         "anchor": "y",
         "domain": [
          0,
          1
         ],
         "title": {
          "text": "x"
         }
        },
        "yaxis": {
         "anchor": "x",
         "domain": [
          0,
          1
         ],
         "title": {
          "text": "y"
         }
        }
       }
      }
     },
     "metadata": {},
     "output_type": "display_data"
    }
   ],
   "source": [
    "px.scatter(\n",
    "    x=mixed_years.select(\"yr_diff\").collect().to_series(),\n",
    "    y=mixed_years.select(\"advertised_inventory\").collect().to_series(),\n",
    "    color=mixed_years.select(pl.col(\"model_year\").cast(pl.Utf8)).collect().to_series()\n",
    ")"
   ]
  },
  {
   "cell_type": "code",
   "execution_count": 304,
   "metadata": {},
   "outputs": [],
   "source": [
    "# https://www.cs.toronto.edu/~duvenaud/cookbook/\n",
    "kernel_1 = 1500.0**2 * RBF(length_scale=1500.0, length_scale_bounds=(1e2,3e3)) \n",
    "noise_kernel = 1.0**2 * RBF(length_scale=1.0, length_scale_bounds=(1e-5,2.0)) + WhiteKernel(\n",
    "    noise_level=1500.0**2, noise_level_bounds=(1e1, 1e4)\n",
    ")\n",
    "kernel = kernel_1 + noise_kernel"
   ]
  },
  {
   "cell_type": "code",
   "execution_count": 312,
   "metadata": {},
   "outputs": [
    {
     "name": "stderr",
     "output_type": "stream",
     "text": [
      "/home/justin/bin/mambaforge/envs/justins_room/lib/python3.11/site-packages/sklearn/gaussian_process/kernels.py:452: ConvergenceWarning:\n",
      "\n",
      "The optimal value found for dimension 0 of parameter k1__k1__constant_value is close to the specified upper bound 100000.0. Increasing the bound and calling fit again may find a better value.\n",
      "\n",
      "/home/justin/bin/mambaforge/envs/justins_room/lib/python3.11/site-packages/sklearn/gaussian_process/kernels.py:452: ConvergenceWarning:\n",
      "\n",
      "The optimal value found for dimension 0 of parameter k2__k1__k1__constant_value is close to the specified upper bound 100000.0. Increasing the bound and calling fit again may find a better value.\n",
      "\n",
      "/home/justin/bin/mambaforge/envs/justins_room/lib/python3.11/site-packages/sklearn/gaussian_process/kernels.py:442: ConvergenceWarning:\n",
      "\n",
      "The optimal value found for dimension 0 of parameter k2__k2__noise_level is close to the specified lower bound 10.0. Decreasing the bound and calling fit again may find a better value.\n",
      "\n"
     ]
    },
    {
     "data": {
      "text/html": [
       "<style>#sk-container-id-32 {\n",
       "  /* Definition of color scheme common for light and dark mode */\n",
       "  --sklearn-color-text: #000;\n",
       "  --sklearn-color-text-muted: #666;\n",
       "  --sklearn-color-line: gray;\n",
       "  /* Definition of color scheme for unfitted estimators */\n",
       "  --sklearn-color-unfitted-level-0: #fff5e6;\n",
       "  --sklearn-color-unfitted-level-1: #f6e4d2;\n",
       "  --sklearn-color-unfitted-level-2: #ffe0b3;\n",
       "  --sklearn-color-unfitted-level-3: chocolate;\n",
       "  /* Definition of color scheme for fitted estimators */\n",
       "  --sklearn-color-fitted-level-0: #f0f8ff;\n",
       "  --sklearn-color-fitted-level-1: #d4ebff;\n",
       "  --sklearn-color-fitted-level-2: #b3dbfd;\n",
       "  --sklearn-color-fitted-level-3: cornflowerblue;\n",
       "\n",
       "  /* Specific color for light theme */\n",
       "  --sklearn-color-text-on-default-background: var(--sg-text-color, var(--theme-code-foreground, var(--jp-content-font-color1, black)));\n",
       "  --sklearn-color-background: var(--sg-background-color, var(--theme-background, var(--jp-layout-color0, white)));\n",
       "  --sklearn-color-border-box: var(--sg-text-color, var(--theme-code-foreground, var(--jp-content-font-color1, black)));\n",
       "  --sklearn-color-icon: #696969;\n",
       "\n",
       "  @media (prefers-color-scheme: dark) {\n",
       "    /* Redefinition of color scheme for dark theme */\n",
       "    --sklearn-color-text-on-default-background: var(--sg-text-color, var(--theme-code-foreground, var(--jp-content-font-color1, white)));\n",
       "    --sklearn-color-background: var(--sg-background-color, var(--theme-background, var(--jp-layout-color0, #111)));\n",
       "    --sklearn-color-border-box: var(--sg-text-color, var(--theme-code-foreground, var(--jp-content-font-color1, white)));\n",
       "    --sklearn-color-icon: #878787;\n",
       "  }\n",
       "}\n",
       "\n",
       "#sk-container-id-32 {\n",
       "  color: var(--sklearn-color-text);\n",
       "}\n",
       "\n",
       "#sk-container-id-32 pre {\n",
       "  padding: 0;\n",
       "}\n",
       "\n",
       "#sk-container-id-32 input.sk-hidden--visually {\n",
       "  border: 0;\n",
       "  clip: rect(1px 1px 1px 1px);\n",
       "  clip: rect(1px, 1px, 1px, 1px);\n",
       "  height: 1px;\n",
       "  margin: -1px;\n",
       "  overflow: hidden;\n",
       "  padding: 0;\n",
       "  position: absolute;\n",
       "  width: 1px;\n",
       "}\n",
       "\n",
       "#sk-container-id-32 div.sk-dashed-wrapped {\n",
       "  border: 1px dashed var(--sklearn-color-line);\n",
       "  margin: 0 0.4em 0.5em 0.4em;\n",
       "  box-sizing: border-box;\n",
       "  padding-bottom: 0.4em;\n",
       "  background-color: var(--sklearn-color-background);\n",
       "}\n",
       "\n",
       "#sk-container-id-32 div.sk-container {\n",
       "  /* jupyter's `normalize.less` sets `[hidden] { display: none; }`\n",
       "     but bootstrap.min.css set `[hidden] { display: none !important; }`\n",
       "     so we also need the `!important` here to be able to override the\n",
       "     default hidden behavior on the sphinx rendered scikit-learn.org.\n",
       "     See: https://github.com/scikit-learn/scikit-learn/issues/21755 */\n",
       "  display: inline-block !important;\n",
       "  position: relative;\n",
       "}\n",
       "\n",
       "#sk-container-id-32 div.sk-text-repr-fallback {\n",
       "  display: none;\n",
       "}\n",
       "\n",
       "div.sk-parallel-item,\n",
       "div.sk-serial,\n",
       "div.sk-item {\n",
       "  /* draw centered vertical line to link estimators */\n",
       "  background-image: linear-gradient(var(--sklearn-color-text-on-default-background), var(--sklearn-color-text-on-default-background));\n",
       "  background-size: 2px 100%;\n",
       "  background-repeat: no-repeat;\n",
       "  background-position: center center;\n",
       "}\n",
       "\n",
       "/* Parallel-specific style estimator block */\n",
       "\n",
       "#sk-container-id-32 div.sk-parallel-item::after {\n",
       "  content: \"\";\n",
       "  width: 100%;\n",
       "  border-bottom: 2px solid var(--sklearn-color-text-on-default-background);\n",
       "  flex-grow: 1;\n",
       "}\n",
       "\n",
       "#sk-container-id-32 div.sk-parallel {\n",
       "  display: flex;\n",
       "  align-items: stretch;\n",
       "  justify-content: center;\n",
       "  background-color: var(--sklearn-color-background);\n",
       "  position: relative;\n",
       "}\n",
       "\n",
       "#sk-container-id-32 div.sk-parallel-item {\n",
       "  display: flex;\n",
       "  flex-direction: column;\n",
       "}\n",
       "\n",
       "#sk-container-id-32 div.sk-parallel-item:first-child::after {\n",
       "  align-self: flex-end;\n",
       "  width: 50%;\n",
       "}\n",
       "\n",
       "#sk-container-id-32 div.sk-parallel-item:last-child::after {\n",
       "  align-self: flex-start;\n",
       "  width: 50%;\n",
       "}\n",
       "\n",
       "#sk-container-id-32 div.sk-parallel-item:only-child::after {\n",
       "  width: 0;\n",
       "}\n",
       "\n",
       "/* Serial-specific style estimator block */\n",
       "\n",
       "#sk-container-id-32 div.sk-serial {\n",
       "  display: flex;\n",
       "  flex-direction: column;\n",
       "  align-items: center;\n",
       "  background-color: var(--sklearn-color-background);\n",
       "  padding-right: 1em;\n",
       "  padding-left: 1em;\n",
       "}\n",
       "\n",
       "\n",
       "/* Toggleable style: style used for estimator/Pipeline/ColumnTransformer box that is\n",
       "clickable and can be expanded/collapsed.\n",
       "- Pipeline and ColumnTransformer use this feature and define the default style\n",
       "- Estimators will overwrite some part of the style using the `sk-estimator` class\n",
       "*/\n",
       "\n",
       "/* Pipeline and ColumnTransformer style (default) */\n",
       "\n",
       "#sk-container-id-32 div.sk-toggleable {\n",
       "  /* Default theme specific background. It is overwritten whether we have a\n",
       "  specific estimator or a Pipeline/ColumnTransformer */\n",
       "  background-color: var(--sklearn-color-background);\n",
       "}\n",
       "\n",
       "/* Toggleable label */\n",
       "#sk-container-id-32 label.sk-toggleable__label {\n",
       "  cursor: pointer;\n",
       "  display: flex;\n",
       "  width: 100%;\n",
       "  margin-bottom: 0;\n",
       "  padding: 0.5em;\n",
       "  box-sizing: border-box;\n",
       "  text-align: center;\n",
       "  align-items: start;\n",
       "  justify-content: space-between;\n",
       "  gap: 0.5em;\n",
       "}\n",
       "\n",
       "#sk-container-id-32 label.sk-toggleable__label .caption {\n",
       "  font-size: 0.6rem;\n",
       "  font-weight: lighter;\n",
       "  color: var(--sklearn-color-text-muted);\n",
       "}\n",
       "\n",
       "#sk-container-id-32 label.sk-toggleable__label-arrow:before {\n",
       "  /* Arrow on the left of the label */\n",
       "  content: \"▸\";\n",
       "  float: left;\n",
       "  margin-right: 0.25em;\n",
       "  color: var(--sklearn-color-icon);\n",
       "}\n",
       "\n",
       "#sk-container-id-32 label.sk-toggleable__label-arrow:hover:before {\n",
       "  color: var(--sklearn-color-text);\n",
       "}\n",
       "\n",
       "/* Toggleable content - dropdown */\n",
       "\n",
       "#sk-container-id-32 div.sk-toggleable__content {\n",
       "  max-height: 0;\n",
       "  max-width: 0;\n",
       "  overflow: hidden;\n",
       "  text-align: left;\n",
       "  /* unfitted */\n",
       "  background-color: var(--sklearn-color-unfitted-level-0);\n",
       "}\n",
       "\n",
       "#sk-container-id-32 div.sk-toggleable__content.fitted {\n",
       "  /* fitted */\n",
       "  background-color: var(--sklearn-color-fitted-level-0);\n",
       "}\n",
       "\n",
       "#sk-container-id-32 div.sk-toggleable__content pre {\n",
       "  margin: 0.2em;\n",
       "  border-radius: 0.25em;\n",
       "  color: var(--sklearn-color-text);\n",
       "  /* unfitted */\n",
       "  background-color: var(--sklearn-color-unfitted-level-0);\n",
       "}\n",
       "\n",
       "#sk-container-id-32 div.sk-toggleable__content.fitted pre {\n",
       "  /* unfitted */\n",
       "  background-color: var(--sklearn-color-fitted-level-0);\n",
       "}\n",
       "\n",
       "#sk-container-id-32 input.sk-toggleable__control:checked~div.sk-toggleable__content {\n",
       "  /* Expand drop-down */\n",
       "  max-height: 200px;\n",
       "  max-width: 100%;\n",
       "  overflow: auto;\n",
       "}\n",
       "\n",
       "#sk-container-id-32 input.sk-toggleable__control:checked~label.sk-toggleable__label-arrow:before {\n",
       "  content: \"▾\";\n",
       "}\n",
       "\n",
       "/* Pipeline/ColumnTransformer-specific style */\n",
       "\n",
       "#sk-container-id-32 div.sk-label input.sk-toggleable__control:checked~label.sk-toggleable__label {\n",
       "  color: var(--sklearn-color-text);\n",
       "  background-color: var(--sklearn-color-unfitted-level-2);\n",
       "}\n",
       "\n",
       "#sk-container-id-32 div.sk-label.fitted input.sk-toggleable__control:checked~label.sk-toggleable__label {\n",
       "  background-color: var(--sklearn-color-fitted-level-2);\n",
       "}\n",
       "\n",
       "/* Estimator-specific style */\n",
       "\n",
       "/* Colorize estimator box */\n",
       "#sk-container-id-32 div.sk-estimator input.sk-toggleable__control:checked~label.sk-toggleable__label {\n",
       "  /* unfitted */\n",
       "  background-color: var(--sklearn-color-unfitted-level-2);\n",
       "}\n",
       "\n",
       "#sk-container-id-32 div.sk-estimator.fitted input.sk-toggleable__control:checked~label.sk-toggleable__label {\n",
       "  /* fitted */\n",
       "  background-color: var(--sklearn-color-fitted-level-2);\n",
       "}\n",
       "\n",
       "#sk-container-id-32 div.sk-label label.sk-toggleable__label,\n",
       "#sk-container-id-32 div.sk-label label {\n",
       "  /* The background is the default theme color */\n",
       "  color: var(--sklearn-color-text-on-default-background);\n",
       "}\n",
       "\n",
       "/* On hover, darken the color of the background */\n",
       "#sk-container-id-32 div.sk-label:hover label.sk-toggleable__label {\n",
       "  color: var(--sklearn-color-text);\n",
       "  background-color: var(--sklearn-color-unfitted-level-2);\n",
       "}\n",
       "\n",
       "/* Label box, darken color on hover, fitted */\n",
       "#sk-container-id-32 div.sk-label.fitted:hover label.sk-toggleable__label.fitted {\n",
       "  color: var(--sklearn-color-text);\n",
       "  background-color: var(--sklearn-color-fitted-level-2);\n",
       "}\n",
       "\n",
       "/* Estimator label */\n",
       "\n",
       "#sk-container-id-32 div.sk-label label {\n",
       "  font-family: monospace;\n",
       "  font-weight: bold;\n",
       "  display: inline-block;\n",
       "  line-height: 1.2em;\n",
       "}\n",
       "\n",
       "#sk-container-id-32 div.sk-label-container {\n",
       "  text-align: center;\n",
       "}\n",
       "\n",
       "/* Estimator-specific */\n",
       "#sk-container-id-32 div.sk-estimator {\n",
       "  font-family: monospace;\n",
       "  border: 1px dotted var(--sklearn-color-border-box);\n",
       "  border-radius: 0.25em;\n",
       "  box-sizing: border-box;\n",
       "  margin-bottom: 0.5em;\n",
       "  /* unfitted */\n",
       "  background-color: var(--sklearn-color-unfitted-level-0);\n",
       "}\n",
       "\n",
       "#sk-container-id-32 div.sk-estimator.fitted {\n",
       "  /* fitted */\n",
       "  background-color: var(--sklearn-color-fitted-level-0);\n",
       "}\n",
       "\n",
       "/* on hover */\n",
       "#sk-container-id-32 div.sk-estimator:hover {\n",
       "  /* unfitted */\n",
       "  background-color: var(--sklearn-color-unfitted-level-2);\n",
       "}\n",
       "\n",
       "#sk-container-id-32 div.sk-estimator.fitted:hover {\n",
       "  /* fitted */\n",
       "  background-color: var(--sklearn-color-fitted-level-2);\n",
       "}\n",
       "\n",
       "/* Specification for estimator info (e.g. \"i\" and \"?\") */\n",
       "\n",
       "/* Common style for \"i\" and \"?\" */\n",
       "\n",
       ".sk-estimator-doc-link,\n",
       "a:link.sk-estimator-doc-link,\n",
       "a:visited.sk-estimator-doc-link {\n",
       "  float: right;\n",
       "  font-size: smaller;\n",
       "  line-height: 1em;\n",
       "  font-family: monospace;\n",
       "  background-color: var(--sklearn-color-background);\n",
       "  border-radius: 1em;\n",
       "  height: 1em;\n",
       "  width: 1em;\n",
       "  text-decoration: none !important;\n",
       "  margin-left: 0.5em;\n",
       "  text-align: center;\n",
       "  /* unfitted */\n",
       "  border: var(--sklearn-color-unfitted-level-1) 1pt solid;\n",
       "  color: var(--sklearn-color-unfitted-level-1);\n",
       "}\n",
       "\n",
       ".sk-estimator-doc-link.fitted,\n",
       "a:link.sk-estimator-doc-link.fitted,\n",
       "a:visited.sk-estimator-doc-link.fitted {\n",
       "  /* fitted */\n",
       "  border: var(--sklearn-color-fitted-level-1) 1pt solid;\n",
       "  color: var(--sklearn-color-fitted-level-1);\n",
       "}\n",
       "\n",
       "/* On hover */\n",
       "div.sk-estimator:hover .sk-estimator-doc-link:hover,\n",
       ".sk-estimator-doc-link:hover,\n",
       "div.sk-label-container:hover .sk-estimator-doc-link:hover,\n",
       ".sk-estimator-doc-link:hover {\n",
       "  /* unfitted */\n",
       "  background-color: var(--sklearn-color-unfitted-level-3);\n",
       "  color: var(--sklearn-color-background);\n",
       "  text-decoration: none;\n",
       "}\n",
       "\n",
       "div.sk-estimator.fitted:hover .sk-estimator-doc-link.fitted:hover,\n",
       ".sk-estimator-doc-link.fitted:hover,\n",
       "div.sk-label-container:hover .sk-estimator-doc-link.fitted:hover,\n",
       ".sk-estimator-doc-link.fitted:hover {\n",
       "  /* fitted */\n",
       "  background-color: var(--sklearn-color-fitted-level-3);\n",
       "  color: var(--sklearn-color-background);\n",
       "  text-decoration: none;\n",
       "}\n",
       "\n",
       "/* Span, style for the box shown on hovering the info icon */\n",
       ".sk-estimator-doc-link span {\n",
       "  display: none;\n",
       "  z-index: 9999;\n",
       "  position: relative;\n",
       "  font-weight: normal;\n",
       "  right: .2ex;\n",
       "  padding: .5ex;\n",
       "  margin: .5ex;\n",
       "  width: min-content;\n",
       "  min-width: 20ex;\n",
       "  max-width: 50ex;\n",
       "  color: var(--sklearn-color-text);\n",
       "  box-shadow: 2pt 2pt 4pt #999;\n",
       "  /* unfitted */\n",
       "  background: var(--sklearn-color-unfitted-level-0);\n",
       "  border: .5pt solid var(--sklearn-color-unfitted-level-3);\n",
       "}\n",
       "\n",
       ".sk-estimator-doc-link.fitted span {\n",
       "  /* fitted */\n",
       "  background: var(--sklearn-color-fitted-level-0);\n",
       "  border: var(--sklearn-color-fitted-level-3);\n",
       "}\n",
       "\n",
       ".sk-estimator-doc-link:hover span {\n",
       "  display: block;\n",
       "}\n",
       "\n",
       "/* \"?\"-specific style due to the `<a>` HTML tag */\n",
       "\n",
       "#sk-container-id-32 a.estimator_doc_link {\n",
       "  float: right;\n",
       "  font-size: 1rem;\n",
       "  line-height: 1em;\n",
       "  font-family: monospace;\n",
       "  background-color: var(--sklearn-color-background);\n",
       "  border-radius: 1rem;\n",
       "  height: 1rem;\n",
       "  width: 1rem;\n",
       "  text-decoration: none;\n",
       "  /* unfitted */\n",
       "  color: var(--sklearn-color-unfitted-level-1);\n",
       "  border: var(--sklearn-color-unfitted-level-1) 1pt solid;\n",
       "}\n",
       "\n",
       "#sk-container-id-32 a.estimator_doc_link.fitted {\n",
       "  /* fitted */\n",
       "  border: var(--sklearn-color-fitted-level-1) 1pt solid;\n",
       "  color: var(--sklearn-color-fitted-level-1);\n",
       "}\n",
       "\n",
       "/* On hover */\n",
       "#sk-container-id-32 a.estimator_doc_link:hover {\n",
       "  /* unfitted */\n",
       "  background-color: var(--sklearn-color-unfitted-level-3);\n",
       "  color: var(--sklearn-color-background);\n",
       "  text-decoration: none;\n",
       "}\n",
       "\n",
       "#sk-container-id-32 a.estimator_doc_link.fitted:hover {\n",
       "  /* fitted */\n",
       "  background-color: var(--sklearn-color-fitted-level-3);\n",
       "}\n",
       "</style><div id=\"sk-container-id-32\" class=\"sk-top-container\"><div class=\"sk-text-repr-fallback\"><pre>GaussianProcessRegressor(alpha=2500,\n",
       "                         kernel=1.5e+03**2 * RBF(length_scale=1.5e+03) + 1**2 * RBF(length_scale=1) + WhiteKernel(noise_level=2.25e+06),\n",
       "                         n_restarts_optimizer=50)</pre><b>In a Jupyter environment, please rerun this cell to show the HTML representation or trust the notebook. <br />On GitHub, the HTML representation is unable to render, please try loading this page with nbviewer.org.</b></div><div class=\"sk-container\" hidden><div class=\"sk-item\"><div class=\"sk-estimator fitted sk-toggleable\"><input class=\"sk-toggleable__control sk-hidden--visually\" id=\"sk-estimator-id-32\" type=\"checkbox\" checked><label for=\"sk-estimator-id-32\" class=\"sk-toggleable__label fitted sk-toggleable__label-arrow\"><div><div>GaussianProcessRegressor</div></div><div><a class=\"sk-estimator-doc-link fitted\" rel=\"noreferrer\" target=\"_blank\" href=\"https://scikit-learn.org/1.6/modules/generated/sklearn.gaussian_process.GaussianProcessRegressor.html\">?<span>Documentation for GaussianProcessRegressor</span></a><span class=\"sk-estimator-doc-link fitted\">i<span>Fitted</span></span></div></label><div class=\"sk-toggleable__content fitted\"><pre>GaussianProcessRegressor(alpha=2500,\n",
       "                         kernel=1.5e+03**2 * RBF(length_scale=1.5e+03) + 1**2 * RBF(length_scale=1) + WhiteKernel(noise_level=2.25e+06),\n",
       "                         n_restarts_optimizer=50)</pre></div> </div></div></div></div>"
      ],
      "text/plain": [
       "GaussianProcessRegressor(alpha=2500,\n",
       "                         kernel=1.5e+03**2 * RBF(length_scale=1.5e+03) + 1**2 * RBF(length_scale=1) + WhiteKernel(noise_level=2.25e+06),\n",
       "                         n_restarts_optimizer=50)"
      ]
     },
     "execution_count": 312,
     "metadata": {},
     "output_type": "execute_result"
    }
   ],
   "source": [
    "gaussian_process_obj = GaussianProcessRegressor(\n",
    "    kernel=kernel,\n",
    "    alpha=50**2,\n",
    "    n_restarts_optimizer=50,\n",
    "    normalize_y=False\n",
    ")\n",
    "gaussian_process_obj.fit(\n",
    "    X=mixed_years.select(\"yr_diff\", \"model_year\").collect(),\n",
    "    y=mixed_years.select(pl.col(\"advertised_inventory\") - advertised_inventory_mean).collect()\n",
    ")"
   ]
  },
  {
   "cell_type": "code",
   "execution_count": 313,
   "metadata": {},
   "outputs": [
    {
     "data": {
      "text/plain": [
       "316**2 * RBF(length_scale=2.61e+03) + 316**2 * RBF(length_scale=0.448) + WhiteKernel(noise_level=10)"
      ]
     },
     "execution_count": 313,
     "metadata": {},
     "output_type": "execute_result"
    }
   ],
   "source": [
    "gaussian_process_obj.kernel_"
   ]
  },
  {
   "cell_type": "code",
   "execution_count": 314,
   "metadata": {},
   "outputs": [
    {
     "data": {
      "text/plain": [
       "np.float64(-1763.9930301859258)"
      ]
     },
     "execution_count": 314,
     "metadata": {},
     "output_type": "execute_result"
    }
   ],
   "source": [
    "gaussian_process_obj.log_marginal_likelihood_value_"
   ]
  },
  {
   "cell_type": "code",
   "execution_count": 315,
   "metadata": {},
   "outputs": [],
   "source": [
    "a = 36 * (-1.0/12.0)\n",
    "b = 36 * (1.0/12.0)\n",
    "step = 1.0/12.0\n",
    "yrs = np.linspace(a, b, num=int((b - a)/step + 1))"
   ]
  },
  {
   "cell_type": "code",
   "execution_count": 324,
   "metadata": {},
   "outputs": [
    {
     "data": {
      "text/html": [
       "<div><style>\n",
       ".dataframe > thead > tr,\n",
       ".dataframe > tbody > tr {\n",
       "  text-align: right;\n",
       "  white-space: pre-wrap;\n",
       "}\n",
       "</style>\n",
       "<small>shape: (292, 3)</small><table border=\"1\" class=\"dataframe\"><thead><tr><th>yr_diff</th><th>model_year</th><th>advertised_inventory_prediction</th></tr><tr><td>f64</td><td>i64</td><td>f64</td></tr></thead><tbody><tr><td>-3.0</td><td>2022</td><td>351.07772</td></tr><tr><td>-3.0</td><td>2023</td><td>379.550668</td></tr><tr><td>-3.0</td><td>2024</td><td>385.285161</td></tr><tr><td>-3.0</td><td>2025</td><td>398.566595</td></tr><tr><td>-2.916667</td><td>2022</td><td>321.020046</td></tr><tr><td>&hellip;</td><td>&hellip;</td><td>&hellip;</td></tr><tr><td>2.916667</td><td>2025</td><td>402.491898</td></tr><tr><td>3.0</td><td>2022</td><td>411.847138</td></tr><tr><td>3.0</td><td>2023</td><td>411.859086</td></tr><tr><td>3.0</td><td>2024</td><td>418.750285</td></tr><tr><td>3.0</td><td>2025</td><td>413.65104</td></tr></tbody></table></div>"
      ],
      "text/plain": [
       "shape: (292, 3)\n",
       "┌───────────┬────────────┬─────────────────────────────────┐\n",
       "│ yr_diff   ┆ model_year ┆ advertised_inventory_predictio… │\n",
       "│ ---       ┆ ---        ┆ ---                             │\n",
       "│ f64       ┆ i64        ┆ f64                             │\n",
       "╞═══════════╪════════════╪═════════════════════════════════╡\n",
       "│ -3.0      ┆ 2022       ┆ 351.07772                       │\n",
       "│ -3.0      ┆ 2023       ┆ 379.550668                      │\n",
       "│ -3.0      ┆ 2024       ┆ 385.285161                      │\n",
       "│ -3.0      ┆ 2025       ┆ 398.566595                      │\n",
       "│ -2.916667 ┆ 2022       ┆ 321.020046                      │\n",
       "│ …         ┆ …          ┆ …                               │\n",
       "│ 2.916667  ┆ 2025       ┆ 402.491898                      │\n",
       "│ 3.0       ┆ 2022       ┆ 411.847138                      │\n",
       "│ 3.0       ┆ 2023       ┆ 411.859086                      │\n",
       "│ 3.0       ┆ 2024       ┆ 418.750285                      │\n",
       "│ 3.0       ┆ 2025       ┆ 413.65104                       │\n",
       "└───────────┴────────────┴─────────────────────────────────┘"
      ]
     },
     "execution_count": 324,
     "metadata": {},
     "output_type": "execute_result"
    }
   ],
   "source": [
    "X = pl.DataFrame(\n",
    "    data={\n",
    "        \"yr_diff\": np.repeat(yrs, 4),\n",
    "        \"model_year\": list(range(2022, 2026, 1))*len(yrs)\n",
    "    }\n",
    ")\n",
    "\n",
    "gaussian_process_obj_preds = gaussian_process_obj.predict(\n",
    "    X=X\n",
    ") + advertised_inventory_mean\n",
    "\n",
    "X = X.hstack(columns=[pl.Series(\"advertised_inventory_prediction\", gaussian_process_obj_preds)])\n",
    "X"
   ]
  },
  {
   "cell_type": "code",
   "execution_count": 328,
   "metadata": {},
   "outputs": [
    {
     "name": "stderr",
     "output_type": "stream",
     "text": [
      "/home/justin/bin/mambaforge/envs/justins_room/lib/python3.11/site-packages/plotly/express/_core.py:2065: FutureWarning:\n",
      "\n",
      "When grouping with a length-1 list-like, you will need to pass a length-1 tuple to get_group in a future version of pandas. Pass `(name,)` instead of `name` to silence this warning.\n",
      "\n"
     ]
    },
    {
     "data": {
      "application/vnd.plotly.v1+json": {
       "config": {
        "plotlyServerURL": "https://plot.ly"
       },
       "data": [
        {
         "hovertemplate": "color=2022<br>x=%{x}<br>y=%{y}<extra></extra>",
         "legendgroup": "2022",
         "marker": {
          "color": "#636efa",
          "symbol": "circle"
         },
         "mode": "markers",
         "name": "2022",
         "orientation": "v",
         "showlegend": true,
         "type": "scatter",
         "x": [
          -3,
          -2.9166666666666665,
          -2.8333333333333335,
          -2.75,
          -2.6666666666666665,
          -2.5833333333333335,
          -2.5,
          -2.416666666666667,
          -2.3333333333333335,
          -2.25,
          -2.166666666666667,
          -2.0833333333333335,
          -2,
          -1.9166666666666667,
          -1.8333333333333335,
          -1.75,
          -1.6666666666666667,
          -1.5833333333333335,
          -1.5,
          -1.4166666666666667,
          -1.3333333333333335,
          -1.25,
          -1.1666666666666667,
          -1.0833333333333335,
          -1,
          -0.916666666666667,
          -0.8333333333333335,
          -0.75,
          -0.666666666666667,
          -0.5833333333333335,
          -0.5,
          -0.41666666666666696,
          -0.3333333333333335,
          -0.25,
          -0.16666666666666696,
          -0.08333333333333348,
          0,
          0.08333333333333304,
          0.16666666666666652,
          0.25,
          0.33333333333333304,
          0.4166666666666665,
          0.5,
          0.583333333333333,
          0.6666666666666665,
          0.75,
          0.833333333333333,
          0.9166666666666665,
          1,
          1.083333333333333,
          1.166666666666666,
          1.25,
          1.333333333333333,
          1.416666666666666,
          1.5,
          1.583333333333333,
          1.666666666666666,
          1.75,
          1.833333333333333,
          1.916666666666666,
          2,
          2.083333333333333,
          2.166666666666666,
          2.25,
          2.333333333333333,
          2.416666666666666,
          2.5,
          2.583333333333333,
          2.666666666666666,
          2.75,
          2.833333333333333,
          2.916666666666666,
          3
         ],
         "xaxis": "x",
         "y": [
          351.07771988065184,
          321.0200457418888,
          285.4623891654794,
          245.410575236733,
          202.56969246544327,
          159.19727379673031,
          117.80339720417112,
          80.74507351603017,
          49.8082556711372,
          25.895018024209435,
          8.91970909655538,
          -2.038500942002429,
          -8.365465338936133,
          -11.449291580703402,
          -12.298223864805436,
          -11.392533986938247,
          -8.830057701103556,
          -4.686212774246883,
          0.616362477594862,
          6.17996755881552,
          10.92258612257126,
          14.278021182837733,
          17.06808434837319,
          22.145544793034446,
          34.40298146304929,
          59.93385426224563,
          104.4615906358465,
          171.48709043984604,
          260.79103334447746,
          367.86431544084815,
          484.5349485685649,
          600.6314768532302,
          706.1500420135665,
          793.230480844082,
          857.3569761165355,
          897.521179312627,
          915.4735598953816,
          914.4802089280988,
          898.0938385233317,
          869.3326373008977,
          830.4190826412907,
          782.9818643488395,
          728.4684146610662,
          668.4963145241238,
          604.967978732664,
          539.9211955966726,
          475.21755991468245,
          412.2333066155749,
          351.7005881537017,
          293.7726490705305,
          238.29207349663687,
          185.16544877445028,
          134.71469781835947,
          87.88991740549318,
          46.27875423260821,
          11.911664451055572,
          -13.081038530482715,
          -26.870760038596472,
          -28.295566104000045,
          -17.111598031971994,
          5.913012158095967,
          39.06888323654255,
          79.9158492354394,
          125.5860218386498,
          173.12196864720272,
          219.79359713246504,
          263.34792539143325,
          302.1630842621654,
          335.29793036849634,
          362.44754616541604,
          383.8290844574039,
          400.0295876298447,
          411.8471379115762
         ],
         "yaxis": "y"
        },
        {
         "hovertemplate": "color=2023<br>x=%{x}<br>y=%{y}<extra></extra>",
         "legendgroup": "2023",
         "marker": {
          "color": "#EF553B",
          "symbol": "circle"
         },
         "mode": "markers",
         "name": "2023",
         "orientation": "v",
         "showlegend": true,
         "type": "scatter",
         "x": [
          -3,
          -2.9166666666666665,
          -2.8333333333333335,
          -2.75,
          -2.6666666666666665,
          -2.5833333333333335,
          -2.5,
          -2.416666666666667,
          -2.3333333333333335,
          -2.25,
          -2.166666666666667,
          -2.0833333333333335,
          -2,
          -1.9166666666666667,
          -1.8333333333333335,
          -1.75,
          -1.6666666666666667,
          -1.5833333333333335,
          -1.5,
          -1.4166666666666667,
          -1.3333333333333335,
          -1.25,
          -1.1666666666666667,
          -1.0833333333333335,
          -1,
          -0.916666666666667,
          -0.8333333333333335,
          -0.75,
          -0.666666666666667,
          -0.5833333333333335,
          -0.5,
          -0.41666666666666696,
          -0.3333333333333335,
          -0.25,
          -0.16666666666666696,
          -0.08333333333333348,
          0,
          0.08333333333333304,
          0.16666666666666652,
          0.25,
          0.33333333333333304,
          0.4166666666666665,
          0.5,
          0.583333333333333,
          0.6666666666666665,
          0.75,
          0.833333333333333,
          0.9166666666666665,
          1,
          1.083333333333333,
          1.166666666666666,
          1.25,
          1.333333333333333,
          1.416666666666666,
          1.5,
          1.583333333333333,
          1.666666666666666,
          1.75,
          1.833333333333333,
          1.916666666666666,
          2,
          2.083333333333333,
          2.166666666666666,
          2.25,
          2.333333333333333,
          2.416666666666666,
          2.5,
          2.583333333333333,
          2.666666666666666,
          2.75,
          2.833333333333333,
          2.916666666666666,
          3
         ],
         "xaxis": "x",
         "y": [
          379.55066773163344,
          356.5630785646287,
          327.74176235896084,
          293.184181574758,
          253.63478768045326,
          210.54265361928526,
          165.99627679648154,
          122.5219715867346,
          82.76687588489824,
          49.122427815800734,
          23.366608195930894,
          6.403417127469083,
          -1.84600644045247,
          -2.386268472969846,
          3.0495609228573812,
          12.287598519818289,
          23.041863076177265,
          33.254419585780056,
          41.439157932226976,
          47.02586012110953,
          50.67857625098384,
          54.521261008135184,
          62.16953498125338,
          78.4699891759459,
          108.9039248107863,
          158.7109382931767,
          231.89373332347435,
          330.332623796357,
          453.23159667074987,
          597.0322063157682,
          755.7951290333979,
          921.9119887312495,
          1086.9233162945952,
          1242.2147905158367,
          1379.4458466763986,
          1490.7045188611974,
          1568.5299451310725,
          1606.0408941826554,
          1597.405944005358,
          1538.7684045846722,
          1429.5212929264167,
          1273.5870817202367,
          1080.1960728499575,
          863.6699253747336,
          641.9415631021062,
          433.93084842018163,
          256.3160615291524,
          120.52749506298153,
          30.810188796136686,
          -16.074269477025723,
          -29.423326666533853,
          -21.882477743586037,
          -6.2471855239442675,
          7.338618937675051,
          13.108160148664865,
          10.0359702054958,
          0.9810432222542431,
          -8.937919224738266,
          -14.163700862654991,
          -10.220181258388038,
          5.369370047827601,
          32.833948899445545,
          70.45899962364467,
          115.22540306540111,
          163.5522400246465,
          211.96053171829533,
          257.550568780687,
          298.2589811116161,
          332.916345673378,
          361.15673906901884,
          383.24008513439,
          399.8428276982787,
          411.85908597492073
         ],
         "yaxis": "y"
        },
        {
         "hovertemplate": "color=2024<br>x=%{x}<br>y=%{y}<extra></extra>",
         "legendgroup": "2024",
         "marker": {
          "color": "#00cc96",
          "symbol": "circle"
         },
         "mode": "markers",
         "name": "2024",
         "orientation": "v",
         "showlegend": true,
         "type": "scatter",
         "x": [
          -3,
          -2.9166666666666665,
          -2.8333333333333335,
          -2.75,
          -2.6666666666666665,
          -2.5833333333333335,
          -2.5,
          -2.416666666666667,
          -2.3333333333333335,
          -2.25,
          -2.166666666666667,
          -2.0833333333333335,
          -2,
          -1.9166666666666667,
          -1.8333333333333335,
          -1.75,
          -1.6666666666666667,
          -1.5833333333333335,
          -1.5,
          -1.4166666666666667,
          -1.3333333333333335,
          -1.25,
          -1.1666666666666667,
          -1.0833333333333335,
          -1,
          -0.916666666666667,
          -0.8333333333333335,
          -0.75,
          -0.666666666666667,
          -0.5833333333333335,
          -0.5,
          -0.41666666666666696,
          -0.3333333333333335,
          -0.25,
          -0.16666666666666696,
          -0.08333333333333348,
          0,
          0.08333333333333304,
          0.16666666666666652,
          0.25,
          0.33333333333333304,
          0.4166666666666665,
          0.5,
          0.583333333333333,
          0.6666666666666665,
          0.75,
          0.833333333333333,
          0.9166666666666665,
          1,
          1.083333333333333,
          1.166666666666666,
          1.25,
          1.333333333333333,
          1.416666666666666,
          1.5,
          1.583333333333333,
          1.666666666666666,
          1.75,
          1.833333333333333,
          1.916666666666666,
          2,
          2.083333333333333,
          2.166666666666666,
          2.25,
          2.333333333333333,
          2.416666666666666,
          2.5,
          2.583333333333333,
          2.666666666666666,
          2.75,
          2.833333333333333,
          2.916666666666666,
          3
         ],
         "xaxis": "x",
         "y": [
          385.28516102030346,
          363.4767000823892,
          335.4804284173755,
          301.0732384218586,
          260.6850909418046,
          215.55344548841674,
          167.77581001920896,
          120.2193476455027,
          76.27164540360491,
          39.45255762711861,
          12.944509567329305,
          -0.8735471588562405,
          -0.7950028551603054,
          13.020734023094406,
          39.07171379131444,
          74.74978186972851,
          116.74298585237398,
          161.53110174107746,
          205.89805496206077,
          247.40267093763265,
          284.7777811462204,
          318.2524416657526,
          349.798439638569,
          383.2821431714065,
          424.4594577710328,
          480.7031991158601,
          560.3294528460486,
          671.4271183226226,
          820.214627953618,
          1009.1391916418021,
          1235.141483723699,
          1488.6395069230184,
          1753.742149178769,
          2009.9362209980036,
          2235.0460582872543,
          2408.7930973015173,
          2515.9931092122088,
          2548.490857690077,
          2505.3737353015185,
          2391.6663074282596,
          2216.2882831827774,
          1990.2655949670484,
          1725.893012097239,
          1436.8911350207402,
          1138.9251030261244,
          849.5351916564671,
          586.7711051466488,
          366.5207285242014,
          199.31969513785737,
          87.89206656935096,
          26.542089851476362,
          2.8370169790983937,
          1.1148050645817875,
          6.6440471203185325,
          9.065382927365249,
          4.103602582249664,
          -6.748720355778119,
          -18.14604778574096,
          -23.517279509380046,
          -17.46342982463227,
          2.734821280053552,
          36.72114569949747,
          81.60186788462556,
          133.01164086237975,
          186.26775451122273,
          237.28824404841578,
          283.12213042769633,
          322.0959640048815,
          353.6771940011593,
          378.185879057676,
          396.4696515995779,
          409.6178621047766,
          418.75028510856197
         ],
         "yaxis": "y"
        },
        {
         "hovertemplate": "color=2025<br>x=%{x}<br>y=%{y}<extra></extra>",
         "legendgroup": "2025",
         "marker": {
          "color": "#ab63fa",
          "symbol": "circle"
         },
         "mode": "markers",
         "name": "2025",
         "orientation": "v",
         "showlegend": true,
         "type": "scatter",
         "x": [
          -3,
          -2.9166666666666665,
          -2.8333333333333335,
          -2.75,
          -2.6666666666666665,
          -2.5833333333333335,
          -2.5,
          -2.416666666666667,
          -2.3333333333333335,
          -2.25,
          -2.166666666666667,
          -2.0833333333333335,
          -2,
          -1.9166666666666667,
          -1.8333333333333335,
          -1.75,
          -1.6666666666666667,
          -1.5833333333333335,
          -1.5,
          -1.4166666666666667,
          -1.3333333333333335,
          -1.25,
          -1.1666666666666667,
          -1.0833333333333335,
          -1,
          -0.916666666666667,
          -0.8333333333333335,
          -0.75,
          -0.666666666666667,
          -0.5833333333333335,
          -0.5,
          -0.41666666666666696,
          -0.3333333333333335,
          -0.25,
          -0.16666666666666696,
          -0.08333333333333348,
          0,
          0.08333333333333304,
          0.16666666666666652,
          0.25,
          0.33333333333333304,
          0.4166666666666665,
          0.5,
          0.583333333333333,
          0.6666666666666665,
          0.75,
          0.833333333333333,
          0.9166666666666665,
          1,
          1.083333333333333,
          1.166666666666666,
          1.25,
          1.333333333333333,
          1.416666666666666,
          1.5,
          1.583333333333333,
          1.666666666666666,
          1.75,
          1.833333333333333,
          1.916666666666666,
          2,
          2.083333333333333,
          2.166666666666666,
          2.25,
          2.333333333333333,
          2.416666666666666,
          2.5,
          2.583333333333333,
          2.666666666666666,
          2.75,
          2.833333333333333,
          2.916666666666666,
          3
         ],
         "xaxis": "x",
         "y": [
          398.5665945539789,
          381.17597094197123,
          358.0847505356952,
          328.68828432705754,
          292.87538330519067,
          251.23120345569293,
          205.1802814577876,
          157.01809531614765,
          109.79227274641607,
          67.02216843440374,
          32.28304784016257,
          8.718951586499202,
          -1.4251766943519897,
          2.84395275808879,
          21.1072977944209,
          51.60074244535588,
          91.49581365261804,
          137.33329841662407,
          185.52057546614003,
          232.7994006178801,
          276.6104383670563,
          315.3159465548098,
          348.2808126786727,
          375.8431885492652,
          399.2218393338647,
          420.4061328242852,
          442.05935610292704,
          467.4424212115745,
          500.33876766186705,
          544.9367586269079,
          605.6065667753367,
          686.4992961693358,
          790.9055549940538,
          920.3512259099712,
          1073.4904720541901,
          1244.9784180982542,
          1424.6425926168445,
          1597.3683903436417,
          1744.097482710647,
          1844.1506450537013,
          1878.7236487153896,
          1834.9472544788619,
          1709.5108964840329,
          1510.7140770615429,
          1258.0619987001664,
          979.1546671585056,
          704.4526181488905,
          461.23764358258535,
          268.42322806521673,
          133.6445655856345,
          53.33321490452374,
          15.525606030797803,
          4.32980928259019,
          4.578133145845413,
          5.33216666859505,
          1.4699147031609527,
          -6.690065791241523,
          -15.169012635024387,
          -18.659607066497415,
          -12.603923438029256,
          5.49633777924339,
          35.68047389947378,
          75.87904029864706,
          122.69362145823209,
          172.27532149993783,
          221.05977211128982,
          266.23990046456646,
          305.96520088270324,
          339.323109941627,
          366.1831460172341,
          386.97990776609373,
          402.4918980714047,
          413.6510400809516
         ],
         "yaxis": "y"
        }
       ],
       "layout": {
        "legend": {
         "title": {
          "text": "color"
         },
         "tracegroupgap": 0
        },
        "margin": {
         "t": 60
        },
        "template": {
         "data": {
          "bar": [
           {
            "error_x": {
             "color": "#2a3f5f"
            },
            "error_y": {
             "color": "#2a3f5f"
            },
            "marker": {
             "line": {
              "color": "#E5ECF6",
              "width": 0.5
             },
             "pattern": {
              "fillmode": "overlay",
              "size": 10,
              "solidity": 0.2
             }
            },
            "type": "bar"
           }
          ],
          "barpolar": [
           {
            "marker": {
             "line": {
              "color": "#E5ECF6",
              "width": 0.5
             },
             "pattern": {
              "fillmode": "overlay",
              "size": 10,
              "solidity": 0.2
             }
            },
            "type": "barpolar"
           }
          ],
          "carpet": [
           {
            "aaxis": {
             "endlinecolor": "#2a3f5f",
             "gridcolor": "white",
             "linecolor": "white",
             "minorgridcolor": "white",
             "startlinecolor": "#2a3f5f"
            },
            "baxis": {
             "endlinecolor": "#2a3f5f",
             "gridcolor": "white",
             "linecolor": "white",
             "minorgridcolor": "white",
             "startlinecolor": "#2a3f5f"
            },
            "type": "carpet"
           }
          ],
          "choropleth": [
           {
            "colorbar": {
             "outlinewidth": 0,
             "ticks": ""
            },
            "type": "choropleth"
           }
          ],
          "contour": [
           {
            "colorbar": {
             "outlinewidth": 0,
             "ticks": ""
            },
            "colorscale": [
             [
              0,
              "#0d0887"
             ],
             [
              0.1111111111111111,
              "#46039f"
             ],
             [
              0.2222222222222222,
              "#7201a8"
             ],
             [
              0.3333333333333333,
              "#9c179e"
             ],
             [
              0.4444444444444444,
              "#bd3786"
             ],
             [
              0.5555555555555556,
              "#d8576b"
             ],
             [
              0.6666666666666666,
              "#ed7953"
             ],
             [
              0.7777777777777778,
              "#fb9f3a"
             ],
             [
              0.8888888888888888,
              "#fdca26"
             ],
             [
              1,
              "#f0f921"
             ]
            ],
            "type": "contour"
           }
          ],
          "contourcarpet": [
           {
            "colorbar": {
             "outlinewidth": 0,
             "ticks": ""
            },
            "type": "contourcarpet"
           }
          ],
          "heatmap": [
           {
            "colorbar": {
             "outlinewidth": 0,
             "ticks": ""
            },
            "colorscale": [
             [
              0,
              "#0d0887"
             ],
             [
              0.1111111111111111,
              "#46039f"
             ],
             [
              0.2222222222222222,
              "#7201a8"
             ],
             [
              0.3333333333333333,
              "#9c179e"
             ],
             [
              0.4444444444444444,
              "#bd3786"
             ],
             [
              0.5555555555555556,
              "#d8576b"
             ],
             [
              0.6666666666666666,
              "#ed7953"
             ],
             [
              0.7777777777777778,
              "#fb9f3a"
             ],
             [
              0.8888888888888888,
              "#fdca26"
             ],
             [
              1,
              "#f0f921"
             ]
            ],
            "type": "heatmap"
           }
          ],
          "heatmapgl": [
           {
            "colorbar": {
             "outlinewidth": 0,
             "ticks": ""
            },
            "colorscale": [
             [
              0,
              "#0d0887"
             ],
             [
              0.1111111111111111,
              "#46039f"
             ],
             [
              0.2222222222222222,
              "#7201a8"
             ],
             [
              0.3333333333333333,
              "#9c179e"
             ],
             [
              0.4444444444444444,
              "#bd3786"
             ],
             [
              0.5555555555555556,
              "#d8576b"
             ],
             [
              0.6666666666666666,
              "#ed7953"
             ],
             [
              0.7777777777777778,
              "#fb9f3a"
             ],
             [
              0.8888888888888888,
              "#fdca26"
             ],
             [
              1,
              "#f0f921"
             ]
            ],
            "type": "heatmapgl"
           }
          ],
          "histogram": [
           {
            "marker": {
             "pattern": {
              "fillmode": "overlay",
              "size": 10,
              "solidity": 0.2
             }
            },
            "type": "histogram"
           }
          ],
          "histogram2d": [
           {
            "colorbar": {
             "outlinewidth": 0,
             "ticks": ""
            },
            "colorscale": [
             [
              0,
              "#0d0887"
             ],
             [
              0.1111111111111111,
              "#46039f"
             ],
             [
              0.2222222222222222,
              "#7201a8"
             ],
             [
              0.3333333333333333,
              "#9c179e"
             ],
             [
              0.4444444444444444,
              "#bd3786"
             ],
             [
              0.5555555555555556,
              "#d8576b"
             ],
             [
              0.6666666666666666,
              "#ed7953"
             ],
             [
              0.7777777777777778,
              "#fb9f3a"
             ],
             [
              0.8888888888888888,
              "#fdca26"
             ],
             [
              1,
              "#f0f921"
             ]
            ],
            "type": "histogram2d"
           }
          ],
          "histogram2dcontour": [
           {
            "colorbar": {
             "outlinewidth": 0,
             "ticks": ""
            },
            "colorscale": [
             [
              0,
              "#0d0887"
             ],
             [
              0.1111111111111111,
              "#46039f"
             ],
             [
              0.2222222222222222,
              "#7201a8"
             ],
             [
              0.3333333333333333,
              "#9c179e"
             ],
             [
              0.4444444444444444,
              "#bd3786"
             ],
             [
              0.5555555555555556,
              "#d8576b"
             ],
             [
              0.6666666666666666,
              "#ed7953"
             ],
             [
              0.7777777777777778,
              "#fb9f3a"
             ],
             [
              0.8888888888888888,
              "#fdca26"
             ],
             [
              1,
              "#f0f921"
             ]
            ],
            "type": "histogram2dcontour"
           }
          ],
          "mesh3d": [
           {
            "colorbar": {
             "outlinewidth": 0,
             "ticks": ""
            },
            "type": "mesh3d"
           }
          ],
          "parcoords": [
           {
            "line": {
             "colorbar": {
              "outlinewidth": 0,
              "ticks": ""
             }
            },
            "type": "parcoords"
           }
          ],
          "pie": [
           {
            "automargin": true,
            "type": "pie"
           }
          ],
          "scatter": [
           {
            "fillpattern": {
             "fillmode": "overlay",
             "size": 10,
             "solidity": 0.2
            },
            "type": "scatter"
           }
          ],
          "scatter3d": [
           {
            "line": {
             "colorbar": {
              "outlinewidth": 0,
              "ticks": ""
             }
            },
            "marker": {
             "colorbar": {
              "outlinewidth": 0,
              "ticks": ""
             }
            },
            "type": "scatter3d"
           }
          ],
          "scattercarpet": [
           {
            "marker": {
             "colorbar": {
              "outlinewidth": 0,
              "ticks": ""
             }
            },
            "type": "scattercarpet"
           }
          ],
          "scattergeo": [
           {
            "marker": {
             "colorbar": {
              "outlinewidth": 0,
              "ticks": ""
             }
            },
            "type": "scattergeo"
           }
          ],
          "scattergl": [
           {
            "marker": {
             "colorbar": {
              "outlinewidth": 0,
              "ticks": ""
             }
            },
            "type": "scattergl"
           }
          ],
          "scattermapbox": [
           {
            "marker": {
             "colorbar": {
              "outlinewidth": 0,
              "ticks": ""
             }
            },
            "type": "scattermapbox"
           }
          ],
          "scatterpolar": [
           {
            "marker": {
             "colorbar": {
              "outlinewidth": 0,
              "ticks": ""
             }
            },
            "type": "scatterpolar"
           }
          ],
          "scatterpolargl": [
           {
            "marker": {
             "colorbar": {
              "outlinewidth": 0,
              "ticks": ""
             }
            },
            "type": "scatterpolargl"
           }
          ],
          "scatterternary": [
           {
            "marker": {
             "colorbar": {
              "outlinewidth": 0,
              "ticks": ""
             }
            },
            "type": "scatterternary"
           }
          ],
          "surface": [
           {
            "colorbar": {
             "outlinewidth": 0,
             "ticks": ""
            },
            "colorscale": [
             [
              0,
              "#0d0887"
             ],
             [
              0.1111111111111111,
              "#46039f"
             ],
             [
              0.2222222222222222,
              "#7201a8"
             ],
             [
              0.3333333333333333,
              "#9c179e"
             ],
             [
              0.4444444444444444,
              "#bd3786"
             ],
             [
              0.5555555555555556,
              "#d8576b"
             ],
             [
              0.6666666666666666,
              "#ed7953"
             ],
             [
              0.7777777777777778,
              "#fb9f3a"
             ],
             [
              0.8888888888888888,
              "#fdca26"
             ],
             [
              1,
              "#f0f921"
             ]
            ],
            "type": "surface"
           }
          ],
          "table": [
           {
            "cells": {
             "fill": {
              "color": "#EBF0F8"
             },
             "line": {
              "color": "white"
             }
            },
            "header": {
             "fill": {
              "color": "#C8D4E3"
             },
             "line": {
              "color": "white"
             }
            },
            "type": "table"
           }
          ]
         },
         "layout": {
          "annotationdefaults": {
           "arrowcolor": "#2a3f5f",
           "arrowhead": 0,
           "arrowwidth": 1
          },
          "autotypenumbers": "strict",
          "coloraxis": {
           "colorbar": {
            "outlinewidth": 0,
            "ticks": ""
           }
          },
          "colorscale": {
           "diverging": [
            [
             0,
             "#8e0152"
            ],
            [
             0.1,
             "#c51b7d"
            ],
            [
             0.2,
             "#de77ae"
            ],
            [
             0.3,
             "#f1b6da"
            ],
            [
             0.4,
             "#fde0ef"
            ],
            [
             0.5,
             "#f7f7f7"
            ],
            [
             0.6,
             "#e6f5d0"
            ],
            [
             0.7,
             "#b8e186"
            ],
            [
             0.8,
             "#7fbc41"
            ],
            [
             0.9,
             "#4d9221"
            ],
            [
             1,
             "#276419"
            ]
           ],
           "sequential": [
            [
             0,
             "#0d0887"
            ],
            [
             0.1111111111111111,
             "#46039f"
            ],
            [
             0.2222222222222222,
             "#7201a8"
            ],
            [
             0.3333333333333333,
             "#9c179e"
            ],
            [
             0.4444444444444444,
             "#bd3786"
            ],
            [
             0.5555555555555556,
             "#d8576b"
            ],
            [
             0.6666666666666666,
             "#ed7953"
            ],
            [
             0.7777777777777778,
             "#fb9f3a"
            ],
            [
             0.8888888888888888,
             "#fdca26"
            ],
            [
             1,
             "#f0f921"
            ]
           ],
           "sequentialminus": [
            [
             0,
             "#0d0887"
            ],
            [
             0.1111111111111111,
             "#46039f"
            ],
            [
             0.2222222222222222,
             "#7201a8"
            ],
            [
             0.3333333333333333,
             "#9c179e"
            ],
            [
             0.4444444444444444,
             "#bd3786"
            ],
            [
             0.5555555555555556,
             "#d8576b"
            ],
            [
             0.6666666666666666,
             "#ed7953"
            ],
            [
             0.7777777777777778,
             "#fb9f3a"
            ],
            [
             0.8888888888888888,
             "#fdca26"
            ],
            [
             1,
             "#f0f921"
            ]
           ]
          },
          "colorway": [
           "#636efa",
           "#EF553B",
           "#00cc96",
           "#ab63fa",
           "#FFA15A",
           "#19d3f3",
           "#FF6692",
           "#B6E880",
           "#FF97FF",
           "#FECB52"
          ],
          "font": {
           "color": "#2a3f5f"
          },
          "geo": {
           "bgcolor": "white",
           "lakecolor": "white",
           "landcolor": "#E5ECF6",
           "showlakes": true,
           "showland": true,
           "subunitcolor": "white"
          },
          "hoverlabel": {
           "align": "left"
          },
          "hovermode": "closest",
          "mapbox": {
           "style": "light"
          },
          "paper_bgcolor": "white",
          "plot_bgcolor": "#E5ECF6",
          "polar": {
           "angularaxis": {
            "gridcolor": "white",
            "linecolor": "white",
            "ticks": ""
           },
           "bgcolor": "#E5ECF6",
           "radialaxis": {
            "gridcolor": "white",
            "linecolor": "white",
            "ticks": ""
           }
          },
          "scene": {
           "xaxis": {
            "backgroundcolor": "#E5ECF6",
            "gridcolor": "white",
            "gridwidth": 2,
            "linecolor": "white",
            "showbackground": true,
            "ticks": "",
            "zerolinecolor": "white"
           },
           "yaxis": {
            "backgroundcolor": "#E5ECF6",
            "gridcolor": "white",
            "gridwidth": 2,
            "linecolor": "white",
            "showbackground": true,
            "ticks": "",
            "zerolinecolor": "white"
           },
           "zaxis": {
            "backgroundcolor": "#E5ECF6",
            "gridcolor": "white",
            "gridwidth": 2,
            "linecolor": "white",
            "showbackground": true,
            "ticks": "",
            "zerolinecolor": "white"
           }
          },
          "shapedefaults": {
           "line": {
            "color": "#2a3f5f"
           }
          },
          "ternary": {
           "aaxis": {
            "gridcolor": "white",
            "linecolor": "white",
            "ticks": ""
           },
           "baxis": {
            "gridcolor": "white",
            "linecolor": "white",
            "ticks": ""
           },
           "bgcolor": "#E5ECF6",
           "caxis": {
            "gridcolor": "white",
            "linecolor": "white",
            "ticks": ""
           }
          },
          "title": {
           "x": 0.05
          },
          "xaxis": {
           "automargin": true,
           "gridcolor": "white",
           "linecolor": "white",
           "ticks": "",
           "title": {
            "standoff": 15
           },
           "zerolinecolor": "white",
           "zerolinewidth": 2
          },
          "yaxis": {
           "automargin": true,
           "gridcolor": "white",
           "linecolor": "white",
           "ticks": "",
           "title": {
            "standoff": 15
           },
           "zerolinecolor": "white",
           "zerolinewidth": 2
          }
         }
        },
        "xaxis": {
         "anchor": "y",
         "domain": [
          0,
          1
         ],
         "title": {
          "text": "x"
         }
        },
        "yaxis": {
         "anchor": "x",
         "domain": [
          0,
          1
         ],
         "title": {
          "text": "y"
         }
        }
       }
      }
     },
     "metadata": {},
     "output_type": "display_data"
    }
   ],
   "source": [
    "px.scatter(\n",
    "    x=X.select(\"yr_diff\").to_series(),\n",
    "    y=X.select(\"advertised_inventory_prediction\").to_series(),\n",
    "    color=X.select(pl.col(\"model_year\").cast(pl.Utf8)).to_series()\n",
    ")"
   ]
  },
  {
   "cell_type": "code",
   "execution_count": null,
   "metadata": {},
   "outputs": [],
   "source": [
    "\n",
    "X = X.hstack(list(pl.Series(\"advertised_inventory_preds\", gaussian_process_obj_preds)))"
   ]
  },
  {
   "cell_type": "markdown",
   "metadata": {},
   "source": [
    "______________________________"
   ]
  },
  {
   "cell_type": "code",
   "execution_count": 439,
   "metadata": {},
   "outputs": [],
   "source": [
    "model_1 = make_pipeline(\n",
    "    SplineTransformer(\n",
    "        n_knots=70,\n",
    "        degree=3, \n",
    "        knots=\"quantile\",\n",
    "        # knots=np.array([[-1.5, -1.4, -1.25, -1.0, -0.75, -0.5, -0.25, 0, 0.05, 0.1, 0.25, 0.5, 0.75, 1.0, 1.05, 1.5]]).T,\n",
    "        extrapolation=\"constant\",\n",
    "        include_bias=True\n",
    "    ),\n",
    "    Ridge(\n",
    "        alpha=1e-5,\n",
    "        fit_intercept=True\n",
    "    )\n",
    ")"
   ]
  },
  {
   "cell_type": "code",
   "execution_count": 440,
   "metadata": {},
   "outputs": [
    {
     "data": {
      "text/html": [
       "<style>#sk-container-id-48 {\n",
       "  /* Definition of color scheme common for light and dark mode */\n",
       "  --sklearn-color-text: #000;\n",
       "  --sklearn-color-text-muted: #666;\n",
       "  --sklearn-color-line: gray;\n",
       "  /* Definition of color scheme for unfitted estimators */\n",
       "  --sklearn-color-unfitted-level-0: #fff5e6;\n",
       "  --sklearn-color-unfitted-level-1: #f6e4d2;\n",
       "  --sklearn-color-unfitted-level-2: #ffe0b3;\n",
       "  --sklearn-color-unfitted-level-3: chocolate;\n",
       "  /* Definition of color scheme for fitted estimators */\n",
       "  --sklearn-color-fitted-level-0: #f0f8ff;\n",
       "  --sklearn-color-fitted-level-1: #d4ebff;\n",
       "  --sklearn-color-fitted-level-2: #b3dbfd;\n",
       "  --sklearn-color-fitted-level-3: cornflowerblue;\n",
       "\n",
       "  /* Specific color for light theme */\n",
       "  --sklearn-color-text-on-default-background: var(--sg-text-color, var(--theme-code-foreground, var(--jp-content-font-color1, black)));\n",
       "  --sklearn-color-background: var(--sg-background-color, var(--theme-background, var(--jp-layout-color0, white)));\n",
       "  --sklearn-color-border-box: var(--sg-text-color, var(--theme-code-foreground, var(--jp-content-font-color1, black)));\n",
       "  --sklearn-color-icon: #696969;\n",
       "\n",
       "  @media (prefers-color-scheme: dark) {\n",
       "    /* Redefinition of color scheme for dark theme */\n",
       "    --sklearn-color-text-on-default-background: var(--sg-text-color, var(--theme-code-foreground, var(--jp-content-font-color1, white)));\n",
       "    --sklearn-color-background: var(--sg-background-color, var(--theme-background, var(--jp-layout-color0, #111)));\n",
       "    --sklearn-color-border-box: var(--sg-text-color, var(--theme-code-foreground, var(--jp-content-font-color1, white)));\n",
       "    --sklearn-color-icon: #878787;\n",
       "  }\n",
       "}\n",
       "\n",
       "#sk-container-id-48 {\n",
       "  color: var(--sklearn-color-text);\n",
       "}\n",
       "\n",
       "#sk-container-id-48 pre {\n",
       "  padding: 0;\n",
       "}\n",
       "\n",
       "#sk-container-id-48 input.sk-hidden--visually {\n",
       "  border: 0;\n",
       "  clip: rect(1px 1px 1px 1px);\n",
       "  clip: rect(1px, 1px, 1px, 1px);\n",
       "  height: 1px;\n",
       "  margin: -1px;\n",
       "  overflow: hidden;\n",
       "  padding: 0;\n",
       "  position: absolute;\n",
       "  width: 1px;\n",
       "}\n",
       "\n",
       "#sk-container-id-48 div.sk-dashed-wrapped {\n",
       "  border: 1px dashed var(--sklearn-color-line);\n",
       "  margin: 0 0.4em 0.5em 0.4em;\n",
       "  box-sizing: border-box;\n",
       "  padding-bottom: 0.4em;\n",
       "  background-color: var(--sklearn-color-background);\n",
       "}\n",
       "\n",
       "#sk-container-id-48 div.sk-container {\n",
       "  /* jupyter's `normalize.less` sets `[hidden] { display: none; }`\n",
       "     but bootstrap.min.css set `[hidden] { display: none !important; }`\n",
       "     so we also need the `!important` here to be able to override the\n",
       "     default hidden behavior on the sphinx rendered scikit-learn.org.\n",
       "     See: https://github.com/scikit-learn/scikit-learn/issues/21755 */\n",
       "  display: inline-block !important;\n",
       "  position: relative;\n",
       "}\n",
       "\n",
       "#sk-container-id-48 div.sk-text-repr-fallback {\n",
       "  display: none;\n",
       "}\n",
       "\n",
       "div.sk-parallel-item,\n",
       "div.sk-serial,\n",
       "div.sk-item {\n",
       "  /* draw centered vertical line to link estimators */\n",
       "  background-image: linear-gradient(var(--sklearn-color-text-on-default-background), var(--sklearn-color-text-on-default-background));\n",
       "  background-size: 2px 100%;\n",
       "  background-repeat: no-repeat;\n",
       "  background-position: center center;\n",
       "}\n",
       "\n",
       "/* Parallel-specific style estimator block */\n",
       "\n",
       "#sk-container-id-48 div.sk-parallel-item::after {\n",
       "  content: \"\";\n",
       "  width: 100%;\n",
       "  border-bottom: 2px solid var(--sklearn-color-text-on-default-background);\n",
       "  flex-grow: 1;\n",
       "}\n",
       "\n",
       "#sk-container-id-48 div.sk-parallel {\n",
       "  display: flex;\n",
       "  align-items: stretch;\n",
       "  justify-content: center;\n",
       "  background-color: var(--sklearn-color-background);\n",
       "  position: relative;\n",
       "}\n",
       "\n",
       "#sk-container-id-48 div.sk-parallel-item {\n",
       "  display: flex;\n",
       "  flex-direction: column;\n",
       "}\n",
       "\n",
       "#sk-container-id-48 div.sk-parallel-item:first-child::after {\n",
       "  align-self: flex-end;\n",
       "  width: 50%;\n",
       "}\n",
       "\n",
       "#sk-container-id-48 div.sk-parallel-item:last-child::after {\n",
       "  align-self: flex-start;\n",
       "  width: 50%;\n",
       "}\n",
       "\n",
       "#sk-container-id-48 div.sk-parallel-item:only-child::after {\n",
       "  width: 0;\n",
       "}\n",
       "\n",
       "/* Serial-specific style estimator block */\n",
       "\n",
       "#sk-container-id-48 div.sk-serial {\n",
       "  display: flex;\n",
       "  flex-direction: column;\n",
       "  align-items: center;\n",
       "  background-color: var(--sklearn-color-background);\n",
       "  padding-right: 1em;\n",
       "  padding-left: 1em;\n",
       "}\n",
       "\n",
       "\n",
       "/* Toggleable style: style used for estimator/Pipeline/ColumnTransformer box that is\n",
       "clickable and can be expanded/collapsed.\n",
       "- Pipeline and ColumnTransformer use this feature and define the default style\n",
       "- Estimators will overwrite some part of the style using the `sk-estimator` class\n",
       "*/\n",
       "\n",
       "/* Pipeline and ColumnTransformer style (default) */\n",
       "\n",
       "#sk-container-id-48 div.sk-toggleable {\n",
       "  /* Default theme specific background. It is overwritten whether we have a\n",
       "  specific estimator or a Pipeline/ColumnTransformer */\n",
       "  background-color: var(--sklearn-color-background);\n",
       "}\n",
       "\n",
       "/* Toggleable label */\n",
       "#sk-container-id-48 label.sk-toggleable__label {\n",
       "  cursor: pointer;\n",
       "  display: flex;\n",
       "  width: 100%;\n",
       "  margin-bottom: 0;\n",
       "  padding: 0.5em;\n",
       "  box-sizing: border-box;\n",
       "  text-align: center;\n",
       "  align-items: start;\n",
       "  justify-content: space-between;\n",
       "  gap: 0.5em;\n",
       "}\n",
       "\n",
       "#sk-container-id-48 label.sk-toggleable__label .caption {\n",
       "  font-size: 0.6rem;\n",
       "  font-weight: lighter;\n",
       "  color: var(--sklearn-color-text-muted);\n",
       "}\n",
       "\n",
       "#sk-container-id-48 label.sk-toggleable__label-arrow:before {\n",
       "  /* Arrow on the left of the label */\n",
       "  content: \"▸\";\n",
       "  float: left;\n",
       "  margin-right: 0.25em;\n",
       "  color: var(--sklearn-color-icon);\n",
       "}\n",
       "\n",
       "#sk-container-id-48 label.sk-toggleable__label-arrow:hover:before {\n",
       "  color: var(--sklearn-color-text);\n",
       "}\n",
       "\n",
       "/* Toggleable content - dropdown */\n",
       "\n",
       "#sk-container-id-48 div.sk-toggleable__content {\n",
       "  max-height: 0;\n",
       "  max-width: 0;\n",
       "  overflow: hidden;\n",
       "  text-align: left;\n",
       "  /* unfitted */\n",
       "  background-color: var(--sklearn-color-unfitted-level-0);\n",
       "}\n",
       "\n",
       "#sk-container-id-48 div.sk-toggleable__content.fitted {\n",
       "  /* fitted */\n",
       "  background-color: var(--sklearn-color-fitted-level-0);\n",
       "}\n",
       "\n",
       "#sk-container-id-48 div.sk-toggleable__content pre {\n",
       "  margin: 0.2em;\n",
       "  border-radius: 0.25em;\n",
       "  color: var(--sklearn-color-text);\n",
       "  /* unfitted */\n",
       "  background-color: var(--sklearn-color-unfitted-level-0);\n",
       "}\n",
       "\n",
       "#sk-container-id-48 div.sk-toggleable__content.fitted pre {\n",
       "  /* unfitted */\n",
       "  background-color: var(--sklearn-color-fitted-level-0);\n",
       "}\n",
       "\n",
       "#sk-container-id-48 input.sk-toggleable__control:checked~div.sk-toggleable__content {\n",
       "  /* Expand drop-down */\n",
       "  max-height: 200px;\n",
       "  max-width: 100%;\n",
       "  overflow: auto;\n",
       "}\n",
       "\n",
       "#sk-container-id-48 input.sk-toggleable__control:checked~label.sk-toggleable__label-arrow:before {\n",
       "  content: \"▾\";\n",
       "}\n",
       "\n",
       "/* Pipeline/ColumnTransformer-specific style */\n",
       "\n",
       "#sk-container-id-48 div.sk-label input.sk-toggleable__control:checked~label.sk-toggleable__label {\n",
       "  color: var(--sklearn-color-text);\n",
       "  background-color: var(--sklearn-color-unfitted-level-2);\n",
       "}\n",
       "\n",
       "#sk-container-id-48 div.sk-label.fitted input.sk-toggleable__control:checked~label.sk-toggleable__label {\n",
       "  background-color: var(--sklearn-color-fitted-level-2);\n",
       "}\n",
       "\n",
       "/* Estimator-specific style */\n",
       "\n",
       "/* Colorize estimator box */\n",
       "#sk-container-id-48 div.sk-estimator input.sk-toggleable__control:checked~label.sk-toggleable__label {\n",
       "  /* unfitted */\n",
       "  background-color: var(--sklearn-color-unfitted-level-2);\n",
       "}\n",
       "\n",
       "#sk-container-id-48 div.sk-estimator.fitted input.sk-toggleable__control:checked~label.sk-toggleable__label {\n",
       "  /* fitted */\n",
       "  background-color: var(--sklearn-color-fitted-level-2);\n",
       "}\n",
       "\n",
       "#sk-container-id-48 div.sk-label label.sk-toggleable__label,\n",
       "#sk-container-id-48 div.sk-label label {\n",
       "  /* The background is the default theme color */\n",
       "  color: var(--sklearn-color-text-on-default-background);\n",
       "}\n",
       "\n",
       "/* On hover, darken the color of the background */\n",
       "#sk-container-id-48 div.sk-label:hover label.sk-toggleable__label {\n",
       "  color: var(--sklearn-color-text);\n",
       "  background-color: var(--sklearn-color-unfitted-level-2);\n",
       "}\n",
       "\n",
       "/* Label box, darken color on hover, fitted */\n",
       "#sk-container-id-48 div.sk-label.fitted:hover label.sk-toggleable__label.fitted {\n",
       "  color: var(--sklearn-color-text);\n",
       "  background-color: var(--sklearn-color-fitted-level-2);\n",
       "}\n",
       "\n",
       "/* Estimator label */\n",
       "\n",
       "#sk-container-id-48 div.sk-label label {\n",
       "  font-family: monospace;\n",
       "  font-weight: bold;\n",
       "  display: inline-block;\n",
       "  line-height: 1.2em;\n",
       "}\n",
       "\n",
       "#sk-container-id-48 div.sk-label-container {\n",
       "  text-align: center;\n",
       "}\n",
       "\n",
       "/* Estimator-specific */\n",
       "#sk-container-id-48 div.sk-estimator {\n",
       "  font-family: monospace;\n",
       "  border: 1px dotted var(--sklearn-color-border-box);\n",
       "  border-radius: 0.25em;\n",
       "  box-sizing: border-box;\n",
       "  margin-bottom: 0.5em;\n",
       "  /* unfitted */\n",
       "  background-color: var(--sklearn-color-unfitted-level-0);\n",
       "}\n",
       "\n",
       "#sk-container-id-48 div.sk-estimator.fitted {\n",
       "  /* fitted */\n",
       "  background-color: var(--sklearn-color-fitted-level-0);\n",
       "}\n",
       "\n",
       "/* on hover */\n",
       "#sk-container-id-48 div.sk-estimator:hover {\n",
       "  /* unfitted */\n",
       "  background-color: var(--sklearn-color-unfitted-level-2);\n",
       "}\n",
       "\n",
       "#sk-container-id-48 div.sk-estimator.fitted:hover {\n",
       "  /* fitted */\n",
       "  background-color: var(--sklearn-color-fitted-level-2);\n",
       "}\n",
       "\n",
       "/* Specification for estimator info (e.g. \"i\" and \"?\") */\n",
       "\n",
       "/* Common style for \"i\" and \"?\" */\n",
       "\n",
       ".sk-estimator-doc-link,\n",
       "a:link.sk-estimator-doc-link,\n",
       "a:visited.sk-estimator-doc-link {\n",
       "  float: right;\n",
       "  font-size: smaller;\n",
       "  line-height: 1em;\n",
       "  font-family: monospace;\n",
       "  background-color: var(--sklearn-color-background);\n",
       "  border-radius: 1em;\n",
       "  height: 1em;\n",
       "  width: 1em;\n",
       "  text-decoration: none !important;\n",
       "  margin-left: 0.5em;\n",
       "  text-align: center;\n",
       "  /* unfitted */\n",
       "  border: var(--sklearn-color-unfitted-level-1) 1pt solid;\n",
       "  color: var(--sklearn-color-unfitted-level-1);\n",
       "}\n",
       "\n",
       ".sk-estimator-doc-link.fitted,\n",
       "a:link.sk-estimator-doc-link.fitted,\n",
       "a:visited.sk-estimator-doc-link.fitted {\n",
       "  /* fitted */\n",
       "  border: var(--sklearn-color-fitted-level-1) 1pt solid;\n",
       "  color: var(--sklearn-color-fitted-level-1);\n",
       "}\n",
       "\n",
       "/* On hover */\n",
       "div.sk-estimator:hover .sk-estimator-doc-link:hover,\n",
       ".sk-estimator-doc-link:hover,\n",
       "div.sk-label-container:hover .sk-estimator-doc-link:hover,\n",
       ".sk-estimator-doc-link:hover {\n",
       "  /* unfitted */\n",
       "  background-color: var(--sklearn-color-unfitted-level-3);\n",
       "  color: var(--sklearn-color-background);\n",
       "  text-decoration: none;\n",
       "}\n",
       "\n",
       "div.sk-estimator.fitted:hover .sk-estimator-doc-link.fitted:hover,\n",
       ".sk-estimator-doc-link.fitted:hover,\n",
       "div.sk-label-container:hover .sk-estimator-doc-link.fitted:hover,\n",
       ".sk-estimator-doc-link.fitted:hover {\n",
       "  /* fitted */\n",
       "  background-color: var(--sklearn-color-fitted-level-3);\n",
       "  color: var(--sklearn-color-background);\n",
       "  text-decoration: none;\n",
       "}\n",
       "\n",
       "/* Span, style for the box shown on hovering the info icon */\n",
       ".sk-estimator-doc-link span {\n",
       "  display: none;\n",
       "  z-index: 9999;\n",
       "  position: relative;\n",
       "  font-weight: normal;\n",
       "  right: .2ex;\n",
       "  padding: .5ex;\n",
       "  margin: .5ex;\n",
       "  width: min-content;\n",
       "  min-width: 20ex;\n",
       "  max-width: 50ex;\n",
       "  color: var(--sklearn-color-text);\n",
       "  box-shadow: 2pt 2pt 4pt #999;\n",
       "  /* unfitted */\n",
       "  background: var(--sklearn-color-unfitted-level-0);\n",
       "  border: .5pt solid var(--sklearn-color-unfitted-level-3);\n",
       "}\n",
       "\n",
       ".sk-estimator-doc-link.fitted span {\n",
       "  /* fitted */\n",
       "  background: var(--sklearn-color-fitted-level-0);\n",
       "  border: var(--sklearn-color-fitted-level-3);\n",
       "}\n",
       "\n",
       ".sk-estimator-doc-link:hover span {\n",
       "  display: block;\n",
       "}\n",
       "\n",
       "/* \"?\"-specific style due to the `<a>` HTML tag */\n",
       "\n",
       "#sk-container-id-48 a.estimator_doc_link {\n",
       "  float: right;\n",
       "  font-size: 1rem;\n",
       "  line-height: 1em;\n",
       "  font-family: monospace;\n",
       "  background-color: var(--sklearn-color-background);\n",
       "  border-radius: 1rem;\n",
       "  height: 1rem;\n",
       "  width: 1rem;\n",
       "  text-decoration: none;\n",
       "  /* unfitted */\n",
       "  color: var(--sklearn-color-unfitted-level-1);\n",
       "  border: var(--sklearn-color-unfitted-level-1) 1pt solid;\n",
       "}\n",
       "\n",
       "#sk-container-id-48 a.estimator_doc_link.fitted {\n",
       "  /* fitted */\n",
       "  border: var(--sklearn-color-fitted-level-1) 1pt solid;\n",
       "  color: var(--sklearn-color-fitted-level-1);\n",
       "}\n",
       "\n",
       "/* On hover */\n",
       "#sk-container-id-48 a.estimator_doc_link:hover {\n",
       "  /* unfitted */\n",
       "  background-color: var(--sklearn-color-unfitted-level-3);\n",
       "  color: var(--sklearn-color-background);\n",
       "  text-decoration: none;\n",
       "}\n",
       "\n",
       "#sk-container-id-48 a.estimator_doc_link.fitted:hover {\n",
       "  /* fitted */\n",
       "  background-color: var(--sklearn-color-fitted-level-3);\n",
       "}\n",
       "</style><div id=\"sk-container-id-48\" class=\"sk-top-container\"><div class=\"sk-text-repr-fallback\"><pre>Pipeline(steps=[(&#x27;splinetransformer&#x27;,\n",
       "                 SplineTransformer(knots=&#x27;quantile&#x27;, n_knots=70)),\n",
       "                (&#x27;ridge&#x27;, Ridge(alpha=1e-05))])</pre><b>In a Jupyter environment, please rerun this cell to show the HTML representation or trust the notebook. <br />On GitHub, the HTML representation is unable to render, please try loading this page with nbviewer.org.</b></div><div class=\"sk-container\" hidden><div class=\"sk-item sk-dashed-wrapped\"><div class=\"sk-label-container\"><div class=\"sk-label fitted sk-toggleable\"><input class=\"sk-toggleable__control sk-hidden--visually\" id=\"sk-estimator-id-76\" type=\"checkbox\" ><label for=\"sk-estimator-id-76\" class=\"sk-toggleable__label fitted sk-toggleable__label-arrow\"><div><div>Pipeline</div></div><div><a class=\"sk-estimator-doc-link fitted\" rel=\"noreferrer\" target=\"_blank\" href=\"https://scikit-learn.org/1.6/modules/generated/sklearn.pipeline.Pipeline.html\">?<span>Documentation for Pipeline</span></a><span class=\"sk-estimator-doc-link fitted\">i<span>Fitted</span></span></div></label><div class=\"sk-toggleable__content fitted\"><pre>Pipeline(steps=[(&#x27;splinetransformer&#x27;,\n",
       "                 SplineTransformer(knots=&#x27;quantile&#x27;, n_knots=70)),\n",
       "                (&#x27;ridge&#x27;, Ridge(alpha=1e-05))])</pre></div> </div></div><div class=\"sk-serial\"><div class=\"sk-item\"><div class=\"sk-estimator fitted sk-toggleable\"><input class=\"sk-toggleable__control sk-hidden--visually\" id=\"sk-estimator-id-77\" type=\"checkbox\" ><label for=\"sk-estimator-id-77\" class=\"sk-toggleable__label fitted sk-toggleable__label-arrow\"><div><div>SplineTransformer</div></div><div><a class=\"sk-estimator-doc-link fitted\" rel=\"noreferrer\" target=\"_blank\" href=\"https://scikit-learn.org/1.6/modules/generated/sklearn.preprocessing.SplineTransformer.html\">?<span>Documentation for SplineTransformer</span></a></div></label><div class=\"sk-toggleable__content fitted\"><pre>SplineTransformer(knots=&#x27;quantile&#x27;, n_knots=70)</pre></div> </div></div><div class=\"sk-item\"><div class=\"sk-estimator fitted sk-toggleable\"><input class=\"sk-toggleable__control sk-hidden--visually\" id=\"sk-estimator-id-78\" type=\"checkbox\" ><label for=\"sk-estimator-id-78\" class=\"sk-toggleable__label fitted sk-toggleable__label-arrow\"><div><div>Ridge</div></div><div><a class=\"sk-estimator-doc-link fitted\" rel=\"noreferrer\" target=\"_blank\" href=\"https://scikit-learn.org/1.6/modules/generated/sklearn.linear_model.Ridge.html\">?<span>Documentation for Ridge</span></a></div></label><div class=\"sk-toggleable__content fitted\"><pre>Ridge(alpha=1e-05)</pre></div> </div></div></div></div></div></div>"
      ],
      "text/plain": [
       "Pipeline(steps=[('splinetransformer',\n",
       "                 SplineTransformer(knots='quantile', n_knots=70)),\n",
       "                ('ridge', Ridge(alpha=1e-05))])"
      ]
     },
     "execution_count": 440,
     "metadata": {},
     "output_type": "execute_result"
    }
   ],
   "source": [
    "model_1.fit(\n",
    "    X=mixed_years.filter(pl.col(\"model_year\") == 2023).select(\"yr_diff\").collect(),\n",
    "    y=mixed_years.filter(pl.col(\"model_year\") == 2023).select(\"advertised_inventory\").collect()\n",
    ")"
   ]
  },
  {
   "cell_type": "code",
   "execution_count": 441,
   "metadata": {},
   "outputs": [],
   "source": [
    "a = 36 * (-1.0/12.0)\n",
    "b = 36 * (1.0/12.0)\n",
    "step = 1.0/12.0\n",
    "yr_diffs = np.linspace(a, b, num=int((b - a)/step + 1))\n",
    "\n",
    "X = pl.DataFrame(\n",
    "    data={\n",
    "        \"yr_diff\": yr_diffs\n",
    "    }\n",
    ")"
   ]
  },
  {
   "cell_type": "code",
   "execution_count": 442,
   "metadata": {},
   "outputs": [],
   "source": [
    "preds = model_1.predict(X=X.select(\"yr_diff\")).flatten()"
   ]
  },
  {
   "cell_type": "code",
   "execution_count": 443,
   "metadata": {},
   "outputs": [
    {
     "data": {
      "application/vnd.plotly.v1+json": {
       "config": {
        "plotlyServerURL": "https://plot.ly"
       },
       "data": [
        {
         "hovertemplate": "x=%{x}<br>y=%{y}<extra></extra>",
         "legendgroup": "",
         "marker": {
          "color": "#636efa",
          "symbol": "circle"
         },
         "mode": "markers",
         "name": "",
         "orientation": "v",
         "showlegend": false,
         "type": "scatter",
         "x": [
          -3,
          -2.9166666666666665,
          -2.8333333333333335,
          -2.75,
          -2.6666666666666665,
          -2.5833333333333335,
          -2.5,
          -2.416666666666667,
          -2.3333333333333335,
          -2.25,
          -2.166666666666667,
          -2.0833333333333335,
          -2,
          -1.9166666666666667,
          -1.8333333333333335,
          -1.75,
          -1.6666666666666667,
          -1.5833333333333335,
          -1.5,
          -1.4166666666666667,
          -1.3333333333333335,
          -1.25,
          -1.1666666666666667,
          -1.0833333333333335,
          -1,
          -0.916666666666667,
          -0.8333333333333335,
          -0.75,
          -0.666666666666667,
          -0.5833333333333335,
          -0.5,
          -0.41666666666666696,
          -0.3333333333333335,
          -0.25,
          -0.16666666666666696,
          -0.08333333333333348,
          0,
          0.08333333333333304,
          0.16666666666666652,
          0.25,
          0.33333333333333304,
          0.4166666666666665,
          0.5,
          0.583333333333333,
          0.6666666666666665,
          0.75,
          0.833333333333333,
          0.9166666666666665,
          1,
          1.083333333333333,
          1.166666666666666,
          1.25,
          1.333333333333333,
          1.416666666666666,
          1.5,
          1.583333333333333,
          1.666666666666666,
          1.75,
          1.833333333333333,
          1.916666666666666,
          2,
          2.083333333333333,
          2.166666666666666,
          2.25,
          2.333333333333333,
          2.416666666666666,
          2.5,
          2.583333333333333,
          2.666666666666666,
          2.75,
          2.833333333333333,
          2.916666666666666,
          3
         ],
         "xaxis": "x",
         "y": [
          0.029662377548334007,
          0.029662377548334007,
          0.029662377548334007,
          0.029662377548334007,
          0.029662377548334007,
          0.029662377548334007,
          0.029662377548334007,
          0.029662377548334007,
          0.029662377548334007,
          0.029662377548334007,
          0.029662377548334007,
          -2.1825846056271985,
          -6.491017986859674,
          -1.778098790222998,
          8.910741193392255,
          22.530070173095396,
          36.034456357995964,
          46.378467957203156,
          50.516673179826626,
          46.33461130062608,
          40.759693094678596,
          45.80536226059917,
          62.08836638063838,
          83.79703698210812,
          115.15665247968593,
          156.8795148492079,
          223.04938774780283,
          319.2013752484588,
          462.27016909716593,
          610.8364486832379,
          761.1908777156226,
          912.1860226484125,
          1067.1123764103902,
          1253.9747141199482,
          1384.740811562101,
          1497.340548489774,
          1579.5301334808728,
          1576.6182579618358,
          1612.1244896357243,
          1549.0043959662876,
          1429.2495956992188,
          1269.7783417494543,
          1083.341061283838,
          864.0713930143844,
          669.5643978948967,
          404.7748507972916,
          245.08657739475916,
          112.13951502437101,
          29.898390721140345,
          7.473636365230391,
          9.36446417109994,
          17.469140457694152,
          20.173474252328447,
          17.151897676393105,
          10.360877449365944,
          1.7568802907254621,
          -6.703627080050069,
          -13.064177943482832,
          -15.368305580094443,
          -11.659543270406743,
          0.018575705058538006,
          0.018575705058538006,
          0.018575705058538006,
          0.018575705058538006,
          0.018575705058538006,
          0.018575705058538006,
          0.018575705058538006,
          0.018575705058538006,
          0.018575705058538006,
          0.018575705058538006,
          0.018575705058538006,
          0.018575705058538006,
          0.018575705058538006
         ],
         "yaxis": "y"
        }
       ],
       "layout": {
        "legend": {
         "tracegroupgap": 0
        },
        "margin": {
         "t": 60
        },
        "template": {
         "data": {
          "bar": [
           {
            "error_x": {
             "color": "#2a3f5f"
            },
            "error_y": {
             "color": "#2a3f5f"
            },
            "marker": {
             "line": {
              "color": "#E5ECF6",
              "width": 0.5
             },
             "pattern": {
              "fillmode": "overlay",
              "size": 10,
              "solidity": 0.2
             }
            },
            "type": "bar"
           }
          ],
          "barpolar": [
           {
            "marker": {
             "line": {
              "color": "#E5ECF6",
              "width": 0.5
             },
             "pattern": {
              "fillmode": "overlay",
              "size": 10,
              "solidity": 0.2
             }
            },
            "type": "barpolar"
           }
          ],
          "carpet": [
           {
            "aaxis": {
             "endlinecolor": "#2a3f5f",
             "gridcolor": "white",
             "linecolor": "white",
             "minorgridcolor": "white",
             "startlinecolor": "#2a3f5f"
            },
            "baxis": {
             "endlinecolor": "#2a3f5f",
             "gridcolor": "white",
             "linecolor": "white",
             "minorgridcolor": "white",
             "startlinecolor": "#2a3f5f"
            },
            "type": "carpet"
           }
          ],
          "choropleth": [
           {
            "colorbar": {
             "outlinewidth": 0,
             "ticks": ""
            },
            "type": "choropleth"
           }
          ],
          "contour": [
           {
            "colorbar": {
             "outlinewidth": 0,
             "ticks": ""
            },
            "colorscale": [
             [
              0,
              "#0d0887"
             ],
             [
              0.1111111111111111,
              "#46039f"
             ],
             [
              0.2222222222222222,
              "#7201a8"
             ],
             [
              0.3333333333333333,
              "#9c179e"
             ],
             [
              0.4444444444444444,
              "#bd3786"
             ],
             [
              0.5555555555555556,
              "#d8576b"
             ],
             [
              0.6666666666666666,
              "#ed7953"
             ],
             [
              0.7777777777777778,
              "#fb9f3a"
             ],
             [
              0.8888888888888888,
              "#fdca26"
             ],
             [
              1,
              "#f0f921"
             ]
            ],
            "type": "contour"
           }
          ],
          "contourcarpet": [
           {
            "colorbar": {
             "outlinewidth": 0,
             "ticks": ""
            },
            "type": "contourcarpet"
           }
          ],
          "heatmap": [
           {
            "colorbar": {
             "outlinewidth": 0,
             "ticks": ""
            },
            "colorscale": [
             [
              0,
              "#0d0887"
             ],
             [
              0.1111111111111111,
              "#46039f"
             ],
             [
              0.2222222222222222,
              "#7201a8"
             ],
             [
              0.3333333333333333,
              "#9c179e"
             ],
             [
              0.4444444444444444,
              "#bd3786"
             ],
             [
              0.5555555555555556,
              "#d8576b"
             ],
             [
              0.6666666666666666,
              "#ed7953"
             ],
             [
              0.7777777777777778,
              "#fb9f3a"
             ],
             [
              0.8888888888888888,
              "#fdca26"
             ],
             [
              1,
              "#f0f921"
             ]
            ],
            "type": "heatmap"
           }
          ],
          "heatmapgl": [
           {
            "colorbar": {
             "outlinewidth": 0,
             "ticks": ""
            },
            "colorscale": [
             [
              0,
              "#0d0887"
             ],
             [
              0.1111111111111111,
              "#46039f"
             ],
             [
              0.2222222222222222,
              "#7201a8"
             ],
             [
              0.3333333333333333,
              "#9c179e"
             ],
             [
              0.4444444444444444,
              "#bd3786"
             ],
             [
              0.5555555555555556,
              "#d8576b"
             ],
             [
              0.6666666666666666,
              "#ed7953"
             ],
             [
              0.7777777777777778,
              "#fb9f3a"
             ],
             [
              0.8888888888888888,
              "#fdca26"
             ],
             [
              1,
              "#f0f921"
             ]
            ],
            "type": "heatmapgl"
           }
          ],
          "histogram": [
           {
            "marker": {
             "pattern": {
              "fillmode": "overlay",
              "size": 10,
              "solidity": 0.2
             }
            },
            "type": "histogram"
           }
          ],
          "histogram2d": [
           {
            "colorbar": {
             "outlinewidth": 0,
             "ticks": ""
            },
            "colorscale": [
             [
              0,
              "#0d0887"
             ],
             [
              0.1111111111111111,
              "#46039f"
             ],
             [
              0.2222222222222222,
              "#7201a8"
             ],
             [
              0.3333333333333333,
              "#9c179e"
             ],
             [
              0.4444444444444444,
              "#bd3786"
             ],
             [
              0.5555555555555556,
              "#d8576b"
             ],
             [
              0.6666666666666666,
              "#ed7953"
             ],
             [
              0.7777777777777778,
              "#fb9f3a"
             ],
             [
              0.8888888888888888,
              "#fdca26"
             ],
             [
              1,
              "#f0f921"
             ]
            ],
            "type": "histogram2d"
           }
          ],
          "histogram2dcontour": [
           {
            "colorbar": {
             "outlinewidth": 0,
             "ticks": ""
            },
            "colorscale": [
             [
              0,
              "#0d0887"
             ],
             [
              0.1111111111111111,
              "#46039f"
             ],
             [
              0.2222222222222222,
              "#7201a8"
             ],
             [
              0.3333333333333333,
              "#9c179e"
             ],
             [
              0.4444444444444444,
              "#bd3786"
             ],
             [
              0.5555555555555556,
              "#d8576b"
             ],
             [
              0.6666666666666666,
              "#ed7953"
             ],
             [
              0.7777777777777778,
              "#fb9f3a"
             ],
             [
              0.8888888888888888,
              "#fdca26"
             ],
             [
              1,
              "#f0f921"
             ]
            ],
            "type": "histogram2dcontour"
           }
          ],
          "mesh3d": [
           {
            "colorbar": {
             "outlinewidth": 0,
             "ticks": ""
            },
            "type": "mesh3d"
           }
          ],
          "parcoords": [
           {
            "line": {
             "colorbar": {
              "outlinewidth": 0,
              "ticks": ""
             }
            },
            "type": "parcoords"
           }
          ],
          "pie": [
           {
            "automargin": true,
            "type": "pie"
           }
          ],
          "scatter": [
           {
            "fillpattern": {
             "fillmode": "overlay",
             "size": 10,
             "solidity": 0.2
            },
            "type": "scatter"
           }
          ],
          "scatter3d": [
           {
            "line": {
             "colorbar": {
              "outlinewidth": 0,
              "ticks": ""
             }
            },
            "marker": {
             "colorbar": {
              "outlinewidth": 0,
              "ticks": ""
             }
            },
            "type": "scatter3d"
           }
          ],
          "scattercarpet": [
           {
            "marker": {
             "colorbar": {
              "outlinewidth": 0,
              "ticks": ""
             }
            },
            "type": "scattercarpet"
           }
          ],
          "scattergeo": [
           {
            "marker": {
             "colorbar": {
              "outlinewidth": 0,
              "ticks": ""
             }
            },
            "type": "scattergeo"
           }
          ],
          "scattergl": [
           {
            "marker": {
             "colorbar": {
              "outlinewidth": 0,
              "ticks": ""
             }
            },
            "type": "scattergl"
           }
          ],
          "scattermapbox": [
           {
            "marker": {
             "colorbar": {
              "outlinewidth": 0,
              "ticks": ""
             }
            },
            "type": "scattermapbox"
           }
          ],
          "scatterpolar": [
           {
            "marker": {
             "colorbar": {
              "outlinewidth": 0,
              "ticks": ""
             }
            },
            "type": "scatterpolar"
           }
          ],
          "scatterpolargl": [
           {
            "marker": {
             "colorbar": {
              "outlinewidth": 0,
              "ticks": ""
             }
            },
            "type": "scatterpolargl"
           }
          ],
          "scatterternary": [
           {
            "marker": {
             "colorbar": {
              "outlinewidth": 0,
              "ticks": ""
             }
            },
            "type": "scatterternary"
           }
          ],
          "surface": [
           {
            "colorbar": {
             "outlinewidth": 0,
             "ticks": ""
            },
            "colorscale": [
             [
              0,
              "#0d0887"
             ],
             [
              0.1111111111111111,
              "#46039f"
             ],
             [
              0.2222222222222222,
              "#7201a8"
             ],
             [
              0.3333333333333333,
              "#9c179e"
             ],
             [
              0.4444444444444444,
              "#bd3786"
             ],
             [
              0.5555555555555556,
              "#d8576b"
             ],
             [
              0.6666666666666666,
              "#ed7953"
             ],
             [
              0.7777777777777778,
              "#fb9f3a"
             ],
             [
              0.8888888888888888,
              "#fdca26"
             ],
             [
              1,
              "#f0f921"
             ]
            ],
            "type": "surface"
           }
          ],
          "table": [
           {
            "cells": {
             "fill": {
              "color": "#EBF0F8"
             },
             "line": {
              "color": "white"
             }
            },
            "header": {
             "fill": {
              "color": "#C8D4E3"
             },
             "line": {
              "color": "white"
             }
            },
            "type": "table"
           }
          ]
         },
         "layout": {
          "annotationdefaults": {
           "arrowcolor": "#2a3f5f",
           "arrowhead": 0,
           "arrowwidth": 1
          },
          "autotypenumbers": "strict",
          "coloraxis": {
           "colorbar": {
            "outlinewidth": 0,
            "ticks": ""
           }
          },
          "colorscale": {
           "diverging": [
            [
             0,
             "#8e0152"
            ],
            [
             0.1,
             "#c51b7d"
            ],
            [
             0.2,
             "#de77ae"
            ],
            [
             0.3,
             "#f1b6da"
            ],
            [
             0.4,
             "#fde0ef"
            ],
            [
             0.5,
             "#f7f7f7"
            ],
            [
             0.6,
             "#e6f5d0"
            ],
            [
             0.7,
             "#b8e186"
            ],
            [
             0.8,
             "#7fbc41"
            ],
            [
             0.9,
             "#4d9221"
            ],
            [
             1,
             "#276419"
            ]
           ],
           "sequential": [
            [
             0,
             "#0d0887"
            ],
            [
             0.1111111111111111,
             "#46039f"
            ],
            [
             0.2222222222222222,
             "#7201a8"
            ],
            [
             0.3333333333333333,
             "#9c179e"
            ],
            [
             0.4444444444444444,
             "#bd3786"
            ],
            [
             0.5555555555555556,
             "#d8576b"
            ],
            [
             0.6666666666666666,
             "#ed7953"
            ],
            [
             0.7777777777777778,
             "#fb9f3a"
            ],
            [
             0.8888888888888888,
             "#fdca26"
            ],
            [
             1,
             "#f0f921"
            ]
           ],
           "sequentialminus": [
            [
             0,
             "#0d0887"
            ],
            [
             0.1111111111111111,
             "#46039f"
            ],
            [
             0.2222222222222222,
             "#7201a8"
            ],
            [
             0.3333333333333333,
             "#9c179e"
            ],
            [
             0.4444444444444444,
             "#bd3786"
            ],
            [
             0.5555555555555556,
             "#d8576b"
            ],
            [
             0.6666666666666666,
             "#ed7953"
            ],
            [
             0.7777777777777778,
             "#fb9f3a"
            ],
            [
             0.8888888888888888,
             "#fdca26"
            ],
            [
             1,
             "#f0f921"
            ]
           ]
          },
          "colorway": [
           "#636efa",
           "#EF553B",
           "#00cc96",
           "#ab63fa",
           "#FFA15A",
           "#19d3f3",
           "#FF6692",
           "#B6E880",
           "#FF97FF",
           "#FECB52"
          ],
          "font": {
           "color": "#2a3f5f"
          },
          "geo": {
           "bgcolor": "white",
           "lakecolor": "white",
           "landcolor": "#E5ECF6",
           "showlakes": true,
           "showland": true,
           "subunitcolor": "white"
          },
          "hoverlabel": {
           "align": "left"
          },
          "hovermode": "closest",
          "mapbox": {
           "style": "light"
          },
          "paper_bgcolor": "white",
          "plot_bgcolor": "#E5ECF6",
          "polar": {
           "angularaxis": {
            "gridcolor": "white",
            "linecolor": "white",
            "ticks": ""
           },
           "bgcolor": "#E5ECF6",
           "radialaxis": {
            "gridcolor": "white",
            "linecolor": "white",
            "ticks": ""
           }
          },
          "scene": {
           "xaxis": {
            "backgroundcolor": "#E5ECF6",
            "gridcolor": "white",
            "gridwidth": 2,
            "linecolor": "white",
            "showbackground": true,
            "ticks": "",
            "zerolinecolor": "white"
           },
           "yaxis": {
            "backgroundcolor": "#E5ECF6",
            "gridcolor": "white",
            "gridwidth": 2,
            "linecolor": "white",
            "showbackground": true,
            "ticks": "",
            "zerolinecolor": "white"
           },
           "zaxis": {
            "backgroundcolor": "#E5ECF6",
            "gridcolor": "white",
            "gridwidth": 2,
            "linecolor": "white",
            "showbackground": true,
            "ticks": "",
            "zerolinecolor": "white"
           }
          },
          "shapedefaults": {
           "line": {
            "color": "#2a3f5f"
           }
          },
          "ternary": {
           "aaxis": {
            "gridcolor": "white",
            "linecolor": "white",
            "ticks": ""
           },
           "baxis": {
            "gridcolor": "white",
            "linecolor": "white",
            "ticks": ""
           },
           "bgcolor": "#E5ECF6",
           "caxis": {
            "gridcolor": "white",
            "linecolor": "white",
            "ticks": ""
           }
          },
          "title": {
           "x": 0.05
          },
          "xaxis": {
           "automargin": true,
           "gridcolor": "white",
           "linecolor": "white",
           "ticks": "",
           "title": {
            "standoff": 15
           },
           "zerolinecolor": "white",
           "zerolinewidth": 2
          },
          "yaxis": {
           "automargin": true,
           "gridcolor": "white",
           "linecolor": "white",
           "ticks": "",
           "title": {
            "standoff": 15
           },
           "zerolinecolor": "white",
           "zerolinewidth": 2
          }
         }
        },
        "xaxis": {
         "anchor": "y",
         "domain": [
          0,
          1
         ],
         "title": {
          "text": "x"
         }
        },
        "yaxis": {
         "anchor": "x",
         "domain": [
          0,
          1
         ],
         "title": {
          "text": "y"
         }
        }
       }
      }
     },
     "metadata": {},
     "output_type": "display_data"
    }
   ],
   "source": [
    "px.scatter(\n",
    "    x=yr_diffs,\n",
    "    y=preds\n",
    ")"
   ]
  },
  {
   "cell_type": "code",
   "execution_count": 364,
   "metadata": {},
   "outputs": [
    {
     "name": "stderr",
     "output_type": "stream",
     "text": [
      "/home/justin/bin/mambaforge/envs/justins_room/lib/python3.11/site-packages/plotly/express/_core.py:2065: FutureWarning:\n",
      "\n",
      "When grouping with a length-1 list-like, you will need to pass a length-1 tuple to get_group in a future version of pandas. Pass `(name,)` instead of `name` to silence this warning.\n",
      "\n"
     ]
    },
    {
     "data": {
      "application/vnd.plotly.v1+json": {
       "config": {
        "plotlyServerURL": "https://plot.ly"
       },
       "data": [
        {
         "hovertemplate": "color=2022<br>x=%{x}<br>y=%{y}<extra></extra>",
         "legendgroup": "2022",
         "marker": {
          "color": "#636efa",
          "symbol": "circle"
         },
         "mode": "markers",
         "name": "2022",
         "orientation": "v",
         "showlegend": true,
         "type": "scatter",
         "x": [
          2,
          1.599999999999909,
          0.07942800000000716,
          0.058571999999912805,
          0.037716000000045824,
          0.01686100000006263,
          -0.003995000000031723,
          -0.024850999999898704,
          -0.04570699999999306,
          -0.06656199999997625,
          -0.0874180000000706,
          -0.10827399999993759,
          -0.12913000000003194,
          -0.14998500000001513,
          -0.1708410000001095,
          -0.19169699999997647,
          -0.21255199999995966,
          -0.23340800000005402,
          -0.254263999999921,
          -0.27512000000001535,
          -0.29597499999999854,
          -0.3168310000000929,
          -0.3376869999999599,
          -0.35854300000005423,
          -0.3793980000000374,
          -0.4002539999999044,
          -0.42110999999999876,
          -0.4419660000000931,
          -0.4628210000000763,
          -0.4836769999999433,
          -0.5045330000000376,
          -0.5253880000000208,
          -0.5462439999998878,
          -0.5670999999999822,
          -0.5879560000000765,
          -0.6088110000000597,
          -0.6296669999999267,
          -0.6505230000000211,
          -0.671378999999888,
          -0.6922340000000986,
          -0.7130899999999656,
          -0.7339460000000599,
          -0.7548010000000431,
          -0.7756569999999101,
          -0.7965130000000045,
          -0.8173690000000988,
          -0.838224000000082,
          -0.859079999999949,
          -0.8799360000000434,
          -0.9007919999999103,
          -0.9216469999998935,
          -0.9425029999999879,
          -0.9633590000000822,
          -0.9842140000000654,
          -1.0050699999999324,
          -1.0259260000000268,
          -1.0467819999998937,
          -1.0676370000001043,
          -1.0884929999999713,
          -1.1093490000000656,
          -1.1302049999999326,
          -1.1510599999999158,
          -1.1719160000000102,
          -1.1927720000001045,
          -1.2136270000000877,
          -1.2344829999999547,
          -1.255339000000049,
          -1.276194999999916,
          -1.2970499999998992,
          -1.3179059999999936,
          -1.338762000000088,
          -1.359617999999955,
          -1.380472999999938,
          -1.4013290000000325,
          -1.4221849999998994,
          -1.4430409999999938,
          -1.463895999999977,
          -1.4847520000000713,
          -1.5056079999999383,
          -2.0499999999999545,
          -2.1900000000000546
         ],
         "xaxis": "x",
         "y": [
          0,
          0,
          935.612174,
          928.7684125,
          920.8980868,
          913.0277612,
          908.5793162,
          908.5793162,
          905.8418116,
          903.104307,
          899.3402382,
          883.9417749,
          867.8589355,
          851.433908,
          836.3776328,
          824.4010502,
          815.5041603,
          806.9494585,
          795.9994401,
          778.2056603,
          758.3587521,
          738.5118439,
          720.0336879,
          686.1570687,
          658.0976467,
          627.9850962,
          598.2147339,
          568.7865596,
          540.0427614,
          509.930211,
          482.2129771,
          451.4160505,
          421.6456881,
          392.5597019,
          363.4737157,
          334.0455414,
          303.932991,
          274.1626286,
          244.0500782,
          219.754725,
          197.1703122,
          174.2437113,
          152.6858627,
          136.2608352,
          122.2311242,
          108.8857893,
          97.59358289,
          92.80294986,
          82.30918229,
          69.87634896,
          60.29508292,
          56.53101411,
          50.3716288,
          45.92318385,
          41.13255082,
          36.3419178,
          35.31535358,
          29.49815634,
          27.78721597,
          25.04971138,
          20.25907836,
          16.83719763,
          16.49500956,
          13.4153169,
          12.73094075,
          12.73094075,
          9.993436167,
          8.966871947,
          6.913743509,
          5.202803143,
          5.202803143,
          5.202803143,
          5.202803143,
          5.202803143,
          5.202803143,
          5.202803143,
          5.202803143,
          5.202803143,
          3.491862777,
          0,
          0
         ],
         "yaxis": "y"
        },
        {
         "hovertemplate": "color=2023<br>x=%{x}<br>y=%{y}<extra></extra>",
         "legendgroup": "2023",
         "marker": {
          "color": "#EF553B",
          "symbol": "circle"
         },
         "mode": "markers",
         "name": "2023",
         "orientation": "v",
         "showlegend": true,
         "type": "scatter",
         "x": [
          2,
          1.599999999999909,
          1.0775320000000193,
          1.056675999999925,
          1.035820000000058,
          1.0149650000000747,
          0.9941089999999804,
          0.9732530000001134,
          0.952397000000019,
          0.9315420000000358,
          0.9106859999999415,
          0.8898300000000745,
          0.8689739999999802,
          0.848118999999997,
          0.8272629999999026,
          0.8064070000000356,
          0.7855520000000524,
          0.7646959999999581,
          0.7438400000000911,
          0.7229839999999967,
          0.7021290000000135,
          0.6812729999999192,
          0.6618920000000799,
          0.6395609999999579,
          0.6187059999999747,
          0.5978500000001077,
          0.5769940000000133,
          0.5561390000000301,
          0.5352829999999358,
          0.5144270000000688,
          0.49357099999997445,
          0.47271599999999125,
          0.4518599999998969,
          0.4310040000000299,
          0.41014799999993556,
          0.38929299999995237,
          0.3684370000000854,
          0.34758099999999104,
          0.3267249999998967,
          0.3058699999999135,
          0.2850140000000465,
          0.26415799999995215,
          0.24330299999996896,
          0.22244700000010198,
          0.20159100000000763,
          0.18073499999991327,
          0.15987999999993008,
          0.1390240000000631,
          0.11816799999996874,
          0.09731200000010176,
          0.0764569999998912,
          0.055601000000024214,
          0.03474499999992986,
          0.013889999999946667,
          -0.006965999999920314,
          -0.02782200000001467,
          -0.04867800000010902,
          -0.06953300000009222,
          -0.0903889999999592,
          -0.11124500000005355,
          -0.13210099999992053,
          -0.15295599999990372,
          -0.17381199999999808,
          -0.19466800000009243,
          -0.21552300000007563,
          -0.2363789999999426,
          -0.25723500000003696,
          -0.27809099999990394,
          -0.29894599999988714,
          -0.3198019999999815,
          -0.34065800000007584,
          -0.3615139999999428,
          -0.382368999999926,
          -0.4032250000000204,
          -0.42408099999988735,
          -0.4449360000000979,
          -0.4657919999999649,
          -0.48664800000005926,
          -0.5075039999999262,
          -0.5283589999999094,
          -0.5492150000000038,
          -0.5700710000000981,
          -0.5909269999999651,
          -0.6117819999999483,
          -0.6326380000000427,
          -0.6534939999999096,
          -0.674350000000004,
          -0.6952049999999872,
          -0.7160610000000815,
          -0.7369169999999485,
          -0.7577719999999317,
          -0.7786280000000261,
          -0.7994839999998931,
          -0.8203399999999874,
          -0.8411949999999706,
          -0.862051000000065,
          -0.8829069999999319,
          -0.9037630000000263,
          -0.9246180000000095,
          -0.9454740000001038,
          -0.9663299999999708,
          -0.987184999999954,
          -1.0080410000000484,
          -1.0288969999999154,
          -1.0497530000000097,
          -1.070607999999993,
          -1.0914640000000873,
          -1.1123199999999542,
          -1.1331760000000486,
          -1.1540310000000318,
          -1.1748869999998988,
          -1.1957429999999931,
          -1.2165979999999763,
          -1.2374540000000707,
          -1.2782179999999244,
          -1.900000000000091,
          -2.099999999999909
         ],
         "xaxis": "x",
         "y": [
          0,
          0,
          7.940307728,
          9.651248094,
          16.83719763,
          22.3122068,
          31.2090967,
          53.10913338,
          73.64041777,
          94.51389023,
          120.1779957,
          154.054615,
          187.9312342,
          221.1234773,
          256.3688488,
          293.6673488,
          334.0455414,
          371.0018533,
          418.5659955,
          489.3989266,
          557.8365412,
          629.3538485,
          681.0622685,
          744.3290411,
          786.7603622,
          830.2182475,
          881.2042704,
          936.6387382,
          992.073206,
          1044.770169,
          1100.204637,
          1148.110967,
          1193.964169,
          1239.132995,
          1282.933068,
          1323.995637,
          1363.689453,
          1404.409834,
          1440.339582,
          1471.136508,
          1500.564683,
          1529.650669,
          1556.341339,
          1572.766366,
          1587.480453,
          1603.563293,
          1614.513311,
          1610.064866,
          1597.746095,
          1587.480453,
          1572.766366,
          1567.291357,
          1573.79293,
          1577.899187,
          1577.556999,
          1563.869476,
          1538.889747,
          1516.305334,
          1487.561536,
          1459.844302,
          1432.127068,
          1403.725458,
          1374.98166,
          1341.447229,
          1308.597174,
          1276.773683,
          1241.528311,
          1202.176683,
          1154.954729,
          1097.467133,
          1051.613931,
          1010.551362,
          972.910674,
          936.2965501,
          898.9980502,
          862.0417383,
          825.0854264,
          785.3916099,
          747.7509218,
          708.7414815,
          669.047665,
          633.4601054,
          598.89911,
          558.5209174,
          520.8802293,
          485.6348578,
          447.9941698,
          409.6691056,
          376.1346744,
          340.8893029,
          306.3283075,
          274.1626286,
          254.6579085,
          235.1531883,
          216.6750323,
          196.485936,
          181.4296608,
          168.426514,
          148.9217939,
          138.3139636,
          129.4170737,
          120.5201838,
          111.2811058,
          102.726404,
          95.88264252,
          88.01231684,
          81.85293152,
          76.37792235,
          71.58728933,
          65.42790401,
          60.29508292,
          57.8997664,
          54.1356976,
          48.17184833,
          41.96520847,
          0,
          0
         ],
         "yaxis": "y"
        },
        {
         "hovertemplate": "color=2024<br>x=%{x}<br>y=%{y}<extra></extra>",
         "legendgroup": "2024",
         "marker": {
          "color": "#00cc96",
          "symbol": "circle"
         },
         "mode": "markers",
         "name": "2024",
         "orientation": "v",
         "showlegend": true,
         "type": "scatter",
         "x": [
          2,
          1.599999999999909,
          1.4859870000000228,
          1.4651320000000396,
          1.4442759999999453,
          1.4234200000000783,
          1.402565000000095,
          1.3817090000000007,
          1.3608529999999064,
          1.3399970000000394,
          1.3191420000000562,
          1.2982859999999619,
          1.2774300000000949,
          1.2565740000000005,
          1.2357190000000173,
          1.214862999999923,
          1.194007000000056,
          1.1731509999999616,
          1.1522959999999784,
          1.1371280000000752,
          1.0916250000000218,
          1.0707689999999275,
          1.0499130000000605,
          1.0290569999999661,
          1.008201999999983,
          0.9873459999998886,
          0.9664900000000216,
          0.9456339999999273,
          0.9247789999999441,
          0.9039230000000771,
          0.8830669999999827,
          0.8622119999999995,
          0.8413559999999052,
          0.8205000000000382,
          0.8015399999999318,
          0.7835290000000441,
          0.7645689999999377,
          0.7456090000000586,
          0.7266489999999521,
          0.7067420000000766,
          0.6855700000000979,
          0.6669260000001032,
          0.6460700000000088,
          0.6252150000000256,
          0.6043589999999313,
          0.5835030000000643,
          0.5626469999999699,
          0.5417919999999867,
          0.5209359999998924,
          0.5000800000000254,
          0.47922399999993104,
          0.45836899999994785,
          0.43751300000008086,
          0.4166569999999865,
          0.3958020000000033,
          0.37494599999990896,
          0.354090000000042,
          0.3332339999999476,
          0.31237899999996444,
          0.29152300000009745,
          0.2706670000000031,
          0.24981099999990874,
          0.22895599999992555,
          0.20810000000005857,
          0.18724399999996422,
          0.16638899999998102,
          0.14553299999988667,
          0.12467700000001969,
          0.10382099999992533,
          0.08296599999994214,
          0.06211000000007516,
          0.041253999999980806,
          0.02039799999988645,
          -0.00045700000009674113,
          -0.021312999999963722,
          -0.04216900000005808,
          -0.06302400000004127,
          -0.08387999999990825,
          -0.1047360000000026,
          -0.12559200000009696,
          -0.14644700000008015,
          -0.16730299999994713,
          -0.1881590000000415,
          -0.20901499999990847,
          -0.22986999999989166,
          -0.250725999999986,
          -0.27158200000008037,
          -0.2839059999998881,
          -1.95900000000006,
          -2.130000000000109
         ],
         "xaxis": "x",
         "y": [
          0,
          0,
          0,
          0,
          0,
          0,
          0,
          0,
          0,
          0,
          0,
          0,
          2.465298558,
          5.544991216,
          13.75750497,
          25.39189946,
          36.3419178,
          48.31850036,
          59.2685187,
          61.66383521,
          106.1482847,
          120.8623719,
          141.7358443,
          165.0046333,
          186.5624819,
          209.1468947,
          239.2594452,
          272.1095002,
          303.2486148,
          337.1252341,
          389.1378212,
          446.2832294,
          503.7708257,
          562.9693623,
          639.6575116,
          721.1286897,
          808.8314929,
          891.2645997,
          973.6977065,
          1054.693623,
          1137.560168,
          1213.468889,
          1294.567463,
          1361.294137,
          1426.994247,
          1490.641229,
          1553.946022,
          1602.878917,
          1652.838375,
          1699.033765,
          1749.335412,
          1804.76988,
          1860.888724,
          1918.718508,
          1976.890481,
          2043.617155,
          2113.081334,
          2182.203324,
          2250.640939,
          2310.523852,
          2365.95832,
          2423.788104,
          2478.538196,
          2506.597618,
          2524.733586,
          2542.527365,
          2557.583641,
          2557.241453,
          2548.344563,
          2539.105485,
          2532.261723,
          2527.128902,
          2527.128902,
          2526.102338,
          2522.680457,
          2495.989787,
          2452.87409,
          2409.074017,
          2366.300508,
          2318.051989,
          2266.039402,
          2214.369003,
          2165.436109,
          2111.370393,
          2060.042182,
          2006.660843,
          1954.648256,
          1926.759928,
          0,
          0
         ],
         "yaxis": "y"
        },
        {
         "hovertemplate": "color=2025<br>x=%{x}<br>y=%{y}<extra></extra>",
         "legendgroup": "2025",
         "marker": {
          "color": "#ab63fa",
          "symbol": "circle"
         },
         "mode": "markers",
         "name": "2025",
         "orientation": "v",
         "showlegend": true,
         "type": "scatter",
         "x": [
          2,
          1.599999999999909,
          1.4691760000000613,
          1.4488890000000083,
          1.428032999999914,
          1.407177000000047,
          1.3863220000000638,
          1.3654659999999694,
          1.3446100000001024,
          1.3237549999998919,
          1.302899000000025,
          1.2820429999999305,
          1.2611870000000636,
          1.2403320000000804,
          1.219475999999986,
          1.1986199999998917,
          1.1777640000000247,
          1.1569090000000415,
          1.1360529999999471,
          1.1151970000000802,
          1.0971850000000813,
          1.0715900000000147,
          1.0507339999999203,
          1.0298780000000534,
          1.0090230000000702,
          0.9881669999999758,
          0.9673110000001088,
          0.9464550000000145,
          0.9256000000000313,
          0.9047439999999369,
          0.88388800000007,
          0.8639800000000832,
          0.8440729999999803,
          0.8241649999999936,
          0.8052049999998871,
          0.7852969999999004,
          0.7663379999999052,
          0.7483259999999063,
          0.7293660000000273,
          0.7160940000001119,
          -1.900000000000091,
          -2.063000000000102
         ],
         "xaxis": "x",
         "y": [
          0,
          0,
          0,
          0,
          0,
          0,
          0,
          0,
          0,
          0,
          0,
          3.149674704,
          14.09969304,
          23.33877102,
          32.92003707,
          46.60755999,
          61.32164714,
          75.69354621,
          91.0920095,
          119.1514315,
          134.5926683,
          180.7452847,
          202.9875094,
          230.3625553,
          258.0797892,
          286.1392112,
          317.2783258,
          354.2346377,
          391.1909496,
          429.8582019,
          475.7114037,
          550.9927798,
          630.0382247,
          710.5892971,
          790.0111489,
          874.702697,
          958.3486704,
          1037.310469,
          1120.119983,
          1169.241081,
          0,
          0
         ],
         "yaxis": "y"
        }
       ],
       "layout": {
        "legend": {
         "title": {
          "text": "color"
         },
         "tracegroupgap": 0
        },
        "margin": {
         "t": 60
        },
        "template": {
         "data": {
          "bar": [
           {
            "error_x": {
             "color": "#2a3f5f"
            },
            "error_y": {
             "color": "#2a3f5f"
            },
            "marker": {
             "line": {
              "color": "#E5ECF6",
              "width": 0.5
             },
             "pattern": {
              "fillmode": "overlay",
              "size": 10,
              "solidity": 0.2
             }
            },
            "type": "bar"
           }
          ],
          "barpolar": [
           {
            "marker": {
             "line": {
              "color": "#E5ECF6",
              "width": 0.5
             },
             "pattern": {
              "fillmode": "overlay",
              "size": 10,
              "solidity": 0.2
             }
            },
            "type": "barpolar"
           }
          ],
          "carpet": [
           {
            "aaxis": {
             "endlinecolor": "#2a3f5f",
             "gridcolor": "white",
             "linecolor": "white",
             "minorgridcolor": "white",
             "startlinecolor": "#2a3f5f"
            },
            "baxis": {
             "endlinecolor": "#2a3f5f",
             "gridcolor": "white",
             "linecolor": "white",
             "minorgridcolor": "white",
             "startlinecolor": "#2a3f5f"
            },
            "type": "carpet"
           }
          ],
          "choropleth": [
           {
            "colorbar": {
             "outlinewidth": 0,
             "ticks": ""
            },
            "type": "choropleth"
           }
          ],
          "contour": [
           {
            "colorbar": {
             "outlinewidth": 0,
             "ticks": ""
            },
            "colorscale": [
             [
              0,
              "#0d0887"
             ],
             [
              0.1111111111111111,
              "#46039f"
             ],
             [
              0.2222222222222222,
              "#7201a8"
             ],
             [
              0.3333333333333333,
              "#9c179e"
             ],
             [
              0.4444444444444444,
              "#bd3786"
             ],
             [
              0.5555555555555556,
              "#d8576b"
             ],
             [
              0.6666666666666666,
              "#ed7953"
             ],
             [
              0.7777777777777778,
              "#fb9f3a"
             ],
             [
              0.8888888888888888,
              "#fdca26"
             ],
             [
              1,
              "#f0f921"
             ]
            ],
            "type": "contour"
           }
          ],
          "contourcarpet": [
           {
            "colorbar": {
             "outlinewidth": 0,
             "ticks": ""
            },
            "type": "contourcarpet"
           }
          ],
          "heatmap": [
           {
            "colorbar": {
             "outlinewidth": 0,
             "ticks": ""
            },
            "colorscale": [
             [
              0,
              "#0d0887"
             ],
             [
              0.1111111111111111,
              "#46039f"
             ],
             [
              0.2222222222222222,
              "#7201a8"
             ],
             [
              0.3333333333333333,
              "#9c179e"
             ],
             [
              0.4444444444444444,
              "#bd3786"
             ],
             [
              0.5555555555555556,
              "#d8576b"
             ],
             [
              0.6666666666666666,
              "#ed7953"
             ],
             [
              0.7777777777777778,
              "#fb9f3a"
             ],
             [
              0.8888888888888888,
              "#fdca26"
             ],
             [
              1,
              "#f0f921"
             ]
            ],
            "type": "heatmap"
           }
          ],
          "heatmapgl": [
           {
            "colorbar": {
             "outlinewidth": 0,
             "ticks": ""
            },
            "colorscale": [
             [
              0,
              "#0d0887"
             ],
             [
              0.1111111111111111,
              "#46039f"
             ],
             [
              0.2222222222222222,
              "#7201a8"
             ],
             [
              0.3333333333333333,
              "#9c179e"
             ],
             [
              0.4444444444444444,
              "#bd3786"
             ],
             [
              0.5555555555555556,
              "#d8576b"
             ],
             [
              0.6666666666666666,
              "#ed7953"
             ],
             [
              0.7777777777777778,
              "#fb9f3a"
             ],
             [
              0.8888888888888888,
              "#fdca26"
             ],
             [
              1,
              "#f0f921"
             ]
            ],
            "type": "heatmapgl"
           }
          ],
          "histogram": [
           {
            "marker": {
             "pattern": {
              "fillmode": "overlay",
              "size": 10,
              "solidity": 0.2
             }
            },
            "type": "histogram"
           }
          ],
          "histogram2d": [
           {
            "colorbar": {
             "outlinewidth": 0,
             "ticks": ""
            },
            "colorscale": [
             [
              0,
              "#0d0887"
             ],
             [
              0.1111111111111111,
              "#46039f"
             ],
             [
              0.2222222222222222,
              "#7201a8"
             ],
             [
              0.3333333333333333,
              "#9c179e"
             ],
             [
              0.4444444444444444,
              "#bd3786"
             ],
             [
              0.5555555555555556,
              "#d8576b"
             ],
             [
              0.6666666666666666,
              "#ed7953"
             ],
             [
              0.7777777777777778,
              "#fb9f3a"
             ],
             [
              0.8888888888888888,
              "#fdca26"
             ],
             [
              1,
              "#f0f921"
             ]
            ],
            "type": "histogram2d"
           }
          ],
          "histogram2dcontour": [
           {
            "colorbar": {
             "outlinewidth": 0,
             "ticks": ""
            },
            "colorscale": [
             [
              0,
              "#0d0887"
             ],
             [
              0.1111111111111111,
              "#46039f"
             ],
             [
              0.2222222222222222,
              "#7201a8"
             ],
             [
              0.3333333333333333,
              "#9c179e"
             ],
             [
              0.4444444444444444,
              "#bd3786"
             ],
             [
              0.5555555555555556,
              "#d8576b"
             ],
             [
              0.6666666666666666,
              "#ed7953"
             ],
             [
              0.7777777777777778,
              "#fb9f3a"
             ],
             [
              0.8888888888888888,
              "#fdca26"
             ],
             [
              1,
              "#f0f921"
             ]
            ],
            "type": "histogram2dcontour"
           }
          ],
          "mesh3d": [
           {
            "colorbar": {
             "outlinewidth": 0,
             "ticks": ""
            },
            "type": "mesh3d"
           }
          ],
          "parcoords": [
           {
            "line": {
             "colorbar": {
              "outlinewidth": 0,
              "ticks": ""
             }
            },
            "type": "parcoords"
           }
          ],
          "pie": [
           {
            "automargin": true,
            "type": "pie"
           }
          ],
          "scatter": [
           {
            "fillpattern": {
             "fillmode": "overlay",
             "size": 10,
             "solidity": 0.2
            },
            "type": "scatter"
           }
          ],
          "scatter3d": [
           {
            "line": {
             "colorbar": {
              "outlinewidth": 0,
              "ticks": ""
             }
            },
            "marker": {
             "colorbar": {
              "outlinewidth": 0,
              "ticks": ""
             }
            },
            "type": "scatter3d"
           }
          ],
          "scattercarpet": [
           {
            "marker": {
             "colorbar": {
              "outlinewidth": 0,
              "ticks": ""
             }
            },
            "type": "scattercarpet"
           }
          ],
          "scattergeo": [
           {
            "marker": {
             "colorbar": {
              "outlinewidth": 0,
              "ticks": ""
             }
            },
            "type": "scattergeo"
           }
          ],
          "scattergl": [
           {
            "marker": {
             "colorbar": {
              "outlinewidth": 0,
              "ticks": ""
             }
            },
            "type": "scattergl"
           }
          ],
          "scattermapbox": [
           {
            "marker": {
             "colorbar": {
              "outlinewidth": 0,
              "ticks": ""
             }
            },
            "type": "scattermapbox"
           }
          ],
          "scatterpolar": [
           {
            "marker": {
             "colorbar": {
              "outlinewidth": 0,
              "ticks": ""
             }
            },
            "type": "scatterpolar"
           }
          ],
          "scatterpolargl": [
           {
            "marker": {
             "colorbar": {
              "outlinewidth": 0,
              "ticks": ""
             }
            },
            "type": "scatterpolargl"
           }
          ],
          "scatterternary": [
           {
            "marker": {
             "colorbar": {
              "outlinewidth": 0,
              "ticks": ""
             }
            },
            "type": "scatterternary"
           }
          ],
          "surface": [
           {
            "colorbar": {
             "outlinewidth": 0,
             "ticks": ""
            },
            "colorscale": [
             [
              0,
              "#0d0887"
             ],
             [
              0.1111111111111111,
              "#46039f"
             ],
             [
              0.2222222222222222,
              "#7201a8"
             ],
             [
              0.3333333333333333,
              "#9c179e"
             ],
             [
              0.4444444444444444,
              "#bd3786"
             ],
             [
              0.5555555555555556,
              "#d8576b"
             ],
             [
              0.6666666666666666,
              "#ed7953"
             ],
             [
              0.7777777777777778,
              "#fb9f3a"
             ],
             [
              0.8888888888888888,
              "#fdca26"
             ],
             [
              1,
              "#f0f921"
             ]
            ],
            "type": "surface"
           }
          ],
          "table": [
           {
            "cells": {
             "fill": {
              "color": "#EBF0F8"
             },
             "line": {
              "color": "white"
             }
            },
            "header": {
             "fill": {
              "color": "#C8D4E3"
             },
             "line": {
              "color": "white"
             }
            },
            "type": "table"
           }
          ]
         },
         "layout": {
          "annotationdefaults": {
           "arrowcolor": "#2a3f5f",
           "arrowhead": 0,
           "arrowwidth": 1
          },
          "autotypenumbers": "strict",
          "coloraxis": {
           "colorbar": {
            "outlinewidth": 0,
            "ticks": ""
           }
          },
          "colorscale": {
           "diverging": [
            [
             0,
             "#8e0152"
            ],
            [
             0.1,
             "#c51b7d"
            ],
            [
             0.2,
             "#de77ae"
            ],
            [
             0.3,
             "#f1b6da"
            ],
            [
             0.4,
             "#fde0ef"
            ],
            [
             0.5,
             "#f7f7f7"
            ],
            [
             0.6,
             "#e6f5d0"
            ],
            [
             0.7,
             "#b8e186"
            ],
            [
             0.8,
             "#7fbc41"
            ],
            [
             0.9,
             "#4d9221"
            ],
            [
             1,
             "#276419"
            ]
           ],
           "sequential": [
            [
             0,
             "#0d0887"
            ],
            [
             0.1111111111111111,
             "#46039f"
            ],
            [
             0.2222222222222222,
             "#7201a8"
            ],
            [
             0.3333333333333333,
             "#9c179e"
            ],
            [
             0.4444444444444444,
             "#bd3786"
            ],
            [
             0.5555555555555556,
             "#d8576b"
            ],
            [
             0.6666666666666666,
             "#ed7953"
            ],
            [
             0.7777777777777778,
             "#fb9f3a"
            ],
            [
             0.8888888888888888,
             "#fdca26"
            ],
            [
             1,
             "#f0f921"
            ]
           ],
           "sequentialminus": [
            [
             0,
             "#0d0887"
            ],
            [
             0.1111111111111111,
             "#46039f"
            ],
            [
             0.2222222222222222,
             "#7201a8"
            ],
            [
             0.3333333333333333,
             "#9c179e"
            ],
            [
             0.4444444444444444,
             "#bd3786"
            ],
            [
             0.5555555555555556,
             "#d8576b"
            ],
            [
             0.6666666666666666,
             "#ed7953"
            ],
            [
             0.7777777777777778,
             "#fb9f3a"
            ],
            [
             0.8888888888888888,
             "#fdca26"
            ],
            [
             1,
             "#f0f921"
            ]
           ]
          },
          "colorway": [
           "#636efa",
           "#EF553B",
           "#00cc96",
           "#ab63fa",
           "#FFA15A",
           "#19d3f3",
           "#FF6692",
           "#B6E880",
           "#FF97FF",
           "#FECB52"
          ],
          "font": {
           "color": "#2a3f5f"
          },
          "geo": {
           "bgcolor": "white",
           "lakecolor": "white",
           "landcolor": "#E5ECF6",
           "showlakes": true,
           "showland": true,
           "subunitcolor": "white"
          },
          "hoverlabel": {
           "align": "left"
          },
          "hovermode": "closest",
          "mapbox": {
           "style": "light"
          },
          "paper_bgcolor": "white",
          "plot_bgcolor": "#E5ECF6",
          "polar": {
           "angularaxis": {
            "gridcolor": "white",
            "linecolor": "white",
            "ticks": ""
           },
           "bgcolor": "#E5ECF6",
           "radialaxis": {
            "gridcolor": "white",
            "linecolor": "white",
            "ticks": ""
           }
          },
          "scene": {
           "xaxis": {
            "backgroundcolor": "#E5ECF6",
            "gridcolor": "white",
            "gridwidth": 2,
            "linecolor": "white",
            "showbackground": true,
            "ticks": "",
            "zerolinecolor": "white"
           },
           "yaxis": {
            "backgroundcolor": "#E5ECF6",
            "gridcolor": "white",
            "gridwidth": 2,
            "linecolor": "white",
            "showbackground": true,
            "ticks": "",
            "zerolinecolor": "white"
           },
           "zaxis": {
            "backgroundcolor": "#E5ECF6",
            "gridcolor": "white",
            "gridwidth": 2,
            "linecolor": "white",
            "showbackground": true,
            "ticks": "",
            "zerolinecolor": "white"
           }
          },
          "shapedefaults": {
           "line": {
            "color": "#2a3f5f"
           }
          },
          "ternary": {
           "aaxis": {
            "gridcolor": "white",
            "linecolor": "white",
            "ticks": ""
           },
           "baxis": {
            "gridcolor": "white",
            "linecolor": "white",
            "ticks": ""
           },
           "bgcolor": "#E5ECF6",
           "caxis": {
            "gridcolor": "white",
            "linecolor": "white",
            "ticks": ""
           }
          },
          "title": {
           "x": 0.05
          },
          "xaxis": {
           "automargin": true,
           "gridcolor": "white",
           "linecolor": "white",
           "ticks": "",
           "title": {
            "standoff": 15
           },
           "zerolinecolor": "white",
           "zerolinewidth": 2
          },
          "yaxis": {
           "automargin": true,
           "gridcolor": "white",
           "linecolor": "white",
           "ticks": "",
           "title": {
            "standoff": 15
           },
           "zerolinecolor": "white",
           "zerolinewidth": 2
          }
         }
        },
        "xaxis": {
         "anchor": "y",
         "domain": [
          0,
          1
         ],
         "title": {
          "text": "x"
         }
        },
        "yaxis": {
         "anchor": "x",
         "domain": [
          0,
          1
         ],
         "title": {
          "text": "y"
         }
        }
       }
      }
     },
     "metadata": {},
     "output_type": "display_data"
    }
   ],
   "source": [
    "px.scatter(\n",
    "    x=mixed_years.select(\"yr_diff\").collect().to_series(),\n",
    "    y=mixed_years.select(\"advertised_inventory\").collect().to_series(),\n",
    "    color=mixed_years.select(pl.col(\"model_year\").cast(pl.Utf8)).collect().to_series()\n",
    ")"
   ]
  }
 ],
 "metadata": {
  "kernelspec": {
   "display_name": "justins_room",
   "language": "python",
   "name": "python3"
  },
  "language_info": {
   "codemirror_mode": {
    "name": "ipython",
    "version": 3
   },
   "file_extension": ".py",
   "mimetype": "text/x-python",
   "name": "python",
   "nbconvert_exporter": "python",
   "pygments_lexer": "ipython3",
   "version": "3.11.6"
  }
 },
 "nbformat": 4,
 "nbformat_minor": 2
}
