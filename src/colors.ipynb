{
 "cells": [
  {
   "cell_type": "code",
   "execution_count": 1,
   "id": "758bf857",
   "metadata": {},
   "outputs": [],
   "source": [
    "import numpy as np"
   ]
  },
  {
   "cell_type": "code",
   "execution_count": 15,
   "id": "5a5c6856",
   "metadata": {},
   "outputs": [],
   "source": [
    "x1 = np.array([\n",
    "        [1, 0, 0],\n",
    "        [0.45, 1.24, -0.02]])\n",
    "\n",
    "x2 = np.array([\n",
    "        [0.9, -0.1, 0.3],\n",
    "        [0.8, -0.6, 0.4],\n",
    "        [0.2, -1.4, -0.4]])"
   ]
  },
  {
   "cell_type": "code",
   "execution_count": 56,
   "id": "a18dd15d",
   "metadata": {},
   "outputs": [],
   "source": [
    "def lp_dist(p:float):\n",
    "    # _lp_dist has access to its outer function's scope.\n",
    "    def _lp_dist(x1:np.ndarray, x2:np.ndarray) -> np.ndarray:\n",
    "        \"\"\"Get the pairwise Lp-distances between points.\n",
    "        \n",
    "        Args:\n",
    "            x1: an m by d matrix where each row corresponds to a point to\n",
    "                be compared with each point in x2.    \n",
    "            x2: an n by d matrix where each row corresponds to a point to\n",
    "                be compared with each point in x1. \n",
    "            p: p > 0\n",
    "\n",
    "        Returns:\n",
    "            a distance matrix of dimensions m by n where the (i,j)-th entry\n",
    "            corresponds to the distance\n",
    "            between points x1[i, :] and x2[j, :]\n",
    "        \"\"\"\n",
    "        m = x1.shape[0]\n",
    "        n = x2.shape[0]\n",
    "        d = x1.shape[1]\n",
    "\n",
    "        # Compare each row of x1 to each row of x2.\n",
    "        # To do this, make views x1_view and x2_view\n",
    "        # into x1 and x2, respectively.  x1_view and x2_view have the same\n",
    "        # entries as x1 and x2, but they are repeated in a nice\n",
    "        # configuration. \n",
    "        # Example:\n",
    "        # x1 = np.array([\n",
    "        # \t[1, 0, 0],\n",
    "        # \t[0.45, 1.24, -0.02]])\n",
    "        # x2 = np.array([\n",
    "        # \t[0.9, -0.1, 0.3],\n",
    "        # \t[0.8, -0.6, 0.4],\n",
    "        # \t[0.2, -1.4, -0.4]])\n",
    "        # x1_view\n",
    "        # array([[[ 1.  ,  0.  ,  0.  ],\n",
    "        #     [ 0.45,  1.24, -0.02]],\n",
    "        #\n",
    "        #    [[ 1.  ,  0.  ,  0.  ],\n",
    "        #     [ 0.45,  1.24, -0.02]],\n",
    "        #\n",
    "        #    [[ 1.  ,  0.  ,  0.  ],\n",
    "        #     [ 0.45,  1.24, -0.02]]])\n",
    "        # x2_view\n",
    "        # array([[[ 0.9, -0.1,  0.3],\n",
    "        #         [ 0.8, -0.6,  0.4],\n",
    "        #         [ 0.2, -1.4, -0.4]],\n",
    "        #\n",
    "        #        [[ 0.9, -0.1,  0.3],\n",
    "        #         [ 0.8, -0.6,  0.4],\n",
    "        #         [ 0.2, -1.4, -0.4]]])\n",
    "        \n",
    "        x1_view = np.broadcast_to(\n",
    "            array=x1, \n",
    "            shape=(n, m, d)\n",
    "        )\n",
    "        \n",
    "        x2_view = np.broadcast_to(\n",
    "            array=x2, \n",
    "            shape=(m, n, d)\n",
    "        )\n",
    "\n",
    "        # Make sure our views have the same dimensions.\n",
    "        x2_view_2 = np.swapaxes(x2_view, axis1=0, axis2=1)\n",
    "        # Example:\n",
    "        # x2_view_2\n",
    "        # array([[[ 0.9, -0.1,  0.3],\n",
    "        #         [ 0.9, -0.1,  0.3]],\n",
    "        #\n",
    "        #        [[ 0.8, -0.6,  0.4],\n",
    "        #         [ 0.8, -0.6,  0.4]],\n",
    "        #\n",
    "        #        [[ 0.2, -1.4, -0.4],\n",
    "        #         [ 0.2, -1.4, -0.4]]])\n",
    "        \n",
    "        # Now, x1_view and x2_view_2 are broadcast-able.\n",
    "\n",
    "        return np.power(\n",
    "            np.sum(\n",
    "                np.power(\n",
    "                    np.abs(x1_view - x2_view_2), \n",
    "                    p\n",
    "                ), \n",
    "                axis=2\n",
    "            ).T, \n",
    "            1.0/p\n",
    "        )\n",
    "    \n",
    "    return _lp_dist"
   ]
  },
  {
   "cell_type": "code",
   "execution_count": 17,
   "id": "0cb38426",
   "metadata": {},
   "outputs": [
    {
     "data": {
      "text/plain": [
       "array([[ 1.  ,  0.  ,  0.  ],\n",
       "       [ 0.45,  1.24, -0.02]])"
      ]
     },
     "execution_count": 17,
     "metadata": {},
     "output_type": "execute_result"
    }
   ],
   "source": [
    "x1"
   ]
  },
  {
   "cell_type": "code",
   "execution_count": 18,
   "id": "e0a4819e",
   "metadata": {},
   "outputs": [
    {
     "data": {
      "text/plain": [
       "array([[ 0.9, -0.1,  0.3],\n",
       "       [ 0.8, -0.6,  0.4],\n",
       "       [ 0.2, -1.4, -0.4]])"
      ]
     },
     "execution_count": 18,
     "metadata": {},
     "output_type": "execute_result"
    }
   ],
   "source": [
    "x2"
   ]
  },
  {
   "cell_type": "code",
   "execution_count": 55,
   "id": "1afa0108",
   "metadata": {},
   "outputs": [
    {
     "data": {
      "text/plain": [
       "array([[0.33166248, 0.74833148, 1.66132477],\n",
       "       [1.44931018, 1.91950514, 2.67889903]])"
      ]
     },
     "execution_count": 55,
     "metadata": {},
     "output_type": "execute_result"
    }
   ],
   "source": [
    "euclidean_dist = lp_dist(p=2)\n",
    "\n",
    "euclidean_dist(x1, x2)"
   ]
  },
  {
   "cell_type": "code",
   "execution_count": 34,
   "id": "c3a8cb2c",
   "metadata": {},
   "outputs": [],
   "source": [
    "def lch_to_lab(lch:np.ndarray) -> np.ndarray:\n",
    "    \"\"\"Convert LCH color coordinates to LAB.\n",
    "    \n",
    "    Args:\n",
    "        lch: an n by 3 matrix where each\n",
    "            row is an LCH color.\n",
    "    \"\"\"\n",
    "    h = np.radians(lch[:, 2])\n",
    "    c = lch[:, 1]\n",
    "    a = c * np.cos(h)\n",
    "    b = c * np.sin(h)\n",
    "\n",
    "    lab_mat = np.empty(shape=(lch.shape[0], lch.shape[1]))\n",
    "\n",
    "    lab_mat[:, 0] = lch[:, 0]\n",
    "    lab_mat[:, 1] = a\n",
    "    lab_mat[:, 2] = b\n",
    "\n",
    "    return lab_mat"
   ]
  },
  {
   "cell_type": "code",
   "execution_count": 57,
   "id": "66899da7",
   "metadata": {},
   "outputs": [
    {
     "data": {
      "text/plain": [
       "array([[0.        , 0.09025088, 0.11083638],\n",
       "       [0.09025088, 0.        , 0.1001    ],\n",
       "       [0.11083638, 0.1001    , 0.        ]])"
      ]
     },
     "execution_count": 57,
     "metadata": {},
     "output_type": "execute_result"
    }
   ],
   "source": [
    "lab_mat = lch_to_lab(np.array([\n",
    "    [0.77, 0.1549, 113.29],\n",
    "    [0.77, 0.0999, 146.72],\n",
    "    [0.77, 0.2, 146.72]\n",
    "]))\n",
    "\n",
    "euclidean_dist(lab_mat, lab_mat)"
   ]
  },
  {
   "cell_type": "code",
   "execution_count": null,
   "id": "3a2b20cd",
   "metadata": {},
   "outputs": [],
   "source": [
    "def get_medioid(x:np.ndarray, d) -> np.ndarray:\n",
    "    \"\"\"Get the medioid using the distance function d.\n",
    "    \n",
    "    Args:\n",
    "        x: an n by p matrix (numpy.ndarray) where each row corresponds to \n",
    "            a point in R^p.\n",
    "        d: a function that takes two matrices (numpy.ndarray) as its first two\n",
    "            positional arguments.  The function\n",
    "            should return a matrix (numpy.ndarray) with entries that correspond\n",
    "            to pairwise distances between rows of the input\n",
    "            matrices.\n",
    "\n",
    "    Returns:\n",
    "        medioid point as a 1-dimensional array\n",
    "    \"\"\"\n",
    "    medioid_index = np.argmin(np.sum(d(x, x), axis=0, keepdims=False))\n",
    "    return x[medioid_index, :].ravel()"
   ]
  },
  {
   "cell_type": "code",
   "execution_count": 61,
   "id": "f6fe3fe4",
   "metadata": {},
   "outputs": [
    {
     "data": {
      "text/plain": [
       "array([[ 0.77      , -0.06124517,  0.14227804],\n",
       "       [ 0.77      , -0.0835163 ,  0.05481823],\n",
       "       [ 0.77      , -0.16719979,  0.10974621]])"
      ]
     },
     "execution_count": 61,
     "metadata": {},
     "output_type": "execute_result"
    }
   ],
   "source": [
    "lab_mat"
   ]
  },
  {
   "cell_type": "code",
   "execution_count": 60,
   "id": "a70eebf8",
   "metadata": {},
   "outputs": [
    {
     "data": {
      "text/plain": [
       "array([ 0.77      , -0.0835163 ,  0.05481823])"
      ]
     },
     "execution_count": 60,
     "metadata": {},
     "output_type": "execute_result"
    }
   ],
   "source": [
    "get_medioid(x=lab_mat, d=euclidean_dist)"
   ]
  }
 ],
 "metadata": {
  "kernelspec": {
   "display_name": "justins_room",
   "language": "python",
   "name": "python3"
  },
  "language_info": {
   "codemirror_mode": {
    "name": "ipython",
    "version": 3
   },
   "file_extension": ".py",
   "mimetype": "text/x-python",
   "name": "python",
   "nbconvert_exporter": "python",
   "pygments_lexer": "ipython3",
   "version": "3.11.6"
  }
 },
 "nbformat": 4,
 "nbformat_minor": 5
}
