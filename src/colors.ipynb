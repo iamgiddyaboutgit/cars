{
 "cells": [
  {
   "cell_type": "code",
   "execution_count": 5,
   "id": "758bf857",
   "metadata": {},
   "outputs": [],
   "source": [
    "import numpy as np"
   ]
  },
  {
   "cell_type": "code",
   "execution_count": 6,
   "id": "a18dd15d",
   "metadata": {},
   "outputs": [],
   "source": [
    "def lp_dist(p:float):\n",
    "    # _lp_dist has access to its outer function's scope.\n",
    "    def _lp_dist(x1:np.ndarray, x2:np.ndarray) -> np.ndarray:\n",
    "        \"\"\"Get the pairwise Lp-distances between points.\n",
    "        \n",
    "        Args:\n",
    "            x1: an m by d matrix where each row corresponds to a point to\n",
    "                be compared with each point in x2.    \n",
    "            x2: an n by d matrix where each row corresponds to a point to\n",
    "                be compared with each point in x1. \n",
    "            p: p > 0\n",
    "\n",
    "        Returns:\n",
    "            a distance matrix of dimensions m by n where the (i,j)-th entry\n",
    "            corresponds to the distance\n",
    "            between points x1[i, :] and x2[j, :]\n",
    "        \"\"\"\n",
    "        m = x1.shape[0]\n",
    "        n = x2.shape[0]\n",
    "        d = x1.shape[1]\n",
    "\n",
    "        # Compare each row of x1 to each row of x2.\n",
    "        # To do this, make views x1_view and x2_view\n",
    "        # into x1 and x2, respectively.  x1_view and x2_view have the same\n",
    "        # entries as x1 and x2, but they are repeated in a nice\n",
    "        # configuration. \n",
    "        # Example:\n",
    "        # x1 = np.array([\n",
    "        # \t[1, 0, 0],\n",
    "        # \t[0.45, 1.24, -0.02]])\n",
    "        # x2 = np.array([\n",
    "        # \t[0.9, -0.1, 0.3],\n",
    "        # \t[0.8, -0.6, 0.4],\n",
    "        # \t[0.2, -1.4, -0.4]])\n",
    "        # x1_view\n",
    "        # array([[[ 1.  ,  0.  ,  0.  ],\n",
    "        #     [ 0.45,  1.24, -0.02]],\n",
    "        #\n",
    "        #    [[ 1.  ,  0.  ,  0.  ],\n",
    "        #     [ 0.45,  1.24, -0.02]],\n",
    "        #\n",
    "        #    [[ 1.  ,  0.  ,  0.  ],\n",
    "        #     [ 0.45,  1.24, -0.02]]])\n",
    "        # x2_view\n",
    "        # array([[[ 0.9, -0.1,  0.3],\n",
    "        #         [ 0.8, -0.6,  0.4],\n",
    "        #         [ 0.2, -1.4, -0.4]],\n",
    "        #\n",
    "        #        [[ 0.9, -0.1,  0.3],\n",
    "        #         [ 0.8, -0.6,  0.4],\n",
    "        #         [ 0.2, -1.4, -0.4]]])\n",
    "        \n",
    "        x1_view = np.broadcast_to(\n",
    "            array=x1, \n",
    "            shape=(n, m, d)\n",
    "        )\n",
    "        \n",
    "        x2_view = np.broadcast_to(\n",
    "            array=x2, \n",
    "            shape=(m, n, d)\n",
    "        )\n",
    "\n",
    "        # Make sure our views have the same dimensions.\n",
    "        x2_view_2 = np.swapaxes(x2_view, axis1=0, axis2=1)\n",
    "        # Example:\n",
    "        # x2_view_2\n",
    "        # array([[[ 0.9, -0.1,  0.3],\n",
    "        #         [ 0.9, -0.1,  0.3]],\n",
    "        #\n",
    "        #        [[ 0.8, -0.6,  0.4],\n",
    "        #         [ 0.8, -0.6,  0.4]],\n",
    "        #\n",
    "        #        [[ 0.2, -1.4, -0.4],\n",
    "        #         [ 0.2, -1.4, -0.4]]])\n",
    "        \n",
    "        # Now, x1_view and x2_view_2 are broadcast-able.\n",
    "\n",
    "        return np.power(\n",
    "            np.sum(\n",
    "                np.power(\n",
    "                    np.abs(x1_view - x2_view_2), \n",
    "                    p\n",
    "                ), \n",
    "                axis=2\n",
    "            ).T, \n",
    "            1.0/p\n",
    "        )\n",
    "    \n",
    "    return _lp_dist"
   ]
  },
  {
   "cell_type": "code",
   "execution_count": 7,
   "id": "1afa0108",
   "metadata": {},
   "outputs": [],
   "source": [
    "euclidean_dist = lp_dist(p=2)"
   ]
  },
  {
   "cell_type": "code",
   "execution_count": 16,
   "id": "c3a8cb2c",
   "metadata": {},
   "outputs": [],
   "source": [
    "def oklch_to_oklab(oklch:np.ndarray) -> np.ndarray:\n",
    "    \"\"\"Convert OKLCH color coordinates to OKLAB.\n",
    "    \n",
    "    Args:\n",
    "        oklch: an n by 3 matrix where each\n",
    "            row is an OKLCH color.\n",
    "    \"\"\"\n",
    "    h = np.radians(oklch[:, 2])\n",
    "    c = oklch[:, 1]\n",
    "    a = c * np.cos(h)\n",
    "    b = c * np.sin(h)\n",
    "\n",
    "    oklab_mat = np.empty(shape=(oklch.shape[0], oklch.shape[1]))\n",
    "\n",
    "    oklab_mat[:, 0] = oklch[:, 0]\n",
    "    oklab_mat[:, 1] = a\n",
    "    oklab_mat[:, 2] = b\n",
    "\n",
    "    return oklab_mat\n",
    "\n",
    "def oklab_to_linear_srgb(oklab: np.ndarray):\n",
    "    \"\"\"Convert OKLAB color coordinates to Linear SRGB.\n",
    "    \n",
    "    See: https://bottosson.github.io/posts/oklab/\n",
    "    Args:\n",
    "        oklab: an n by 3 matrix where each\n",
    "            row is an OKLAB color.\n",
    "    \"\"\" \n",
    "    constants_1 = np.array([ \n",
    "        [1.        ,  1.        ,  1.        ],\n",
    "        [ 0.39633778, -0.10556135, -0.08948418],\n",
    "        [0.21580376, -0.06385417, -1.29148555]\n",
    "    ])\n",
    "\n",
    "    lms_mat_1 = oklab @ constants_1\n",
    "\n",
    "    lms_mat_2 = lms_mat_1 * lms_mat_1 * lms_mat_1\n",
    "\n",
    "    constants_2 = np.array([\n",
    "        [4.0767416621, -1.2684380046, -0.0041960863],\n",
    "        [-3.3077115913, 2.6097574011, -0.7034186147],\n",
    "        [0.2309699292, -0.3413193965, 1.7076147010]\n",
    "    ])\n",
    "\n",
    "    return lms_mat_2 @ constants_2\n",
    "\n",
    "def oklch_to_linear_srgb(oklch):\n",
    "    oklab = oklch_to_oklab(oklch)\n",
    "    srgb_lin = oklab_to_linear_srgb(oklab)\n",
    "    return srgb_lin\n",
    "\n",
    "def linear_srgb_to_srgb(srgb_lin):\n",
    "    \"\"\"\n",
    "    https://www.image-engineering.de/library/technotes/958-how-to-convert-between-srgb-and-ciexyz\n",
    "    \"\"\"\n",
    "    part_1 = np.where(\n",
    "        srgb_lin <= 0.0031308,\n",
    "        srgb_lin * 12.92,\n",
    "        1.055 * srgb_lin ** (1.0/2.4) - 0.055\n",
    "    )\n",
    "\n",
    "    part_2 = 255 * part_1\n",
    "    return part_2\n",
    "\n",
    "def oklab_to_srgb(oklab):\n",
    "    srgb_lin = oklab_to_linear_srgb(oklab)\n",
    "    srgb = linear_srgb_to_srgb(srgb_lin)\n",
    "    return srgb\n",
    "\n",
    "def oklch_to_srgb(oklch):\n",
    "    oklab = oklch_to_oklab(oklch)\n",
    "    srgb_lin = oklab_to_linear_srgb(oklab)\n",
    "    srgb = linear_srgb_to_srgb(srgb_lin)\n",
    "    return srgb\n"
   ]
  },
  {
   "cell_type": "code",
   "execution_count": 9,
   "id": "66899da7",
   "metadata": {},
   "outputs": [],
   "source": [
    "oklch_mat = np.array([\n",
    "    [0.67, 0.0038, 174.42],\n",
    "    [0.38, 0.0515, 259.43],\n",
    "    [0.77, 0.0142, 241.02],\n",
    "    [0.52, 0.084, 41.62],\n",
    "    [0.52, 0.084, 156.63]\n",
    "])"
   ]
  },
  {
   "cell_type": "code",
   "execution_count": 10,
   "id": "14a4faa8",
   "metadata": {},
   "outputs": [
    {
     "name": "stdout",
     "output_type": "stream",
     "text": [
      "[[ 6.70000000e-01 -3.78199333e-03  3.69494877e-04]\n",
      " [ 3.80000000e-01 -9.44698808e-03 -5.06261239e-02]\n",
      " [ 7.70000000e-01 -6.87996093e-03 -1.24220022e-02]\n",
      " [ 5.20000000e-01  6.27955684e-02  5.57917250e-02]\n",
      " [ 5.20000000e-01 -7.71088455e-02  3.33200533e-02]]\n"
     ]
    }
   ],
   "source": [
    "oklab_mat = oklch_to_oklab(oklch_mat)\n",
    "print(oklab_mat)"
   ]
  },
  {
   "cell_type": "code",
   "execution_count": 11,
   "id": "f50f35ca",
   "metadata": {},
   "outputs": [
    {
     "name": "stdout",
     "output_type": "stream",
     "text": [
      "[[0.         0.29450407 0.10086238 0.17321719 0.17018392]\n",
      " [0.29450407 0.         0.39187516 0.19011508 0.17670622]\n",
      " [0.10086238 0.39187516 0.         0.26834268 0.26367486]\n",
      " [0.17321719 0.19011508 0.26834268 0.         0.14169764]\n",
      " [0.17018392 0.17670622 0.26367486 0.14169764 0.        ]]\n"
     ]
    }
   ],
   "source": [
    "print(euclidean_dist(oklab_mat, oklab_mat))"
   ]
  },
  {
   "cell_type": "code",
   "execution_count": 12,
   "id": "567d5a80",
   "metadata": {},
   "outputs": [
    {
     "data": {
      "text/plain": [
       "array([[146.88492084, 149.90574936, 148.89872796],\n",
       "       [ 49.81224621,  66.83995971,  93.87444553],\n",
       "       [172.57916942, 181.57985709, 188.58161995],\n",
       "       [145.65027774,  87.80764665,  65.614226  ],\n",
       "       [ 59.26199398, 119.39472334,  84.87182088]])"
      ]
     },
     "execution_count": 12,
     "metadata": {},
     "output_type": "execute_result"
    }
   ],
   "source": [
    "oklch_to_srgb(oklch_mat)"
   ]
  },
  {
   "cell_type": "code",
   "execution_count": 14,
   "id": "3a2b20cd",
   "metadata": {},
   "outputs": [],
   "source": [
    "def get_medioid(x:np.ndarray, d) -> np.ndarray:\n",
    "    \"\"\"Get the medioid using the distance function d.\n",
    "    \n",
    "    Args:\n",
    "        x: an n by p matrix (numpy.ndarray) where each row corresponds to \n",
    "            a point in R^p.\n",
    "        d: a function that takes two matrices (numpy.ndarray) as its first two\n",
    "            positional arguments.  The function\n",
    "            should return a matrix (numpy.ndarray) with entries that correspond\n",
    "            to pairwise distances between rows of the input\n",
    "            matrices.\n",
    "\n",
    "    Returns:\n",
    "        medioid point as a 1-dimensional array\n",
    "    \"\"\"\n",
    "    medioid_index = np.argmin(np.sum(d(x, x), axis=0, keepdims=False))\n",
    "    return x[medioid_index, :].ravel()"
   ]
  },
  {
   "cell_type": "code",
   "execution_count": 17,
   "id": "a70eebf8",
   "metadata": {},
   "outputs": [
    {
     "data": {
      "text/plain": [
       "array([146.88492084, 149.90574936, 148.89872796])"
      ]
     },
     "execution_count": 17,
     "metadata": {},
     "output_type": "execute_result"
    }
   ],
   "source": [
    "oklab_to_srgb(get_medioid(x=oklab_mat, d=euclidean_dist))"
   ]
  }
 ],
 "metadata": {
  "kernelspec": {
   "display_name": "justins_room",
   "language": "python",
   "name": "python3"
  },
  "language_info": {
   "codemirror_mode": {
    "name": "ipython",
    "version": 3
   },
   "file_extension": ".py",
   "mimetype": "text/x-python",
   "name": "python",
   "nbconvert_exporter": "python",
   "pygments_lexer": "ipython3",
   "version": "3.11.6"
  }
 },
 "nbformat": 4,
 "nbformat_minor": 5
}
