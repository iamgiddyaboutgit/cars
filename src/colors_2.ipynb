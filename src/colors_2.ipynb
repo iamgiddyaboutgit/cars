{
 "cells": [
  {
   "cell_type": "markdown",
   "id": "4b6a180e",
   "metadata": {},
   "source": [
    "From @fig-medioid, we can see that the estimated vehicle medioid color is a rather boring grey. \n",
    "\n",
    "![Estimated Vehicle Medioid Color](../figures/medioid.png){#fig-medioid}"
   ]
  }
 ],
 "metadata": {
  "kernelspec": {
   "display_name": "justins_room",
   "language": "python",
   "name": "python3"
  },
  "language_info": {
   "codemirror_mode": {
    "name": "ipython",
    "version": 3
   },
   "file_extension": ".py",
   "mimetype": "text/x-python",
   "name": "python",
   "nbconvert_exporter": "python",
   "pygments_lexer": "ipython3",
   "version": "3.11.6"
  }
 },
 "nbformat": 4,
 "nbformat_minor": 5
}
