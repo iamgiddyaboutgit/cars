{
 "cells": [
  {
   "cell_type": "code",
   "execution_count": 16,
   "id": "758bf857",
   "metadata": {},
   "outputs": [],
   "source": [
    "from pathlib import Path\n",
    "\n",
    "import numpy as np\n",
    "import plotly.express as px\n",
    "import plotly.graph_objects as go\n",
    "import polars as pl"
   ]
  },
  {
   "cell_type": "code",
   "execution_count": 17,
   "id": "702ce609",
   "metadata": {},
   "outputs": [],
   "source": [
    "collected_vehicle_data_path = Path(\"..\", \"raw_data\", \"collected-data\", \"collected_vehicle_data.csv\")"
   ]
  },
  {
   "cell_type": "code",
   "execution_count": 18,
   "id": "a18dd15d",
   "metadata": {},
   "outputs": [],
   "source": [
    "# Define Color Functions\n",
    "def lp_dist(p:float):\n",
    "    # _lp_dist has access to its outer function's scope.\n",
    "    def _lp_dist(x1:np.ndarray, x2:np.ndarray) -> np.ndarray:\n",
    "        \"\"\"Get the pairwise Lp-distances between points.\n",
    "        \n",
    "        Args:\n",
    "            x1: an m by d matrix where each row corresponds to a point to\n",
    "                be compared with each point in x2.    \n",
    "            x2: an n by d matrix where each row corresponds to a point to\n",
    "                be compared with each point in x1. \n",
    "            p: p > 0\n",
    "\n",
    "        Returns:\n",
    "            a distance matrix of dimensions m by n where the (i,j)-th entry\n",
    "            corresponds to the distance\n",
    "            between points x1[i, :] and x2[j, :]\n",
    "        \"\"\"\n",
    "        m = x1.shape[0]\n",
    "        n = x2.shape[0]\n",
    "        d = x1.shape[1]\n",
    "\n",
    "        # Compare each row of x1 to each row of x2.\n",
    "        # To do this, make views x1_view and x2_view\n",
    "        # into x1 and x2, respectively.  x1_view and x2_view have the same\n",
    "        # entries as x1 and x2, but they are repeated in a nice\n",
    "        # configuration. \n",
    "        # Example:\n",
    "        # x1 = np.array([\n",
    "        # \t[1, 0, 0],\n",
    "        # \t[0.45, 1.24, -0.02]])\n",
    "        # x2 = np.array([\n",
    "        # \t[0.9, -0.1, 0.3],\n",
    "        # \t[0.8, -0.6, 0.4],\n",
    "        # \t[0.2, -1.4, -0.4]])\n",
    "        # x1_view\n",
    "        # array([[[ 1.  ,  0.  ,  0.  ],\n",
    "        #     [ 0.45,  1.24, -0.02]],\n",
    "        #\n",
    "        #    [[ 1.  ,  0.  ,  0.  ],\n",
    "        #     [ 0.45,  1.24, -0.02]],\n",
    "        #\n",
    "        #    [[ 1.  ,  0.  ,  0.  ],\n",
    "        #     [ 0.45,  1.24, -0.02]]])\n",
    "        # x2_view\n",
    "        # array([[[ 0.9, -0.1,  0.3],\n",
    "        #         [ 0.8, -0.6,  0.4],\n",
    "        #         [ 0.2, -1.4, -0.4]],\n",
    "        #\n",
    "        #        [[ 0.9, -0.1,  0.3],\n",
    "        #         [ 0.8, -0.6,  0.4],\n",
    "        #         [ 0.2, -1.4, -0.4]]])\n",
    "        \n",
    "        x1_view = np.broadcast_to(\n",
    "            array=x1, \n",
    "            shape=(n, m, d)\n",
    "        )\n",
    "        \n",
    "        x2_view = np.broadcast_to(\n",
    "            array=x2, \n",
    "            shape=(m, n, d)\n",
    "        )\n",
    "\n",
    "        # Make sure our views have the same dimensions.\n",
    "        x2_view_2 = np.swapaxes(x2_view, axis1=0, axis2=1)\n",
    "        # Example:\n",
    "        # x2_view_2\n",
    "        # array([[[ 0.9, -0.1,  0.3],\n",
    "        #         [ 0.9, -0.1,  0.3]],\n",
    "        #\n",
    "        #        [[ 0.8, -0.6,  0.4],\n",
    "        #         [ 0.8, -0.6,  0.4]],\n",
    "        #\n",
    "        #        [[ 0.2, -1.4, -0.4],\n",
    "        #         [ 0.2, -1.4, -0.4]]])\n",
    "        \n",
    "        # Now, x1_view and x2_view_2 are broadcast-able.\n",
    "\n",
    "        return np.power(\n",
    "            np.sum(\n",
    "                np.power(\n",
    "                    np.abs(x1_view - x2_view_2), \n",
    "                    p\n",
    "                ), \n",
    "                axis=2\n",
    "            ).T, \n",
    "            1.0/p\n",
    "        )\n",
    "    \n",
    "    return _lp_dist"
   ]
  },
  {
   "cell_type": "code",
   "execution_count": 19,
   "id": "1afa0108",
   "metadata": {},
   "outputs": [],
   "source": [
    "euclidean_dist = lp_dist(p=2)"
   ]
  },
  {
   "cell_type": "code",
   "execution_count": 20,
   "id": "c3a8cb2c",
   "metadata": {},
   "outputs": [],
   "source": [
    "def oklch_to_oklab(oklch:np.ndarray) -> np.ndarray:\n",
    "    \"\"\"Convert OKLCH color coordinates to OKLAB.\n",
    "    \n",
    "    Args:\n",
    "        oklch: an n by 3 matrix where each\n",
    "            row is an OKLCH color.\n",
    "    \"\"\"\n",
    "    h = np.radians(oklch[:, 2])\n",
    "    c = oklch[:, 1]\n",
    "    a = c * np.cos(h)\n",
    "    b = c * np.sin(h)\n",
    "\n",
    "    oklab_mat = np.empty(shape=(oklch.shape[0], oklch.shape[1]))\n",
    "\n",
    "    oklab_mat[:, 0] = oklch[:, 0]\n",
    "    oklab_mat[:, 1] = a\n",
    "    oklab_mat[:, 2] = b\n",
    "\n",
    "    return oklab_mat\n",
    "\n",
    "def oklab_to_linear_srgb(oklab: np.ndarray):\n",
    "    \"\"\"Convert OKLAB color coordinates to Linear SRGB.\n",
    "    \n",
    "    See: https://bottosson.github.io/posts/oklab/\n",
    "    Args:\n",
    "        oklab: an n by 3 matrix where each\n",
    "            row is an OKLAB color.\n",
    "    \"\"\" \n",
    "    constants_1 = np.array([ \n",
    "        [1.        ,  1.        ,  1.        ],\n",
    "        [ 0.39633778, -0.10556135, -0.08948418],\n",
    "        [0.21580376, -0.06385417, -1.29148555]\n",
    "    ])\n",
    "\n",
    "    lms_mat_1 = oklab @ constants_1\n",
    "\n",
    "    lms_mat_2 = lms_mat_1 * lms_mat_1 * lms_mat_1\n",
    "\n",
    "    constants_2 = np.array([\n",
    "        [4.0767416621, -1.2684380046, -0.0041960863],\n",
    "        [-3.3077115913, 2.6097574011, -0.7034186147],\n",
    "        [0.2309699292, -0.3413193965, 1.7076147010]\n",
    "    ])\n",
    "\n",
    "    return lms_mat_2 @ constants_2\n",
    "\n",
    "def oklch_to_linear_srgb(oklch):\n",
    "    oklab = oklch_to_oklab(oklch)\n",
    "    srgb_lin = oklab_to_linear_srgb(oklab)\n",
    "    return srgb_lin\n",
    "\n",
    "def linear_srgb_to_srgb(srgb_lin):\n",
    "    \"\"\"\n",
    "    https://www.image-engineering.de/library/technotes/958-how-to-convert-between-srgb-and-ciexyz\n",
    "    \"\"\"\n",
    "    srgb_lin_2 = np.where(\n",
    "        srgb_lin < 0,\n",
    "        0,\n",
    "        srgb_lin\n",
    "    )\n",
    "\n",
    "    part_1 = np.where(\n",
    "        srgb_lin_2 <= 0.0031308,\n",
    "        srgb_lin_2 * 12.92,\n",
    "        1.055 * srgb_lin_2 ** (1.0/2.4) - 0.055\n",
    "    )\n",
    "\n",
    "    part_2 = np.where(\n",
    "        part_1 < 0,\n",
    "        0,\n",
    "        part_1\n",
    "    )\n",
    "    \n",
    "    part_3 = 255 * part_2\n",
    "\n",
    "    part_4 = np.where(\n",
    "        part_3 > 255,\n",
    "        255,\n",
    "        part_3\n",
    "    )\n",
    "\n",
    "    return part_4\n",
    "\n",
    "def oklab_to_srgb(oklab):\n",
    "    srgb_lin = oklab_to_linear_srgb(oklab)\n",
    "    srgb = linear_srgb_to_srgb(srgb_lin)\n",
    "    return srgb\n",
    "\n",
    "def oklch_to_srgb(oklch):\n",
    "    oklab = oklch_to_oklab(oklch)\n",
    "    srgb_lin = oklab_to_linear_srgb(oklab)\n",
    "    srgb = linear_srgb_to_srgb(srgb_lin)\n",
    "    return srgb\n",
    "\n",
    "def rgb_mat_to_str(rgb_mat: np.ndarray) -> list[str]:\n",
    "    n_colors = rgb_mat.shape[0]\n",
    "    rgb_mat_list = []\n",
    "    for i in range(n_colors):\n",
    "        rgb_mat_str = f\"rgb({','.join([str(u) for u in rgb_mat[i, :]])})\" \n",
    "        rgb_mat_list.append(rgb_mat_str)\n",
    "\n",
    "    return rgb_mat_list\n"
   ]
  },
  {
   "cell_type": "code",
   "execution_count": 21,
   "id": "039a2483",
   "metadata": {},
   "outputs": [],
   "source": [
    "# Get Observations\n",
    "data = pl.scan_csv(\n",
    "    source=collected_vehicle_data_path,\n",
    "    has_header=True\n",
    ")"
   ]
  },
  {
   "cell_type": "code",
   "execution_count": 22,
   "id": "02f213a2",
   "metadata": {},
   "outputs": [
    {
     "data": {
      "text/html": [
       "<div><style>\n",
       ".dataframe > thead > tr,\n",
       ".dataframe > tbody > tr {\n",
       "  text-align: right;\n",
       "  white-space: pre-wrap;\n",
       "}\n",
       "</style>\n",
       "<small>shape: (5, 1)</small><table border=\"1\" class=\"dataframe\"><thead><tr><th>color</th></tr><tr><td>str</td></tr></thead><tbody><tr><td>&quot;oklch(0.61 0.2268 27.04)&quot;</td></tr><tr><td>&quot;oklch(0.3 0.0391 243.78)&quot;</td></tr><tr><td>&quot;oklch(0.74 0.1108 113.5)&quot;</td></tr><tr><td>&quot;oklch(0.68 0.005 258.33)&quot;</td></tr><tr><td>&quot;oklch(0.57 0.0132 153.48)&quot;</td></tr></tbody></table></div>"
      ],
      "text/plain": [
       "shape: (5, 1)\n",
       "┌───────────────────────────┐\n",
       "│ color                     │\n",
       "│ ---                       │\n",
       "│ str                       │\n",
       "╞═══════════════════════════╡\n",
       "│ oklch(0.61 0.2268 27.04)  │\n",
       "│ oklch(0.3 0.0391 243.78)  │\n",
       "│ oklch(0.74 0.1108 113.5)  │\n",
       "│ oklch(0.68 0.005 258.33)  │\n",
       "│ oklch(0.57 0.0132 153.48) │\n",
       "└───────────────────────────┘"
      ]
     },
     "execution_count": 22,
     "metadata": {},
     "output_type": "execute_result"
    }
   ],
   "source": [
    "#| include: false\n",
    "data.select(\"color\").head().collect()"
   ]
  },
  {
   "cell_type": "code",
   "execution_count": 23,
   "id": "9a170cbf",
   "metadata": {},
   "outputs": [],
   "source": [
    "oklch_mat = (data\n",
    "    .select(\"color\")\n",
    "    .with_columns(\n",
    "        pl.col(\"color\")\n",
    "            .str.tail(n=-6).str.head(n=-1)\n",
    "            .str.splitn(by=\" \", n=3)\n",
    "            .alias(\"color\")\n",
    "    )\n",
    "    .unnest(\"color\")\n",
    "    .cast({pl.Utf8: pl.Float64})\n",
    "    .collect()\n",
    ")"
   ]
  },
  {
   "cell_type": "code",
   "execution_count": 24,
   "id": "14a4faa8",
   "metadata": {},
   "outputs": [],
   "source": [
    "# Transform colors and Find Medioid\n",
    "oklab_mat = oklch_to_oklab(oklch_mat)\n",
    "# print(euclidean_dist(oklab_mat, oklab_mat))"
   ]
  },
  {
   "cell_type": "code",
   "execution_count": 25,
   "id": "3a2b20cd",
   "metadata": {},
   "outputs": [],
   "source": [
    "def get_medioid(x:np.ndarray, d) -> np.ndarray:\n",
    "    \"\"\"Get the medioid using the distance function d.\n",
    "    \n",
    "    Args:\n",
    "        x: an n by p matrix (numpy.ndarray) where each row corresponds to \n",
    "            a point in R^p.\n",
    "        d: a function that takes two matrices (numpy.ndarray) as its first two\n",
    "            positional arguments.  The function\n",
    "            should return a matrix (numpy.ndarray) with entries that correspond\n",
    "            to pairwise distances between rows of the input\n",
    "            matrices.\n",
    "\n",
    "    Returns:\n",
    "        medioid point as a 1-dimensional array\n",
    "    \"\"\"\n",
    "    medioid_index = np.argmin(np.sum(d(x, x), axis=0, keepdims=False))\n",
    "    return x[medioid_index, :].ravel()"
   ]
  },
  {
   "cell_type": "code",
   "execution_count": 26,
   "id": "b44da30d",
   "metadata": {},
   "outputs": [
    {
     "data": {
      "text/plain": [
       "array([ 0.67      , -0.00684086, -0.00973718])"
      ]
     },
     "execution_count": 26,
     "metadata": {},
     "output_type": "execute_result"
    }
   ],
   "source": [
    "#| include: false\n",
    "get_medioid(x=oklab_mat, d=euclidean_dist)"
   ]
  },
  {
   "cell_type": "code",
   "execution_count": 27,
   "id": "a70eebf8",
   "metadata": {},
   "outputs": [],
   "source": [
    "medioid_oklab = get_medioid(x=oklab_mat, d=euclidean_dist)\n",
    "medioid_srgb = oklab_to_srgb(medioid_oklab)"
   ]
  },
  {
   "cell_type": "code",
   "execution_count": 28,
   "id": "b4db818f",
   "metadata": {},
   "outputs": [
    {
     "data": {
      "text/plain": [
       "array([142.53166515, 150.55632902, 155.57100978])"
      ]
     },
     "execution_count": 28,
     "metadata": {},
     "output_type": "execute_result"
    }
   ],
   "source": [
    "#| include: false\n",
    "medioid_srgb"
   ]
  },
  {
   "cell_type": "markdown",
   "id": "4ab35d13",
   "metadata": {},
   "source": [
    "From @fig-medioid, we can see that the estimated vehicle medioid color is a rather boring grey. "
   ]
  },
  {
   "cell_type": "code",
   "execution_count": 29,
   "id": "0ac909b2",
   "metadata": {},
   "outputs": [
    {
     "data": {
      "application/vnd.plotly.v1+json": {
       "config": {
        "plotlyServerURL": "https://plot.ly",
        "staticPlot": true
       },
       "data": [
        {
         "marker": {
          "color": [
           "rgb(142.5316651515601,150.55632902479465,155.57100977939422)"
          ],
          "size": 1000,
          "symbol": "square"
         },
         "mode": "markers",
         "type": "scatter",
         "x": [
          0.67
         ],
         "y": [
          -0.0068408631457506025
         ]
        }
       ],
       "layout": {
        "paper_bgcolor": "rgba(0, 0, 0, 0)",
        "plot_bgcolor": "rgba(0, 0, 0, 0)",
        "template": {
         "data": {
          "bar": [
           {
            "error_x": {
             "color": "#2a3f5f"
            },
            "error_y": {
             "color": "#2a3f5f"
            },
            "marker": {
             "line": {
              "color": "#E5ECF6",
              "width": 0.5
             },
             "pattern": {
              "fillmode": "overlay",
              "size": 10,
              "solidity": 0.2
             }
            },
            "type": "bar"
           }
          ],
          "barpolar": [
           {
            "marker": {
             "line": {
              "color": "#E5ECF6",
              "width": 0.5
             },
             "pattern": {
              "fillmode": "overlay",
              "size": 10,
              "solidity": 0.2
             }
            },
            "type": "barpolar"
           }
          ],
          "carpet": [
           {
            "aaxis": {
             "endlinecolor": "#2a3f5f",
             "gridcolor": "white",
             "linecolor": "white",
             "minorgridcolor": "white",
             "startlinecolor": "#2a3f5f"
            },
            "baxis": {
             "endlinecolor": "#2a3f5f",
             "gridcolor": "white",
             "linecolor": "white",
             "minorgridcolor": "white",
             "startlinecolor": "#2a3f5f"
            },
            "type": "carpet"
           }
          ],
          "choropleth": [
           {
            "colorbar": {
             "outlinewidth": 0,
             "ticks": ""
            },
            "type": "choropleth"
           }
          ],
          "contour": [
           {
            "colorbar": {
             "outlinewidth": 0,
             "ticks": ""
            },
            "colorscale": [
             [
              0,
              "#0d0887"
             ],
             [
              0.1111111111111111,
              "#46039f"
             ],
             [
              0.2222222222222222,
              "#7201a8"
             ],
             [
              0.3333333333333333,
              "#9c179e"
             ],
             [
              0.4444444444444444,
              "#bd3786"
             ],
             [
              0.5555555555555556,
              "#d8576b"
             ],
             [
              0.6666666666666666,
              "#ed7953"
             ],
             [
              0.7777777777777778,
              "#fb9f3a"
             ],
             [
              0.8888888888888888,
              "#fdca26"
             ],
             [
              1,
              "#f0f921"
             ]
            ],
            "type": "contour"
           }
          ],
          "contourcarpet": [
           {
            "colorbar": {
             "outlinewidth": 0,
             "ticks": ""
            },
            "type": "contourcarpet"
           }
          ],
          "heatmap": [
           {
            "colorbar": {
             "outlinewidth": 0,
             "ticks": ""
            },
            "colorscale": [
             [
              0,
              "#0d0887"
             ],
             [
              0.1111111111111111,
              "#46039f"
             ],
             [
              0.2222222222222222,
              "#7201a8"
             ],
             [
              0.3333333333333333,
              "#9c179e"
             ],
             [
              0.4444444444444444,
              "#bd3786"
             ],
             [
              0.5555555555555556,
              "#d8576b"
             ],
             [
              0.6666666666666666,
              "#ed7953"
             ],
             [
              0.7777777777777778,
              "#fb9f3a"
             ],
             [
              0.8888888888888888,
              "#fdca26"
             ],
             [
              1,
              "#f0f921"
             ]
            ],
            "type": "heatmap"
           }
          ],
          "heatmapgl": [
           {
            "colorbar": {
             "outlinewidth": 0,
             "ticks": ""
            },
            "colorscale": [
             [
              0,
              "#0d0887"
             ],
             [
              0.1111111111111111,
              "#46039f"
             ],
             [
              0.2222222222222222,
              "#7201a8"
             ],
             [
              0.3333333333333333,
              "#9c179e"
             ],
             [
              0.4444444444444444,
              "#bd3786"
             ],
             [
              0.5555555555555556,
              "#d8576b"
             ],
             [
              0.6666666666666666,
              "#ed7953"
             ],
             [
              0.7777777777777778,
              "#fb9f3a"
             ],
             [
              0.8888888888888888,
              "#fdca26"
             ],
             [
              1,
              "#f0f921"
             ]
            ],
            "type": "heatmapgl"
           }
          ],
          "histogram": [
           {
            "marker": {
             "pattern": {
              "fillmode": "overlay",
              "size": 10,
              "solidity": 0.2
             }
            },
            "type": "histogram"
           }
          ],
          "histogram2d": [
           {
            "colorbar": {
             "outlinewidth": 0,
             "ticks": ""
            },
            "colorscale": [
             [
              0,
              "#0d0887"
             ],
             [
              0.1111111111111111,
              "#46039f"
             ],
             [
              0.2222222222222222,
              "#7201a8"
             ],
             [
              0.3333333333333333,
              "#9c179e"
             ],
             [
              0.4444444444444444,
              "#bd3786"
             ],
             [
              0.5555555555555556,
              "#d8576b"
             ],
             [
              0.6666666666666666,
              "#ed7953"
             ],
             [
              0.7777777777777778,
              "#fb9f3a"
             ],
             [
              0.8888888888888888,
              "#fdca26"
             ],
             [
              1,
              "#f0f921"
             ]
            ],
            "type": "histogram2d"
           }
          ],
          "histogram2dcontour": [
           {
            "colorbar": {
             "outlinewidth": 0,
             "ticks": ""
            },
            "colorscale": [
             [
              0,
              "#0d0887"
             ],
             [
              0.1111111111111111,
              "#46039f"
             ],
             [
              0.2222222222222222,
              "#7201a8"
             ],
             [
              0.3333333333333333,
              "#9c179e"
             ],
             [
              0.4444444444444444,
              "#bd3786"
             ],
             [
              0.5555555555555556,
              "#d8576b"
             ],
             [
              0.6666666666666666,
              "#ed7953"
             ],
             [
              0.7777777777777778,
              "#fb9f3a"
             ],
             [
              0.8888888888888888,
              "#fdca26"
             ],
             [
              1,
              "#f0f921"
             ]
            ],
            "type": "histogram2dcontour"
           }
          ],
          "mesh3d": [
           {
            "colorbar": {
             "outlinewidth": 0,
             "ticks": ""
            },
            "type": "mesh3d"
           }
          ],
          "parcoords": [
           {
            "line": {
             "colorbar": {
              "outlinewidth": 0,
              "ticks": ""
             }
            },
            "type": "parcoords"
           }
          ],
          "pie": [
           {
            "automargin": true,
            "type": "pie"
           }
          ],
          "scatter": [
           {
            "fillpattern": {
             "fillmode": "overlay",
             "size": 10,
             "solidity": 0.2
            },
            "type": "scatter"
           }
          ],
          "scatter3d": [
           {
            "line": {
             "colorbar": {
              "outlinewidth": 0,
              "ticks": ""
             }
            },
            "marker": {
             "colorbar": {
              "outlinewidth": 0,
              "ticks": ""
             }
            },
            "type": "scatter3d"
           }
          ],
          "scattercarpet": [
           {
            "marker": {
             "colorbar": {
              "outlinewidth": 0,
              "ticks": ""
             }
            },
            "type": "scattercarpet"
           }
          ],
          "scattergeo": [
           {
            "marker": {
             "colorbar": {
              "outlinewidth": 0,
              "ticks": ""
             }
            },
            "type": "scattergeo"
           }
          ],
          "scattergl": [
           {
            "marker": {
             "colorbar": {
              "outlinewidth": 0,
              "ticks": ""
             }
            },
            "type": "scattergl"
           }
          ],
          "scattermapbox": [
           {
            "marker": {
             "colorbar": {
              "outlinewidth": 0,
              "ticks": ""
             }
            },
            "type": "scattermapbox"
           }
          ],
          "scatterpolar": [
           {
            "marker": {
             "colorbar": {
              "outlinewidth": 0,
              "ticks": ""
             }
            },
            "type": "scatterpolar"
           }
          ],
          "scatterpolargl": [
           {
            "marker": {
             "colorbar": {
              "outlinewidth": 0,
              "ticks": ""
             }
            },
            "type": "scatterpolargl"
           }
          ],
          "scatterternary": [
           {
            "marker": {
             "colorbar": {
              "outlinewidth": 0,
              "ticks": ""
             }
            },
            "type": "scatterternary"
           }
          ],
          "surface": [
           {
            "colorbar": {
             "outlinewidth": 0,
             "ticks": ""
            },
            "colorscale": [
             [
              0,
              "#0d0887"
             ],
             [
              0.1111111111111111,
              "#46039f"
             ],
             [
              0.2222222222222222,
              "#7201a8"
             ],
             [
              0.3333333333333333,
              "#9c179e"
             ],
             [
              0.4444444444444444,
              "#bd3786"
             ],
             [
              0.5555555555555556,
              "#d8576b"
             ],
             [
              0.6666666666666666,
              "#ed7953"
             ],
             [
              0.7777777777777778,
              "#fb9f3a"
             ],
             [
              0.8888888888888888,
              "#fdca26"
             ],
             [
              1,
              "#f0f921"
             ]
            ],
            "type": "surface"
           }
          ],
          "table": [
           {
            "cells": {
             "fill": {
              "color": "#EBF0F8"
             },
             "line": {
              "color": "white"
             }
            },
            "header": {
             "fill": {
              "color": "#C8D4E3"
             },
             "line": {
              "color": "white"
             }
            },
            "type": "table"
           }
          ]
         },
         "layout": {
          "annotationdefaults": {
           "arrowcolor": "#2a3f5f",
           "arrowhead": 0,
           "arrowwidth": 1
          },
          "autotypenumbers": "strict",
          "coloraxis": {
           "colorbar": {
            "outlinewidth": 0,
            "ticks": ""
           }
          },
          "colorscale": {
           "diverging": [
            [
             0,
             "#8e0152"
            ],
            [
             0.1,
             "#c51b7d"
            ],
            [
             0.2,
             "#de77ae"
            ],
            [
             0.3,
             "#f1b6da"
            ],
            [
             0.4,
             "#fde0ef"
            ],
            [
             0.5,
             "#f7f7f7"
            ],
            [
             0.6,
             "#e6f5d0"
            ],
            [
             0.7,
             "#b8e186"
            ],
            [
             0.8,
             "#7fbc41"
            ],
            [
             0.9,
             "#4d9221"
            ],
            [
             1,
             "#276419"
            ]
           ],
           "sequential": [
            [
             0,
             "#0d0887"
            ],
            [
             0.1111111111111111,
             "#46039f"
            ],
            [
             0.2222222222222222,
             "#7201a8"
            ],
            [
             0.3333333333333333,
             "#9c179e"
            ],
            [
             0.4444444444444444,
             "#bd3786"
            ],
            [
             0.5555555555555556,
             "#d8576b"
            ],
            [
             0.6666666666666666,
             "#ed7953"
            ],
            [
             0.7777777777777778,
             "#fb9f3a"
            ],
            [
             0.8888888888888888,
             "#fdca26"
            ],
            [
             1,
             "#f0f921"
            ]
           ],
           "sequentialminus": [
            [
             0,
             "#0d0887"
            ],
            [
             0.1111111111111111,
             "#46039f"
            ],
            [
             0.2222222222222222,
             "#7201a8"
            ],
            [
             0.3333333333333333,
             "#9c179e"
            ],
            [
             0.4444444444444444,
             "#bd3786"
            ],
            [
             0.5555555555555556,
             "#d8576b"
            ],
            [
             0.6666666666666666,
             "#ed7953"
            ],
            [
             0.7777777777777778,
             "#fb9f3a"
            ],
            [
             0.8888888888888888,
             "#fdca26"
            ],
            [
             1,
             "#f0f921"
            ]
           ]
          },
          "colorway": [
           "#636efa",
           "#EF553B",
           "#00cc96",
           "#ab63fa",
           "#FFA15A",
           "#19d3f3",
           "#FF6692",
           "#B6E880",
           "#FF97FF",
           "#FECB52"
          ],
          "font": {
           "color": "#2a3f5f"
          },
          "geo": {
           "bgcolor": "white",
           "lakecolor": "white",
           "landcolor": "#E5ECF6",
           "showlakes": true,
           "showland": true,
           "subunitcolor": "white"
          },
          "hoverlabel": {
           "align": "left"
          },
          "hovermode": "closest",
          "mapbox": {
           "style": "light"
          },
          "paper_bgcolor": "white",
          "plot_bgcolor": "#E5ECF6",
          "polar": {
           "angularaxis": {
            "gridcolor": "white",
            "linecolor": "white",
            "ticks": ""
           },
           "bgcolor": "#E5ECF6",
           "radialaxis": {
            "gridcolor": "white",
            "linecolor": "white",
            "ticks": ""
           }
          },
          "scene": {
           "xaxis": {
            "backgroundcolor": "#E5ECF6",
            "gridcolor": "white",
            "gridwidth": 2,
            "linecolor": "white",
            "showbackground": true,
            "ticks": "",
            "zerolinecolor": "white"
           },
           "yaxis": {
            "backgroundcolor": "#E5ECF6",
            "gridcolor": "white",
            "gridwidth": 2,
            "linecolor": "white",
            "showbackground": true,
            "ticks": "",
            "zerolinecolor": "white"
           },
           "zaxis": {
            "backgroundcolor": "#E5ECF6",
            "gridcolor": "white",
            "gridwidth": 2,
            "linecolor": "white",
            "showbackground": true,
            "ticks": "",
            "zerolinecolor": "white"
           }
          },
          "shapedefaults": {
           "line": {
            "color": "#2a3f5f"
           }
          },
          "ternary": {
           "aaxis": {
            "gridcolor": "white",
            "linecolor": "white",
            "ticks": ""
           },
           "baxis": {
            "gridcolor": "white",
            "linecolor": "white",
            "ticks": ""
           },
           "bgcolor": "#E5ECF6",
           "caxis": {
            "gridcolor": "white",
            "linecolor": "white",
            "ticks": ""
           }
          },
          "title": {
           "x": 0.05
          },
          "xaxis": {
           "automargin": true,
           "gridcolor": "white",
           "linecolor": "white",
           "ticks": "",
           "title": {
            "standoff": 15
           },
           "zerolinecolor": "white",
           "zerolinewidth": 2
          },
          "yaxis": {
           "automargin": true,
           "gridcolor": "white",
           "linecolor": "white",
           "ticks": "",
           "title": {
            "standoff": 15
           },
           "zerolinecolor": "white",
           "zerolinewidth": 2
          }
         }
        },
        "xaxis": {
         "showgrid": false,
         "showticklabels": false,
         "zeroline": false
        },
        "yaxis": {
         "showgrid": false,
         "showticklabels": false,
         "zeroline": false
        }
       }
      }
     },
     "metadata": {},
     "output_type": "display_data"
    }
   ],
   "source": [
    "#| fig-cap: \"Estimated Vehicle Medioid Color\"\n",
    "#| label: fig-medioid\n",
    "color = rgb_mat_to_str(medioid_srgb.reshape((1, -1)))\n",
    "fig = go.Figure(\n",
    "    go.Scatter(\n",
    "        x=medioid_oklab[0].reshape(1),\n",
    "        y=medioid_oklab[1].reshape(1),\n",
    "        mode=\"markers\",\n",
    "        marker=dict(size=1000, symbol=\"square\"),\n",
    "        marker_color=color,\n",
    "    )\n",
    ")\n",
    "\n",
    "fig.update_layout(\n",
    "    xaxis=dict(showgrid=False, zeroline=False, showticklabels=False),\n",
    "    yaxis=dict(showgrid=False, zeroline=False, showticklabels=False),\n",
    "    plot_bgcolor=\"rgba(0, 0, 0, 0)\",\n",
    "    paper_bgcolor=\"rgba(0, 0, 0, 0)\",\n",
    ")\n",
    "\n",
    "fig.show(config={'staticPlot': True})"
   ]
  },
  {
   "cell_type": "markdown",
   "id": "bc516089",
   "metadata": {},
   "source": [
    "As seen in @fig-3d-scatter, the distribution of colors in the sample conforms to expectations.  Colors that do not look good on cars are absent.  It is debatable whether or not the colors people pick for their cars are what they prefer or if they are just choosing what is cheap/available for a given model."
   ]
  },
  {
   "cell_type": "code",
   "execution_count": 30,
   "id": "0617be06",
   "metadata": {},
   "outputs": [
    {
     "data": {
      "application/vnd.plotly.v1+json": {
       "config": {
        "plotlyServerURL": "https://plot.ly"
       },
       "data": [
        {
         "marker": {
          "color": [
           "rgb(236.56348318351738,42.17519807885923,43.4552927606758)",
           "rgb(27.98898220582951,48.01983561568323,64.07057302250185)",
           "rgb(170.4630869719343,178.49435481676863,92.46143609651091)",
           "rgb(150.3062356074121,152.32035609280499,155.34140221300396)",
           "rgb(113.74224708906249,121.74873896691578,115.74418306881329)",
           "rgb(174.94127374245917,180.94855641991776,186.95611891299913)",
           "rgb(199.56529826140257,199.56540868404548,194.54293527634323)",
           "rgb(96.64553092935179,109.63948897029466,120.63147320583079)",
           "rgb(155.33572248223646,159.3246249916313,158.32740404637946)",
           "rgb(168.91891602223714,170.93821831773224,172.95723339812014)",
           "rgb(183.62689444116634,187.63119921311647,184.62839577011752)",
           "rgb(76.1252786152543,91.13067159952452,94.13148462626621)",
           "rgb(145.61349604425928,153.59839059848437,158.58934463808055)",
           "rgb(146.6748994576609,60.600809983586004,26.66604634193227)",
           "rgb(110.95762633780045,123.96777266565614,136.9764517491826)",
           "rgb(195.3979568497119,46.34212750860926,49.49864583019306)",
           "rgb(101.07284540459084,132.11019164238485,132.10715138692765)",
           "rgb(45.367834607395416,60.38227224436311,73.39751733181706)",
           "rgb(141.53274888056723,77.87964389622167,81.05265728839305)",
           "rgb(121.62934455721512,178.5740458152586,189.56007407552332)",
           "rgb(193.6329042767267,203.6239983021279,215.61316173894622)",
           "rgb(155.06972851317957,57.007261997303885,37.98378502222499)",
           "rgb(54.72892206922151,48.757481694080674,52.738109992585656)",
           "rgb(30.587296547138678,56.58048116685612,90.55426066505059)",
           "rgb(40.004435474893484,59.003339390878565,73.00495385003056)",
           "rgb(22.545653260404713,32.54284782073661,40.535050911582566)",
           "rgb(194.2959570119895,197.3031159133424,190.28638699777002)",
           "rgb(90.69742629171384,100.71855513028694,108.73446761710346)",
           "rgb(115.56830617711121,120.55509549566216,119.55804108129723)",
           "rgb(199.92714233366544,210.92631610216475,216.9264215511813)",
           "rgb(37.15016965577437,60.19799430340066,85.27997630070718)",
           "rgb(226.6818472447847,232.70536576347604,237.72428598974477)",
           "rgb(32.952560813574905,51.977830892520686,75.0224793872694)",
           "rgb(209.22792906298903,213.20895450067601,211.21848507008627)",
           "rgb(175.69778732338932,181.71886881354797,179.71192653000716)",
           "rgb(131.67024024251512,47.73439581035394,49.76320033188938)",
           "rgb(238.99006955791094,243.00392150563883,238.98970245400943)",
           "rgb(206.35021848099166,210.3319243843676,204.35934338972524)",
           "rgb(91.72514226926967,96.71443611095611,104.69641646736548)",
           "rgb(188.1780085221151,194.2178030086986,194.2182897231596)",
           "rgb(252.73887688713978,255.0,255.0)",
           "rgb(211.2802589835965,62.30864638945269,94.04458988177518)",
           "rgb(204.71271944012278,213.68000315382977,219.65853859891516)",
           "rgb(27.398710880935425,36.3760979207191,50.34466664385092)",
           "rgb(178.20318127421703,187.19371952903768,201.17740838600403)",
           "rgb(30.614486860346688,36.61803567444772,43.62062859503097)",
           "rgb(223.31315198311543,226.29978601541004,221.32220369895325)",
           "rgb(228.19528389478216,233.21647934326108,230.20401134088894)",
           "rgb(197.82935551169876,206.80802217193158,216.78288449584156)",
           "rgb(254.22508796692006,255.0,255.0)",
           "rgb(199.1205826689632,196.11800933530537,185.11129844148553)",
           "rgb(174.24002562912773,184.26967645332397,198.31230933612594)",
           "rgb(165.48221989088455,105.3522895443443,117.35491005059316)",
           "rgb(167.27751542581214,182.290987380799,196.30413646970854)",
           "rgb(128.4777195789828,158.45548193229507,191.43366545409054)",
           "rgb(73.08475204463521,84.10044318657542,93.11672125990334)",
           "rgb(169.68782544306973,161.68664325593554,131.69030255460422)",
           "rgb(153.1660774855634,153.16649347190142,141.18634560796522)",
           "rgb(216.63143145088273,223.66045273027535,222.65592520668503)",
           "rgb(168.96045056847169,181.92005323437527,194.87812026833723)",
           "rgb(140.16647373816042,151.16912665679155,157.17038592201564)",
           "rgb(210.99135379085888,216.95577829400693,214.9672177532684)",
           "rgb(232.08461560958253,61.10538548699697,74.82493457734054)",
           "rgb(122.07526427718933,133.11528306108409,139.13788432670418)",
           "rgb(40.069121726758816,74.0590144005273,139.05031519357496)",
           "rgb(112.45237679699373,114.44656543448193,108.46457445993248)",
           "rgb(216.74824227150197,219.75827519263956,214.74119897989542)",
           "rgb(230.73652894094573,231.73580321285422,233.7341943825647)",
           "rgb(99.02827304041797,108.06406257610104,96.01841226588571)",
           "rgb(6.863266618237225,16.807044702326834,22.791191321867664)",
           "rgb(168.37297637922066,178.37278464168855,188.37344411897772)",
           "rgb(224.23627951827262,226.23140546759532,219.2484596613622)",
           "rgb(34.01406624775882,45.005989808335826,67.9863171506133)",
           "rgb(19.996806324552008,35.99778251036945,51.99932703043311)",
           "rgb(76.99416749993314,86.0156602847477,90.02551342864358)",
           "rgb(24.042512522486135,26.566516527792142,30.549617946294024)",
           "rgb(63.97282620399545,72.00737151884513,86.06343126252646)",
           "rgb(218.55850058527153,230.57883985222261,238.5915475005329)",
           "rgb(148.595416206635,44.57795993518111,70.48626105697066)",
           "rgb(220.51490549172394,226.49138342227945,227.48731261029985)",
           "rgb(0.0,119.81912753430676,167.75223098156823)",
           "rgb(100.9182400500262,108.90720129537333,115.89662932274534)",
           "rgb(239.57225073915657,250.5481829448125,255.0)",
           "rgb(4.937784687413871,20.90687687885152,35.89776576415802)",
           "rgb(195.94777643565203,199.91586569235093,201.89973144030245)",
           "rgb(189.50159583979195,197.51504176117598,201.52165027707804)",
           "rgb(19.569952706173826,41.5389161321949,68.47941170386893)",
           "rgb(174.37037538999215,59.321181280936806,68.1219061404436)",
           "rgb(201.79238052314878,209.8037002489415,219.81565387663267)",
           "rgb(24.27144852308439,39.23089907245001,58.17341724392233)",
           "rgb(41.75835357255016,59.77105013377235,81.77990652667538)",
           "rgb(185.7355402956216,193.72245847819727,203.70480108356043)",
           "rgb(107.29176254884575,117.31654404691731,131.35153958230907)",
           "rgb(152.37487594433415,162.38095452878616,176.39153589976098)",
           "rgb(119.96914437797885,52.000453993783495,61.992207218299846)",
           "rgb(212.17437116852417,215.16364578165698,224.13090402539473)",
           "rgb(137.07594332659536,151.036897307872,164.99873690189983)",
           "rgb(18.48818571202982,38.53156880519302,66.59790784964301)",
           "rgb(160.53692958316762,175.5808330239505,193.63144500000155)",
           "rgb(173.85672412285876,191.85337758117024,211.84833397103202)",
           "rgb(177.4469686164477,191.45964070185272,206.4705816044175)",
           "rgb(150.90040029274905,159.87002100479157,165.85047176413568)",
           "rgb(90.96987411834118,106.99124977497218,122.01216976137029)",
           "rgb(83.6710593025642,94.65014342574297,108.62477352475545)",
           "rgb(107.28902363468364,124.30593321408887,142.326702254461)",
           "rgb(138.27019556404016,157.30498886777443,180.3448620256419)",
           "rgb(151.04357030703426,156.02436345298966,160.00930468421183)",
           "rgb(242.4440782356508,245.42179331678136,248.39987302358205)",
           "rgb(44.3599054317684,92.40374709470399,162.53804664457613)",
           "rgb(155.44087261647385,172.46947459214115,194.51052365553306)",
           "rgb(102.62709391463457,115.63099001142378,124.63100689434324)",
           "rgb(107.96402845258486,116.97274305922261,131.99060332918495)",
           "rgb(159.44574171089604,168.44672289788144,181.44944105039968)",
           "rgb(124.94783216241541,131.9575892241144,139.96971405206367)",
           "rgb(26.1929289153336,36.68468786719837,50.57139509837571)",
           "rgb(177.87623136318254,46.862644061762026,53.6704705985729)",
           "rgb(205.19924895597748,209.2116161250416,215.23050016823697)",
           "rgb(152.3155664346501,163.3408970898738,170.35547435340362)",
           "rgb(17.143620553258707,27.165955398231606,40.1977659107687)",
           "rgb(117.65590387771086,132.6352031271002,151.60652660200557)",
           "rgb(202.317452001361,202.31745200136103,202.317452001361)",
           "rgb(186.71341016521745,186.71366284186956,182.68897410591273)",
           "rgb(188.64300346855833,197.66235982855272,202.67277417378418)",
           "rgb(233.99593743270472,239.98647234659785,237.98916600283192)",
           "rgb(213.0864522228306,220.1007508125726,222.1049205292147)",
           "rgb(246.7770826843351,67.81471648905976,70.63212446971367)",
           "rgb(154.9676204927152,161.97187642439928,172.97810617728817)",
           "rgb(206.07073239235882,209.05626381593933,214.03179242206954)",
           "rgb(163.8653635218269,174.8515370177537,190.8323056795675)",
           "rgb(143.82839694528994,156.8193619328227,171.81189923408994)",
           "rgb(39.10748903767394,76.05773354117495,132.96499325509083)",
           "rgb(183.49915437639453,190.49240410485518,198.48604532291856)",
           "rgb(107.54070324572851,107.5406680034285,108.51358600667339)",
           "rgb(198.2536681418298,199.26468763410335,200.27556005241195)",
           "rgb(23.2096035292644,113.85878172109877,170.7551151784994)",
           "rgb(62.985892948767194,79.01932728478879,94.05393821527214)",
           "rgb(146.88492084464428,149.90574935730098,148.8987279643711)",
           "rgb(49.812246209491995,66.83995971261855,93.8744455280024)",
           "rgb(172.57916942059688,181.5798570879967,188.58161994734496)",
           "rgb(199.1531708002465,203.13297489723476,205.12277460183094)",
           "rgb(23.45274587862874,36.41806529517939,55.36753572514239)",
           "rgb(207.42971120219096,213.4311980103977,214.43140913182154)",
           "rgb(11.49461766570227,136.32817897342406,201.4158590577226)",
           "rgb(168.74125471927204,171.74885033317983,167.73902091636222)",
           "rgb(148.04744708254978,156.0586936377399,167.0744616344529)",
           "rgb(140.0818460259783,150.11170207254006,164.15225892129465)",
           "rgb(122.28339615874522,129.29214427421448,134.29800137732772)",
           "rgb(186.51549087628183,194.50763535204834,196.50567241631134)",
           "rgb(152.45400103360228,162.48850605018902,175.53580301156782)",
           "rgb(131.92483213657536,148.88989163933908,160.8669101616979)",
           "rgb(172.5780898396515,181.5803656506045,188.5808715992277)",
           "rgb(147.21973739831506,153.21173062781244,157.2065755629687)",
           "rgb(182.4329044565888,190.43650795526852,201.4436023007329)",
           "rgb(178.0682795748117,64.03263543051122,57.9261537441294)",
           "rgb(16.1737528929363,29.145300955389306,48.097760889142705)",
           "rgb(193.58464900565386,199.86769839930912,208.2485249570489)",
           "rgb(105.06734403364067,134.0241830064132,165.9713638477531)",
           "rgb(219.5305298806394,222.57262193637672,222.57267976125598)",
           "rgb(136.58899618363955,54.50656460261672,60.46975623352023)",
           "rgb(80.08435338210981,95.06504889920961,113.04435092681577)",
           "rgb(166.84374741974915,60.80709034516165,70.702965921831)",
           "rgb(148.87886706017397,40.900093413904045,39.084716342662105)",
           "rgb(167.51797234933017,178.5087261362149,189.49893027332766)",
           "rgb(54.91176090717559,67.8685653497433,80.82297148188138)",
           "rgb(254.16001563794035,255.0,255.0)",
           "rgb(39.92632184639495,58.922123534276835,87.90930588348546)",
           "rgb(175.05235223704634,181.0439522028982,186.0373262821625)",
           "rgb(197.69837112803657,203.73823205249144,204.74493816844924)",
           "rgb(191.48594998974767,193.48964677676736,190.4846305022162)",
           "rgb(86.8550969492339,100.84840904038077,115.84027385635173)",
           "rgb(125.38349434423321,138.38842550647263,155.3959580769121)",
           "rgb(184.12666779998787,75.99581804323691,82.9157761767249)",
           "rgb(178.6317983593943,186.6405510488089,203.6587102753919)",
           "rgb(168.8739092036297,62.82298174079556,87.73112409950693)",
           "rgb(210.43545452172907,208.45194510345868,206.46821641078677)",
           "rgb(121.86548985464925,49.85772632544448,62.8754072407341)",
           "rgb(129.2953119403005,145.32021929104366,160.34148275669972)",
           "rgb(196.157308034725,207.56012785320797,215.8668599060372)",
           "rgb(210.07262727450257,216.22549427356782,222.3807316998665)",
           "rgb(91.05068176660545,97.05914060983574,104.06968788688059)",
           "rgb(57.886490405214154,72.89989015649581,91.9176355208081)",
           "rgb(29.783603848694572,59.81104832530522,93.88586244806415)",
           "rgb(113.63850468449392,51.80008232065318,62.84213486299209)",
           "rgb(64.43737884075911,66.45410071007822,69.47960333580397)",
           "rgb(133.13857944438095,160.1447217070819,173.1516687744755)",
           "rgb(254.72129253170965,250.7042486864822,249.6999461045851)",
           "rgb(152.80623898589792,155.823133304154,156.82888958368)",
           "rgb(230.6398579586993,232.6397190444299,227.63917186242915)",
           "rgb(234.91623309502202,238.92396188087116,242.9320391279723)",
           "rgb(241.5562945734893,245.58481896878484,249.6139222687512)",
           "rgb(123.46772457052592,131.4624612717647,146.4492893616961)",
           "rgb(83.44705829351253,88.43679468234801,95.42376884484501)",
           "rgb(78.7125770802893,97.64770943321638,144.5501653464762)",
           "rgb(47.24884921232303,62.239587767456605,81.22845504826242)",
           "rgb(208.9708696882447,168.9750864627229,31.987219565301306)",
           "rgb(215.25375300746182,219.25827999244777,222.2617740897333)",
           "rgb(161.80082120625374,168.76348871809552,173.73658400412685)",
           "rgb(76.55569667048498,92.59495958177381,109.635732933412)",
           "rgb(87.0570767123585,106.05668887788929,134.05525721501647)",
           "rgb(73.16991253795237,78.17481229848303,78.17487122923899)",
           "rgb(199.7428194455941,199.74328303301562,192.74838489564578)",
           "rgb(79.52533858848862,98.48470441377756,118.44392835556667)",
           "rgb(234.9650878220337,235.96509049643123,227.95792014615387)",
           "rgb(42.29466855020416,60.316063746189656,78.33993392526725)",
           "rgb(110.87413409801559,113.86371865053276,116.85291897561683)",
           "rgb(67.16090769268293,80.13231478457178,103.09054636804731)",
           "rgb(175.4258120161617,177.36866472791104,177.36890499657457)",
           "rgb(7.336280523827063,105.3019699514002,230.27649855576908)",
           "rgb(220.67956434492837,222.68247153224786,218.67614980343603)",
           "rgb(170.11262135845095,179.1140915163053,179.11360390632242)",
           "rgb(158.59625573302446,157.58833385359506,161.61823883173614)",
           "rgb(175.61477573847313,180.6012393577333,187.5830999023922)",
           "rgb(71.64238885583823,83.64479857083003,98.64502197019812)",
           "rgb(160.4647698823321,54.45414410551862,63.39564541316724)",
           "rgb(91.8146233713918,102.79625736625314,119.76727108223717)",
           "rgb(158.70211788090106,174.7067087060137,172.70600945181747)",
           "rgb(144.71258691539424,146.70105923000503,144.71231970338204)",
           "rgb(19.312820430505194,24.825217693194393,31.259327579047394)",
           "rgb(225.48750304500058,233.4822391465369,235.48045054293215)",
           "rgb(171.02451290549197,178.051109056163,184.07323437821728)",
           "rgb(202.18235335443828,210.20111881276648,216.21480802433513)",
           "rgb(127.72746130006648,67.6549670449659,70.62959973445902)",
           "rgb(142.53166515156008,150.55632902479465,155.57100977939425)",
           "rgb(122.58957817211652,132.5642430910067,141.53940190691907)",
           "rgb(206.48387914603822,205.4711691300507,203.44578951848905)",
           "rgb(66.78719839335106,107.79682654487328,151.83884712516084)",
           "rgb(211.4624565538106,212.4554357653048,210.4697044627738)",
           "rgb(193.57607581217385,196.55800772753335,197.55202607233522)",
           "rgb(54.052733690920704,73.02855771428688,96.99466915679625)",
           "rgb(64.07312881451273,80.08925494132829,108.11874901002513)",
           "rgb(155.6718504468628,38.67166232202105,38.52921966101547)",
           "rgb(227.90875787320766,232.93690162694904,232.93662179246965)",
           "rgb(225.96866363237612,232.94415903819686,237.92725728365428)",
           "rgb(157.5508644245595,75.35711726084523,86.29763775795168)",
           "rgb(30.693062702576633,41.79514680625788,55.01190092146482)",
           "rgb(103.79327070288291,117.77694724549663,135.7591556826722)",
           "rgb(33.70982522645178,61.73039182775575,98.77149244683245)",
           "rgb(128.79755722759907,134.79489866190593,141.79190624969044)",
           "rgb(215.13957614390398,223.12917001904322,230.12069724545134)",
           "rgb(219.53235080101635,42.74511122318432,45.517341093468474)",
           "rgb(168.6408520757053,44.70806592116478,43.57679300470341)",
           "rgb(200.15979249123302,202.15488867530985,209.13479675784674)",
           "rgb(201.59278256555834,209.60163168415102,221.61663741175124)",
           "rgb(203.87902518117053,205.85614190788104,207.8336435244201)",
           "rgb(205.99267811876848,209.9623831153168,207.97771236231097)",
           "rgb(201.51714519205737,206.51430954463854,209.51282796628468)",
           "rgb(187.13695505752375,194.1763633832952,197.19354256697022)",
           "rgb(160.4672945813072,119.36099145706171,115.34562131799515)",
           "rgb(191.22777314421205,197.20975966964482,199.20347659118937)",
           "rgb(108.18667109265907,107.18912851878073,109.18432865714136)",
           "rgb(241.9866253828271,241.98671051093478,237.9893103068318)",
           "rgb(180.42576598663416,187.41450648206916,194.40401109734063)",
           "rgb(198.47367847560093,206.46618400529675,217.45592747568)",
           "rgb(247.78410641930068,252.81506849855052,253.8213020327302)",
           "rgb(20.077778805872548,38.07082282825147,67.05789824263913)",
           "rgb(112.94045412609293,126.92019435743607,141.89829773854052)",
           "rgb(175.21346167416428,42.25849827791258,47.19172489077647)",
           "rgb(133.82122736888527,177.80312337552164,136.8337107232455)",
           "rgb(205.49609694683917,212.49998876583967,225.50680580739387)",
           "rgb(186.3248090760657,194.31453856879432,198.30894570399056)",
           "rgb(71.58346249665561,88.61709135568564,116.6760606877414)",
           "rgb(196.55580885714645,54.55390215758918,53.253301125429026)",
           "rgb(91.62128328591558,99.60488221505159,113.5777999945606)",
           "rgb(163.11163020460745,50.10406495279835,66.08551782027914)",
           "rgb(31.083851963559486,44.137621056639354,61.21596059391693)",
           "rgb(147.75363801828354,159.7695460470958,173.789197981771)",
           "rgb(110.59917651720414,110.59918230246876,109.62019472580636)",
           "rgb(150.09756309126527,163.0855762747929,177.07165200490857)",
           "rgb(18.56019504693798,26.923676189595216,39.47027621940729)",
           "rgb(58.815715705142416,82.78970364867511,121.74949195559714)",
           "rgb(95.20895471990247,119.19679702652552,143.18172981613947)",
           "rgb(16.823321280541474,27.329302031638104,39.82494379251941)",
           "rgb(53.070629672132746,95.12086994220175,146.21887110304337)",
           "rgb(88.11541292492656,97.12234013151088,110.13125637939847)",
           "rgb(45.15126810511622,67.1576822929432,98.16102859463001)",
           "rgb(14.4300701322984,65.50383202006697,124.43397594464727)",
           "rgb(105.96030101516003,110.96715107688013,118.97671857150681)",
           "rgb(215.61831588989057,219.12622426579026,222.21217066217832)",
           "rgb(83.64922253619312,88.64109818561637,93.63259219410203)",
           "rgb(171.0168641793954,175.0345760186179,172.02164889353475)",
           "rgb(164.02402493911273,165.02429278266956,161.0241524555411)",
           "rgb(96.70153789754394,119.70810376353265,137.71731685880468)",
           "rgb(183.7267798812359,187.71930776253438,183.72705112179682)",
           "rgb(192.25105577755744,201.2503248599581,202.2501207088862)",
           "rgb(128.3169288959895,128.31663854862614,125.29709475903945)",
           "rgb(99.40172228574049,102.38451086045885,105.3679284795968)",
           "rgb(208.44897953894656,213.47054936460955,211.46174674306468)",
           "rgb(185.5739352154213,61.63612180781395,60.82089956153933)",
           "rgb(127.57472134941652,118.57198987496152,97.56051388835937)",
           "rgb(199.72492203395828,210.50263936451714,220.23321818864983)",
           "rgb(38.929300266435774,52.92630645947748,61.922511984316756)",
           "rgb(246.67773459388115,25.42104579189145,38.709756838222646)",
           "rgb(73.7729551972281,80.76771758092889,86.76237431744438)",
           "rgb(131.42556239133387,138.4239043166064,141.42372386908687)",
           "rgb(95.48886127704779,104.50202995265028,100.49612178000571)",
           "rgb(35.85986415277184,44.813792804364375,49.78540365085422)",
           "rgb(184.18632971040014,191.17023782778114,192.16766351665171)",
           "rgb(166.57343564863945,175.5980924774512,179.60835175810158)",
           "rgb(92.40879350130508,34.47350394658694,34.516305488591364)",
           "rgb(126.67797260345276,134.655633512382,147.6202377838891)",
           "rgb(59.02969167792906,70.99632779454318,77.97438936767244)",
           "rgb(44.97025377261745,53.977345998268405,66.99008608083318)",
           "rgb(191.1021079943711,197.12165861459798,200.13175064351424)",
           "rgb(130.3853783870827,138.36617012816112,144.35280574137587)",
           "rgb(162.9030628539313,168.91379239761233,169.9160044009799)",
           "rgb(40.90386110075832,49.926547201343595,53.938839980628906)",
           "rgb(66.71142638387141,72.73990019574994,75.75471131543915)",
           "rgb(197.87915542940286,199.89448699236343,196.87084967396498)",
           "rgb(168.4907375723437,175.49065287475247,175.49085532969212)",
           "rgb(179.33419253156956,184.3402781194851,185.34161116906708)",
           "rgb(75.07920701569167,87.07389615010118,96.06742078862088)",
           "rgb(198.47404608493014,203.48314260191614,204.4850554207466)",
           "rgb(15.223665787020535,23.2245903514588,28.219479903909683)",
           "rgb(103.8271896822242,107.84665918061658,115.88442237648347)",
           "rgb(97.94254230040083,105.9400129151909,113.93875681305383)",
           "rgb(26.68210021774391,37.650122039186805,44.62735876914062)"
          ]
         },
         "mode": "markers",
         "type": "scatter3d",
         "x": [
          0.61,
          0.3,
          0.74,
          0.68,
          0.57,
          0.77,
          0.83,
          0.53,
          0.7,
          0.74,
          0.79,
          0.46,
          0.68,
          0.47,
          0.58,
          0.54,
          0.59,
          0.35,
          0.5,
          0.73,
          0.84,
          0.48,
          0.32,
          0.34,
          0.3423,
          0.24,
          0.82,
          0.5,
          0.57,
          0.86,
          0.35,
          0.93,
          0.32,
          0.87,
          0.77,
          0.43,
          0.96,
          0.86,
          0.49,
          0.81,
          1,
          0.59,
          0.87,
          0.26,
          0.79,
          0.26,
          0.91,
          0.93,
          0.85,
          1,
          0.82,
          0.78,
          0.59,
          0.77,
          0.69,
          0.44,
          0.71,
          0.68,
          0.9,
          0.77,
          0.67,
          0.88,
          0.62,
          0.61,
          0.42,
          0.55,
          0.89,
          0.93,
          0.52,
          0.17,
          0.76,
          0.91,
          0.2984,
          0.2544,
          0.4467,
          0.2193,
          0.4,
          0.92,
          0.46,
          0.91,
          0.54,
          0.53,
          0.98,
          0.19,
          0.83,
          0.82,
          0.28,
          0.52,
          0.86,
          0.27,
          0.35,
          0.81,
          0.56,
          0.71,
          0.42,
          0.88,
          0.67,
          0.27,
          0.75,
          0.8,
          0.8,
          0.7,
          0.52,
          0.48,
          0.58,
          0.69,
          0.69,
          0.97,
          0.48,
          0.74,
          0.55,
          0.56,
          0.73,
          0.61,
          0.26,
          0.51,
          0.86,
          0.71,
          0.22,
          0.61,
          0.84,
          0.79,
          0.82,
          0.95,
          0.89,
          0.65,
          0.71,
          0.86,
          0.75,
          0.69,
          0.42,
          0.8,
          0.53,
          0.83,
          0.53,
          0.42,
          0.67,
          0.38,
          0.77,
          0.84,
          0.26,
          0.87,
          0.6,
          0.74,
          0.69,
          0.67,
          0.6,
          0.81,
          0.71,
          0.66,
          0.77,
          0.68,
          0.8,
          0.53,
          0.23,
          0.83,
          0.61,
          0.9,
          0.45,
          0.48,
          0.51,
          0.45,
          0.76,
          0.38,
          1,
          0.35,
          0.77,
          0.84,
          0.81,
          0.5,
          0.63,
          0.56,
          0.79,
          0.52,
          0.86,
          0.42,
          0.65,
          0.85,
          0.88,
          0.49,
          0.4,
          0.35,
          0.41,
          0.38,
          0.69,
          0.99,
          0.69,
          0.93,
          0.95,
          0.97,
          0.61,
          0.46,
          0.5,
          0.36,
          0.75,
          0.89,
          0.73,
          0.47,
          0.52,
          0.42,
          0.83,
          0.49,
          0.94,
          0.35,
          0.55,
          0.43,
          0.76,
          0.55,
          0.9,
          0.76,
          0.7,
          0.77,
          0.44,
          0.49,
          0.51,
          0.74,
          0.66,
          0.21,
          0.93,
          0.76,
          0.86,
          0.46,
          0.67,
          0.61,
          0.85,
          0.52,
          0.87,
          0.82,
          0.4,
          0.43,
          0.46,
          0.93,
          0.93,
          0.52,
          0.28,
          0.56,
          0.36,
          0.62,
          0.9,
          0.58,
          0.49,
          0.84,
          0.86,
          0.85,
          0.86,
          0.85,
          0.81,
          0.61,
          0.82,
          0.53,
          0.96,
          0.79,
          0.85,
          0.99,
          0.27,
          0.59,
          0.5,
          0.72,
          0.87,
          0.81,
          0.46,
          0.55,
          0.5,
          0.49,
          0.29,
          0.7,
          0.54,
          0.71,
          0.22,
          0.44,
          0.56,
          0.22,
          0.48,
          0.49,
          0.38,
          0.38,
          0.54,
          0.89,
          0.46,
          0.75,
          0.72,
          0.56,
          0.79,
          0.83,
          0.6,
          0.51,
          0.87,
          0.54,
          0.57,
          0.86,
          0.32,
          0.62,
          0.43,
          0.63,
          0.51,
          0.29,
          0.8,
          0.75,
          0.34,
          0.62,
          0.39,
          0.33,
          0.82,
          0.63,
          0.73,
          0.31,
          0.4,
          0.83,
          0.75,
          0.78,
          0.45,
          0.84,
          0.2,
          0.53,
          0.52,
          0.26
         ],
         "y": [
          0.2020083472837977,
          -0.0172751240003971,
          -0.04418139683691727,
          -0.0010113727385880843,
          -0.011811076921559388,
          -0.00408850295668177,
          -0.0019654785551744018,
          -0.010364204393653912,
          -0.004799920385411252,
          -0.001393824560966928,
          -0.0054709237233493985,
          -0.016440328024326302,
          -0.0067833769008283275,
          0.09537291510715733,
          -0.009371001697668841,
          0.1680241906482816,
          -0.033797191107578374,
          -0.012735091637594335,
          0.08175600054685944,
          -0.05248612550186205,
          -0.005880806504646084,
          0.11347813850571799,
          0.010102022544689317,
          -0.016787654584577313,
          -0.016849372177386465,
          -0.009586014604986573,
          -0.005953565965366318,
          -0.008345619618085005,
          -0.006192114667060931,
          -0.009140469841284337,
          -0.01677116308402778,
          -0.00429088272794637,
          -0.013434789203688033,
          -0.004925991259575072,
          -0.007264032092415805,
          0.10740570517722284,
          -0.005605402190092055,
          -0.006491743287971831,
          -0.002509724762547421,
          -0.006406215314082053,
          -0.0030583733776734117,
          0.18064219263486214,
          -0.007036825451156365,
          -0.005569483071641052,
          -0.004163671120998472,
          -0.004777444273857019,
          -0.004991744858689306,
          -0.006298735497928143,
          -0.0055739178055871155,
          -0.0010511462533238651,
          -0.001143285885405784,
          -0.005248688952123284,
          0.07785817414846534,
          -0.010495007937285588,
          -0.01916613558104051,
          -0.009315296208797693,
          -0.0036111860627356207,
          -0.004985714217086555,
          -0.007644714841943114,
          -0.008753795062264078,
          -0.009684926042747038,
          -0.006965993047254068,
          0.19193237733537394,
          -0.009924022536771467,
          -0.016172102876755877,
          -0.004949200772790364,
          -0.005059200870293214,
          -0.0002759373535782626,
          -0.016011504687381724,
          -0.01126563316616938,
          -0.006797218525401856,
          -0.004740384994256104,
          -0.004455118637116814,
          -0.013103870016711943,
          -0.009131300194347918,
          -0.0015839560375509611,
          -0.0037846906962555973,
          -0.009278485624168432,
          0.13732076358357953,
          -0.0057847336166975925,
          -0.06609986883435849,
          -0.00634471832045711,
          -0.009213767481008564,
          -0.01432798306575976,
          -0.003423136112863564,
          -0.006899677706286591,
          -0.015262237196393757,
          0.14097333614157975,
          -0.004545210168325139,
          -0.010742850647364865,
          -0.012534622329267456,
          -0.004597855736280599,
          -0.005694398413553215,
          -0.0053593137164513124,
          0.09294740744898172,
          0.00028148110430379426,
          -0.009721345208210748,
          -0.013094795101240063,
          -0.00906352284640485,
          -0.011241816062344487,
          -0.008995129769465083,
          -0.007407868942102169,
          -0.012143246928683042,
          -0.007041771890826397,
          -0.011776283069711421,
          -0.011573891759652085,
          -0.0038850028518715605,
          -0.0019203930645534328,
          -0.025862718330235804,
          -0.009678230228238244,
          -0.011112759020458005,
          -0.0041576446766205845,
          -0.0046354541377872606,
          -0.00463030183893299,
          -0.007495117665055926,
          0.15412420815497047,
          -0.0018997740233730733,
          -0.009180440802870758,
          -0.007511235159710253,
          -0.009083807897372351,
          0,
          -0.001593297118492637,
          -0.007562975098377015,
          -0.00686671556798863,
          -0.006500291978593307,
          0.19540094981268755,
          -0.003286587321460557,
          -0.0012242618272269839,
          -0.005577894704723234,
          -0.008224267277132468,
          -0.020221379113989947,
          -0.004326660598751233,
          0.0004222562851060141,
          -0.0006789497673372782,
          -0.05422503273421554,
          -0.012662117266229839,
          -0.0037819933283839715,
          -0.00944698807627675,
          -0.0068799609299904484,
          -0.003423136112863564,
          -0.008515828957428206,
          -0.005872381095738465,
          -0.06662106457652,
          -0.00488776250450646,
          -0.004402035497777735,
          -0.005450925916732532,
          -0.005882357857874288,
          -0.007678137760017331,
          -0.005760751824214449,
          -0.013742853756449664,
          -0.006882128873565044,
          -0.005005396207877931,
          -0.0042394028145745655,
          0.13402615142420066,
          -0.00874180439927539,
          -0.003398273464182587,
          -0.018945425380588778,
          -0.0031541169488344895,
          0.10663507235413953,
          -0.009988888797337548,
          0.13261206477472995,
          0.1296262759474415,
          -0.007462994297391148,
          -0.01019819478901653,
          -0.0006412303358185405,
          -0.011177721624003089,
          -0.0044673850991623,
          -0.005960028574779337,
          -0.003315271355770942,
          -0.009983079372939279,
          -0.007632395837473784,
          0.13258558561226472,
          -0.0019940396508063905,
          0.1385573179935859,
          0.001323573837584505,
          0.09902477228083681,
          -0.011589623324182995,
          -0.008704728702799723,
          -0.004052741023965467,
          -0.004126886617001931,
          -0.010010214847403633,
          -0.020425115072924382,
          0.08631297809845076,
          -0.001171209573820703,
          -0.023608833592054377,
          0.0037169996762894376,
          -0.0029300629853958797,
          -0.003959807849007163,
          -0.0025959474156616235,
          -0.0025959474156616235,
          -0.0029468412283835416,
          -0.0029796050819913844,
          -0.004412466276427213,
          -0.010217432111499662,
          -0.001503400047919595,
          -0.003015404066819662,
          -0.005579584320524021,
          -0.011595749568970507,
          -0.010450585248774569,
          -0.006218958410473576,
          -0.0027442139701924573,
          -0.013569973129616242,
          -0.004072272692724509,
          -0.014077456640109471,
          -0.002216860585763777,
          -0.006012451698659629,
          -0.002102518697694791,
          -0.04034531109953446,
          -0.0036129610789600993,
          -0.009661765065124681,
          0.0027407444447199066,
          -0.002620630653998599,
          -0.007957558384556852,
          0.13237133222285336,
          -0.005746908711680576,
          -0.017935523650611754,
          -0.003050363787429349,
          -0.004603345423969438,
          -0.007431342100322366,
          -0.005183932932642903,
          -0.006062797882136549,
          0.07869422022119431,
          -0.0068408631457506025,
          -0.007541580848292648,
          0.00028440997108808793,
          -0.02690371591306753,
          -0.0018052924462490963,
          -0.0027762491844496983,
          -0.012568763166071393,
          -0.0076439042460872,
          0.13826002764190498,
          -0.005162389527958527,
          -0.005274229143787607,
          0.10663836095893475,
          -0.008406146063692442,
          -0.008552857818624141,
          -0.01770924824864909,
          -0.003892881191843686,
          -0.005600287680503677,
          0.18924828545394431,
          0.14473459445372233,
          0.0005750588210176019,
          -0.0037931207989313305,
          -0.0013184826928065534,
          -0.004925991259575072,
          -0.004088772182104754,
          -0.006281156588608772,
          0.04737672513684817,
          -0.00555009761923791,
          0.0020493362686724937,
          -0.00150528132693079,
          -0.004722081988929999,
          -0.004171335691906138,
          -0.004712441400907036,
          -0.010786213015593273,
          -0.00961880690718068,
          0.1544876967991776,
          -0.06286772665554695,
          -0.0023764521964003697,
          -0.006899677706286591,
          -0.00859474072181285,
          0.16149519431054,
          -0.003522291304423748,
          0.1418533494669046,
          -0.009124910768400725,
          -0.007530148185991877,
          -0.0004247677628996641,
          -0.00855274634764296,
          -0.00561247388242725,
          -0.012590725036722357,
          -0.01702298581041217,
          -0.008328606973446909,
          -0.025778152120977404,
          -0.005125580391812775,
          -0.013501099809152713,
          -0.02854771756414521,
          -0.002456702408409095,
          -0.002470063780855966,
          -0.003850112502371435,
          -0.005560132310391052,
          -0.0027202532914111168,
          -0.018286417833090242,
          -0.005851997731507823,
          -0.00907044014291465,
          -0.001280328041645869,
          -0.0022524934273516995,
          -0.006014930560667752,
          0.14561519365313125,
          0.0013949201072887198,
          -0.007502519771772974,
          -0.013491603843676914,
          0.21771317378128807,
          -0.005895184876069266,
          -0.0066282164731140784,
          -0.01239462621720707,
          -0.009413262532823253,
          -0.007030795862719595,
          -0.008123095068838362,
          0.07879050361228362,
          -0.0037084736260750875,
          -0.011579884809609689,
          -0.005657323998739072,
          -0.005195342166985666,
          -0.0064941042613296624,
          -0.006135323532861083,
          -0.00984165987804027,
          -0.0061570433946946945,
          -0.0033146898466496037,
          -0.007555210582101715,
          -0.004969483659138329,
          -0.010418971185292059,
          -0.004883802906394565,
          -0.008727923226393812,
          -0.0013056439000380894,
          -0.005957439037305179,
          -0.011155006261425543
         ],
         "z": [
          0.10310609888686789,
          -0.035076774235538025,
          0.10161025624187174,
          -0.004896644277833631,
          0.005893934335654514,
          -0.010104164664790673,
          0.0066141434856789695,
          -0.020979591685410966,
          0.000027645862502384472,
          -0.003427426599249844,
          0.002697961010335908,
          -0.00991743991423952,
          -0.009655350735281896,
          0.08111132512764764,
          -0.02350051759392307,
          0.07860102643725406,
          -0.009838184448251894,
          -0.027273200050270497,
          0.02569915124244222,
          -0.0314745393898431,
          -0.0191158602959666,
          0.07349661271975112,
          -0.004093792924243824,
          -0.06610154804200065,
          -0.03033461153909697,
          -0.01868444069253838,
          0.008282213007163714,
          -0.01572229732546216,
          -0.00031259550535619774,
          -0.011384718313624254,
          -0.05006563780487515,
          -0.008363511548088608,
          -0.04639392674750077,
          0.0013208368978000267,
          0.0007237663713887629,
          0.04328573085190415,
          0.0038496059911776927,
          0.0065189929500707915,
          -0.013976454543848247,
          -0.0019622449769640376,
          -0.0009414628419319205,
          0.04037831398250002,
          -0.010692197508929493,
          -0.028867643795687653,
          -0.021806050600605406,
          -0.015060412551128565,
          0.005462827405817329,
          0.0022838413095352993,
          -0.016060244092060336,
          -0.0003241782752178204,
          0.015457777892835435,
          -0.02229038501874427,
          0.009201343286023114,
          -0.023896962325708107,
          -0.05601159921738687,
          -0.018148973980430944,
          0.04264738368552406,
          0.016461550769764705,
          -0.0009210510221343203,
          -0.02180873843228629,
          -0.012101743987811022,
          0.0006891595356722439,
          0.0759139152619046,
          -0.012422712130998288,
          -0.11405920869681511,
          0.007991583804891948,
          0.005536649397787833,
          -0.0028868423193690756,
          0.014497990124357004,
          -0.016160925387034755,
          -0.016883063120119342,
          0.008347978803652508,
          -0.044477431557242764,
          -0.03502925335466227,
          -0.009532017454909622,
          -0.008554594278579542,
          -0.025723065842423922,
          -0.014125144407123763,
          0.023398672800453046,
          -0.0031775551897408154,
          -0.09479248023488256,
          -0.013260262042435508,
          -0.009729670539432932,
          -0.0353032420787001,
          -0.003914350412623955,
          -0.007914824543182989,
          -0.05533375204846509,
          0.05036475451258711,
          -0.01575757165700838,
          -0.039567551857151995,
          -0.04342721776792326,
          -0.015950539885168515,
          -0.024240128438350373,
          -0.022778010371598677,
          0.021492776658984206,
          -0.012696880262013968,
          -0.02432972353609465,
          -0.057220768443429174,
          -0.029645447434854096,
          -0.03272279895761384,
          -0.024713915926669393,
          -0.011285985900072624,
          -0.028196303907232767,
          -0.0254435345154239,
          -0.03221504550768209,
          -0.038602267155386845,
          -0.007221270860516856,
          -0.004724625961662477,
          -0.12198856422046653,
          -0.03591896239661184,
          -0.017818714514611575,
          -0.025361466652048508,
          -0.020891925831202612,
          -0.013951713331357326,
          -0.02925513991056899,
          0.06481950679080592,
          -0.009206022955658805,
          -0.013347640490550594,
          -0.028631125482165953,
          -0.03255648067718062,
          0,
          0.005368557002789768,
          -0.009572951878147575,
          0.0006769175048280136,
          -0.004832825694460281,
          0.09016378880847656,
          -0.017595691057142787,
          -0.007500745494842152,
          -0.02549700160142405,
          -0.02529666831332316,
          -0.10221905804070144,
          -0.012998846412786544,
          -0.0014393399979464436,
          -0.0016670414552231914,
          -0.10637671655476708,
          -0.029714656086454114,
          0.0003694948769051185,
          -0.05062612385208534,
          -0.012422002157535032,
          -0.003914350412623955,
          -0.03928766545835763,
          -0.003225699965342949,
          -0.11959616948168177,
          0.004435062310671715,
          -0.01807158220733051,
          -0.023167378070258485,
          -0.009648205326997587,
          -0.005247494691583407,
          -0.021439536805159993,
          -0.022540939879003213,
          -0.012420801188636841,
          -0.0075997374166586334,
          -0.017390729247957867,
          0.06691061750138934,
          -0.040364227427820414,
          -0.013168589046007642,
          -0.055875494245228315,
          -0.0009703330732666028,
          0.03553479061465577,
          -0.033022297021776434,
          0.043293074228828284,
          0.06294313770378589,
          -0.018555422822374792,
          -0.02596934390864113,
          -0.001574428041044125,
          -0.0554853002091211,
          -0.008722526605048714,
          -0.0032738447409450823,
          0.0033315125450168576,
          -0.027759469127373353,
          -0.028806015583209575,
          0.0455752398551321,
          -0.025622525360920457,
          0.022044492065464435,
          0.003240085229814461,
          0.01987698354198683,
          -0.026692520135864907,
          -0.014602318247821293,
          -0.010010758722128275,
          -0.01285374680201887,
          -0.03624300758365426,
          -0.06684926831505186,
          0.016090674683690548,
          -0.005680516537621445,
          -0.026778965185807406,
          0.002536515997675594,
          -0.0024196551203865776,
          0.005772341102095515,
          -0.0063930475530156764,
          -0.0063930475530156764,
          -0.0244228607410086,
          -0.01265393035998583,
          -0.07867636329520698,
          -0.037119456906680295,
          0.1459922593437608,
          -0.005187228384581447,
          -0.009130073318991612,
          -0.032067874764844025,
          -0.048997910852995506,
          -0.0018906497001824438,
          0.009199417899291266,
          -0.03720236322146072,
          0.009894776152904636,
          -0.036692168299867996,
          -0.005467680417076979,
          -0.04126427540344414,
          -0.0006476226724287838,
          -0.20190855819474762,
          0.004537236189787729,
          -0.0029428380564238098,
          -0.005224779410533708,
          -0.011094696704972285,
          -0.027990842512442687,
          0.04588943675342925,
          -0.029648154078451665,
          -0.002434541307586813,
          0.002094106197006178,
          -0.014591066133344047,
          -0.005076923732731893,
          -0.010488891235486256,
          -0.010471508097707825,
          0.025099396482349403,
          -0.0097371757415131,
          -0.016343945616302858,
          0.002986488065997531,
          -0.07957505934693959,
          0.0022695636548720004,
          -0.002291820338910183,
          -0.04559951965180343,
          -0.050423910279515705,
          0.06645091990679791,
          -0.0015842141148292245,
          -0.008613507237985084,
          0.025306520345395996,
          -0.027754940251347473,
          -0.03145804544364446,
          -0.07092244021794314,
          -0.012088650711563705,
          -0.011620962864392896,
          0.09353232838298435,
          0.07006095323585407,
          -0.009883284239177273,
          -0.018413371082034776,
          -0.0032421602965876906,
          0.0013208368978000267,
          -0.00555805200073248,
          -0.006305320920411317,
          0.022152560017016952,
          -0.004586547330719447,
          -0.0025865461252224946,
          0.005081744594801423,
          -0.011681692586685498,
          -0.01709853673696758,
          -0.002836000007584155,
          -0.058310784669581034,
          -0.026615194038037245,
          0.0690086337908915,
          0.04162702181472308,
          -0.01935464995700578,
          -0.007914824543182989,
          -0.04996619289004128,
          0.07789603465261198,
          -0.02414442925328286,
          0.04185734397952457,
          -0.03503107197144736,
          -0.023524176251188973,
          0.0014386008298347443,
          -0.02370423021135426,
          -0.0271254518288465,
          -0.0699763077266131,
          -0.04359424221268798,
          -0.027778306389732468,
          -0.0919550807363451,
          -0.023139110303705808,
          -0.058666517741751946,
          -0.10912775917188895,
          -0.013681177335175395,
          -0.005137001549396645,
          -0.009553357196246939,
          0.002743160347290231,
          0.005122521061993497,
          -0.034333903402229686,
          0.004020462977124314,
          -0.00421035813367491,
          0.0043140190200989205,
          -0.005561139573840725,
          0.0010151898100085144,
          0.066544912482932,
          0.03287041523763096,
          -0.016251836729248653,
          -0.02057028501808573,
          0.10883259604584768,
          -0.01203356951519225,
          -0.006665339180082224,
          0.002768255937539582,
          -0.01218812899866694,
          -0.003602486576902827,
          -0.008420530060668027,
          0.03294262497923811,
          -0.02138076760466531,
          -0.01568936798587409,
          -0.025581921061040177,
          -0.005951337645264356,
          -0.011261732097816033,
          -0.0033701342921493497,
          -0.010374571357168082,
          -0.007102873829362763,
          0.003332091118279635,
          -0.002308417869472138,
          -0.0029906909170887455,
          -0.018348161745527912,
          -0.0029391272805872155,
          -0.01292994029971428,
          -0.013436714405177082,
          -0.014849542757835755,
          -0.016840600800077085
         ]
        }
       ],
       "layout": {
        "scene": {
         "xaxis": {
          "title": {
           "text": "L"
          }
         },
         "yaxis": {
          "title": {
           "text": "A"
          }
         },
         "zaxis": {
          "title": {
           "text": "B"
          }
         }
        },
        "template": {
         "data": {
          "bar": [
           {
            "error_x": {
             "color": "#2a3f5f"
            },
            "error_y": {
             "color": "#2a3f5f"
            },
            "marker": {
             "line": {
              "color": "#E5ECF6",
              "width": 0.5
             },
             "pattern": {
              "fillmode": "overlay",
              "size": 10,
              "solidity": 0.2
             }
            },
            "type": "bar"
           }
          ],
          "barpolar": [
           {
            "marker": {
             "line": {
              "color": "#E5ECF6",
              "width": 0.5
             },
             "pattern": {
              "fillmode": "overlay",
              "size": 10,
              "solidity": 0.2
             }
            },
            "type": "barpolar"
           }
          ],
          "carpet": [
           {
            "aaxis": {
             "endlinecolor": "#2a3f5f",
             "gridcolor": "white",
             "linecolor": "white",
             "minorgridcolor": "white",
             "startlinecolor": "#2a3f5f"
            },
            "baxis": {
             "endlinecolor": "#2a3f5f",
             "gridcolor": "white",
             "linecolor": "white",
             "minorgridcolor": "white",
             "startlinecolor": "#2a3f5f"
            },
            "type": "carpet"
           }
          ],
          "choropleth": [
           {
            "colorbar": {
             "outlinewidth": 0,
             "ticks": ""
            },
            "type": "choropleth"
           }
          ],
          "contour": [
           {
            "colorbar": {
             "outlinewidth": 0,
             "ticks": ""
            },
            "colorscale": [
             [
              0,
              "#0d0887"
             ],
             [
              0.1111111111111111,
              "#46039f"
             ],
             [
              0.2222222222222222,
              "#7201a8"
             ],
             [
              0.3333333333333333,
              "#9c179e"
             ],
             [
              0.4444444444444444,
              "#bd3786"
             ],
             [
              0.5555555555555556,
              "#d8576b"
             ],
             [
              0.6666666666666666,
              "#ed7953"
             ],
             [
              0.7777777777777778,
              "#fb9f3a"
             ],
             [
              0.8888888888888888,
              "#fdca26"
             ],
             [
              1,
              "#f0f921"
             ]
            ],
            "type": "contour"
           }
          ],
          "contourcarpet": [
           {
            "colorbar": {
             "outlinewidth": 0,
             "ticks": ""
            },
            "type": "contourcarpet"
           }
          ],
          "heatmap": [
           {
            "colorbar": {
             "outlinewidth": 0,
             "ticks": ""
            },
            "colorscale": [
             [
              0,
              "#0d0887"
             ],
             [
              0.1111111111111111,
              "#46039f"
             ],
             [
              0.2222222222222222,
              "#7201a8"
             ],
             [
              0.3333333333333333,
              "#9c179e"
             ],
             [
              0.4444444444444444,
              "#bd3786"
             ],
             [
              0.5555555555555556,
              "#d8576b"
             ],
             [
              0.6666666666666666,
              "#ed7953"
             ],
             [
              0.7777777777777778,
              "#fb9f3a"
             ],
             [
              0.8888888888888888,
              "#fdca26"
             ],
             [
              1,
              "#f0f921"
             ]
            ],
            "type": "heatmap"
           }
          ],
          "heatmapgl": [
           {
            "colorbar": {
             "outlinewidth": 0,
             "ticks": ""
            },
            "colorscale": [
             [
              0,
              "#0d0887"
             ],
             [
              0.1111111111111111,
              "#46039f"
             ],
             [
              0.2222222222222222,
              "#7201a8"
             ],
             [
              0.3333333333333333,
              "#9c179e"
             ],
             [
              0.4444444444444444,
              "#bd3786"
             ],
             [
              0.5555555555555556,
              "#d8576b"
             ],
             [
              0.6666666666666666,
              "#ed7953"
             ],
             [
              0.7777777777777778,
              "#fb9f3a"
             ],
             [
              0.8888888888888888,
              "#fdca26"
             ],
             [
              1,
              "#f0f921"
             ]
            ],
            "type": "heatmapgl"
           }
          ],
          "histogram": [
           {
            "marker": {
             "pattern": {
              "fillmode": "overlay",
              "size": 10,
              "solidity": 0.2
             }
            },
            "type": "histogram"
           }
          ],
          "histogram2d": [
           {
            "colorbar": {
             "outlinewidth": 0,
             "ticks": ""
            },
            "colorscale": [
             [
              0,
              "#0d0887"
             ],
             [
              0.1111111111111111,
              "#46039f"
             ],
             [
              0.2222222222222222,
              "#7201a8"
             ],
             [
              0.3333333333333333,
              "#9c179e"
             ],
             [
              0.4444444444444444,
              "#bd3786"
             ],
             [
              0.5555555555555556,
              "#d8576b"
             ],
             [
              0.6666666666666666,
              "#ed7953"
             ],
             [
              0.7777777777777778,
              "#fb9f3a"
             ],
             [
              0.8888888888888888,
              "#fdca26"
             ],
             [
              1,
              "#f0f921"
             ]
            ],
            "type": "histogram2d"
           }
          ],
          "histogram2dcontour": [
           {
            "colorbar": {
             "outlinewidth": 0,
             "ticks": ""
            },
            "colorscale": [
             [
              0,
              "#0d0887"
             ],
             [
              0.1111111111111111,
              "#46039f"
             ],
             [
              0.2222222222222222,
              "#7201a8"
             ],
             [
              0.3333333333333333,
              "#9c179e"
             ],
             [
              0.4444444444444444,
              "#bd3786"
             ],
             [
              0.5555555555555556,
              "#d8576b"
             ],
             [
              0.6666666666666666,
              "#ed7953"
             ],
             [
              0.7777777777777778,
              "#fb9f3a"
             ],
             [
              0.8888888888888888,
              "#fdca26"
             ],
             [
              1,
              "#f0f921"
             ]
            ],
            "type": "histogram2dcontour"
           }
          ],
          "mesh3d": [
           {
            "colorbar": {
             "outlinewidth": 0,
             "ticks": ""
            },
            "type": "mesh3d"
           }
          ],
          "parcoords": [
           {
            "line": {
             "colorbar": {
              "outlinewidth": 0,
              "ticks": ""
             }
            },
            "type": "parcoords"
           }
          ],
          "pie": [
           {
            "automargin": true,
            "type": "pie"
           }
          ],
          "scatter": [
           {
            "fillpattern": {
             "fillmode": "overlay",
             "size": 10,
             "solidity": 0.2
            },
            "type": "scatter"
           }
          ],
          "scatter3d": [
           {
            "line": {
             "colorbar": {
              "outlinewidth": 0,
              "ticks": ""
             }
            },
            "marker": {
             "colorbar": {
              "outlinewidth": 0,
              "ticks": ""
             }
            },
            "type": "scatter3d"
           }
          ],
          "scattercarpet": [
           {
            "marker": {
             "colorbar": {
              "outlinewidth": 0,
              "ticks": ""
             }
            },
            "type": "scattercarpet"
           }
          ],
          "scattergeo": [
           {
            "marker": {
             "colorbar": {
              "outlinewidth": 0,
              "ticks": ""
             }
            },
            "type": "scattergeo"
           }
          ],
          "scattergl": [
           {
            "marker": {
             "colorbar": {
              "outlinewidth": 0,
              "ticks": ""
             }
            },
            "type": "scattergl"
           }
          ],
          "scattermapbox": [
           {
            "marker": {
             "colorbar": {
              "outlinewidth": 0,
              "ticks": ""
             }
            },
            "type": "scattermapbox"
           }
          ],
          "scatterpolar": [
           {
            "marker": {
             "colorbar": {
              "outlinewidth": 0,
              "ticks": ""
             }
            },
            "type": "scatterpolar"
           }
          ],
          "scatterpolargl": [
           {
            "marker": {
             "colorbar": {
              "outlinewidth": 0,
              "ticks": ""
             }
            },
            "type": "scatterpolargl"
           }
          ],
          "scatterternary": [
           {
            "marker": {
             "colorbar": {
              "outlinewidth": 0,
              "ticks": ""
             }
            },
            "type": "scatterternary"
           }
          ],
          "surface": [
           {
            "colorbar": {
             "outlinewidth": 0,
             "ticks": ""
            },
            "colorscale": [
             [
              0,
              "#0d0887"
             ],
             [
              0.1111111111111111,
              "#46039f"
             ],
             [
              0.2222222222222222,
              "#7201a8"
             ],
             [
              0.3333333333333333,
              "#9c179e"
             ],
             [
              0.4444444444444444,
              "#bd3786"
             ],
             [
              0.5555555555555556,
              "#d8576b"
             ],
             [
              0.6666666666666666,
              "#ed7953"
             ],
             [
              0.7777777777777778,
              "#fb9f3a"
             ],
             [
              0.8888888888888888,
              "#fdca26"
             ],
             [
              1,
              "#f0f921"
             ]
            ],
            "type": "surface"
           }
          ],
          "table": [
           {
            "cells": {
             "fill": {
              "color": "#EBF0F8"
             },
             "line": {
              "color": "white"
             }
            },
            "header": {
             "fill": {
              "color": "#C8D4E3"
             },
             "line": {
              "color": "white"
             }
            },
            "type": "table"
           }
          ]
         },
         "layout": {
          "annotationdefaults": {
           "arrowcolor": "#2a3f5f",
           "arrowhead": 0,
           "arrowwidth": 1
          },
          "autotypenumbers": "strict",
          "coloraxis": {
           "colorbar": {
            "outlinewidth": 0,
            "ticks": ""
           }
          },
          "colorscale": {
           "diverging": [
            [
             0,
             "#8e0152"
            ],
            [
             0.1,
             "#c51b7d"
            ],
            [
             0.2,
             "#de77ae"
            ],
            [
             0.3,
             "#f1b6da"
            ],
            [
             0.4,
             "#fde0ef"
            ],
            [
             0.5,
             "#f7f7f7"
            ],
            [
             0.6,
             "#e6f5d0"
            ],
            [
             0.7,
             "#b8e186"
            ],
            [
             0.8,
             "#7fbc41"
            ],
            [
             0.9,
             "#4d9221"
            ],
            [
             1,
             "#276419"
            ]
           ],
           "sequential": [
            [
             0,
             "#0d0887"
            ],
            [
             0.1111111111111111,
             "#46039f"
            ],
            [
             0.2222222222222222,
             "#7201a8"
            ],
            [
             0.3333333333333333,
             "#9c179e"
            ],
            [
             0.4444444444444444,
             "#bd3786"
            ],
            [
             0.5555555555555556,
             "#d8576b"
            ],
            [
             0.6666666666666666,
             "#ed7953"
            ],
            [
             0.7777777777777778,
             "#fb9f3a"
            ],
            [
             0.8888888888888888,
             "#fdca26"
            ],
            [
             1,
             "#f0f921"
            ]
           ],
           "sequentialminus": [
            [
             0,
             "#0d0887"
            ],
            [
             0.1111111111111111,
             "#46039f"
            ],
            [
             0.2222222222222222,
             "#7201a8"
            ],
            [
             0.3333333333333333,
             "#9c179e"
            ],
            [
             0.4444444444444444,
             "#bd3786"
            ],
            [
             0.5555555555555556,
             "#d8576b"
            ],
            [
             0.6666666666666666,
             "#ed7953"
            ],
            [
             0.7777777777777778,
             "#fb9f3a"
            ],
            [
             0.8888888888888888,
             "#fdca26"
            ],
            [
             1,
             "#f0f921"
            ]
           ]
          },
          "colorway": [
           "#636efa",
           "#EF553B",
           "#00cc96",
           "#ab63fa",
           "#FFA15A",
           "#19d3f3",
           "#FF6692",
           "#B6E880",
           "#FF97FF",
           "#FECB52"
          ],
          "font": {
           "color": "#2a3f5f"
          },
          "geo": {
           "bgcolor": "white",
           "lakecolor": "white",
           "landcolor": "#E5ECF6",
           "showlakes": true,
           "showland": true,
           "subunitcolor": "white"
          },
          "hoverlabel": {
           "align": "left"
          },
          "hovermode": "closest",
          "mapbox": {
           "style": "light"
          },
          "paper_bgcolor": "white",
          "plot_bgcolor": "#E5ECF6",
          "polar": {
           "angularaxis": {
            "gridcolor": "white",
            "linecolor": "white",
            "ticks": ""
           },
           "bgcolor": "#E5ECF6",
           "radialaxis": {
            "gridcolor": "white",
            "linecolor": "white",
            "ticks": ""
           }
          },
          "scene": {
           "xaxis": {
            "backgroundcolor": "#E5ECF6",
            "gridcolor": "white",
            "gridwidth": 2,
            "linecolor": "white",
            "showbackground": true,
            "ticks": "",
            "zerolinecolor": "white"
           },
           "yaxis": {
            "backgroundcolor": "#E5ECF6",
            "gridcolor": "white",
            "gridwidth": 2,
            "linecolor": "white",
            "showbackground": true,
            "ticks": "",
            "zerolinecolor": "white"
           },
           "zaxis": {
            "backgroundcolor": "#E5ECF6",
            "gridcolor": "white",
            "gridwidth": 2,
            "linecolor": "white",
            "showbackground": true,
            "ticks": "",
            "zerolinecolor": "white"
           }
          },
          "shapedefaults": {
           "line": {
            "color": "#2a3f5f"
           }
          },
          "ternary": {
           "aaxis": {
            "gridcolor": "white",
            "linecolor": "white",
            "ticks": ""
           },
           "baxis": {
            "gridcolor": "white",
            "linecolor": "white",
            "ticks": ""
           },
           "bgcolor": "#E5ECF6",
           "caxis": {
            "gridcolor": "white",
            "linecolor": "white",
            "ticks": ""
           }
          },
          "title": {
           "x": 0.05
          },
          "xaxis": {
           "automargin": true,
           "gridcolor": "white",
           "linecolor": "white",
           "ticks": "",
           "title": {
            "standoff": 15
           },
           "zerolinecolor": "white",
           "zerolinewidth": 2
          },
          "yaxis": {
           "automargin": true,
           "gridcolor": "white",
           "linecolor": "white",
           "ticks": "",
           "title": {
            "standoff": 15
           },
           "zerolinecolor": "white",
           "zerolinewidth": 2
          }
         }
        }
       }
      }
     },
     "metadata": {},
     "output_type": "display_data"
    }
   ],
   "source": [
    "#| fig-cap: Vehicle Colors in Sample.  Each vehicle color is plotted in OKLAB color space.\n",
    "#| label: fig-3d-scatter\n",
    "srgb_mat = oklch_to_srgb(oklch_mat)\n",
    "rgb_list = rgb_mat_to_str(srgb_mat)\n",
    "\n",
    "x=oklab_mat[:, 0]\n",
    "y=oklab_mat[:, 1]\n",
    "z=oklab_mat[:, 2]\n",
    "# https://stackoverflow.com/questions/70340331/how-can-i-manually-color-each-point-in-my-scatter-plot-in-plotly\n",
    "fig = go.Figure(\n",
    "    go.Scatter3d(\n",
    "        x=x,\n",
    "        y=y,\n",
    "        z=z,\n",
    "        mode=\"markers\",\n",
    "        marker_color=rgb_list,\n",
    "    )\n",
    ")\n",
    "\n",
    "fig.update_layout(\n",
    "    scene={\n",
    "        \"xaxis\": {\"title\": \"L\"},\n",
    "        \"yaxis\": {\"title\": \"A\"},\n",
    "        \"zaxis\": {\"title\": \"B\"}\n",
    "    }\n",
    "    \n",
    ")\n",
    "\n",
    "fig.show()"
   ]
  },
  {
   "cell_type": "markdown",
   "id": "eeded16e",
   "metadata": {},
   "source": [
    "**Caveats:** No attempts are made to account for non-sampling errors such as non-response and measurement errors--or to correct for sampling error.  Measurement errors are likely due to the highly reflective nature of most car paints.  The vehicle colors in the target population may differ.  However, based on personal experience observing vehicles in the target population outside of this study, the author does not expect the color distribution to be dramatically different in the target population."
   ]
  }
 ],
 "metadata": {
  "kernelspec": {
   "display_name": "justins_room",
   "language": "python",
   "name": "python3"
  },
  "language_info": {
   "codemirror_mode": {
    "name": "ipython",
    "version": 3
   },
   "file_extension": ".py",
   "mimetype": "text/x-python",
   "name": "python",
   "nbconvert_exporter": "python",
   "pygments_lexer": "ipython3",
   "version": "3.11.6"
  }
 },
 "nbformat": 4,
 "nbformat_minor": 5
}
