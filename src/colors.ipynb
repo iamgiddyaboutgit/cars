{
 "cells": [
  {
   "cell_type": "code",
   "execution_count": 1,
   "id": "758bf857",
   "metadata": {},
   "outputs": [],
   "source": [
    "import numpy as np"
   ]
  },
  {
   "cell_type": "code",
   "execution_count": 15,
   "id": "5a5c6856",
   "metadata": {},
   "outputs": [],
   "source": [
    "x1 = np.array([\n",
    "        [1, 0, 0],\n",
    "        [0.45, 1.24, -0.02]])\n",
    "\n",
    "x2 = np.array([\n",
    "        [0.9, -0.1, 0.3],\n",
    "        [0.8, -0.6, 0.4],\n",
    "        [0.2, -1.4, -0.4]])"
   ]
  },
  {
   "cell_type": "code",
   "execution_count": 22,
   "id": "a18dd15d",
   "metadata": {},
   "outputs": [],
   "source": [
    "def lp_dist(x1:np.ndarray, x2:np.ndarray, p:float) -> np.ndarray:\n",
    "    \"\"\"Get the pairwise Lp-distances between points.\n",
    "    \n",
    "    Args:\n",
    "        x1: an m by d matrix where each row corresponds to a point to\n",
    "            be compared with each point in x2.    \n",
    "        x2: an n by d matrix where each row corresponds to a point to\n",
    "            be compared with each point in x1. \n",
    "        p: p > 0\n",
    "\n",
    "    Returns:\n",
    "        a distance matrix of dimensions m by n where the (i,j)-th entry\n",
    "        corresponds to the distance\n",
    "        between points x1[i, :] and x2[j, :]\n",
    "    \"\"\"\n",
    "    m = x1.shape[0]\n",
    "    n = x2.shape[0]\n",
    "    d = x1.shape[1]\n",
    "\n",
    "    # Compare each row of x1 to each row of x2.\n",
    "    # To do this, make views x1_view and x2_view\n",
    "    # into x1 and x2, respectively.  x1_view and x2_view have the same\n",
    "    # entries as x1 and x2, but they are repeated in a nice\n",
    "    # configuration. \n",
    "    # Example:\n",
    "    # x1 = np.array([\n",
    "    # \t[1, 0, 0],\n",
    "    # \t[0.45, 1.24, -0.02]])\n",
    "    # x2 = np.array([\n",
    "    # \t[0.9, -0.1, 0.3],\n",
    "    # \t[0.8, -0.6, 0.4],\n",
    "    # \t[0.2, -1.4, -0.4]])\n",
    "    # x1_view\n",
    "    # array([[[ 1.  ,  0.  ,  0.  ],\n",
    "    #     [ 0.45,  1.24, -0.02]],\n",
    "    #\n",
    "    #    [[ 1.  ,  0.  ,  0.  ],\n",
    "    #     [ 0.45,  1.24, -0.02]],\n",
    "    #\n",
    "    #    [[ 1.  ,  0.  ,  0.  ],\n",
    "    #     [ 0.45,  1.24, -0.02]]])\n",
    "    # x2_view\n",
    "    # array([[[ 0.9, -0.1,  0.3],\n",
    "    #         [ 0.8, -0.6,  0.4],\n",
    "    #         [ 0.2, -1.4, -0.4]],\n",
    "    #\n",
    "    #        [[ 0.9, -0.1,  0.3],\n",
    "    #         [ 0.8, -0.6,  0.4],\n",
    "    #         [ 0.2, -1.4, -0.4]]])\n",
    "    \n",
    "    x1_view = np.broadcast_to(\n",
    "        array=x1, \n",
    "        shape=(n, m, d)\n",
    "    )\n",
    "    \n",
    "    x2_view = np.broadcast_to(\n",
    "        array=x2, \n",
    "        shape=(m, n, d)\n",
    "    )\n",
    "\n",
    "    # Make sure our views have the same dimensions.\n",
    "    x2_view_2 = np.swapaxes(x2_view, axis1=0, axis2=1)\n",
    "    # Example:\n",
    "    # x2_view_2\n",
    "    # array([[[ 0.9, -0.1,  0.3],\n",
    "    #         [ 0.9, -0.1,  0.3]],\n",
    "    #\n",
    "    #        [[ 0.8, -0.6,  0.4],\n",
    "    #         [ 0.8, -0.6,  0.4]],\n",
    "    #\n",
    "    #        [[ 0.2, -1.4, -0.4],\n",
    "    #         [ 0.2, -1.4, -0.4]]])\n",
    "    \n",
    "    # Now, x1_view and x2_view_2 are broadcast-able.\n",
    "\n",
    "    return np.power(\n",
    "        np.sum(\n",
    "            np.power(\n",
    "                np.abs(x1_view - x2_view_2), \n",
    "                p\n",
    "            ), \n",
    "            axis=2\n",
    "        ).T, \n",
    "        1.0/p\n",
    "    )"
   ]
  },
  {
   "cell_type": "code",
   "execution_count": 17,
   "id": "0cb38426",
   "metadata": {},
   "outputs": [
    {
     "data": {
      "text/plain": [
       "array([[ 1.  ,  0.  ,  0.  ],\n",
       "       [ 0.45,  1.24, -0.02]])"
      ]
     },
     "execution_count": 17,
     "metadata": {},
     "output_type": "execute_result"
    }
   ],
   "source": [
    "x1"
   ]
  },
  {
   "cell_type": "code",
   "execution_count": 18,
   "id": "e0a4819e",
   "metadata": {},
   "outputs": [
    {
     "data": {
      "text/plain": [
       "array([[ 0.9, -0.1,  0.3],\n",
       "       [ 0.8, -0.6,  0.4],\n",
       "       [ 0.2, -1.4, -0.4]])"
      ]
     },
     "execution_count": 18,
     "metadata": {},
     "output_type": "execute_result"
    }
   ],
   "source": [
    "x2"
   ]
  },
  {
   "cell_type": "code",
   "execution_count": 23,
   "id": "1afa0108",
   "metadata": {},
   "outputs": [
    {
     "data": {
      "text/plain": [
       "array([[0.33166248, 0.74833148, 1.66132477],\n",
       "       [1.44931018, 1.91950514, 2.67889903]])"
      ]
     },
     "execution_count": 23,
     "metadata": {},
     "output_type": "execute_result"
    }
   ],
   "source": [
    "lp_dist(x1, x2, 2)"
   ]
  }
 ],
 "metadata": {
  "kernelspec": {
   "display_name": "justins_room",
   "language": "python",
   "name": "python3"
  },
  "language_info": {
   "codemirror_mode": {
    "name": "ipython",
    "version": 3
   },
   "file_extension": ".py",
   "mimetype": "text/x-python",
   "name": "python",
   "nbconvert_exporter": "python",
   "pygments_lexer": "ipython3",
   "version": "3.11.6"
  }
 },
 "nbformat": 4,
 "nbformat_minor": 5
}
