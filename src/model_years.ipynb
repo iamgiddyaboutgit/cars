{
 "cells": [
  {
   "cell_type": "code",
   "execution_count": 3,
   "metadata": {},
   "outputs": [],
   "source": [
    "from pathlib import Path\n",
    "\n",
    "import polars as pl"
   ]
  },
  {
   "cell_type": "markdown",
   "metadata": {},
   "source": [
    "# Research Question: What is the distribution of vehicle model years in Utah County?"
   ]
  },
  {
   "cell_type": "markdown",
   "metadata": {},
   "source": [
    "Note that we include vehicles that are driven in Utah County without being registered in Utah County.  Thus, we provide added information to what is simply available from government registration records.\n",
    "\n",
    "## Strategy\n",
    "Because vehicles are still being sold for 2024, 2025, and 2026 model years, update the registration counts for these years using the count for model year 2023 and how long it has been since 2023.  Group model years less than 1965 into one bin.  Divide the registration counts by 1000 and use these new values as the concentration parameters for a Dirichlet distribution.  Use the technique [here](https://en.wikipedia.org/wiki/Dirichlet_distribution#Conjugate_to_categorical_or_multinomial) to use these concentration parameters as pseudocounts to be added to our observed counts.  The summed counts can then be used as the concentration parameter for the posterior Dirichlet distribution of vehicle model years in Utah County."
   ]
  },
  {
   "cell_type": "code",
   "execution_count": 4,
   "metadata": {},
   "outputs": [
    {
     "data": {
      "text/html": [
       "<div><style>\n",
       ".dataframe > thead > tr,\n",
       ".dataframe > tbody > tr {\n",
       "  text-align: right;\n",
       "  white-space: pre-wrap;\n",
       "}\n",
       "</style>\n",
       "<small>shape: (5, 2)</small><table border=\"1\" class=\"dataframe\"><thead><tr><th>model_year</th><th>num_registrations</th></tr><tr><td>i64</td><td>i64</td></tr></thead><tbody><tr><td>2022</td><td>30312</td></tr><tr><td>2023</td><td>31266</td></tr><tr><td>2024</td><td>27037</td></tr><tr><td>2025</td><td>5830</td></tr><tr><td>2026</td><td>8</td></tr></tbody></table></div>"
      ],
      "text/plain": [
       "shape: (5, 2)\n",
       "┌────────────┬───────────────────┐\n",
       "│ model_year ┆ num_registrations │\n",
       "│ ---        ┆ ---               │\n",
       "│ i64        ┆ i64               │\n",
       "╞════════════╪═══════════════════╡\n",
       "│ 2022       ┆ 30312             │\n",
       "│ 2023       ┆ 31266             │\n",
       "│ 2024       ┆ 27037             │\n",
       "│ 2025       ┆ 5830              │\n",
       "│ 2026       ┆ 8                 │\n",
       "└────────────┴───────────────────┘"
      ]
     },
     "execution_count": 4,
     "metadata": {},
     "output_type": "execute_result"
    }
   ],
   "source": [
    "source = Path(\"..\", \"raw_data\", \"registrations\", \"registrations.csv\")\n",
    "reg = pl.scan_csv(\n",
    "    source=source\n",
    ")\n",
    "\n",
    "reg = (reg\n",
    "    .with_columns(\n",
    "        pl.col(\"num_registrations\").str.replace_all(\",\", \"\").cast(pl.Int64).alias(\"num_registrations\")\n",
    "    )\n",
    "    .collect()\n",
    "    .lazy()\n",
    ")\n",
    "\n",
    "reg.collect().tail()"
   ]
  },
  {
   "cell_type": "code",
   "execution_count": 5,
   "metadata": {},
   "outputs": [],
   "source": [
    "reg_2023 = (reg\n",
    "    .filter(pl.col(\"model_year\") == 2023)\n",
    "    .select(\"num_registrations\")\n",
    "    .collect()\n",
    "    .item()\n",
    ")\n",
    "\n",
    "reg_2 = (reg\n",
    "    .with_columns(\n",
    "        pl.when(pl.col(\"model_year\") > 2023)\n",
    "        .then(pl.lit(reg_2023))\n",
    "        .otherwise(pl.col(\"num_registrations\"))\n",
    "        .alias(\"num_registrations\")\n",
    "    )\n",
    ")"
   ]
  },
  {
   "cell_type": "code",
   "execution_count": 9,
   "metadata": {},
   "outputs": [
    {
     "data": {
      "text/html": [
       "<div><style>\n",
       ".dataframe > thead > tr,\n",
       ".dataframe > tbody > tr {\n",
       "  text-align: right;\n",
       "  white-space: pre-wrap;\n",
       "}\n",
       "</style>\n",
       "<small>shape: (63, 2)</small><table border=\"1\" class=\"dataframe\"><thead><tr><th>model_year</th><th>num_registrations</th></tr><tr><td>str</td><td>i64</td></tr></thead><tbody><tr><td>&quot;&lt; 1965&quot;</td><td>1665</td></tr><tr><td>&quot;1965&quot;</td><td>286</td></tr><tr><td>&quot;1966&quot;</td><td>321</td></tr><tr><td>&quot;1967&quot;</td><td>285</td></tr><tr><td>&quot;1968&quot;</td><td>244</td></tr><tr><td>&hellip;</td><td>&hellip;</td></tr><tr><td>&quot;2022&quot;</td><td>30312</td></tr><tr><td>&quot;2023&quot;</td><td>31266</td></tr><tr><td>&quot;2024&quot;</td><td>31266</td></tr><tr><td>&quot;2025&quot;</td><td>31266</td></tr><tr><td>&quot;2026&quot;</td><td>31266</td></tr></tbody></table></div>"
      ],
      "text/plain": [
       "shape: (63, 2)\n",
       "┌────────────┬───────────────────┐\n",
       "│ model_year ┆ num_registrations │\n",
       "│ ---        ┆ ---               │\n",
       "│ str        ┆ i64               │\n",
       "╞════════════╪═══════════════════╡\n",
       "│ < 1965     ┆ 1665              │\n",
       "│ 1965       ┆ 286               │\n",
       "│ 1966       ┆ 321               │\n",
       "│ 1967       ┆ 285               │\n",
       "│ 1968       ┆ 244               │\n",
       "│ …          ┆ …                 │\n",
       "│ 2022       ┆ 30312             │\n",
       "│ 2023       ┆ 31266             │\n",
       "│ 2024       ┆ 31266             │\n",
       "│ 2025       ┆ 31266             │\n",
       "│ 2026       ┆ 31266             │\n",
       "└────────────┴───────────────────┘"
      ]
     },
     "execution_count": 9,
     "metadata": {},
     "output_type": "execute_result"
    }
   ],
   "source": [
    "(reg_2\n",
    "    .with_columns(\n",
    "        pl.when(pl.col(\"model_year\") < 1965)\n",
    "        .then(pl.lit(\"< 1965\"))\n",
    "        .otherwise(pl.col(\"model_year\").cast(pl.Utf8))\n",
    "        .alias(\"model_year\")\n",
    "    )\n",
    "    .group_by(\"model_year\", maintain_order=True)\n",
    "    .agg(\n",
    "        pl.col(\"num_registrations\").sum()\n",
    "    )\n",
    "    .collect()\n",
    ")"
   ]
  }
 ],
 "metadata": {
  "kernelspec": {
   "display_name": "justins_room",
   "language": "python",
   "name": "python3"
  },
  "language_info": {
   "codemirror_mode": {
    "name": "ipython",
    "version": 3
   },
   "file_extension": ".py",
   "mimetype": "text/x-python",
   "name": "python",
   "nbconvert_exporter": "python",
   "pygments_lexer": "ipython3",
   "version": "3.11.6"
  }
 },
 "nbformat": 4,
 "nbformat_minor": 2
}
