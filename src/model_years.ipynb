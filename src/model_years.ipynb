{
 "cells": [
  {
   "cell_type": "markdown",
   "metadata": {},
   "source": [
    "# Research Question: What is the distribution of vehicle model years in Utah County?"
   ]
  },
  {
   "cell_type": "markdown",
   "metadata": {},
   "source": [
    "Note that we include vehicles that are driven in Utah County without being registered in Utah County.  Thus, we provide added information to what is simply available from government registration records.\n",
    "\n",
    "## Strategy\n",
    "Because vehicles are still being sold for 2024, 2025, and 2026 model years, replace the registration counts for these years with the count for model year 2023.  Group model years less than 1965 into one bin.  Divide the registration counts by 1000 and use these new values as the concentration parameters for a Dirichlet distribution.  Use the technique [here](https://en.wikipedia.org/wiki/Dirichlet_distribution#Conjugate_to_categorical_or_multinomial) to use these concentration parameters as pseudocounts to be added to our observed counts.  The summed counts can then be used as the concentration parameter for the posterior Dirichlet distribution of vehicle model years in Utah County."
   ]
  }
 ],
 "metadata": {
  "language_info": {
   "name": "python"
  }
 },
 "nbformat": 4,
 "nbformat_minor": 2
}
